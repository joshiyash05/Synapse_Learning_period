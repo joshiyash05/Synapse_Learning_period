{
  "nbformat": 4,
  "nbformat_minor": 0,
  "metadata": {
    "colab": {
      "name": " task5.ipynb",
      "provenance": [],
      "collapsed_sections": [
        "Zh9yABaME29S"
      ]
    },
    "interpreter": {
      "hash": "6f6a9d06c0fd64bf60e6e1c5f52d9e61e3a0d126987fc458258eb07643fb7172"
    },
    "kernelspec": {
      "display_name": "Python 3",
      "language": "python",
      "name": "python3"
    },
    "language_info": {
      "codemirror_mode": {
        "name": "ipython",
        "version": 3
      },
      "file_extension": ".py",
      "mimetype": "text/x-python",
      "name": "python",
      "nbconvert_exporter": "python",
      "pygments_lexer": "ipython3",
      "version": "3.8.5"
    }
  },
  "cells": [
    {
      "cell_type": "markdown",
      "metadata": {
        "id": "jYysdyb-CaWM"
      },
      "source": [
        "# Intro to TensorFlow: Classify images of clothing"
      ]
    },
    {
      "cell_type": "code",
      "metadata": {
        "id": "dzLKpmZICaWN"
      },
      "source": [
        "# import Tensorflow\n",
        "import tensorflow as tf\n",
        "\n",
        "from tensorflow import keras\n",
        "# import the other helper libraries required\n",
        "import numpy as np\n",
        "import pandas as pd\n",
        "import matplotlib.pyplot as plt\n",
        "from keras.models import Sequential\n",
        "from keras.layers import Activation,Dense,Flatten\n",
        "from keras.metrics import categorical_crossentropy\n",
        "from tensorflow.keras.optimizers import Adam\n"
      ],
      "execution_count": null,
      "outputs": []
    },
    {
      "cell_type": "markdown",
      "metadata": {
        "id": "yR0EdgrLCaWR"
      },
      "source": [
        "## Import the Fashion MNIST dataset"
      ]
    },
    {
      "cell_type": "markdown",
      "metadata": {
        "id": "DLdCchMdCaWQ"
      },
      "source": [
        "This guide uses the [Fashion MNIST](https://github.com/zalandoresearch/fashion-mnist) dataset which contains 70,000 grayscale images in 10 categories. The images show individual articles of clothing at low resolution (28 by 28 pixels), as seen here:\n",
        "\n",
        "<table>\n",
        "  <tr><td>\n",
        "    <img src=\"https://tensorflow.org/images/fashion-mnist-sprite.png\"\n",
        "         alt=\"Fashion MNIST sprite\"  width=\"600\">\n",
        "  </td></tr>\n",
        "  <tr><td align=\"center\">\n",
        "    <b>Figure 1.</b> <a href=\"https://github.com/zalandoresearch/fashion-mnist\">Fashion-MNIST samples</a> (by Zalando, MIT License).<br/>&nbsp;\n",
        "  </td></tr>\n",
        "</table>\n",
        "\n",
        "Fashion MNIST is intended as a drop-in replacement for the classic [MNIST](http://yann.lecun.com/exdb/mnist/) dataset—often used as the \"Hello, World\" of machine learning programs for computer vision. The MNIST dataset contains images of handwritten digits (0, 1, 2, etc.) in a format identical to that of the articles of clothing you'll use here.\n",
        "\n",
        "This guide uses Fashion MNIST for variety, and because it's a slightly more challenging problem than regular MNIST. Both datasets are relatively small and are used to verify that an algorithm works as expected. They're good starting points to test and debug code.\n",
        "\n",
        "Here, 60,000 images are used to train the network and 10,000 images to evaluate how accurately the network learned to classify images. You can access the Fashion MNIST directly from TensorFlow. Import and [load the Fashion MNIST data](https://www.tensorflow.org/api_docs/python/tf/keras/datasets/fashion_mnist/load_data) directly from TensorFlow:"
      ]
    },
    {
      "cell_type": "code",
      "metadata": {
        "id": "7MqDQO0KCaWS",
        "colab": {
          "base_uri": "https://localhost:8080/"
        },
        "outputId": "e5448dcf-a30f-48d8-bf42-adf612855da3"
      },
      "source": [
        "#complete the code below:\n",
        "from keras.datasets import fashion_mnist\n",
        "\n",
        "#load the data into train_images, train_labels, test_images, test_labels\n",
        "(train_images, train_labels), (test_images, test_labels) = fashion_mnist.load_data()"
      ],
      "execution_count": null,
      "outputs": [
        {
          "output_type": "stream",
          "name": "stdout",
          "text": [
            "Downloading data from https://storage.googleapis.com/tensorflow/tf-keras-datasets/train-labels-idx1-ubyte.gz\n",
            "32768/29515 [=================================] - 0s 0us/step\n",
            "40960/29515 [=========================================] - 0s 0us/step\n",
            "Downloading data from https://storage.googleapis.com/tensorflow/tf-keras-datasets/train-images-idx3-ubyte.gz\n",
            "26427392/26421880 [==============================] - 0s 0us/step\n",
            "26435584/26421880 [==============================] - 0s 0us/step\n",
            "Downloading data from https://storage.googleapis.com/tensorflow/tf-keras-datasets/t10k-labels-idx1-ubyte.gz\n",
            "16384/5148 [===============================================================================================] - 0s 0us/step\n",
            "Downloading data from https://storage.googleapis.com/tensorflow/tf-keras-datasets/t10k-images-idx3-ubyte.gz\n",
            "4423680/4422102 [==============================] - 0s 0us/step\n",
            "4431872/4422102 [==============================] - 0s 0us/step\n"
          ]
        }
      ]
    },
    {
      "cell_type": "markdown",
      "metadata": {
        "id": "t9FDsUlxCaWW"
      },
      "source": [
        "Loading the dataset returns four NumPy arrays:\n",
        "\n",
        "* The `train_images` and `train_labels` arrays are the *training set*—the data the model uses to learn.\n",
        "* The model is tested against the *test set*, the `test_images`, and `test_labels` arrays.\n",
        "\n",
        "The images are 28x28 NumPy arrays, with pixel values ranging from 0 to 255. The *labels* are an array of integers, ranging from 0 to 9. These correspond to the *class* of clothing the image represents:\n",
        "\n",
        "<table>\n",
        "  <tr>\n",
        "    <th>Label</th>\n",
        "    <th>Class</th>\n",
        "  </tr>\n",
        "  <tr>\n",
        "    <td>0</td>\n",
        "    <td>T-shirt/top</td>\n",
        "  </tr>\n",
        "  <tr>\n",
        "    <td>1</td>\n",
        "    <td>Trouser</td>\n",
        "  </tr>\n",
        "    <tr>\n",
        "    <td>2</td>\n",
        "    <td>Pullover</td>\n",
        "  </tr>\n",
        "    <tr>\n",
        "    <td>3</td>\n",
        "    <td>Dress</td>\n",
        "  </tr>\n",
        "    <tr>\n",
        "    <td>4</td>\n",
        "    <td>Coat</td>\n",
        "  </tr>\n",
        "    <tr>\n",
        "    <td>5</td>\n",
        "    <td>Sandal</td>\n",
        "  </tr>\n",
        "    <tr>\n",
        "    <td>6</td>\n",
        "    <td>Shirt</td>\n",
        "  </tr>\n",
        "    <tr>\n",
        "    <td>7</td>\n",
        "    <td>Sneaker</td>\n",
        "  </tr>\n",
        "    <tr>\n",
        "    <td>8</td>\n",
        "    <td>Bag</td>\n",
        "  </tr>\n",
        "    <tr>\n",
        "    <td>9</td>\n",
        "    <td>Ankle boot</td>\n",
        "  </tr>\n",
        "</table>\n",
        "\n",
        "Each image is mapped to a single label. Since the *class names* are not included with the dataset, store them here to use later when plotting the images:"
      ]
    },
    {
      "cell_type": "code",
      "metadata": {
        "id": "IjnLH5S2CaWx"
      },
      "source": [
        "#store the class names in a list\n",
        "#complete the code below\n",
        "class_names = [\"T-shirt/top\",\"Trouser\",\"Pullover\",\"Dress\",\"Coat\",\"Sandal\",\"Shirt\",\"Sneaker\",\"Bag\",\"Ankle boot\"]"
      ],
      "execution_count": null,
      "outputs": []
    },
    {
      "cell_type": "markdown",
      "metadata": {
        "id": "Brm0b_KACaWX"
      },
      "source": [
        "## Explore the data\n",
        "\n",
        "Let's explore the format of the dataset before training the model. The following shows there are 60,000 images in the training set, with each image represented as 28 x 28 pixels:"
      ]
    },
    {
      "cell_type": "code",
      "metadata": {
        "id": "zW5k_xz1CaWX",
        "colab": {
          "base_uri": "https://localhost:8080/"
        },
        "outputId": "b4b991c6-bdc6-4d03-8b84-f3904f48d2d6"
      },
      "source": [
        "#check the dimensions of the training data\n",
        "print(\"The number of dimension\",train_images.ndim)\n",
        "print(\"The shape of data \",train_images.shape)"
      ],
      "execution_count": null,
      "outputs": [
        {
          "output_type": "stream",
          "name": "stdout",
          "text": [
            "The number of dimension 3\n",
            "The shape of data  (60000, 28, 28)\n"
          ]
        }
      ]
    },
    {
      "cell_type": "markdown",
      "metadata": {
        "id": "cIAcvQqMCaWf"
      },
      "source": [
        "Likewise, there are 60,000 labels in the training set:"
      ]
    },
    {
      "cell_type": "code",
      "metadata": {
        "id": "TRFYHB2mCaWb",
        "colab": {
          "base_uri": "https://localhost:8080/"
        },
        "outputId": "165314f3-4c9e-4745-e311-b4cf76bc103f"
      },
      "source": [
        "#verify the number of train_lables\n",
        "train_labels.shape"
      ],
      "execution_count": null,
      "outputs": [
        {
          "output_type": "execute_result",
          "data": {
            "text/plain": [
              "(60000,)"
            ]
          },
          "metadata": {},
          "execution_count": 5
        }
      ]
    },
    {
      "cell_type": "markdown",
      "metadata": {
        "id": "TMPI88iZpO2T"
      },
      "source": [
        "There are 10,000 images in the test set. Again, each image is represented as 28 x 28 pixels:"
      ]
    },
    {
      "cell_type": "code",
      "metadata": {
        "id": "2KFnYlcwCaWl",
        "colab": {
          "base_uri": "https://localhost:8080/"
        },
        "outputId": "2c5214bb-4435-4ac9-8dc5-cee149956b17"
      },
      "source": [
        "#verify the number of images in test_images by checking the dimensions\n",
        "print(\"The number of dimension\",test_images.ndim)\n",
        "print(\"The shape of data \",test_images.shape)"
      ],
      "execution_count": null,
      "outputs": [
        {
          "output_type": "stream",
          "name": "stdout",
          "text": [
            "The number of dimension 3\n",
            "The shape of data  (10000, 28, 28)\n"
          ]
        }
      ]
    },
    {
      "cell_type": "markdown",
      "metadata": {
        "id": "rd0A0Iu0CaWq"
      },
      "source": [
        "And the test set contains 10,000 images labels:"
      ]
    },
    {
      "cell_type": "code",
      "metadata": {
        "id": "iJmPr5-ACaWn",
        "colab": {
          "base_uri": "https://localhost:8080/"
        },
        "outputId": "28f2fa8b-3234-47cb-b8f1-d300160ed432"
      },
      "source": [
        "#verify the number of images in test_labels\n",
        "test_labels.shape\n"
      ],
      "execution_count": null,
      "outputs": [
        {
          "output_type": "execute_result",
          "data": {
            "text/plain": [
              "(10000,)"
            ]
          },
          "metadata": {},
          "execution_count": 7
        }
      ]
    },
    {
      "cell_type": "markdown",
      "metadata": {
        "id": "ES6uQoLKCaWr"
      },
      "source": [
        "## Preprocess the data\n",
        "\n",
        "The data must be preprocessed before training the network. If you inspect the first image in the training set, you will see that the pixel values fall in the range of 0 to 255:"
      ]
    },
    {
      "cell_type": "code",
      "metadata": {
        "id": "m4VEw8Ud9Quh",
        "colab": {
          "base_uri": "https://localhost:8080/",
          "height": 282
        },
        "outputId": "a05cbd34-0fd5-490b-d66f-cb90e3151783"
      },
      "source": [
        "#plot a figure using the imshow() function to view the first image in train_images (train_images[0])\n",
        "plt.imshow(train_images[0])\n"
      ],
      "execution_count": null,
      "outputs": [
        {
          "output_type": "execute_result",
          "data": {
            "text/plain": [
              "<matplotlib.image.AxesImage at 0x7fce927ed410>"
            ]
          },
          "metadata": {},
          "execution_count": 8
        },
        {
          "output_type": "display_data",
          "data": {
            "image/png": "[encoded data removed]",
            "text/plain": [
              "<Figure size 432x288 with 1 Axes>"
            ]
          },
          "metadata": {
            "needs_background": "light"
          }
        }
      ]
    },
    {
      "cell_type": "markdown",
      "metadata": {
        "id": "Wz7l27Lz9S1P"
      },
      "source": [
        "Scale these values to a range of 0 to 1 before feeding them to the neural network model. To do so, divide the values by 255. It's important that the *training set* and the *testing set* be preprocessed in the same way:"
      ]
    },
    {
      "cell_type": "code",
      "metadata": {
        "id": "bW5WzIPlCaWv"
      },
      "source": [
        "#complete the code below\n",
        "train_images = train_images/255.0\n",
        "\n",
        "test_images = test_images/255.0"
      ],
      "execution_count": null,
      "outputs": []
    },
    {
      "cell_type": "markdown",
      "metadata": {
        "id": "Ee638AlnCaWz"
      },
      "source": [
        "To verify that the data is in the correct format and that you're ready to build and train the network, display the first 25 images from the *training set* and display the class name below each image."
      ]
    },
    {
      "cell_type": "code",
      "metadata": {
        "id": "oZTImqg_CaW1",
        "colab": {
          "base_uri": "https://localhost:8080/",
          "height": 589
        },
        "outputId": "81c024bb-a930-4176-f7e7-6f7595009931"
      },
      "source": [
        "plt.figure(figsize=(10,10))\n",
        "for i in range(25):\n",
        "    plt.subplot(5,5,i+1)\n",
        "    plt.xticks([])\n",
        "    plt.yticks([])\n",
        "    plt.imshow(train_images[i])\n",
        "    plt.xlabel(class_names[train_labels[i]])\n",
        "plt.show()"
      ],
      "execution_count": null,
      "outputs": [
        {
          "output_type": "display_data",
          "data": {
            "image/png": "[encoded data removed]",
            "text/plain": [
              "<Figure size 720x720 with 25 Axes>"
            ]
          },
          "metadata": {}
        }
      ]
    },
    {
      "cell_type": "markdown",
      "metadata": {
        "id": "59veuiEZCaW4"
      },
      "source": [
        "## Build the model\n",
        "\n",
        "Building the neural network requires configuring the layers of the model, then compiling the model."
      ]
    },
    {
      "cell_type": "markdown",
      "metadata": {
        "id": "Gxg1XGm0eOBy"
      },
      "source": [
        "### Set up the layers\n",
        "\n",
        "The basic building block of a neural network is the [*layer*](https://www.tensorflow.org/api_docs/python/tf/keras/layers). Layers extract representations from the data fed into them. Hopefully, these representations are meaningful for the problem at hand.\n",
        "\n",
        "Most of deep learning consists of chaining together simple layers. Most layers, such as `tf.keras.layers.Dense`, have parameters that are learned during training."
      ]
    },
    {
      "cell_type": "code",
      "metadata": {
        "id": "9ODch-OFCaW4"
      },
      "source": [
        "#create a model having the layers defined below this cell\n",
        "model = Sequential([\n",
        "    Flatten(input_shape=(28,28)),\n",
        "    Dense(units=128,activation='relu'),\n",
        "    Dense(units=10)\n",
        "])"
      ],
      "execution_count": null,
      "outputs": []
    },
    {
      "cell_type": "markdown",
      "metadata": {
        "id": "gut8A_7rCaW6"
      },
      "source": [
        "The first layer in this network, `tf.keras.layers.Flatten`, transforms the format of the images from a two-dimensional array (of 28 by 28 pixels) to a one-dimensional array (of 28 * 28 = 784 pixels). Think of this layer as unstacking rows of pixels in the image and lining them up. This layer has no parameters to learn; it only reformats the data.\n",
        "\n",
        "After the pixels are flattened, the network consists of a sequence of two `tf.keras.layers.Dense` layers with a 'BatchNormalization()' layer in between the 2 dense layers. These are densely connected, or fully connected, neural layers. The first `Dense` layer has 128 nodes (or neurons). The second (and last) layer returns a logits array with length of 10. Each node contains a score that indicates the current image belongs to one of the 10 classes. \n",
        "The Batch Normalization layer works by performing a series of operations on the incoming input data. The set of operations involves standardization, normalization, rescaling and shifting of offset of input values coming into the BN layer.\n",
        "\n",
        "### Compile the model\n",
        "\n",
        "Before the model is ready for training, it needs a few more settings. These are added during the model's [*compile*](https://www.tensorflow.org/api_docs/python/tf/keras/Model#compile) step:\n",
        "\n",
        "* [*Loss function*](https://www.tensorflow.org/api_docs/python/tf/keras/losses) —This measures how accurate the model is during training. You want to minimize this function to \"steer\" the model in the right direction.\n",
        "* [*Optimizer*](https://www.tensorflow.org/api_docs/python/tf/keras/optimizers) —This is how the model is updated based on the data it sees and its loss function.\n",
        "* [*Metrics*](https://www.tensorflow.org/api_docs/python/tf/keras/metrics) —Used to monitor the training and testing steps. The following example uses *accuracy*, the fraction of the images that are correctly classified."
      ]
    },
    {
      "cell_type": "code",
      "metadata": {
        "id": "Lhan11blCaW7"
      },
      "source": [
        "#compile the model using model.compile using the adam optimizer, SparseCategoricalCrossentropy loss and accuracy as metrics\n",
        "\n",
        "model.compile(optimizer='adam',loss=tf.keras.losses.SparseCategoricalCrossentropy(from_logits=True),metrics=['accuracy'])\n"
      ],
      "execution_count": null,
      "outputs": []
    },
    {
      "cell_type": "markdown",
      "metadata": {
        "id": "qKF6uW-BCaW-"
      },
      "source": [
        "## Train the model\n",
        "\n",
        "Training the neural network model requires the following steps:\n",
        "\n",
        "1. Feed the training data to the model. In this example, the training data is in the `train_images` and `train_labels` arrays.\n",
        "2. The model learns to associate images and labels.\n",
        "3. You ask the model to make predictions about a test set—in this example, the `test_images` array.\n",
        "4. Verify that the predictions match the labels from the `test_labels` array.\n"
      ]
    },
    {
      "cell_type": "markdown",
      "metadata": {
        "id": "Z4P4zIV7E28Z"
      },
      "source": [
        "### Feed the model\n",
        "\n",
        "To start training,  call the [`model.fit`](https://www.tensorflow.org/api_docs/python/tf/keras/Model#fit) method—so called because it \"fits\" the model to the training data:"
      ]
    },
    {
      "cell_type": "code",
      "metadata": {
        "id": "xvwvpA64CaW_",
        "colab": {
          "base_uri": "https://localhost:8080/"
        },
        "outputId": "6ba9495e-b0f6-4512-e91a-e893cf53461c"
      },
      "source": [
        "#write code below setting epochs=10:\n",
        "model.fit(train_images,train_labels,epochs=10)"
      ],
      "execution_count": null,
      "outputs": [
        {
          "output_type": "stream",
          "name": "stdout",
          "text": [
            "Epoch 1/10\n",
            "1875/1875 [==============================] - 4s 2ms/step - loss: 0.4961 - accuracy: 0.8247\n",
            "Epoch 2/10\n",
            "1875/1875 [==============================] - 4s 2ms/step - loss: 0.3713 - accuracy: 0.8656\n",
            "Epoch 3/10\n",
            "1875/1875 [==============================] - 4s 2ms/step - loss: 0.3341 - accuracy: 0.8781\n",
            "Epoch 4/10\n",
            "1875/1875 [==============================] - 4s 2ms/step - loss: 0.3094 - accuracy: 0.8874\n",
            "Epoch 5/10\n",
            "1875/1875 [==============================] - 4s 2ms/step - loss: 0.2931 - accuracy: 0.8916\n",
            "Epoch 6/10\n",
            "1875/1875 [==============================] - 3s 2ms/step - loss: 0.2769 - accuracy: 0.8973\n",
            "Epoch 7/10\n",
            "1875/1875 [==============================] - 4s 2ms/step - loss: 0.2667 - accuracy: 0.9007\n",
            "Epoch 8/10\n",
            "1875/1875 [==============================] - 3s 2ms/step - loss: 0.2569 - accuracy: 0.9040\n",
            "Epoch 9/10\n",
            "1875/1875 [==============================] - 3s 2ms/step - loss: 0.2457 - accuracy: 0.9088\n",
            "Epoch 10/10\n",
            "1875/1875 [==============================] - 3s 2ms/step - loss: 0.2373 - accuracy: 0.9113\n"
          ]
        },
        {
          "output_type": "execute_result",
          "data": {
            "text/plain": [
              "<keras.callbacks.History at 0x7fce8c3221d0>"
            ]
          },
          "metadata": {},
          "execution_count": 13
        }
      ]
    },
    {
      "cell_type": "markdown",
      "metadata": {
        "id": "W3ZVOhugCaXA"
      },
      "source": [
        "As the model trains, the loss and accuracy metrics are displayed. This model reaches an accuracy of about 0.91 (or 91%) on the training data."
      ]
    },
    {
      "cell_type": "markdown",
      "metadata": {
        "id": "wCpr6DGyE28h"
      },
      "source": [
        "### Evaluate accuracy\n",
        "\n",
        "Next, compare how the model performs on the test dataset using model.evaluate():"
      ]
    },
    {
      "cell_type": "code",
      "metadata": {
        "id": "VflXLEeECaXC",
        "colab": {
          "base_uri": "https://localhost:8080/"
        },
        "outputId": "5fb1c0c4-7718-43b7-a5fe-6239530c84bb"
      },
      "source": [
        "#complete code below\n",
        "\n",
        "test_loss, test_acc = model.evaluate(test_images,test_labels,verbose=2)\n",
        "\n",
        "print('\\nTest accuracy:', test_acc)"
      ],
      "execution_count": null,
      "outputs": [
        {
          "output_type": "stream",
          "name": "stdout",
          "text": [
            "313/313 - 0s - loss: 0.3440 - accuracy: 0.8776\n",
            "\n",
            "Test accuracy: 0.8776000142097473\n"
          ]
        }
      ]
    },
    {
      "cell_type": "markdown",
      "metadata": {
        "id": "yWfgsmVXCaXG"
      },
      "source": [
        "It turns out that the accuracy on the test dataset is a little less than the accuracy on the training dataset. This gap between training accuracy and test accuracy represents *overfitting*. Overfitting happens when a machine learning model performs worse on new, previously unseen inputs than it does on the training data. An overfitted model \"memorizes\" the noise and details in the training dataset to a point where it negatively impacts the performance of the model on the new data. For more information, see the following:\n",
        "*   [Demonstrate overfitting](https://www.tensorflow.org/tutorials/keras/overfit_and_underfit#demonstrate_overfitting)\n",
        "*   [Strategies to prevent overfitting](https://www.tensorflow.org/tutorials/keras/overfit_and_underfit#strategies_to_prevent_overfitting)"
      ]
    },
    {
      "cell_type": "markdown",
      "metadata": {
        "id": "v-PyD1SYE28q"
      },
      "source": [
        "### Make predictions\n",
        "\n",
        "With the model trained, you can use it to make predictions about some images.\n",
        "The model's linear outputs, [logits](https://developers.google.com/machine-learning/glossary#logits). Attach a softmax layer to convert the logits to probabilities, which are easier to interpret. "
      ]
    },
    {
      "cell_type": "code",
      "metadata": {
        "id": "DnfNA0CrQLSD"
      },
      "source": [
        "#complete code below\n",
        "probability_model = Sequential([model,keras.layers.Softmax()])"
      ],
      "execution_count": null,
      "outputs": []
    },
    {
      "cell_type": "code",
      "metadata": {
        "id": "Gl91RPhdCaXI"
      },
      "source": [
        "#predict on the test_images using the probability_model\n",
        "predictions = probability_model.predict(test_images)"
      ],
      "execution_count": null,
      "outputs": []
    },
    {
      "cell_type": "markdown",
      "metadata": {
        "id": "x9Kk1voUCaXJ"
      },
      "source": [
        "Here, the model has predicted the label for each image in the testing set. Let's take a look at the first prediction:"
      ]
    },
    {
      "cell_type": "code",
      "metadata": {
        "id": "3DmJEUinCaXK",
        "colab": {
          "base_uri": "https://localhost:8080/"
        },
        "outputId": "7ec4463e-bad8-4c6f-8461-7a4045364006"
      },
      "source": [
        "predictions[0]"
      ],
      "execution_count": null,
      "outputs": [
        {
          "output_type": "execute_result",
          "data": {
            "text/plain": [
              "array([6.7800734e-08, 1.5343585e-07, 4.9225655e-08, 6.4557490e-08,\n",
              "       1.3005853e-06, 2.0595351e-03, 1.8281138e-06, 6.4756414e-03,\n",
              "       1.2821658e-07, 9.9146128e-01], dtype=float32)"
            ]
          },
          "metadata": {},
          "execution_count": 17
        }
      ]
    },
    {
      "cell_type": "markdown",
      "metadata": {
        "id": "-hw1hgeSCaXN"
      },
      "source": [
        "A prediction is an array of 10 numbers. They represent the model's \"confidence\" that the image corresponds to each of the 10 different articles of clothing. You can see which label has the highest confidence value:"
      ]
    },
    {
      "cell_type": "code",
      "metadata": {
        "id": "qsqenuPnCaXO",
        "colab": {
          "base_uri": "https://localhost:8080/"
        },
        "outputId": "f581b2e2-2800-40f2-eb50-629923705ce2"
      },
      "source": [
        "#use np.argmax to find the highest confidence value\n",
        "np.argmax(predictions[0])"
      ],
      "execution_count": null,
      "outputs": [
        {
          "output_type": "execute_result",
          "data": {
            "text/plain": [
              "9"
            ]
          },
          "metadata": {},
          "execution_count": 18
        }
      ]
    },
    {
      "cell_type": "markdown",
      "metadata": {
        "id": "E51yS7iCCaXO"
      },
      "source": [
        "So, the model is most confident that this image is an ankle boot, or `class_names[9]`. Examining the test label shows that this classification is correct:"
      ]
    },
    {
      "cell_type": "code",
      "metadata": {
        "id": "Sd7Pgsu6CaXP",
        "colab": {
          "base_uri": "https://localhost:8080/"
        },
        "outputId": "59c6ad11-a558-4f4a-8e7f-996af1f13a6f"
      },
      "source": [
        "test_labels[0]"
      ],
      "execution_count": null,
      "outputs": [
        {
          "output_type": "execute_result",
          "data": {
            "text/plain": [
              "9"
            ]
          },
          "metadata": {},
          "execution_count": 19
        }
      ]
    },
    {
      "cell_type": "markdown",
      "metadata": {
        "id": "Zh9yABaME29S"
      },
      "source": [
        "### Verify predictions\n",
        "\n",
        "With the model trained, you can use it to make predictions about some images."
      ]
    },
    {
      "cell_type": "markdown",
      "metadata": {
        "id": "d4Ov9OFDMmOD"
      },
      "source": [
        "Let's look at the 0th image, predictions, and prediction array. Correct prediction labels are blue and incorrect prediction labels are red. The number gives the percentage (out of 100) for the predicted label.\n",
        "Plot should look like this:\n",
        "![image.png](data:image/png;base64,iVBORw0KGgoAAAANSUhEUgAAAakAAADjCAYAAAA/mOvlAAAgAElEQVR4Ae2dB9QcxZW2We/u77DJu2d3fbzedGDPrg0YG2OSYUFgwCQBAkQ2YHLOOSeJZDIYBBIgEQQIES0yskEmyWuyQASDRQ5CgEAGWcD9z9OtO6qp7vlqZvj6Y+abt8+5Z3q6uqur3+qpp2/VneqFTIsUkAJSQApIgQ5VYKEOLZeKJQWkgBSQAlLABCndBFJACkgBKdCxCghSHVs1KpgUkAJSQAoIUroHpIAUkAJSoGMVEKQ6tmpUMCkgBaSAFBCkdA9IASkgBaRAxyogSHVs1ahgUkAKSAEpIEjpHpACUkAKSIGOVUCQ6tiqUcGkgBSQAlJAkNI9IAWkgBSQAh2rgCDVsVWjgkkBKSAFpIAgpXtACkgBKSAFOlYBQapjq0YFkwJSQApIAUFK94AUkAJSQAp0rAKCVMdWjQomBaSAFJACgpTuASkgBaSAFOhYBQSpjq0aFUwKfD4FZs6cadOnT7fnn3/efv/738ukQeX3APca99zbb7/9+W7e4GhBKhBDq1JgMCkwZswYW3nllW3YsGE2fPhwmTSo/B7gXhsyZIhx7/XXIkj1l5LKRwp0mAJnnnmmLbvssjZixAgbNWqUTBqU3gPbbDPKFllklH3rW6Psm99M23/8xyhbbrlRNnJk8Z7iXltuueXsrLPO6rdfgyDVb1IqIynQWQpccMEF2ZMzXX1apEAjBU4+2ezrXzf78z83W2ihtH3ta2YrrGD29NPFHLnX8Np5KOqvRZDqLyWVjxToMAUEqQ6rkA4tzrHH5oD6sz9LAwqIfelLZkssYTZtWvGCBKmiJtoiBaRAAwUEqQbCaHOdAscc0xycQi9rscXMnnyyLpvsiyBV1ERbpIAUaKCAINVAGG2uU0CQqpNDX6SAFBgoBQSpgVK6u88jSCXqj/9yEK5IJBI/Kpk0GIh74Oyzz87uu/78P0fiVh/wZEFqwCXvyhMKUolq449f/JeDUFn9l0P/ZRmoe4AwWf7Pwf03WBdBarDWbP9elyCV0JN/KPMHMOLrGXSTSYOBuAe437jvuP8G6yJIDdaa7d/rEqQSelYRDZI4pZKlgF144YWD/j9EgpRu9GYUEKQSKglSCYGUXIkCglQlsirTLlRAkEpUmiCVEEjJlSggSFUiqzLtQgUEqUSlCVIJgZRciQKCVCWyKtMuVECQSlSaIJUQSMmVKCBIVSKrMu1CBQSpRKUJUgmBlFyJAoJUJbIq0y5UQJBKVJoglRBIyZUoIEhVIqsy7UIFBKlEpQlSCYGUXIkCglQlsirTLlRAkEpUmiCVEEjJlSggSFUiqzLtQgUEqUSlCVIJgZRciQKCVCWyKtMuVECQSlSaIJUQSMmVKCBIVSKrMu1CBQSpRKUJUgmBlFyJAoJUJbIq0y5UQJBKVJoglRBIyZUoIEhVIqsy7UIFBKlEpQlSCYGUXIkCglQlsirTLlRAkEpUmiCVEEjJlSggSFUiqzLtQgUEqUSlCVIJgZRciQKCVCWyKtMuVECQSlSaIJUQSMmVKCBIVSKrMu1CBQSpRKUJUgmBlFyJAoJUJbIq0y5UQJBKVJoglRBIyZUoIEhVIqsy7UIFBKlEpQlSCYGUXIkCglQlsirTLlRAkEpUmiCVEEjJlSggSFUiqzLtQgUEqUSlCVIJgZRciQKCVCWyKtMuVECQSlSaIJUQSMmVKCBIVSKrMu1CBQSpRKUJUgmBlFyJAoJUJbIq0y5UQJBKVJoglRBIyZUoIEhVIqsy7UIFBKlEpQlSCYGUXIkCglQlsirTLlRAkEpUmiCVEEjJlSggSFUiqzLtQgUEqUSlCVIJgZRciQKCVCWyKtMuVECQSlSaIJUQSMmVKCBIVSKrMu1CBQSpRKUJUgmBlFyJAoJUJbIq0y5UQJBKVJoglRBIyZUoIEhVIqsy7UIFBKlEpQlSCYGUXIkCglQlsirTLlRAkEpUmiCVEEjJlSggSFUiqzLtQgUEqUSlCVIJgZRciQKCVCWyKtMuVECQSlSaIJUQSMmVKCBIVSKrMu1CBQSpRKUJUgmBlFyJAoJUJbIq0y5UQJBKVJoglRCog5I/++wz+/TTTwvG9jJrtugc+8knn9i8efPqjG2kxQvb33vvPZs5c2bN/vjHP8a79fldkOpTHiX2kAKCVKKyBamEQB2UDKAARGxsL4NUGWDKLof95s6dax9//HGdsa0sD7b/4Q9/sGeffbZmAKuVRZBqRS3tO5gVEKQStStIJQTqoGRBqoMqo4miXHDBBTZ8+HDjN6ZFCjRSQJBqpMz87YJUQqAOShakOqgymiiKINWESNrFBKnETSBIJQTqoGRBqoMqo4miCFJNiKRdBKnUPSBIpRTqnHRBqnPqopmSCFLNqKR95Ekl7gFBKiFQkNwoOCHeHhxSWwUwH374ob3//vt19s4772TBB9OmTTO3119/PQtkIEAhNKLvyCe2+Pz+vXbyxAr7E4zRbHTf7NmzbfLkyXbjjTfWbPr06Ymz1CcrcKJeD33rXQUEqUTdC1IJgeYne8Mffsaw8O9lOf7pT3+yN99801555ZU6I0Ju0qRJNmHChJo98sgjGdCAWmgAqxOWt99+20aPHm0nnXRSzaZMmdJS0QSpluTSzoNYAUEqUbmCVEKg+ckhnHzdoRR/luUoSNWrIkjV66FvvauAIJWoe0EqIdD8ZAdT+BnDyb+X5ShI1asiSNXroW+9q4Aglah7QSoh0PzkEE6+7lCKP8tyFKTqVRGk6vXQt95VQJBK1L0glRBofrKDKfyM4eTfy3IUpOpVEaTq9dC33lVAkErUvSCVEGh+cgin1HpZjnPmzDECIu677746u+uuu+z888+30047rWZXXXWV3XvvvQWbMWNGWdafextwZe69MEiD9VmzZtlTTz1ljz76aJ1xDUDm9NNPr9kDDzzQUjkEqZbk0s6DWAFBKlG5glRCoPnJZWBq7sh8LyZkveWWW2z8+PF1dvHFF9uhhx5q++yzT82OOeYYO+usswr24IMPtnLKpvcl9JxQeKIPQ+PeuO6662zcuHF1dumll2ZgPe+888xt6tSpTZ+PHQWpluTSzoNYAUEqUbmCVEKg+cmC1AJQCVLN3TP6M29zOvX6XoJU4g4QpBICzU8WpASp5u6UBXsJUgu00FpjBQSpxtpkKYJUQqD5yUDKAyP45HvZQhqvvGCMJ7Q33njDrr/+esMLCW3UqFF2+OGH2wEHHFCzo48+2k499dSC0V340ksvFezll1+u+4Nw+Idh0tzYzmwWlCW0V199NRt7euKJJyy0hx56KCurd+n557nnnmtnnnmmnXHGGTXTmFTxbhCkippoS1EBQaqoSd0WQapOjoZfgE84bRDTCJWBCkAxi0TY2LN+//3329lnn20jRowo2PHHH2+hAa399tuvYIxb7bnnngUDcEcccUTBDjnkEDvwwANrxtjXKaecUgOLQwYgHnXUURksObfbwQcfbLvssovtsMMOdbbzzjtnQCV/tzvvvLOhdmUJGpMqU0XbelEBQSpR64JUQqD5yc1CCu8JKBFIENrdd9+deUbAIDSCJADXiSeeWDNgssceexRs6623tg022KBgm222mf3sZz8r2E9/+lPbfPPNa8bx+++/fw0sDhhABox23HHHOtt+++2zYzfddFMLbauttspAGYL0tttua07I+XsJUi3JpZ0HsQKCVKJyBamEQPOTBakFoBKkmrtn1N3XnE69vpcglbgDBKmEQPOTBSlBqrk7ZcFegtQCLbTWWAFBqrE2WYoglRBofrIgJUg1d6cs2EuQWqCF1horIEg11iZLEaQSAs1PBlIES4TGtth41xKRbswkERrvXuLVFuF4FOtE8p1wwgk2cuTImjFWtNtuuxWMMabPMybF8QRe7LvvvnW29957Z2NSO+20k4VGwARde1tssUWdMba111571eWhManifSRIFTXRlqICglRRk7otglSdHFnEXgwevsf/k2LbRx99VBdmTtAE4d5McwR4QiN6DygdeeSRdcY2gidCAyJlgRAESKy//voFY/u2225bMABDWmjDhw+3jTfeuM5IJ2iC4InYgFYcUEF0H5AKZ8m49dZb64VMfFPgREIgJfeMAoJUoqoFqXqB4v9DObDicHO2A6V4vrsXX3wxi+I76KCDLDTCuQkTjyHFd7yp0PBsttlmm4IRYVcGKbY3A6lNNtkkO37o0KEW2oYbbpiFmO+6664WWwwtvrMPkKKcboJU/X3EN3lSRU20paiAIFXUpG6LIFUnR5+eVLinICVIhfdD2bogVaaKtsUKCFKxItF3QapeEHlS9d6UPKn6+6OVb4JUK2r17r6CVKLuBal6gQQpQar+jmj/myDVvna9dKQglajtXoYUQCozH4cKP9kvXHiJIfPg+bx4/vnYY49lY1KHHXaYhcZUQwRHHHvssXXGtjiggvEeIuhiI8Bho402KhjRd82MSTF2RXRgPK5FngRIlEUUEiQRG94VM2KEUzRNmjSpEOmIfrFurqECJ1wJffa6AoJU4g7oFEiVwaJRA8clkRZCxNfjfBpdfl/HNzom3P7uu+9m71oaM2aMhUbjywsMTz755DpjzjwmZY3fE8W+BFT4FEV8AoEwIs/XCSHfbrvtmrZ4WiTyAVQEUIQG5HbfffdaEIQHQwAhwtDLzsmUSaFNnDixEOlIYAkwL1sEqTJVtK0XFRCkErXerZByKMWfMaT4XrZwXPifJ19nezPLzJkz7ZJLLrGf//znBQvfsuvrvMWW2cN9JnH/BFx4WWEkIF4NMIkNzyr8H5OvNwJJDCnm8XPghZ+EquMZhSHlPpkteZeFw8fbrrnmmkKkI5GPc+fOLZVTkCqVRRt7UAFBKlHpglTxD7oJybJkQap+QltBqnjXaEyqqIm2FBUQpIqa1G0RpAQpeVJ1P4l++yJI9ZuUgzojQSpRvYKUICVIJX4kbSYLUm0K12OHCVKJCu9WSPUV+FA2LhVvi8ey/HujMSxeZvjee+/VjJkleKsu8/GFRsBEWYAELzz8xS9+kU2ZxLRJbgRS8P4o3vPkRjRdPF8e3wlgKIvAY2wqDGLwdcawwrEnD5yIx7q23HLLhmNS5BWPP/E9nhHjyiuvtFmzZhWM4ImyRWNSZapoWy8qIEglar1qSMVwaASBRDHbTuZ8DqD4s5Wy8bZdwqzdJkyYYMcdd1xdVB6ReUxvRAM8duzYghFoERvg4uWB4XREQMqDIsJPou7CKEBfJ8ghDhPnOyAJgUREH/P2xWHswIvovrLACSAVh7eTbxyEAXSnTZtWsLfeequ07gSpUlm0sQcVEKQSlV4lpMog4NsSxeq3ZMDkkXvhJ9tbWR5//HHDW3C7+OKLs9BxXt0eGuHkhKRfccUVdXb55ZfbuHHjCuCicQcOIYwATAgtXwdmZa+JZ3vZzBDAJAw1Z3JZAMVcfaEBslYg5R5amDee4iOPPFIw/ktWtghSZapoWy8qIEglal2QSgg0P1mQWjDLuiDV3D2jManmdOr1vQSpxB0gSCUEmp8sSAlSzd0pC/YSpBZoobXGCghSjbXJUqqEFCfw7r3ws6xIYXq4Ho8j+fdwH19vlK8fE35yTNny2muv2cMPP1yw6667zvhDrht/4h0xYkQ2LsXYlNuJJ56YBUVcdNFFFhuBFrERZEFXWxicQPdePD7EdwIrDjzwwIIxVlXW3UegBUERbgRf0EVHt19ojC81mnGi0ZgU41hhdx/TPTFOFxvjVGWLuvvKVNG2XlRAkErUetWQSpy+lhwCJFyfN2+elRn7OJzCz1qGba4AqHCaI19nWiPeCeXGLBHMJhFPc8R3xmfKrGxfIgMZj2J2CDci+DwoIvwEUj5lUfjJbBE+bhV+MltEGPRQFvAAbAhB7wtSIUA9si+GFOUJoxx9fcqUKaU1IUiVyqKNPaiAIJWodEGqXiBBasGLDJm7rywEHdgJUvX3Tdk3dfeVqaJtsQKCVKxI9F2QqhdEkBKk6u+I9r8JUu1r10tHClKJ2hak6gUSpASp+jui/W+CVPva9dKRglSitgWpeoEEKUGq/o5o/5sg1b52vXSkIJWo7VYgFQYoDNR6GEQRrpedv+xSmc5o9uzZBeO6H3rooYIRxXfOOecUjKi+8B1Rp556qp1xxhnZFEhE6IXmEYDhJ9GAI0eOtBNOOKHOeOEhgROM87gRCBEGTPj6vvvuWzotEpF9ZTNOxK/ZIIiCIAmP9vNPzsv4UxxRyMsXyTv8ozHrO+64Y/ZCRvJyY+yqbMomZugoWxQ4UaaKtvWiAoJUotZbhVQIimbWy2BSdlyimG0nA6hXX321YHfddVcBRMAJsBDJFxtpo0ePrhmNLBF8IZxYB1wALD6e0HTe1OvRgf5JxB4Nf/hiQYDBfH6xEUEHIJo1wBHmS2QeoHIY+if7ACQgGBrQoixAMzRgFL/Dilkrhg4dWjBm6ChbBKkyVbStFxUQpBK1LkjVe02C1AJQCVKJH08iWd19CYGUnCkgSCVuBEFKkJInlfiRtJksSLUpXI8dJkglKlyQEqQEqcSPpM1kQapN4XrsMEEqUeGClCAlSCV+JG0mC1JtCtdjhwlSiQp3SPGDCgMaCHiIl7IgiP7aFp+L75SHl+Z9+OGHdUYwBK+AeOWVV+psxowZ9uSTT9pjjz1Ws9/85jd26623FoxXZ5RNU9RoG0ES5557bs34TrQfARGhEcHHPH7MZRca75k66KCDai829BccEqhA4ARBDm58D6c38nXSfeqk8JOAiGaCKQh2iIMpABTbCZyIo/safSeAg2jC8JxE+cXvqeI7rzR58803C8bYH/MHcv8N1kWQGqw127/XJUgl9HRI8V6j+H1LZaBKZNevyczZx9teeXFeaETr8e6iqVOn1hnzxF1zzTV22WWX1YyXCsaRdnxn3r04Mo/vgIjGJTagRBi5G3kcc8wxRgh5aEceeWQWxRdH5hHNx3uf4oYfOMQNPlF3TPoaGxF04cSwvg6wQmD4OrALJ57lPGzzdP9kexmkACjvyoontQWwzPXn8OQTUMbl5Tv6P/HEEwU7/vjjBal+/bUos25VQJBK1JwgVf8fJ0FqnxpIBanEjyeRLE8qIZCSMwUEqcSNIEgJUvKkEj+SNpMFqTaF67HDBKlEhQtSgpQglfiRtJksSLUpXI8dJkglKlyQEqQEqcSPpM1kQapN4XrsMEEqUeEOKX5Qqei+uXPn2gcffFCwmTNn1kXZedQd0XYvvPBCwZ5//nl75plnajZ9+nTjDa5E5oX26KOP2uTJk+3222+vs1tuucWuuuoqI0IvtHHjxmUD9eHcewRDECQRG9FlTGEUW1kwBduY6ojIPTfeykv0HsEToRFEwVx7RPLFRgACgQih+YsMCVxwI6DB58QLP5nSyCMAw0+i8xpZvB9BDmVz7JVtY1/KEubRaJ33S5VNi4RucYAL34l2VHRf4sep5J5QQJBKVLNDiteapxYA9cYbbxQMyJRN1kq0HZCJ7bbbbrObb765ZjfeeKNde+21WWQe0XluAAiIhBO7etg3gKChCw1YEP5N5Jgb+5eBh3wBVWw0qvH5+M7EsCGM/Fz+2nj/ZDtwCkHkEXLAK47647vP4+efRM75vHrhJ5F6RAjGxv5lkCLibuutt64Z35mDL3yrL+vMz0fUX5wH+wOSDTfcsM423njjDKJh3uuvv76tssoqBaOe7rnnnoIxj6EglfrFKb0XFBCkErUsSNWDSpBa4JUJUokfTyJZ3X0JgZScKSBIJW4EQUqQkieV+JG0mSxItSlcjx0mSCUqvBGkGJ+aM2dO3UwPdPUxnhQbY0d07cV29913G+NHsdG9N3HixJpNmDDBxo8fb7zWIbSxY8eWvjrjpJNOyrrzwhkdfN273fyT2SD8D7jhJx5T2Z982Z/xptjIL+7u45x+Hv+k+5Gxp7hLjrEntsfjVGXf6b7Di4mN7fEfa/lOF17ZWBFjWGGXHPmVdfcxFlb2Tiq6/xhr8j8N+yd/KmasLMyb7r4hQ4YUDI3uvffegh1++OHq7kv8NpXcGwoIUol6bgQpAAV87r///prdcccdNbCEkGE8CdDEBmR4moyNWQjC4IZwuqFw3d/vFMLF18sAA7yAhQOLTwIZjjjiiILRSJYZ40bxeBLf2TfMl/UYWnxnxgka/UaBCOEMEKyzH7NQhO9xwrMJZ3PwdcoRjsH5OuNKITDC9XD6JKBVBinOH0OV72wvC5xgKiXOEeZN0MSKK65YMDRhaqrYqBONSSV+nEruCQUEqUQ1N4IU8+UBqDvvvLNmvLUW8MTGNERXXHFFwXixXVnQAsEKcbQdgQzxvmyL9/PvDqvwE3DFHg+Nob/ZNvz0IIX4E48nnrqI7xzbDKQ4HyCIYUSYd7NTEgEpvKbY8LrcYws/gVQIjEbrfUHKgztCTw1QAUjKHRoeFgEd4XnWXXddW2GFFQoGpO67776CCVKJH6aSe0YBQSpR1YLUwXXRdYLUgbUuRUEq8eNJJGtMKiGQkjMFBKnEjSBICVJ4ivKkEj+UNpIFqTZE68FDBKlEpQtSgpQglfiRtJksSLUpXI8dJkglKpxIPd77w6sowtkkeF8TUXn+x1p/BcZFF11ksV1yySW1V2OEr8lgTIp8Y+OdTYw3uTEWxT5hMAXrbIvHqfy7Hxt+Ml7FjBD88dbNgxkIaAiNMZEy6ytwIhwHise+OA/WaEyKMSqCEOI/zDLWw9gT41hu7Bvvx3cCMuIxNL4z3kXEXcp4dQZRgOH4Euscz7kZCwuNoA4iAsNADA+YIC8i/9zWWWcd+9///d+C8afqsj96E9CiwInEj1PJPaGAIJWo5ueee84Y9GZQPhzgnjRpUtYg0oC5MajujX/4CSiYsSI2IBUDje9sD/fl+5gxY7IX5PGSvNBGjx7dMA+OC408iRw877zzagbo4lkl+E6ZHXjhJ8EX4bX5OiHpPiUSn3wHSuG7pFgnCpAG3yPy/NPBE4eKAwECEMLpj5jhYc011yzY2muvndUV9RXaGmusUZjpgdkfVl55ZVtppZVqxveyWSF+/OMfW1nebCOt7JjVV1/dOK8b38sMrZ9++umCoaEglfhxKrknFBCkEtX87LPPZg0UEWLhHHnMjQecNtlkk5rxZB03ynynYeelibE5fABQaDF4+H7ppZcWogbZhpcWQsvXw/x8nXw4ZwjAONzdvTVC3UOY+TqNKqHssYVv3/X/UpVBiul+ykLIgRSAInw7NCLutthii5pHgmcCgMrA0GgbICqLrFt++eVtueWWS9qPfvQjW3XVVW211VarM7aRL/mExv78JyosD8f+5Cc/KRheMw9CsaGhIJX4cSq5JxQQpBLVLEgt8LoAlSC1AFSCVOLHk0jWmFRCICVnCghSiRtBkBKk5EklfiRtJgtSbQrXY4cJUokKF6QEKUEq8SNpM1mQalO4HjtMkEpUOGMFRGbxP5lwjjXm1yOaLJxVgDGpsugyxmbKXm/B/Hh0n8Xms0b4J+mMFYVTIvm6jxXFn4w1xWNgfGd7aOQbBkb4OmMlZcb4mr/mI/z0yD2PCCRAAs34829ohHMz5hS+YoN1ouIYeyIqLjQi8hiDWmuttWrG+E4Y8ODrjAMRyBAb40ZLLbVUwZZcckn73ve+lzT2Y+wqHHfy8awf/OAHRnponAuwhdMgEZQRl4vv1G347jBfV+BE4oep5J5RQJBKVDUh6MOGDcuCH1577TVz4+WDTDlEIIAbkNpyyy0LRnDFBhtsUDDyLTNC3hk0d6OhpiGPJ1Ql0IAgBII6QmMmBGARB3EAEgIeAI0bA/QeodfMJ/Ah/9goW3gtTKgKWOJgASLcaMCbCVhgHxr/f/7nf7a/+7u/q9l//ud/1kHBAQEIwqg+XwdEf//3f1+wv/3bv7W/+qu/qrO//uu/tr/5m78pGPuGZfD1r3/96xbbP/7jP9oiiyxi//M//1OzJZZYwn74wx8WjFB95oCMje0KnEj8OJXcEwoIUolq9v9JEZL97rvv1ow/+eKFhPPVASleeBcbnhiD7M1aHAlGY0/YdZwv8Cr7Xw9h3YTDh3PxsQ5gAFEYicf38Bp8HaCVGaH44X+FfB3vx8Ot+XRvJ/QmWAdQ3//+941GO7Yyr4aG/itf+YottNBCNfvGN75ROJa88KjWW2+9gi222GL21a9+tWB/+Zd/aV/60pfq7C/+4i+sWeP4L3/5y1n5KKMboPv3f/93W3jhhWv2ne98J7turj00JsF9+OGHC0Y9CFKJH6eSe0IBQSpRzYJUPawEqQUQE6QSP55EssakEgIpOVNAkErcCIKUINXIsxKkEj+eRLIglRBIyZkCglTiRhCkBClBKvEjaTNZkGpTuB47TJBKVLhDiki32bNn1+yll17K3pIbRsoR7Ra+nM/XmU2BmRNiI8ginLHC1xmLiMefPIgi/OwroIL57ny8yD8JrqC7LhyrYuwqjL7z9Tgwwr8z7hZPXcR3yhtP+8O4VJmVRbkxjsV4Uhh8wTpTDxEYwbiSG2NP8X58J0LQ5/cLP4n6I5ghNoIfvva1r9UZARKxsR/BEXHwxT/8wz/YP/3TP2WBHQR3uP3Lv/yLMQb13e9+t2ZE/MXRgXxnfJAgnNgYK9SYVOLHqeSeUECQSlQzkKKxIHz7k08+qdncuXPtnXfesbfeeqtmRP4Br9jIY9q0aQWbPHmyMb1SbDxhhtMOEcBA2DYh2qEBKRp2AjNCo2EHDjEMCNxgktMwmIHwbIIZYiubRsj3LWtsAUcYGEJUH/PtxRGJwJMgFK4xtHHjxtlvf/vbgkboFjfg06dPNzSN7cUXX7QZM2YUjAeMsGy+vvTSS9ei7wjQWHTRRY1tceQh2jDFUawnUOaNu0QyhkYkJ/eMP3TwyQNJHHbP9yuvvNJmzZpVMMosSCV+nEruCQUEqUQ1N3pVR+KwumSAFs6g7utMLHrXXXcVDGiF/3vi/1TMEB6HtwMpgBRG1a+NEWEAACAASURBVHlkHQ1r3Ngus8wy2X+Cwif8xRdf3BpZuJ+vE0VXFoXHucK56pgAFrD6BLL+yX+nANLEiRPrjHkR3377bfvoo4/q7OOPP7bPPvusTs9WvwACYBIbYA2vhf88EcbuEPNPgM/DQPw3AiIuqZPwv3Ks49HhNYeAZpZ2POrYeJszb3mOjf/BCVKt1rT2H4wKCFKJWhWkFnRZASpBasH/3QSpxI8nkawxqYRASs4UEKQSN4IgJUjJk0r8SNpMFqTaFK7HDhOkEhXeH5BiLIsuv9jo3iL/2BiDmTp1as14j9VNN91U1z1Gd9mECRPs8ssvz7rP6EJzGzt2bPbqj7J3VZVNjRR2Lfp6GBASr5dNt8S5eHWIGy93ZOqoX/7yl3V2xx13ZLMrPPXUUxYa40tz5syxefPm1Rnafd7uvscffzwb+6HbLzReaxJeC68w4dUnfg3+ia4cN378+Dq7+uqrszqhyy62G264wUKj/m6++eaCoUF8X/Cdcqm7L/HjVHJPKCBIJaq5PyCVOIWSpUBBAd77JUgVZNGGHlRAkEpUuiCVEEjJlSggSFUiqzLtQgUEqUSlCVIJgZRciQKCVCWyKtMuVECQSlSaIJUQSMmVKCBIVSKrMu1CBQSpRKUJUgmBlFyJAoJUJbIq0y5UQJBKVJoglRBIyZUoIEhVIqsy7UIFBKlEpQlSCYGUXIkCglQlsirTLlRAkEpUmiCVEEjJlSggSFUiqzLtQgUEqUSlCVIJgZRciQKCVCWyKtMuVECQSlSaIJUQSMmVKCBIVSKrMu1CBQSpRKUJUgmBlFyJAoJUJbIq0y5UQJBKVJoglRBIyZUoIEhVIqsy7UIFBKlEpQlSCYGUXIkCglQlsirTLlRAkEpUmiCVEEjJlSggSFUiqzLtQgUEqUSlCVIJgZRciQKCVCWyKtMuVECQSlSaIJUQSMmVKCBIVSKrMu1CBQSpRKUJUgmBlFyJAoJUJbIq0y5UQJBKVJoglRBIyZUoIEhVIqsy7UIFBKlEpQlSCYGUXIkCglQlsirTLlRAkEpUmiCVEEjJlSggSFUiqzLtQgUEqUSlCVIJgZRciQKCVCWyKtMuVECQSlSaIJUQSMmVKCBIVSKrMu1CBQSpRKUJUgmBlFyJAoJUJbIq0y5UQJBKVJoglRBIyZUoIEhVIqsy7UIFBKlEpQlSCYGUXIkCglQlsirTLlRAkEpUmiCVEEjJlSggSFUiqzLtQgUEqUSlCVIJgZRciQKCVCWyKtMuVECQSlSaIJUQSMmVKCBIVSKrMu1CBQSpRKUJUgmBlFyJAoJUJbIq0y5UQJBKVJoglRBIyZUoIEhVIqsy7UIFBKlEpQlSCYGUXIkCglQlsirTLlRAkEpUmiCVEEjJlSggSFUiqzLtQgUEqUSlCVIJgZRciQKCVCWyKtMuVECQSlTa888/b8OGDbMRI0YYwJJJg4G4B7jfuO+4/wbrcsEFF9jw4cOz39RgvUZd1+dXQJBKaDh9+nQbMmSILbfcctkPih+VTBpUfQ8su+yy2X3H/TdYF0FqsNZs/16XIJXQ8+2337YxY8bYWWedZaNGjZJJgwG5B7jfuO+4/wbrIkgN1prt3+sSpPpXT+UmBaRAkwoIUk0K1eO7CVI9fgPo8qXAF6WAIPVFKd9d5xWkuqu+VFopMGgUEKQGTVVWeiGCVKXyKnMpIAUaKfCLX/zC1llnHfv1r3/dVNTsc889Z88++2wW8dhqhGU3HUtEJ9dJmVu9zm47tpl62X//39tXv1q0L3/5Oft//+9Z+8pXni+kf/e7v7c77ihGInOvrbvuusa911/LQv2VkfKRAlKgsxT4+c9/bossskgGqmaiJYcOHWprrrmmbbTRRi1H2HbTsVwf10mZm9El3Kfbjm2mXlZeebgtumjRFl54qP3bv61p3/72RoX0JZccbuutV4xCBlDcc9x7/bX0CSkCnx580Oz0080mTTKbNcvsk09aP/UDD5hdeqnZK6+Y/elP5cffe6/ZqFFmnzfYqr/yKS9l/dbXXzebNs1s5kyzuXPr08Jv8+bl10XZLrzQ7PzzzS6+2Ozmm83eeivX9LPPzD791Oypp8wmTMj342HkssvMnnjC7N13zdgH/R95xGzs2DyfG27I0//4x/yMs2eb/epXZv/3f3nenLuv5eOPzV54Id//t781+/DD+r3ZRpmvuiq/1vrU9LePPjJ7+mkzrv2ee8w++KB4DOecOjXfh2ubM6e4TzNb+iufZs5FPaD1jBlmzz5rxnWyoDf3A/rfdVe+TzP5VbHPb37zm6yx4Km2mcjZn/3sZ7biiivayJEjm9o/zLObjuX6uE7KHF5DM+vdduxA1wv3GoDi3uuvpU9IPfqo2Yknmi2yiNmuu5o99piZN4atFOCMM8xWWcXsoYcaN0AjRpj98Id5I91K3vG+/ZVPnG/Zd+A7ZkwOiffeK9sj30bDTCN93HFm66+f2/DhZvvsY0YewN8bt8svN/vpT8023NBsvfXy9QsuyM9BwwisLrnEbNiwPJ/ddsshAtzJA+AceWReLv6nCoT6Wjj3tdfmwLviCrN33sn3BoiA95xz8npZc00z0gFpKwvlvf56M+rlhBPMXnuteDSgPu+8fB/gTSPfztJf+TRzbrT5wx/MbrstB7jr5tsB+4EHmr34YnsPds2Uob/3oZHGa6ALrNWlm47l+rhOytzq0m3HflH10qqufe3fJ6Ruuslsq63MfvQjs222yb2hdhqQwQqp8ePNdtzR7I47zPCqGi08be+xh9kRR5ihKZ4Rnim6nHlmDiog98tf5iCjcQNe7Mc2tAdewA7P9qKLzE4+OYf+WWeZ7bRT3mACKh5gDjrIbOLEHFDApq+Fsu2+ew4jGl33CPl8+eUcHIstZvbf/2122mm5x9AKqAYrpPD2Hn44r0P0RisWhzs9B9ttZ4YnWuY99lUnX1TaF9WgDfR5uw003A/tlnmgta3i3i2FFD80uuV40FhjjfzJfK+9zPbe2+yll/JikE73HV1LdD3RYPMUTFcWXUN0W/kSQoofLKCjseYplO4yukpiD8gbAZ7CKQf5XnNN3jDHXVJ+Hj7J59vfzhvyK6/Mj6NcNBZ4gTSwlIEuGspJ3hheAl1NeB5cf1/7vP++2XPP5bostZQZ3sxJJ+X58TQfN+KcCx2JovEuT56wAQmQu/rqvGsOb4J96OYjHzRGn803zxtDznnnnXl58XDwSig76Tz8Arazz84fJvB6Uwt6cM1bbJHnQz142blG6gfvb5NNzFZdNdfW64u8HUBcB9DFw6PsfAJYwOv7hJ4U9c95qR+gCyi5HvZxT4qysZ3uTLZxnXitQLhRt7N7UoceanbYYbl3xn0D1KdMqffi8DLpbiUN3YEKnv6bby5Qra992I8HhI03Nltppbzs3Kv0PlB2Hi6AF/cY9d8NyxfVoA30edtt8KnDbjt2oLWt4j4vhRTdRvzgR440W311s1//Ou+qWXddsyefzLuVvP//8MPNhgzJnxq33NJs6FCzjTbKn/wdCg4pGlGe1un62nNPs2OPNbv9djMaxBBSPMXTQNHAsB9dY3Rvbb+92amn5l0ojca26FL613/NvQv2p8uMMtGgePfXM8/kYz14KHS/0bVGQ0y3GvDg/H3tQwM8eXJ+jm99K/c0117bDJBzDvQLF2beWXFFs+OPz+EHCGjkbrklb/wBC57YKafk+wB8uo/o3qMcQOToo/MGGu1oWLnO++/PPTE8KR4K8LYoA4DqC+ReNs4JiNxT8+18kkZXL2VGOxpc1ml0vWsLrTiW8tF1ideNDhtskHdBUqYQUgAP0AKDc8/N63PcuFwzNAghRf3zIEO+5A8MMPcgy67PIcVDA/fMppvm9Ut5gBb3MXXLWNJ115ntvHN+r3J/sC/nR9Nm9qFbFQ+Uh5SFFzajOxQ43nhjfs2MSXGNaMaDXDcs48aNsx122MH+wI+0xaWbjuX6uE7K3OrSbcd+UfXSqq597V8KKX7ENMI0hPvumz+lAwx+7HRt0Rg4pPihLr10Pq7x+OP5D3KzzfIfvD91AylARiOB18X4Fg0y3wEUjXEIKbw1GnAaFhpeGn6eRinDLruY3Xqr2auvll8WngiQAoB4HQzI09gCU/dQyJMy8nROo4+XxT6M5bCN6+trH8pBA00jtM46OTRo3Ci3e2Jh6fByaGAPPjj3dtDud7/L9cXrwwuj4eecNHSUlbzwRAg2oLt1hx3y6+G6gRhAIM/99suBgCaMg9Alh7fmHlFYjngd2OKdHHBA/uQfplNmGm4aWfSh8WWda/CuLYcUnhz1x353351DjfIy1hVCimsDDjz8AFbuJbxBgIiWIaTwznhAwZPC6+JeAqjsE3avhWV2SAE1Hmqofzwb8qCe0Ab4UedcC2VEX6DOPsCKexXtU/tw7XhiaMfDGfujO9fL/Yx+eP6AkECYblimTJlio0ePbmuqqG46lqmwuE7K3OrSbcd+UfXSqq597V8KqTfeyCP6+CEDFe+eo7uPhp5GwyHFj5QGgG000DQCNC48NQMhgMcP//vfzweSAQH5ksZ5fAkhRWNHww0UGcvhnBg/eM5FY0zEWNkCpP7rv/KuNBo/zk+U1VFH5d1yPMkTrbjaankZaFQAJQ0m+3C+1D5cHw0Z3Vo05DRWjaBJGRkrGj06ByceEV1bjEUBGIJSACReJ9DgOgE/EZys86BAdxLnpNEFXDTYdBHiUdGtREOLXgCWhhwDKhiNdKNxRI/cRDMeSnxBM7xevFDKyfF4DpQTMHJ+vEWHFGUDSHTDoTllosGnPA4pxtkAB/pS14AWQLnX7oETQJM8uGd4+OH+or7wtCgnDxdoDgTixSGFJ8XDFeXjnsSjAyR+3+ExUw9oRhnwnLgm9kFv9EztgzfIflwLD13c9+HCNfDgQFm5T7phee2112zatGn2R27GFpduOpbr4zopc6tLtx37RdVLq7r2tX8BUjyB47lsu23e1UJjSEPH0yBPwvwg6YZxSAEjnki9h4B6Zxs/XvajkaLBoTEmeg9PiDxp0MIlhBRdgOxH4/zjH+fdcXTJ0fDx1E6DH455hfngQS2+eP50zLXQAPHkz9M70ONaaGzJl640FvYBOmynIU3tQ0ONRs1CyssA8BlMp+ECUHhMlJUuTMbBeALniZwGlAaTrjTGrLhuAEpaPAhPPfCAQMNMA09jy3XQSOP1ADoG+MsWHiTRBSNvXwASY3R03ZGGTjwUHHJI7tUBNOrVIUV9UwbGESkPgOMhgG5ChxQPGDyocA8AvnBcyeHCPUDd0uCjwTe+kY/lUfdudM9yrTEUKLvng1Y8CPj4Eh4OZedauC50RyO8NcrHwj7oxXbGylL78GCC19gIUoCddMoLrLVIASnQngIFSPHkiSez/PJ5RBddTTTofH7ve3mjylOvQ4onT4DijQaQ4omVHy9dKA6pRRfNn8IBGiCJPY8YUjx5sx95AAQMD4cnaDwT/19KfNmdCCmP+KLhomHnGvCauLa11sq7MbkOD9hAG0DBvvfdl3sP6AMo4usGqMASTwP440UxbsMgPp4SDxWMI5UtdFHS7eper++Dl4vXTJ1R54xLAh2+f+c7uWdD+R1S3AN85wEcUHFeAi14OHFI7b9/vm3JJXMAAT6/FocL1wikeODhHlp22dx79Pr3e4B7DfDHi+cDpOg+/CIhxbnxzhmf5Zq0SAEp0J4CBUjRANB1wxMggQc0NBhdLnTV4d3wtMkYEZFWNCxhdweQotFiOw2lQ2qZZfKnW47Fi+Bp1T0Zis7+/j8pxpE4Hw0lDTlBEjTgAJSuKADZKHDCu/sY+6A7kf15ouXJnCdwQMf10PDSXUP3Gd19dKWxD11XqX0ITsDzYtwVj4fr5HujBY+OBtzLzLUwJsXTPh4P3WNso+uLffx68TYoI0Ed7Mt3D8pwPdCHp36uEW+IugM8DNbTqDM+06iRZCyGrlPGeBgDZCFf/kCM1wlYqBe/BxgjxCOiy479HVLsQ0CNQ4quMP4Xx3EOKe4dvEjyYJ3xIaBLXTpcyAdvkHsIb4s6Arqk+4In6f8J823+6fnQXco9Rvm4ZzgPY3jclwAYz4b7BJhzLoCHZ84+lAEdU/vwIIfHyP5hT4KXhXPjqfEbavSQ4PvqUwpIgcYKFCDFkzvdInR90O0WLgCMhp7GnIa1rLujEaT8z7w0OjQQwIAfL94FDS8/docUDT4NPwCgK4yndKBIo0rUFOWIu728nORN4AQNEuWjMaExomGk64uGjAAFug1poOny8jEwnsDZRiPYzD6AEC+S8QsaP8pNo0hDHy40gngHXAMGnGmMgR1dgDSQgIwGm2vjetnHG1S6/IBPuJAnDSGNKeM2nBsPDWjhheBVAbitt85hGh7r65QJnT0MnjLgCQE5PCE8IsrkC11i5E/XGzoBc7okqbsUpNgHfXkAoRuQsSU0JvIRzzEOnCDogC5nHlZ4gHAviq5LAE8548UhxX1DGRmL5J5hbI7IVPJCJyDE/cF1s+77+Bgc3cPcF33tw5gTZefe4l5C6zBwAg+XuuEBIv4dxeX+or9/+umnNmfOHHv99dezOe2Y1+6ll16yWbNm2Sf0QTdYZs+ene3H/tiMGTNsbpmLW3I852R85+WXX87CupljDnvllVfs3XffbXjezz77zN55553sGObRw1544YWs7B+GN2vJOeNNng8Re+/xtJpYZs6cWZvzz89NSDo69bVwrVwT+nAc1/niiy/a+++/b3/yJ9coA3TnevwYP98zzzyTleHNN9/sc+yQ4zknerq2nJM6po7QsdFSdmyqXhrl1R/bC5BiQJuGjUaIhidcaARokGnwaQjpl6fxacaTckjh3TB+wRgBIKSrClCFkPJGnYaLJ3caDw8V5ymeJ1ie0MsWGhYgxXE84XoIOk/mNHRABADgLdDAki/jUKkQ9LJ9aCwJcCAPuu0ahaC7NwFMGOdhXzTGq6Qs7mXR8AFS0mlUaWh9DJDGNVwAKXVEfXgYPw03DS7HcN1cE+OINKBlC/sDfa6NfPgOIIEJ426UDXD5gnZAAoChM9fv3kczkOKeAcKMm/G/JEBFHVNm6od7wP8nxX4AkYciyoJnxzU52Lln4sUhxTFcO/lTNxzb3yHotC20iYCI7nDKhtYAkfr2QBweRoh67eQFQP3ud7+zE0880dZee+1sXrv99tvPrr322j4b4Lvvvtv23Xdf+8lPfmKrr7667bHHHlmj2sy1fvDBB/boo4/awQcfbJtuumk2j956661nhxxyiN10001ZAxvnQ8NKA3vVVVfZJptsYhtuuKGtv/76tsUWW9hJJ51kD+HCN7kADvLh3DvuuKP9kqfuxEI49xprrGGUc9iwYdn5mbniGp6oGiycB9jceOONtttuu2XHMb/ddtttZ7fffnsGjbJDAcwDDzyQHcN1uq222mpZ/Zx55pmZfmXHso3jOSf6Ul6MKZJOOeWU7MGir4cPjqUODj300Nqx1Av5kTbQSwFSAISncBoO/z+MF4rGlO0MnPN0y5MkT6LUrz+I4OHQKLLdx1CASjh3H91reDn8AZRxEY5hf37wNL4sfi6e9Gm4MdIpGx4A6WUL+fDEzHEAl3BxGj6e4DmGRpfz4dHgyZEnxlM91+6eUDP70CiSL/kzTkd+bAsb9vBa6P5h7AijbH7t7MMDK12TaEfXHgaE8NYAlI/f+DVTPrpb8QJ5gqfR5Lw03jSURP7RQOKNkV62sD/eF1ADFqzjnVE3Hq0XHsfDF9fH9dKdSL5cE5ozBuPdlWynvql3ys19wD5cG+XGACDdpWzD+2Zf9vEADI7jugEV10H9U0baA6657KGZbdQHUXUE+vAARP2jBZ4R5/GFBxYeskhr58+85IN+QBs9gDz3HOXn+ujO5kEJ/f2e9nN30icN/6uvvmojRozIGrQTTjghm3vtgAMOsP33398ef/zxzMsqK/ODDz6Y7XvQQQdljRnA4Km9mQUv7Mknn8xmyz7ttNPsnHPOsTPOOMP6Oi9lnTdvXtZ4n3vuudmxfJ588sm2/fbb2yWXXGJvvPFGQ+/EywWUH3744eyagQ5gvoKImsRC+ZZccsms8ebNzueff342tdL/8aTXYMFDmzRpUnZtRxxxhJ1++ul29tlnZ2+Fpgx4c2ULZcRLo1ycB2NevI033tiWWGKJLIS+kdYff/yxTZ8+PXuAQE/Kik7UE6C89dZbszovOy9Apc4PPPDA7H4AhpT3qKOOsqOPPtqefvrpPj24sjw/77YCpD5vhjq+uxQAOg5yunppYLW0rwDgwiMF0oyNEQDDtk5d8Ewee+yxrKEGVHQH0Q130UUXZQ3iDTfckHXJlZUfuNFAP/LII1kj1gqkvHuR7qu33nrLvPuPRpEZymnYAU68ACq6yD766KPsGDwCGmQ8KxpSroXyN1o4D2HZ5513XtYQ40VtsMEGTUNqlVVWyTw2yp9aKCtdifvss48dc8wxdscdd2RdfJQB3fEmAUozC8ewP97uyiuvnE3gCujLFrZPmTLFhgwZknlO6MHxV199deZNATt0KlvQ5uabb84eOtCI8vFgACx5ELjtttvaCt0vO1ez2wSpZpUapPvxG+HhF0+Dp/4G9/0gvfr+vyw8WjxJvFw8Ou9h6P8z9U+OQIkn68022yx7ugcANGh33nmn8eSP99CoG4198RRoiI8//vis663R031cWs7hsKERZGEbXWpbbrll1oXGGErZQuPPvizkwX+eeIXGkUcemYQUDT0ezC677JLtz596OV+znlQrkPIHALr3mBkcrYAq5fdr4LOZxb0/6oQuRuDeqMvOIbXSSitlM9oz9kVZLr/8ctt6663tsssuy8a1ys4L8KkD9JkwYUKmM2XkfkBfvKrf0pUxgIsgNYBid+Kp/MmfrjDahCYf7DrxUjqiTHTbAib0BFYNxsU7oqwUggF5xmbwKMKxlalTp2aAomG6iwiUBguQYFAdL6wVTyrOjgaXxpVGEM+GRhEPq2yh0SSIgXLT+DN2AmgATqq7j7E33ljM2AyNNQ0xDXezkPrBD35ghx9+eNY9OXbs2MxjafSnYMZv7rnnHltrrbVszz33zM6FhwosGM+jq68RaOLr5novvfRSO+ywwzKvDC+20YL3Q7ccHtyuu+6aeZi8YoQy0N133333NRxr5IEDTfyhBS8MwDE+yTgaXYaUfSAXQWog1da5pECHKYAXwljO3nvvnQ2Me/HoDmJyUsY06HprtPQHpIAOHg5dh+4pPPHEE1njWHZe9qcxpcyrrrqqrbDCCllXFIP9NKikxwueF+MtAIIAj1/96lcGiGl8m4UUkCBwAYgSyEDABl2MkydPzroY3bvzc+Ol0nVG9yUA57w0/ltttVUGGzySZgIRuB6i/IAOgEwFMLA/sGYcizIC1uWXXz6DJQExTz31VNZd6uUMP4lUBKx4a3jHeJ3cI6eeemp2HTzM3OL/VwkPrHBdkKpQXGUtBTpdgU6AFKCj+2r33Xc3GtErr7wymz+wDDauJzAiTJ5BfkCwzTbbZF5YozB4AAWUCNAALISt0zXZCqTIm4g7usSAKOclOhAvhSCQeCwMbwevZPHFF8/GgvBAAASg5Drx5gg+SS3Aj3oighLPFkBz/Y0WPCnOg9dEUAll5qEDL5UIP7rz0LtswbOj3Hh8eF50owI6QI4nBWjpHh7IRZAaSLV1LinQYQp80d19NMB0wdGA0qjSOBLV1mxAAeNZAIduMMLQ6ZosCyiga238+PFZI4tXc9xxx2UN/rbbbmtLL710tp0uRsZvGi2UCdhRZsDKf8MIwQd6eJvxf63ooqNBX2qppbLyeVckHiNjfTT4eEWphW5PAhbwyAgsYXwq9trCPOh+5Lw77bRT1qUJPNGJwA10IoKTwIpGC0EpQA4I402PGTMmC9gg2pMIPzytgVwEqYFUW+eSAh2mQCpwgpDpRoETXMrn6e7jWJ7aiTZjTAlQ8d+pRgueFU/6mDfSbOMaGJui8cVLKQvrBhgeEEAXId12vEKecO5vfvObmZdCKHxZRCHl4XxufOe8wABviG4xxrTi8wITvDc8IHTkejkODw5vEc+EcbXUgiaEkOMFEaGXWhiPYrxs5513zjw5zsni44yMK/XlDbG/a8w6gANYhKXzEIH3OpCLIDWQautcUqDDFKDbiEaQwf1WQ9C5lM8DKYBA481YC94IT+99hXbTcOKtYO7R0IDi0TBWgpfgYd6xzOwHqOiyo6sLYywJMPLHXD7d04mPBU54F5TNw7m5brr9CMvmvHTlxR4cx1E2xqEY0yHAhOMIXEBruvyaGd9hrI2uNzxFuu5SC9dINyNRhR5GTln4wzLjeJybMjRaXGf3wPDkADjjcHhgzYyjNcq7ne2CVDuq6RgpMEgU4EmZxhMvhCdsPmlQ6dqhK4uxDIBQtjBOQoQcx/CH2MUWWyyLtJs4cWIGHBr2RgugocGjISVUmnEPzstgPx4P/72KPROAyjRKeAH8QZUGmDEmGm+8BqL7CFvva7wmLA/7NjMm5YCjKzE8L/9Z4rx0hzUaC+P9UxdeeGE2bkU5KS9dZuiL9wXoGi3UDVBDk6FDh9p1113X8D9rYR50WRKUQXcidUjXIuclCnKvvfbKYMV4XqMF3SkbxwBvvEXGwig/14keA7kIUgOpts4lBTpQATwExkkIAMCjYuwD74aQ9L7mpcNrIdiB/ZdZZplsNgaAw1Q8jTwav3y6yvAQmPGBY3yaIZ7W8Yquv/76LEDA9+cT+AAWugfZj2MYX6KrkIa01f/vAGfKSePd17RIgIIuRWDDOf28gJVuRrRrtDCOxZiZzxbBsQQh0EVIt19fY2/uwREyv/nmm2fBGs0CGNDQpYjnxIMA0yLh9eERAXq8pUYLujANEhF+HEc0I9fJA0scHNIoj/7cLkj1p5rKSwp0oQI0hoAKcNA9hTUzwSxP7DxZsz/j3SPhVgAAAUFJREFUIHhWeAY0cqT11RDS8NNtxLEc4xOo8kn0Gmlxg4xnwTa6n8L9251gljJQTsobBz2E1egeDV5RfF66CPvqouRYQESZCQjheECL1mwnva+FuvFjAURqf88LbwdQUY/AEENXyouGfeVDOppQXo6jzBznXZ1+joH6FKQGSmmdRwpIASkgBVpWQJBqWTIdIAWkgBSQAgOlgCA1UErrPFJACkgBKdCyAoJUy5LpACkgBaSAFBgoBQSpgVJa55ECUkAKSIGWFRCkWpZMB0gBKSAFpMBAKSBIDZTSOo8UkAJSQAq0rIAg1bJkOkAKSAEpIAUGSgFBaqCU1nmkgBSQAlKgZQUEqZYl0wFSQApIASkwUAoIUgOltM4jBaSAFJACLSsgSLUsmQ6QAlJACkiBgVJAkBoopXUeKSAFpIAUaFmB/w9lv9XJBCmtGAAAAABJRU5ErkJggg==)"
      ]
    },
    {
      "cell_type": "code",
      "metadata": {
        "id": "HV5jw-5HwSmO"
      },
      "source": [
        "#plot the 0th image and next to that plot a bar graph of the predicted values for that image\n",
        "#  if predicted_label is the same as the actual label of the image then the x_axis label should be in blue, whereas \n",
        "# if the predicted_label is not the same as the actual label of the image then the x_axis label should be in red\n",
        "def plot(i,predictions_array,true_label,img):\n",
        "  predictions_array,true_label,img = predictions_array,true_label[i],img[i]\n",
        "  plt.xticks([])\n",
        "  plt.yticks([])\n",
        "  plt.imshow(img)\n",
        "  predicted_label=np.argmax(predictions_array)\n",
        "  if predicted_label == true_label:\n",
        "    color = 'blue'\n",
        "  else:\n",
        "    color = 'red'\n",
        "  plt.xlabel(\"{} {:2.0f}% ({})\".format(class_names[predicted_label],100*np.max(predictions_array),class_names[true_label]),color=color)\n",
        "\n",
        "def plot_value(i,predictions_array,true_label):\n",
        "  predictions_array,true_label = predictions_array,true_label[i]\n",
        "  plt.xticks(range(10))\n",
        "  plt.yticks([])\n",
        "  thisplot = plt.bar(range(10),predictions_array)\n",
        "  plt.ylim([0,1])\n",
        "  predicted_label = np.argmax(predictions_array)\n",
        "  thisplot[predicted_label].set_color('red')\n",
        "  thisplot[true_label].set_color('blue')\n"
      ],
      "execution_count": null,
      "outputs": []
    },
    {
      "cell_type": "markdown",
      "metadata": {
        "id": "5wiMlS6wTeM0"
      },
      "source": [
        "Similarly plot the image and predicted values for another value in the test_images"
      ]
    },
    {
      "cell_type": "code",
      "metadata": {
        "id": "Ko-uzOufSCSe",
        "colab": {
          "base_uri": "https://localhost:8080/",
          "height": 211
        },
        "outputId": "22414c70-9f73-4d55-e410-3340a1acb9a3"
      },
      "source": [
        "#write code below\n",
        "plt.figure(figsize=(6,3))\n",
        "plt.subplot(1,2,1)\n",
        "plot(5,predictions[5],test_labels,test_images)\n",
        "plt.subplot(1,2,2)\n",
        "plot_value(5,predictions[5],test_labels)\n",
        "plt.show()"
      ],
      "execution_count": null,
      "outputs": [
        {
          "output_type": "display_data",
          "data": {
            "image/png": "[encoded data removed]",
            "text/plain": [
              "<Figure size 432x216 with 2 Axes>"
            ]
          },
          "metadata": {
            "needs_background": "light"
          }
        }
      ]
    },
    {
      "cell_type": "markdown",
      "metadata": {
        "id": "kgdvGD52CaXR"
      },
      "source": [
        "plot several images with their predictions. Note that the model can be wrong even when very confident."
      ]
    },
    {
      "cell_type": "code",
      "metadata": {
        "id": "hQlnbqaw2Qu_",
        "colab": {
          "base_uri": "https://localhost:8080/",
          "height": 585
        },
        "outputId": "4247f685-9c9b-49c7-cc7d-e9bdbc34b5c4"
      },
      "source": [
        "# Plot the first 10 test images, their predicted labels, and the true labels.\n",
        "# Color correct predictions in blue and incorrect predictions in red.\n",
        "rows = 4\n",
        "cols = 4 \n",
        "images = rows*cols\n",
        "plt.figure(figsize=(2*2*cols,2*rows))\n",
        "for i in range(images):\n",
        "  plt.subplot(rows,2*cols,2*i+1)\n",
        "  plot(i,predictions[i],test_labels,test_images)\n",
        "  plt.subplot(rows,2*cols,2*i+2)\n",
        "  plot_value(i,predictions[i],test_labels)\n",
        "plt.tight_layout()\n",
        "plt.show()\n"
      ],
      "execution_count": null,
      "outputs": [
        {
          "output_type": "display_data",
          "data": {
            "image/png": "[encoded data removed]",
            "text/plain": [
              "<Figure size 1152x576 with 32 Axes>"
            ]
          },
          "metadata": {
            "needs_background": "light"
          }
        }
      ]
    },
    {
      "cell_type": "markdown",
      "metadata": {
        "id": "R32zteKHCaXT"
      },
      "source": [
        "## Use the trained model\n",
        "\n",
        "Finally, use the trained model to make a prediction about a single image."
      ]
    },
    {
      "cell_type": "code",
      "metadata": {
        "id": "yRJ7JU7JCaXT"
      },
      "source": [
        "# Grab an image from the test dataset.\n",
        "img = test_images[20]\n"
      ],
      "execution_count": null,
      "outputs": []
    },
    {
      "cell_type": "markdown",
      "metadata": {
        "id": "vz3bVp21CaXV"
      },
      "source": [
        "`tf.keras` models are optimized to make predictions on a *batch*, or collection, of examples at once. Accordingly, even though you're using a single image, you need to add it to a list:"
      ]
    },
    {
      "cell_type": "code",
      "metadata": {
        "id": "lDFh5yF_CaXW",
        "colab": {
          "base_uri": "https://localhost:8080/"
        },
        "outputId": "0dc060df-f1e9-4715-9343-d9bbf2ef617d"
      },
      "source": [
        "# Add the image to a batch where it's the only member.\n",
        "#hint: use np.expand_dims\n",
        "#complete code below\n",
        "img = np.expand_dims(img,0)\n",
        "\n",
        "print(img.shape)"
      ],
      "execution_count": null,
      "outputs": [
        {
          "output_type": "stream",
          "name": "stdout",
          "text": [
            "(1, 28, 28)\n"
          ]
        }
      ]
    },
    {
      "cell_type": "markdown",
      "metadata": {
        "id": "EQ5wLTkcCaXY"
      },
      "source": [
        "Now predict the correct label for this image:"
      ]
    },
    {
      "cell_type": "code",
      "metadata": {
        "id": "o_rzNSdrCaXY",
        "colab": {
          "base_uri": "https://localhost:8080/"
        },
        "outputId": "c8a839fd-a8ea-4887-b30d-fc08ddefd35b"
      },
      "source": [
        "#complete code below\n",
        "predictions_single = probability_model.predict(img)\n",
        "\n",
        "print(predictions_single)"
      ],
      "execution_count": null,
      "outputs": [
        {
          "output_type": "stream",
          "name": "stdout",
          "text": [
            "[[5.9113074e-03 1.0856849e-04 9.9029106e-01 8.9678451e-07 2.2066855e-03\n",
            "  2.7209099e-12 1.4176541e-03 4.9674200e-05 1.4107224e-05 7.4933326e-10]]\n"
          ]
        }
      ]
    },
    {
      "cell_type": "markdown",
      "metadata": {
        "id": "cU1Y2OAMCaXb"
      },
      "source": [
        "`tf.keras.Model.predict` returns a list of lists—one list for each image in the batch of data. Grab the predictions for our (only) image in the batch:"
      ]
    },
    {
      "cell_type": "code",
      "metadata": {
        "id": "2tRmdq_8CaXb",
        "colab": {
          "base_uri": "https://localhost:8080/"
        },
        "outputId": "cb969bcc-8ae5-4add-e741-bf8c6ea29cec"
      },
      "source": [
        "#print the predicted class for the image\n",
        "np.argmax(predictions_single[0])"
      ],
      "execution_count": null,
      "outputs": [
        {
          "output_type": "execute_result",
          "data": {
            "text/plain": [
              "2"
            ]
          },
          "metadata": {},
          "execution_count": 31
        }
      ]
    },
    {
      "cell_type": "markdown",
      "metadata": {
        "id": "SO1jIm7Mlwwk"
      },
      "source": [
        "# Regularization\n",
        "In mathematics, statistics, and computer science, particularly in machine learning and inverse problems, regularization is the process of adding information in order to solve an ill-posed problem or to prevent overfitting.\n",
        "\n",
        "In order to improve the performance of the model, we use different regularization techniques. There are several techniques, but we will discuss 4 main techniques.\n",
        "\n",
        "1. L1 Regularization\n",
        "2. L2 Regularization\n",
        "3. Dropout\n",
        "4. Batch Normalization"
      ]
    },
    {
      "cell_type": "code",
      "metadata": {
        "id": "m-t1HDiplwwl"
      },
      "source": [
        "#Basic pre-processing\n",
        "#we're importing the iris dataset from sklearn for our model\n",
        "import tensorflow as tf\n",
        "from tensorflow import keras\n",
        "from sklearn.datasets import load_iris\n",
        "from tensorflow.keras.models import Sequential\n",
        "from tensorflow.keras.utils import to_categorical\n",
        "from tensorflow.keras.layers import Dense\n",
        "from sklearn.preprocessing import StandardScaler\n",
        "from sklearn.model_selection import train_test_split\n",
        "iris = load_iris()\n",
        "X = iris.data\n",
        "y = iris.target\n",
        "y = to_categorical(y) #converting output to one-hot vector\n",
        "ss = StandardScaler() #standardizing the data\n",
        "X = ss.fit_transform(X)\n",
        "X_train, X_test, y_train, y_test = train_test_split(X,y, random_state=16)"
      ],
      "execution_count": null,
      "outputs": []
    },
    {
      "cell_type": "code",
      "metadata": {
        "id": "9epXgzOSlwwm",
        "colab": {
          "base_uri": "https://localhost:8080/",
          "height": 203
        },
        "outputId": "21e60a8c-c2f1-4a72-f54e-37aaf4bd7b04"
      },
      "source": [
        "#explore the data (X and y) however you like, (using info(), describe, graphs, etc.) and write any 4 lines on what you understood about the dataset\n",
        "import pandas as pd\n",
        "import numpy as np\n",
        "import matplotlib.pyplot as plt\n",
        "df = pd.DataFrame(iris.data,columns= iris.feature_names)\n",
        "#Solution can be anything\n",
        "df.head()"
      ],
      "execution_count": null,
      "outputs": [
        {
          "output_type": "execute_result",
          "data": {
            "text/html": [
              "<div>\n",
              "<style scoped>\n",
              "    .dataframe tbody tr th:only-of-type {\n",
              "        vertical-align: middle;\n",
              "    }\n",
              "\n",
              "    .dataframe tbody tr th {\n",
              "        vertical-align: top;\n",
              "    }\n",
              "\n",
              "    .dataframe thead th {\n",
              "        text-align: right;\n",
              "    }\n",
              "</style>\n",
              "<table border=\"1\" class=\"dataframe\">\n",
              "  <thead>\n",
              "    <tr style=\"text-align: right;\">\n",
              "      <th></th>\n",
              "      <th>sepal length (cm)</th>\n",
              "      <th>sepal width (cm)</th>\n",
              "      <th>petal length (cm)</th>\n",
              "      <th>petal width (cm)</th>\n",
              "    </tr>\n",
              "  </thead>\n",
              "  <tbody>\n",
              "    <tr>\n",
              "      <th>0</th>\n",
              "      <td>5.1</td>\n",
              "      <td>3.5</td>\n",
              "      <td>1.4</td>\n",
              "      <td>0.2</td>\n",
              "    </tr>\n",
              "    <tr>\n",
              "      <th>1</th>\n",
              "      <td>4.9</td>\n",
              "      <td>3.0</td>\n",
              "      <td>1.4</td>\n",
              "      <td>0.2</td>\n",
              "    </tr>\n",
              "    <tr>\n",
              "      <th>2</th>\n",
              "      <td>4.7</td>\n",
              "      <td>3.2</td>\n",
              "      <td>1.3</td>\n",
              "      <td>0.2</td>\n",
              "    </tr>\n",
              "    <tr>\n",
              "      <th>3</th>\n",
              "      <td>4.6</td>\n",
              "      <td>3.1</td>\n",
              "      <td>1.5</td>\n",
              "      <td>0.2</td>\n",
              "    </tr>\n",
              "    <tr>\n",
              "      <th>4</th>\n",
              "      <td>5.0</td>\n",
              "      <td>3.6</td>\n",
              "      <td>1.4</td>\n",
              "      <td>0.2</td>\n",
              "    </tr>\n",
              "  </tbody>\n",
              "</table>\n",
              "</div>"
            ],
            "text/plain": [
              "   sepal length (cm)  sepal width (cm)  petal length (cm)  petal width (cm)\n",
              "0                5.1               3.5                1.4               0.2\n",
              "1                4.9               3.0                1.4               0.2\n",
              "2                4.7               3.2                1.3               0.2\n",
              "3                4.6               3.1                1.5               0.2\n",
              "4                5.0               3.6                1.4               0.2"
            ]
          },
          "metadata": {},
          "execution_count": 11
        }
      ]
    },
    {
      "cell_type": "code",
      "metadata": {
        "colab": {
          "base_uri": "https://localhost:8080/"
        },
        "id": "m7cDj1-pjUGp",
        "outputId": "8264ccec-41ac-4450-a1a7-d5414792b10c"
      },
      "source": [
        "df.shape"
      ],
      "execution_count": null,
      "outputs": [
        {
          "output_type": "execute_result",
          "data": {
            "text/plain": [
              "(150, 4)"
            ]
          },
          "metadata": {},
          "execution_count": 12
        }
      ]
    },
    {
      "cell_type": "code",
      "metadata": {
        "colab": {
          "base_uri": "https://localhost:8080/"
        },
        "id": "UDx8KLXQjW-8",
        "outputId": "e308c1dd-403f-4d8b-f0ce-05d458d19a22"
      },
      "source": [
        "df.info()"
      ],
      "execution_count": null,
      "outputs": [
        {
          "output_type": "stream",
          "name": "stdout",
          "text": [
            "<class 'pandas.core.frame.DataFrame'>\n",
            "RangeIndex: 150 entries, 0 to 149\n",
            "Data columns (total 4 columns):\n",
            " #   Column             Non-Null Count  Dtype  \n",
            "---  ------             --------------  -----  \n",
            " 0   sepal length (cm)  150 non-null    float64\n",
            " 1   sepal width (cm)   150 non-null    float64\n",
            " 2   petal length (cm)  150 non-null    float64\n",
            " 3   petal width (cm)   150 non-null    float64\n",
            "dtypes: float64(4)\n",
            "memory usage: 4.8 KB\n"
          ]
        }
      ]
    },
    {
      "cell_type": "code",
      "metadata": {
        "colab": {
          "base_uri": "https://localhost:8080/",
          "height": 295
        },
        "id": "xo4x-c31jaMX",
        "outputId": "2ec107fb-57cf-473b-d1ba-a0ae761fe4ef"
      },
      "source": [
        "df.describe()"
      ],
      "execution_count": null,
      "outputs": [
        {
          "output_type": "execute_result",
          "data": {
            "text/html": [
              "<div>\n",
              "<style scoped>\n",
              "    .dataframe tbody tr th:only-of-type {\n",
              "        vertical-align: middle;\n",
              "    }\n",
              "\n",
              "    .dataframe tbody tr th {\n",
              "        vertical-align: top;\n",
              "    }\n",
              "\n",
              "    .dataframe thead th {\n",
              "        text-align: right;\n",
              "    }\n",
              "</style>\n",
              "<table border=\"1\" class=\"dataframe\">\n",
              "  <thead>\n",
              "    <tr style=\"text-align: right;\">\n",
              "      <th></th>\n",
              "      <th>sepal length (cm)</th>\n",
              "      <th>sepal width (cm)</th>\n",
              "      <th>petal length (cm)</th>\n",
              "      <th>petal width (cm)</th>\n",
              "    </tr>\n",
              "  </thead>\n",
              "  <tbody>\n",
              "    <tr>\n",
              "      <th>count</th>\n",
              "      <td>150.000000</td>\n",
              "      <td>150.000000</td>\n",
              "      <td>150.000000</td>\n",
              "      <td>150.000000</td>\n",
              "    </tr>\n",
              "    <tr>\n",
              "      <th>mean</th>\n",
              "      <td>5.843333</td>\n",
              "      <td>3.057333</td>\n",
              "      <td>3.758000</td>\n",
              "      <td>1.199333</td>\n",
              "    </tr>\n",
              "    <tr>\n",
              "      <th>std</th>\n",
              "      <td>0.828066</td>\n",
              "      <td>0.435866</td>\n",
              "      <td>1.765298</td>\n",
              "      <td>0.762238</td>\n",
              "    </tr>\n",
              "    <tr>\n",
              "      <th>min</th>\n",
              "      <td>4.300000</td>\n",
              "      <td>2.000000</td>\n",
              "      <td>1.000000</td>\n",
              "      <td>0.100000</td>\n",
              "    </tr>\n",
              "    <tr>\n",
              "      <th>25%</th>\n",
              "      <td>5.100000</td>\n",
              "      <td>2.800000</td>\n",
              "      <td>1.600000</td>\n",
              "      <td>0.300000</td>\n",
              "    </tr>\n",
              "    <tr>\n",
              "      <th>50%</th>\n",
              "      <td>5.800000</td>\n",
              "      <td>3.000000</td>\n",
              "      <td>4.350000</td>\n",
              "      <td>1.300000</td>\n",
              "    </tr>\n",
              "    <tr>\n",
              "      <th>75%</th>\n",
              "      <td>6.400000</td>\n",
              "      <td>3.300000</td>\n",
              "      <td>5.100000</td>\n",
              "      <td>1.800000</td>\n",
              "    </tr>\n",
              "    <tr>\n",
              "      <th>max</th>\n",
              "      <td>7.900000</td>\n",
              "      <td>4.400000</td>\n",
              "      <td>6.900000</td>\n",
              "      <td>2.500000</td>\n",
              "    </tr>\n",
              "  </tbody>\n",
              "</table>\n",
              "</div>"
            ],
            "text/plain": [
              "       sepal length (cm)  sepal width (cm)  petal length (cm)  petal width (cm)\n",
              "count         150.000000        150.000000         150.000000        150.000000\n",
              "mean            5.843333          3.057333           3.758000          1.199333\n",
              "std             0.828066          0.435866           1.765298          0.762238\n",
              "min             4.300000          2.000000           1.000000          0.100000\n",
              "25%             5.100000          2.800000           1.600000          0.300000\n",
              "50%             5.800000          3.000000           4.350000          1.300000\n",
              "75%             6.400000          3.300000           5.100000          1.800000\n",
              "max             7.900000          4.400000           6.900000          2.500000"
            ]
          },
          "metadata": {},
          "execution_count": 14
        }
      ]
    },
    {
      "cell_type": "code",
      "metadata": {
        "colab": {
          "base_uri": "https://localhost:8080/",
          "height": 365
        },
        "id": "3IbXkdZZkJgW",
        "outputId": "48bc886a-11a2-45bb-a12b-08ed42342a34"
      },
      "source": [
        "df.hist()"
      ],
      "execution_count": null,
      "outputs": [
        {
          "output_type": "execute_result",
          "data": {
            "text/plain": [
              "array([[<matplotlib.axes._subplots.AxesSubplot object at 0x7f373b8a3550>,\n",
              "        <matplotlib.axes._subplots.AxesSubplot object at 0x7f373b3a86d0>],\n",
              "       [<matplotlib.axes._subplots.AxesSubplot object at 0x7f373b3dcd50>,\n",
              "        <matplotlib.axes._subplots.AxesSubplot object at 0x7f373b39e410>]],\n",
              "      dtype=object)"
            ]
          },
          "metadata": {},
          "execution_count": 17
        },
        {
          "output_type": "display_data",
          "data": {
            "image/png": "[encoded data removed]",
            "text/plain": [
              "<Figure size 432x288 with 4 Axes>"
            ]
          },
          "metadata": {
            "needs_background": "light"
          }
        }
      ]
    },
    {
      "cell_type": "markdown",
      "metadata": {
        "id": "YFc2HbEVCaXd"
      },
      "source": [
        "And the model predicts a label as expected."
      ]
    },
    {
      "cell_type": "code",
      "metadata": {
        "id": "MmMOpteBlwwn",
        "colab": {
          "base_uri": "https://localhost:8080/"
        },
        "outputId": "0086e9d6-422b-456e-c08b-3e0ebe9c77fa"
      },
      "source": [
        "#model building\n",
        "\n",
        "#run the code given below and observe the performance of this simple model having no regularization\n",
        "\n",
        "model1 = Sequential([\n",
        "    Dense(512, activation='tanh', input_shape = X_train[0].shape),\n",
        "    Dense(512//2, activation='tanh'),\n",
        "    Dense(512//4, activation='tanh'),\n",
        "    Dense(512//8, activation='tanh'),\n",
        "    Dense(32, activation='relu'),\n",
        "    Dense(3, activation='softmax')\n",
        "])\n",
        "print(model1.summary())\n",
        "model1.compile(optimizer='sgd',loss='categorical_crossentropy', metrics=['acc', 'mse'])\n",
        "\n",
        "hist1 = model1.fit(X_train, y_train, epochs=150, batch_size=128, validation_data=(X_test,y_test))\n"
      ],
      "execution_count": null,
      "outputs": [
        {
          "output_type": "stream",
          "name": "stdout",
          "text": [
            "Model: \"sequential\"\n",
            "_________________________________________________________________\n",
            "Layer (type)                 Output Shape              Param #   \n",
            "=================================================================\n",
            "dense (Dense)                (None, 512)               2560      \n",
            "_________________________________________________________________\n",
            "dense_1 (Dense)              (None, 256)               131328    \n",
            "_________________________________________________________________\n",
            "dense_2 (Dense)              (None, 128)               32896     \n",
            "_________________________________________________________________\n",
            "dense_3 (Dense)              (None, 64)                8256      \n",
            "_________________________________________________________________\n",
            "dense_4 (Dense)              (None, 32)                2080      \n",
            "_________________________________________________________________\n",
            "dense_5 (Dense)              (None, 3)                 99        \n",
            "=================================================================\n",
            "Total params: 177,219\n",
            "Trainable params: 177,219\n",
            "Non-trainable params: 0\n",
            "_________________________________________________________________\n",
            "None\n",
            "Epoch 1/150\n",
            "1/1 [==============================] - 1s 1s/step - loss: 1.1007 - acc: 0.1964 - mse: 0.2228 - val_loss: 1.0287 - val_acc: 0.7105 - val_mse: 0.2062\n",
            "Epoch 2/150\n",
            "1/1 [==============================] - 0s 29ms/step - loss: 1.0352 - acc: 0.6875 - mse: 0.2078 - val_loss: 0.9711 - val_acc: 0.7368 - val_mse: 0.1924\n",
            "Epoch 3/150\n",
            "1/1 [==============================] - 0s 31ms/step - loss: 0.9739 - acc: 0.8036 - mse: 0.1933 - val_loss: 0.9240 - val_acc: 0.7632 - val_mse: 0.1810\n",
            "Epoch 4/150\n",
            "1/1 [==============================] - 0s 26ms/step - loss: 0.9229 - acc: 0.8036 - mse: 0.1809 - val_loss: 0.8844 - val_acc: 0.7632 - val_mse: 0.1714\n",
            "Epoch 5/150\n",
            "1/1 [==============================] - 0s 31ms/step - loss: 0.8793 - acc: 0.8482 - mse: 0.1703 - val_loss: 0.8506 - val_acc: 0.7632 - val_mse: 0.1633\n",
            "Epoch 6/150\n",
            "1/1 [==============================] - 0s 27ms/step - loss: 0.8415 - acc: 0.8482 - mse: 0.1613 - val_loss: 0.8222 - val_acc: 0.7105 - val_mse: 0.1567\n",
            "Epoch 7/150\n",
            "1/1 [==============================] - 0s 27ms/step - loss: 0.8087 - acc: 0.8482 - mse: 0.1535 - val_loss: 0.7976 - val_acc: 0.7105 - val_mse: 0.1511\n",
            "Epoch 8/150\n",
            "1/1 [==============================] - 0s 29ms/step - loss: 0.7808 - acc: 0.8482 - mse: 0.1471 - val_loss: 0.7763 - val_acc: 0.7105 - val_mse: 0.1464\n",
            "Epoch 9/150\n",
            "1/1 [==============================] - 0s 27ms/step - loss: 0.7563 - acc: 0.8482 - mse: 0.1415 - val_loss: 0.7573 - val_acc: 0.7105 - val_mse: 0.1423\n",
            "Epoch 10/150\n",
            "1/1 [==============================] - 0s 28ms/step - loss: 0.7342 - acc: 0.8482 - mse: 0.1366 - val_loss: 0.7402 - val_acc: 0.7105 - val_mse: 0.1388\n",
            "Epoch 11/150\n",
            "1/1 [==============================] - 0s 28ms/step - loss: 0.7143 - acc: 0.8482 - mse: 0.1322 - val_loss: 0.7248 - val_acc: 0.7105 - val_mse: 0.1356\n",
            "Epoch 12/150\n",
            "1/1 [==============================] - 0s 36ms/step - loss: 0.6963 - acc: 0.8482 - mse: 0.1284 - val_loss: 0.7107 - val_acc: 0.7105 - val_mse: 0.1329\n",
            "Epoch 13/150\n",
            "1/1 [==============================] - 0s 31ms/step - loss: 0.6798 - acc: 0.8482 - mse: 0.1249 - val_loss: 0.6976 - val_acc: 0.7105 - val_mse: 0.1303\n",
            "Epoch 14/150\n",
            "1/1 [==============================] - 0s 38ms/step - loss: 0.6644 - acc: 0.8482 - mse: 0.1217 - val_loss: 0.6856 - val_acc: 0.7105 - val_mse: 0.1281\n",
            "Epoch 15/150\n",
            "1/1 [==============================] - 0s 29ms/step - loss: 0.6503 - acc: 0.8482 - mse: 0.1188 - val_loss: 0.6747 - val_acc: 0.7105 - val_mse: 0.1261\n",
            "Epoch 16/150\n",
            "1/1 [==============================] - 0s 29ms/step - loss: 0.6373 - acc: 0.8482 - mse: 0.1162 - val_loss: 0.6647 - val_acc: 0.7105 - val_mse: 0.1244\n",
            "Epoch 17/150\n",
            "1/1 [==============================] - 0s 27ms/step - loss: 0.6252 - acc: 0.8482 - mse: 0.1138 - val_loss: 0.6555 - val_acc: 0.7105 - val_mse: 0.1228\n",
            "Epoch 18/150\n",
            "1/1 [==============================] - 0s 32ms/step - loss: 0.6140 - acc: 0.8482 - mse: 0.1116 - val_loss: 0.6470 - val_acc: 0.7368 - val_mse: 0.1214\n",
            "Epoch 19/150\n",
            "1/1 [==============================] - 0s 33ms/step - loss: 0.6035 - acc: 0.8482 - mse: 0.1096 - val_loss: 0.6390 - val_acc: 0.7368 - val_mse: 0.1201\n",
            "Epoch 20/150\n",
            "1/1 [==============================] - 0s 34ms/step - loss: 0.5937 - acc: 0.8482 - mse: 0.1078 - val_loss: 0.6316 - val_acc: 0.7368 - val_mse: 0.1189\n",
            "Epoch 21/150\n",
            "1/1 [==============================] - 0s 30ms/step - loss: 0.5845 - acc: 0.8482 - mse: 0.1060 - val_loss: 0.6247 - val_acc: 0.7368 - val_mse: 0.1178\n",
            "Epoch 22/150\n",
            "1/1 [==============================] - 0s 30ms/step - loss: 0.5758 - acc: 0.8482 - mse: 0.1044 - val_loss: 0.6182 - val_acc: 0.7368 - val_mse: 0.1169\n",
            "Epoch 23/150\n",
            "1/1 [==============================] - 0s 28ms/step - loss: 0.5676 - acc: 0.8482 - mse: 0.1029 - val_loss: 0.6122 - val_acc: 0.7368 - val_mse: 0.1160\n",
            "Epoch 24/150\n",
            "1/1 [==============================] - 0s 30ms/step - loss: 0.5598 - acc: 0.8482 - mse: 0.1014 - val_loss: 0.6064 - val_acc: 0.7368 - val_mse: 0.1152\n",
            "Epoch 25/150\n",
            "1/1 [==============================] - 0s 30ms/step - loss: 0.5523 - acc: 0.8482 - mse: 0.1001 - val_loss: 0.6010 - val_acc: 0.7368 - val_mse: 0.1144\n",
            "Epoch 26/150\n",
            "1/1 [==============================] - 0s 32ms/step - loss: 0.5451 - acc: 0.8482 - mse: 0.0988 - val_loss: 0.5959 - val_acc: 0.7368 - val_mse: 0.1137\n",
            "Epoch 27/150\n",
            "1/1 [==============================] - 0s 28ms/step - loss: 0.5383 - acc: 0.8482 - mse: 0.0976 - val_loss: 0.5909 - val_acc: 0.7368 - val_mse: 0.1130\n",
            "Epoch 28/150\n",
            "1/1 [==============================] - 0s 27ms/step - loss: 0.5318 - acc: 0.8482 - mse: 0.0964 - val_loss: 0.5862 - val_acc: 0.7368 - val_mse: 0.1124\n",
            "Epoch 29/150\n",
            "1/1 [==============================] - 0s 30ms/step - loss: 0.5256 - acc: 0.8482 - mse: 0.0953 - val_loss: 0.5817 - val_acc: 0.7368 - val_mse: 0.1118\n",
            "Epoch 30/150\n",
            "1/1 [==============================] - 0s 30ms/step - loss: 0.5195 - acc: 0.8482 - mse: 0.0942 - val_loss: 0.5774 - val_acc: 0.7368 - val_mse: 0.1113\n",
            "Epoch 31/150\n",
            "1/1 [==============================] - 0s 32ms/step - loss: 0.5138 - acc: 0.8482 - mse: 0.0932 - val_loss: 0.5733 - val_acc: 0.7368 - val_mse: 0.1107\n",
            "Epoch 32/150\n",
            "1/1 [==============================] - 0s 27ms/step - loss: 0.5082 - acc: 0.8482 - mse: 0.0923 - val_loss: 0.5694 - val_acc: 0.7368 - val_mse: 0.1103\n",
            "Epoch 33/150\n",
            "1/1 [==============================] - 0s 27ms/step - loss: 0.5029 - acc: 0.8482 - mse: 0.0913 - val_loss: 0.5656 - val_acc: 0.7368 - val_mse: 0.1098\n",
            "Epoch 34/150\n",
            "1/1 [==============================] - 0s 32ms/step - loss: 0.4978 - acc: 0.8482 - mse: 0.0904 - val_loss: 0.5620 - val_acc: 0.7368 - val_mse: 0.1094\n",
            "Epoch 35/150\n",
            "1/1 [==============================] - 0s 28ms/step - loss: 0.4929 - acc: 0.8482 - mse: 0.0896 - val_loss: 0.5585 - val_acc: 0.7368 - val_mse: 0.1090\n",
            "Epoch 36/150\n",
            "1/1 [==============================] - 0s 34ms/step - loss: 0.4882 - acc: 0.8482 - mse: 0.0888 - val_loss: 0.5551 - val_acc: 0.7368 - val_mse: 0.1086\n",
            "Epoch 37/150\n",
            "1/1 [==============================] - 0s 30ms/step - loss: 0.4837 - acc: 0.8482 - mse: 0.0880 - val_loss: 0.5519 - val_acc: 0.7368 - val_mse: 0.1082\n",
            "Epoch 38/150\n",
            "1/1 [==============================] - 0s 33ms/step - loss: 0.4793 - acc: 0.8482 - mse: 0.0873 - val_loss: 0.5488 - val_acc: 0.7368 - val_mse: 0.1078\n",
            "Epoch 39/150\n",
            "1/1 [==============================] - 0s 31ms/step - loss: 0.4751 - acc: 0.8482 - mse: 0.0866 - val_loss: 0.5459 - val_acc: 0.7368 - val_mse: 0.1075\n",
            "Epoch 40/150\n",
            "1/1 [==============================] - 0s 34ms/step - loss: 0.4710 - acc: 0.8482 - mse: 0.0859 - val_loss: 0.5430 - val_acc: 0.7368 - val_mse: 0.1072\n",
            "Epoch 41/150\n",
            "1/1 [==============================] - 0s 30ms/step - loss: 0.4670 - acc: 0.8482 - mse: 0.0852 - val_loss: 0.5402 - val_acc: 0.7368 - val_mse: 0.1069\n",
            "Epoch 42/150\n",
            "1/1 [==============================] - 0s 29ms/step - loss: 0.4631 - acc: 0.8482 - mse: 0.0845 - val_loss: 0.5375 - val_acc: 0.7368 - val_mse: 0.1066\n",
            "Epoch 43/150\n",
            "1/1 [==============================] - 0s 29ms/step - loss: 0.4594 - acc: 0.8482 - mse: 0.0839 - val_loss: 0.5348 - val_acc: 0.7368 - val_mse: 0.1063\n",
            "Epoch 44/150\n",
            "1/1 [==============================] - 0s 33ms/step - loss: 0.4557 - acc: 0.8482 - mse: 0.0833 - val_loss: 0.5322 - val_acc: 0.7368 - val_mse: 0.1060\n",
            "Epoch 45/150\n",
            "1/1 [==============================] - 0s 30ms/step - loss: 0.4522 - acc: 0.8482 - mse: 0.0827 - val_loss: 0.5297 - val_acc: 0.7368 - val_mse: 0.1058\n",
            "Epoch 46/150\n",
            "1/1 [==============================] - 0s 29ms/step - loss: 0.4487 - acc: 0.8482 - mse: 0.0821 - val_loss: 0.5273 - val_acc: 0.7368 - val_mse: 0.1055\n",
            "Epoch 47/150\n",
            "1/1 [==============================] - 0s 49ms/step - loss: 0.4453 - acc: 0.8482 - mse: 0.0816 - val_loss: 0.5249 - val_acc: 0.7368 - val_mse: 0.1052\n",
            "Epoch 48/150\n",
            "1/1 [==============================] - 0s 32ms/step - loss: 0.4420 - acc: 0.8482 - mse: 0.0810 - val_loss: 0.5225 - val_acc: 0.7368 - val_mse: 0.1050\n",
            "Epoch 49/150\n",
            "1/1 [==============================] - 0s 34ms/step - loss: 0.4387 - acc: 0.8482 - mse: 0.0804 - val_loss: 0.5203 - val_acc: 0.7368 - val_mse: 0.1047\n",
            "Epoch 50/150\n",
            "1/1 [==============================] - 0s 35ms/step - loss: 0.4355 - acc: 0.8482 - mse: 0.0799 - val_loss: 0.5180 - val_acc: 0.7368 - val_mse: 0.1045\n",
            "Epoch 51/150\n",
            "1/1 [==============================] - 0s 30ms/step - loss: 0.4323 - acc: 0.8482 - mse: 0.0793 - val_loss: 0.5158 - val_acc: 0.7368 - val_mse: 0.1043\n",
            "Epoch 52/150\n",
            "1/1 [==============================] - 0s 34ms/step - loss: 0.4291 - acc: 0.8482 - mse: 0.0788 - val_loss: 0.5138 - val_acc: 0.7368 - val_mse: 0.1041\n",
            "Epoch 53/150\n",
            "1/1 [==============================] - 0s 34ms/step - loss: 0.4260 - acc: 0.8482 - mse: 0.0782 - val_loss: 0.5117 - val_acc: 0.7368 - val_mse: 0.1038\n",
            "Epoch 54/150\n",
            "1/1 [==============================] - 0s 33ms/step - loss: 0.4230 - acc: 0.8482 - mse: 0.0777 - val_loss: 0.5098 - val_acc: 0.7368 - val_mse: 0.1036\n",
            "Epoch 55/150\n",
            "1/1 [==============================] - 0s 30ms/step - loss: 0.4200 - acc: 0.8482 - mse: 0.0772 - val_loss: 0.5078 - val_acc: 0.7368 - val_mse: 0.1034\n",
            "Epoch 56/150\n",
            "1/1 [==============================] - 0s 34ms/step - loss: 0.4170 - acc: 0.8482 - mse: 0.0767 - val_loss: 0.5059 - val_acc: 0.7368 - val_mse: 0.1032\n",
            "Epoch 57/150\n",
            "1/1 [==============================] - 0s 33ms/step - loss: 0.4142 - acc: 0.8482 - mse: 0.0762 - val_loss: 0.5041 - val_acc: 0.7368 - val_mse: 0.1031\n",
            "Epoch 58/150\n",
            "1/1 [==============================] - 0s 36ms/step - loss: 0.4114 - acc: 0.8482 - mse: 0.0757 - val_loss: 0.5023 - val_acc: 0.7368 - val_mse: 0.1029\n",
            "Epoch 59/150\n",
            "1/1 [==============================] - 0s 37ms/step - loss: 0.4087 - acc: 0.8482 - mse: 0.0752 - val_loss: 0.5005 - val_acc: 0.7368 - val_mse: 0.1026\n",
            "Epoch 60/150\n",
            "1/1 [==============================] - 0s 35ms/step - loss: 0.4061 - acc: 0.8482 - mse: 0.0747 - val_loss: 0.4987 - val_acc: 0.7632 - val_mse: 0.1024\n",
            "Epoch 61/150\n",
            "1/1 [==============================] - 0s 28ms/step - loss: 0.4035 - acc: 0.8482 - mse: 0.0743 - val_loss: 0.4969 - val_acc: 0.7632 - val_mse: 0.1022\n",
            "Epoch 62/150\n",
            "1/1 [==============================] - 0s 35ms/step - loss: 0.4010 - acc: 0.8482 - mse: 0.0738 - val_loss: 0.4952 - val_acc: 0.7632 - val_mse: 0.1020\n",
            "Epoch 63/150\n",
            "1/1 [==============================] - 0s 38ms/step - loss: 0.3985 - acc: 0.8482 - mse: 0.0734 - val_loss: 0.4934 - val_acc: 0.7632 - val_mse: 0.1018\n",
            "Epoch 64/150\n",
            "1/1 [==============================] - 0s 33ms/step - loss: 0.3960 - acc: 0.8482 - mse: 0.0730 - val_loss: 0.4917 - val_acc: 0.7632 - val_mse: 0.1016\n",
            "Epoch 65/150\n",
            "1/1 [==============================] - 0s 34ms/step - loss: 0.3936 - acc: 0.8482 - mse: 0.0725 - val_loss: 0.4900 - val_acc: 0.7368 - val_mse: 0.1014\n",
            "Epoch 66/150\n",
            "1/1 [==============================] - 0s 28ms/step - loss: 0.3913 - acc: 0.8482 - mse: 0.0721 - val_loss: 0.4884 - val_acc: 0.7368 - val_mse: 0.1012\n",
            "Epoch 67/150\n",
            "1/1 [==============================] - 0s 35ms/step - loss: 0.3890 - acc: 0.8482 - mse: 0.0717 - val_loss: 0.4868 - val_acc: 0.7368 - val_mse: 0.1010\n",
            "Epoch 68/150\n",
            "1/1 [==============================] - 0s 30ms/step - loss: 0.3867 - acc: 0.8482 - mse: 0.0713 - val_loss: 0.4851 - val_acc: 0.7368 - val_mse: 0.1007\n",
            "Epoch 69/150\n",
            "1/1 [==============================] - 0s 42ms/step - loss: 0.3845 - acc: 0.8482 - mse: 0.0709 - val_loss: 0.4835 - val_acc: 0.7368 - val_mse: 0.1005\n",
            "Epoch 70/150\n",
            "1/1 [==============================] - 0s 30ms/step - loss: 0.3823 - acc: 0.8482 - mse: 0.0705 - val_loss: 0.4819 - val_acc: 0.7368 - val_mse: 0.1003\n",
            "Epoch 71/150\n",
            "1/1 [==============================] - 0s 36ms/step - loss: 0.3801 - acc: 0.8482 - mse: 0.0701 - val_loss: 0.4803 - val_acc: 0.7368 - val_mse: 0.1001\n",
            "Epoch 72/150\n",
            "1/1 [==============================] - 0s 36ms/step - loss: 0.3780 - acc: 0.8661 - mse: 0.0697 - val_loss: 0.4788 - val_acc: 0.7368 - val_mse: 0.0999\n",
            "Epoch 73/150\n",
            "1/1 [==============================] - 0s 34ms/step - loss: 0.3759 - acc: 0.8661 - mse: 0.0693 - val_loss: 0.4772 - val_acc: 0.7368 - val_mse: 0.0997\n",
            "Epoch 74/150\n",
            "1/1 [==============================] - 0s 27ms/step - loss: 0.3738 - acc: 0.8750 - mse: 0.0689 - val_loss: 0.4757 - val_acc: 0.7368 - val_mse: 0.0995\n",
            "Epoch 75/150\n",
            "1/1 [==============================] - 0s 29ms/step - loss: 0.3717 - acc: 0.8750 - mse: 0.0685 - val_loss: 0.4742 - val_acc: 0.7368 - val_mse: 0.0993\n",
            "Epoch 76/150\n",
            "1/1 [==============================] - 0s 31ms/step - loss: 0.3697 - acc: 0.8750 - mse: 0.0682 - val_loss: 0.4726 - val_acc: 0.7368 - val_mse: 0.0990\n",
            "Epoch 77/150\n",
            "1/1 [==============================] - 0s 33ms/step - loss: 0.3677 - acc: 0.8750 - mse: 0.0678 - val_loss: 0.4711 - val_acc: 0.7368 - val_mse: 0.0988\n",
            "Epoch 78/150\n",
            "1/1 [==============================] - 0s 33ms/step - loss: 0.3657 - acc: 0.8750 - mse: 0.0674 - val_loss: 0.4696 - val_acc: 0.7368 - val_mse: 0.0986\n",
            "Epoch 79/150\n",
            "1/1 [==============================] - 0s 35ms/step - loss: 0.3637 - acc: 0.8750 - mse: 0.0670 - val_loss: 0.4681 - val_acc: 0.7368 - val_mse: 0.0983\n",
            "Epoch 80/150\n",
            "1/1 [==============================] - 0s 35ms/step - loss: 0.3617 - acc: 0.8750 - mse: 0.0666 - val_loss: 0.4666 - val_acc: 0.7368 - val_mse: 0.0981\n",
            "Epoch 81/150\n",
            "1/1 [==============================] - 0s 34ms/step - loss: 0.3597 - acc: 0.8750 - mse: 0.0663 - val_loss: 0.4652 - val_acc: 0.7368 - val_mse: 0.0979\n",
            "Epoch 82/150\n",
            "1/1 [==============================] - 0s 36ms/step - loss: 0.3578 - acc: 0.8750 - mse: 0.0659 - val_loss: 0.4638 - val_acc: 0.7368 - val_mse: 0.0977\n",
            "Epoch 83/150\n",
            "1/1 [==============================] - 0s 41ms/step - loss: 0.3560 - acc: 0.8750 - mse: 0.0656 - val_loss: 0.4624 - val_acc: 0.7368 - val_mse: 0.0975\n",
            "Epoch 84/150\n",
            "1/1 [==============================] - 0s 34ms/step - loss: 0.3541 - acc: 0.8750 - mse: 0.0652 - val_loss: 0.4610 - val_acc: 0.7368 - val_mse: 0.0973\n",
            "Epoch 85/150\n",
            "1/1 [==============================] - 0s 38ms/step - loss: 0.3523 - acc: 0.8750 - mse: 0.0648 - val_loss: 0.4597 - val_acc: 0.7632 - val_mse: 0.0971\n",
            "Epoch 86/150\n",
            "1/1 [==============================] - 0s 32ms/step - loss: 0.3505 - acc: 0.8750 - mse: 0.0645 - val_loss: 0.4584 - val_acc: 0.7632 - val_mse: 0.0968\n",
            "Epoch 87/150\n",
            "1/1 [==============================] - 0s 40ms/step - loss: 0.3487 - acc: 0.8750 - mse: 0.0641 - val_loss: 0.4571 - val_acc: 0.7632 - val_mse: 0.0967\n",
            "Epoch 88/150\n",
            "1/1 [==============================] - 0s 29ms/step - loss: 0.3470 - acc: 0.8750 - mse: 0.0638 - val_loss: 0.4558 - val_acc: 0.7632 - val_mse: 0.0965\n",
            "Epoch 89/150\n",
            "1/1 [==============================] - 0s 33ms/step - loss: 0.3453 - acc: 0.8750 - mse: 0.0635 - val_loss: 0.4545 - val_acc: 0.7632 - val_mse: 0.0963\n",
            "Epoch 90/150\n",
            "1/1 [==============================] - 0s 33ms/step - loss: 0.3435 - acc: 0.8750 - mse: 0.0631 - val_loss: 0.4532 - val_acc: 0.7632 - val_mse: 0.0960\n",
            "Epoch 91/150\n",
            "1/1 [==============================] - 0s 34ms/step - loss: 0.3418 - acc: 0.8750 - mse: 0.0628 - val_loss: 0.4520 - val_acc: 0.7632 - val_mse: 0.0958\n",
            "Epoch 92/150\n",
            "1/1 [==============================] - 0s 34ms/step - loss: 0.3401 - acc: 0.8750 - mse: 0.0625 - val_loss: 0.4507 - val_acc: 0.7632 - val_mse: 0.0956\n",
            "Epoch 93/150\n",
            "1/1 [==============================] - 0s 36ms/step - loss: 0.3385 - acc: 0.8750 - mse: 0.0621 - val_loss: 0.4494 - val_acc: 0.7632 - val_mse: 0.0954\n",
            "Epoch 94/150\n",
            "1/1 [==============================] - 0s 42ms/step - loss: 0.3368 - acc: 0.8750 - mse: 0.0618 - val_loss: 0.4482 - val_acc: 0.7632 - val_mse: 0.0952\n",
            "Epoch 95/150\n",
            "1/1 [==============================] - 0s 29ms/step - loss: 0.3352 - acc: 0.8750 - mse: 0.0615 - val_loss: 0.4470 - val_acc: 0.7632 - val_mse: 0.0950\n",
            "Epoch 96/150\n",
            "1/1 [==============================] - 0s 36ms/step - loss: 0.3335 - acc: 0.8750 - mse: 0.0612 - val_loss: 0.4457 - val_acc: 0.7632 - val_mse: 0.0948\n",
            "Epoch 97/150\n",
            "1/1 [==============================] - 0s 27ms/step - loss: 0.3319 - acc: 0.8750 - mse: 0.0608 - val_loss: 0.4445 - val_acc: 0.7632 - val_mse: 0.0946\n",
            "Epoch 98/150\n",
            "1/1 [==============================] - 0s 39ms/step - loss: 0.3303 - acc: 0.8750 - mse: 0.0605 - val_loss: 0.4433 - val_acc: 0.7632 - val_mse: 0.0944\n",
            "Epoch 99/150\n",
            "1/1 [==============================] - 0s 33ms/step - loss: 0.3288 - acc: 0.8750 - mse: 0.0602 - val_loss: 0.4421 - val_acc: 0.7632 - val_mse: 0.0942\n",
            "Epoch 100/150\n",
            "1/1 [==============================] - 0s 37ms/step - loss: 0.3272 - acc: 0.8750 - mse: 0.0599 - val_loss: 0.4409 - val_acc: 0.7632 - val_mse: 0.0940\n",
            "Epoch 101/150\n",
            "1/1 [==============================] - 0s 32ms/step - loss: 0.3256 - acc: 0.8750 - mse: 0.0596 - val_loss: 0.4398 - val_acc: 0.7632 - val_mse: 0.0938\n",
            "Epoch 102/150\n",
            "1/1 [==============================] - 0s 37ms/step - loss: 0.3241 - acc: 0.8750 - mse: 0.0593 - val_loss: 0.4386 - val_acc: 0.7632 - val_mse: 0.0936\n",
            "Epoch 103/150\n",
            "1/1 [==============================] - 0s 35ms/step - loss: 0.3226 - acc: 0.8750 - mse: 0.0590 - val_loss: 0.4375 - val_acc: 0.7632 - val_mse: 0.0934\n",
            "Epoch 104/150\n",
            "1/1 [==============================] - 0s 35ms/step - loss: 0.3211 - acc: 0.8750 - mse: 0.0587 - val_loss: 0.4364 - val_acc: 0.7632 - val_mse: 0.0932\n",
            "Epoch 105/150\n",
            "1/1 [==============================] - 0s 32ms/step - loss: 0.3196 - acc: 0.8750 - mse: 0.0584 - val_loss: 0.4353 - val_acc: 0.7632 - val_mse: 0.0931\n",
            "Epoch 106/150\n",
            "1/1 [==============================] - 0s 33ms/step - loss: 0.3182 - acc: 0.8750 - mse: 0.0581 - val_loss: 0.4342 - val_acc: 0.7632 - val_mse: 0.0929\n",
            "Epoch 107/150\n",
            "1/1 [==============================] - 0s 33ms/step - loss: 0.3167 - acc: 0.8750 - mse: 0.0578 - val_loss: 0.4332 - val_acc: 0.7632 - val_mse: 0.0927\n",
            "Epoch 108/150\n",
            "1/1 [==============================] - 0s 35ms/step - loss: 0.3153 - acc: 0.8839 - mse: 0.0575 - val_loss: 0.4321 - val_acc: 0.7632 - val_mse: 0.0925\n",
            "Epoch 109/150\n",
            "1/1 [==============================] - 0s 37ms/step - loss: 0.3139 - acc: 0.8839 - mse: 0.0572 - val_loss: 0.4311 - val_acc: 0.7632 - val_mse: 0.0923\n",
            "Epoch 110/150\n",
            "1/1 [==============================] - 0s 37ms/step - loss: 0.3125 - acc: 0.8839 - mse: 0.0570 - val_loss: 0.4300 - val_acc: 0.7632 - val_mse: 0.0922\n",
            "Epoch 111/150\n",
            "1/1 [==============================] - 0s 41ms/step - loss: 0.3111 - acc: 0.8929 - mse: 0.0567 - val_loss: 0.4289 - val_acc: 0.7632 - val_mse: 0.0920\n",
            "Epoch 112/150\n",
            "1/1 [==============================] - 0s 36ms/step - loss: 0.3097 - acc: 0.8929 - mse: 0.0564 - val_loss: 0.4279 - val_acc: 0.7632 - val_mse: 0.0918\n",
            "Epoch 113/150\n",
            "1/1 [==============================] - 0s 34ms/step - loss: 0.3083 - acc: 0.8929 - mse: 0.0561 - val_loss: 0.4268 - val_acc: 0.7632 - val_mse: 0.0916\n",
            "Epoch 114/150\n",
            "1/1 [==============================] - 0s 36ms/step - loss: 0.3069 - acc: 0.8929 - mse: 0.0558 - val_loss: 0.4258 - val_acc: 0.7632 - val_mse: 0.0914\n",
            "Epoch 115/150\n",
            "1/1 [==============================] - 0s 41ms/step - loss: 0.3055 - acc: 0.8929 - mse: 0.0556 - val_loss: 0.4248 - val_acc: 0.7632 - val_mse: 0.0912\n",
            "Epoch 116/150\n",
            "1/1 [==============================] - 0s 29ms/step - loss: 0.3041 - acc: 0.8929 - mse: 0.0553 - val_loss: 0.4238 - val_acc: 0.7632 - val_mse: 0.0910\n",
            "Epoch 117/150\n",
            "1/1 [==============================] - 0s 37ms/step - loss: 0.3027 - acc: 0.8929 - mse: 0.0550 - val_loss: 0.4228 - val_acc: 0.7632 - val_mse: 0.0909\n",
            "Epoch 118/150\n",
            "1/1 [==============================] - 0s 36ms/step - loss: 0.3013 - acc: 0.8929 - mse: 0.0547 - val_loss: 0.4218 - val_acc: 0.7632 - val_mse: 0.0907\n",
            "Epoch 119/150\n",
            "1/1 [==============================] - 0s 44ms/step - loss: 0.2999 - acc: 0.8929 - mse: 0.0544 - val_loss: 0.4208 - val_acc: 0.7632 - val_mse: 0.0905\n",
            "Epoch 120/150\n",
            "1/1 [==============================] - 0s 33ms/step - loss: 0.2985 - acc: 0.8929 - mse: 0.0541 - val_loss: 0.4199 - val_acc: 0.7632 - val_mse: 0.0903\n",
            "Epoch 121/150\n",
            "1/1 [==============================] - 0s 32ms/step - loss: 0.2971 - acc: 0.8929 - mse: 0.0538 - val_loss: 0.4190 - val_acc: 0.7632 - val_mse: 0.0902\n",
            "Epoch 122/150\n",
            "1/1 [==============================] - 0s 33ms/step - loss: 0.2958 - acc: 0.8929 - mse: 0.0535 - val_loss: 0.4180 - val_acc: 0.7632 - val_mse: 0.0900\n",
            "Epoch 123/150\n",
            "1/1 [==============================] - 0s 32ms/step - loss: 0.2945 - acc: 0.8929 - mse: 0.0533 - val_loss: 0.4171 - val_acc: 0.7632 - val_mse: 0.0898\n",
            "Epoch 124/150\n",
            "1/1 [==============================] - 0s 34ms/step - loss: 0.2932 - acc: 0.8929 - mse: 0.0530 - val_loss: 0.4162 - val_acc: 0.7632 - val_mse: 0.0897\n",
            "Epoch 125/150\n",
            "1/1 [==============================] - 0s 31ms/step - loss: 0.2919 - acc: 0.8929 - mse: 0.0527 - val_loss: 0.4153 - val_acc: 0.7632 - val_mse: 0.0895\n",
            "Epoch 126/150\n",
            "1/1 [==============================] - 0s 32ms/step - loss: 0.2906 - acc: 0.8929 - mse: 0.0525 - val_loss: 0.4144 - val_acc: 0.7632 - val_mse: 0.0894\n",
            "Epoch 127/150\n",
            "1/1 [==============================] - 0s 37ms/step - loss: 0.2893 - acc: 0.8929 - mse: 0.0522 - val_loss: 0.4134 - val_acc: 0.7632 - val_mse: 0.0892\n",
            "Epoch 128/150\n",
            "1/1 [==============================] - 0s 37ms/step - loss: 0.2881 - acc: 0.8929 - mse: 0.0520 - val_loss: 0.4125 - val_acc: 0.7632 - val_mse: 0.0890\n",
            "Epoch 129/150\n",
            "1/1 [==============================] - 0s 35ms/step - loss: 0.2869 - acc: 0.8929 - mse: 0.0517 - val_loss: 0.4116 - val_acc: 0.7632 - val_mse: 0.0889\n",
            "Epoch 130/150\n",
            "1/1 [==============================] - 0s 34ms/step - loss: 0.2856 - acc: 0.8929 - mse: 0.0515 - val_loss: 0.4107 - val_acc: 0.7632 - val_mse: 0.0887\n",
            "Epoch 131/150\n",
            "1/1 [==============================] - 0s 31ms/step - loss: 0.2844 - acc: 0.8929 - mse: 0.0512 - val_loss: 0.4098 - val_acc: 0.7632 - val_mse: 0.0885\n",
            "Epoch 132/150\n",
            "1/1 [==============================] - 0s 54ms/step - loss: 0.2832 - acc: 0.8929 - mse: 0.0510 - val_loss: 0.4089 - val_acc: 0.7632 - val_mse: 0.0884\n",
            "Epoch 133/150\n",
            "1/1 [==============================] - 0s 40ms/step - loss: 0.2820 - acc: 0.8929 - mse: 0.0507 - val_loss: 0.4080 - val_acc: 0.7632 - val_mse: 0.0882\n",
            "Epoch 134/150\n",
            "1/1 [==============================] - 0s 36ms/step - loss: 0.2808 - acc: 0.8929 - mse: 0.0505 - val_loss: 0.4071 - val_acc: 0.7632 - val_mse: 0.0881\n",
            "Epoch 135/150\n",
            "1/1 [==============================] - 0s 35ms/step - loss: 0.2797 - acc: 0.9018 - mse: 0.0503 - val_loss: 0.4063 - val_acc: 0.7632 - val_mse: 0.0879\n",
            "Epoch 136/150\n",
            "1/1 [==============================] - 0s 31ms/step - loss: 0.2785 - acc: 0.9018 - mse: 0.0500 - val_loss: 0.4054 - val_acc: 0.7632 - val_mse: 0.0877\n",
            "Epoch 137/150\n",
            "1/1 [==============================] - 0s 32ms/step - loss: 0.2773 - acc: 0.9018 - mse: 0.0498 - val_loss: 0.4045 - val_acc: 0.7632 - val_mse: 0.0876\n",
            "Epoch 138/150\n",
            "1/1 [==============================] - 0s 34ms/step - loss: 0.2761 - acc: 0.9107 - mse: 0.0496 - val_loss: 0.4036 - val_acc: 0.7632 - val_mse: 0.0874\n",
            "Epoch 139/150\n",
            "1/1 [==============================] - 0s 38ms/step - loss: 0.2750 - acc: 0.9107 - mse: 0.0493 - val_loss: 0.4028 - val_acc: 0.7632 - val_mse: 0.0872\n",
            "Epoch 140/150\n",
            "1/1 [==============================] - 0s 56ms/step - loss: 0.2738 - acc: 0.9107 - mse: 0.0491 - val_loss: 0.4019 - val_acc: 0.7895 - val_mse: 0.0871\n",
            "Epoch 141/150\n",
            "1/1 [==============================] - 0s 37ms/step - loss: 0.2726 - acc: 0.9107 - mse: 0.0488 - val_loss: 0.4011 - val_acc: 0.7895 - val_mse: 0.0869\n",
            "Epoch 142/150\n",
            "1/1 [==============================] - 0s 36ms/step - loss: 0.2714 - acc: 0.9107 - mse: 0.0486 - val_loss: 0.4002 - val_acc: 0.7895 - val_mse: 0.0868\n",
            "Epoch 143/150\n",
            "1/1 [==============================] - 0s 41ms/step - loss: 0.2703 - acc: 0.9107 - mse: 0.0484 - val_loss: 0.3994 - val_acc: 0.7895 - val_mse: 0.0866\n",
            "Epoch 144/150\n",
            "1/1 [==============================] - 0s 43ms/step - loss: 0.2691 - acc: 0.9107 - mse: 0.0481 - val_loss: 0.3985 - val_acc: 0.7895 - val_mse: 0.0865\n",
            "Epoch 145/150\n",
            "1/1 [==============================] - 0s 33ms/step - loss: 0.2680 - acc: 0.9107 - mse: 0.0479 - val_loss: 0.3977 - val_acc: 0.7895 - val_mse: 0.0863\n",
            "Epoch 146/150\n",
            "1/1 [==============================] - 0s 37ms/step - loss: 0.2669 - acc: 0.9107 - mse: 0.0477 - val_loss: 0.3969 - val_acc: 0.7895 - val_mse: 0.0862\n",
            "Epoch 147/150\n",
            "1/1 [==============================] - 0s 34ms/step - loss: 0.2658 - acc: 0.9107 - mse: 0.0474 - val_loss: 0.3961 - val_acc: 0.7895 - val_mse: 0.0860\n",
            "Epoch 148/150\n",
            "1/1 [==============================] - 0s 38ms/step - loss: 0.2646 - acc: 0.9107 - mse: 0.0472 - val_loss: 0.3953 - val_acc: 0.7895 - val_mse: 0.0859\n",
            "Epoch 149/150\n",
            "1/1 [==============================] - 0s 32ms/step - loss: 0.2635 - acc: 0.9196 - mse: 0.0470 - val_loss: 0.3945 - val_acc: 0.7895 - val_mse: 0.0857\n",
            "Epoch 150/150\n",
            "1/1 [==============================] - 0s 35ms/step - loss: 0.2625 - acc: 0.9196 - mse: 0.0467 - val_loss: 0.3938 - val_acc: 0.7895 - val_mse: 0.0856\n"
          ]
        }
      ]
    },
    {
      "cell_type": "code",
      "metadata": {
        "id": "o6_u4iGblwwo",
        "colab": {
          "base_uri": "https://localhost:8080/"
        },
        "outputId": "2d801cb6-177c-4122-e95d-bf0f3b79acc0"
      },
      "source": [
        "#After training the model, evaluate the model and find the  loss, accuracy and mse on the test set using the evaluate() function\n",
        "#print the loss, accuracy and MSE\n",
        "test_loss, test_acc,test_mse = model1.evaluate(X_test,y_test,verbose=2)\n",
        "\n",
        "print('\\nLoss',test_loss)\n",
        "print('\\nTest accuracy:', test_acc)\n",
        "print('\\nTest MSE',test_mse)\n"
      ],
      "execution_count": null,
      "outputs": [
        {
          "output_type": "stream",
          "name": "stdout",
          "text": [
            "2/2 - 0s - loss: 0.3938 - acc: 0.7895 - mse: 0.0856\n",
            "\n",
            "Loss 0.3937516510486603\n",
            "\n",
            "Test accuracy: 0.7894737124443054\n",
            "\n",
            "Test MSE 0.08560795336961746\n"
          ]
        }
      ]
    },
    {
      "cell_type": "code",
      "metadata": {
        "id": "wLuAC-0-lwwp",
        "colab": {
          "base_uri": "https://localhost:8080/",
          "height": 581
        },
        "outputId": "600c15ea-26d2-40d7-e00c-826931522178"
      },
      "source": [
        "#Observe the plots for Validation Loss and Training Loss.\n",
        "\n",
        "import matplotlib.pyplot as plt\n",
        "plt.style.use('ggplot')\n",
        "plt.plot(hist1.history['loss'], label = 'loss')\n",
        "plt.plot(hist1.history['val_loss'], label='val loss')\n",
        "plt.title(\"Train Loss vs Val_Loss\")\n",
        "plt.xlabel(\"Epochs\")\n",
        "plt.ylabel(\"Loss\")\n",
        "plt.legend()\n",
        "plt.show()\n",
        "\n",
        "# we observe that validation loss is increasing as compared to training loss. \n",
        "# This increase in training loss shows that our model is overfitted.\n",
        "\n",
        "#similarly we plot for model accuracy \n",
        "plt.plot(hist1.history['acc'], label = 'train acc')\n",
        "plt.plot(hist1.history['val_acc'], label='val acc')\n",
        "plt.title(\"train acc vs Val_acc\")\n",
        "plt.xlabel(\"Epochs\")\n",
        "plt.ylabel(\"acc\")\n",
        "plt.legend()\n",
        "plt.show()\n",
        "\n",
        "#This again shows that validation accuracy is low as compared to training accuracy, which again shows signs of overfitting. \n"
      ],
      "execution_count": null,
      "outputs": [
        {
          "output_type": "display_data",
          "data": {
            "image/png": "[encoded data removed]",
            "text/plain": [
              "<Figure size 432x288 with 1 Axes>"
            ]
          },
          "metadata": {}
        },
        {
          "output_type": "display_data",
          "data": {
            "image/png": "[encoded data removed]",
            "text/plain": [
              "<Figure size 432x288 with 1 Axes>"
            ]
          },
          "metadata": {}
        }
      ]
    },
    {
      "cell_type": "markdown",
      "metadata": {
        "id": "3Qt-xUCglwwq"
      },
      "source": [
        "\n",
        "\n",
        "## L1 Regularization:\n",
        " \n"
      ]
    },
    {
      "cell_type": "code",
      "metadata": {
        "id": "3y8TIOb7lwws"
      },
      "source": [
        "\n",
        "#A commonly used Regularization technique is L1 regularization, also known as Lasso Regularization.\n",
        "#from sklearn.linear_model import Lasso\n",
        "#The main concept of L1 Regularization is that we have to penalize our weights by adding absolute values of weight in our loss function, multiplied by a regularization parameter lambda λ, where λ is manually tuned to be greater than 0.\n",
        "tf.keras.regularizers.L1(l1=0.01)\n",
        "\n",
        "\n",
        "#to implement L1 regularization, create another model called model2 similar to model1, this time add an extra parameter kernel_regularizer, which we set it to ‘l1’ for L1 Regularization in the first Dense layer:\n",
        "model2 = Sequential([\n",
        "    Dense(512, activation='tanh', input_shape = X_train[0].shape,kernel_regularizer='l1'),\n",
        "    Dense(512//2, activation='tanh'),\n",
        "    Dense(512//4, activation='tanh'),\n",
        "    Dense(512//8, activation='tanh'),\n",
        "    Dense(32, activation='relu'),\n",
        "    Dense(3, activation='softmax')\n",
        "])2\n",
        "\n",
        "\n"
      ],
      "execution_count": null,
      "outputs": []
    },
    {
      "cell_type": "code",
      "metadata": {
        "colab": {
          "base_uri": "https://localhost:8080/"
        },
        "id": "vJ69YxuG5Bsb",
        "outputId": "ed265547-41ac-483c-d042-3378d22dbef1"
      },
      "source": [
        "print(model2.summary())\n",
        "model2.compile(optimizer='sgd',loss='categorical_crossentropy', metrics=['acc', 'mse'])\n",
        "\n",
        "hist2 = model2.fit(X_train, y_train, epochs=150, batch_size=128, validation_data=(X_test,y_test))"
      ],
      "execution_count": null,
      "outputs": [
        {
          "output_type": "stream",
          "name": "stdout",
          "text": [
            "Model: \"sequential_1\"\n",
            "_________________________________________________________________\n",
            "Layer (type)                 Output Shape              Param #   \n",
            "=================================================================\n",
            "dense_6 (Dense)              (None, 512)               2560      \n",
            "_________________________________________________________________\n",
            "dense_7 (Dense)              (None, 256)               131328    \n",
            "_________________________________________________________________\n",
            "dense_8 (Dense)              (None, 128)               32896     \n",
            "_________________________________________________________________\n",
            "dense_9 (Dense)              (None, 64)                8256      \n",
            "_________________________________________________________________\n",
            "dense_10 (Dense)             (None, 32)                2080      \n",
            "_________________________________________________________________\n",
            "dense_11 (Dense)             (None, 3)                 99        \n",
            "=================================================================\n",
            "Total params: 177,219\n",
            "Trainable params: 177,219\n",
            "Non-trainable params: 0\n",
            "_________________________________________________________________\n",
            "None\n",
            "Epoch 1/150\n",
            "1/1 [==============================] - 1s 720ms/step - loss: 2.4260 - acc: 0.2143 - mse: 0.2721 - val_loss: 2.3002 - val_acc: 0.3158 - val_mse: 0.2471\n",
            "Epoch 2/150\n",
            "1/1 [==============================] - 0s 43ms/step - loss: 2.3142 - acc: 0.2500 - mse: 0.2502 - val_loss: 2.2203 - val_acc: 0.2895 - val_mse: 0.2304\n",
            "Epoch 3/150\n",
            "1/1 [==============================] - 0s 36ms/step - loss: 2.2178 - acc: 0.3661 - mse: 0.2300 - val_loss: 2.1561 - val_acc: 0.3684 - val_mse: 0.2166\n",
            "Epoch 4/150\n",
            "1/1 [==============================] - 0s 31ms/step - loss: 2.1410 - acc: 0.4732 - mse: 0.2132 - val_loss: 2.1022 - val_acc: 0.6316 - val_mse: 0.2047\n",
            "Epoch 5/150\n",
            "1/1 [==============================] - 0s 26ms/step - loss: 2.0780 - acc: 0.7768 - mse: 0.1991 - val_loss: 2.0590 - val_acc: 0.7368 - val_mse: 0.1951\n",
            "Epoch 6/150\n",
            "1/1 [==============================] - 0s 38ms/step - loss: 2.0266 - acc: 0.8482 - mse: 0.1874 - val_loss: 2.0237 - val_acc: 0.7368 - val_mse: 0.1873\n",
            "Epoch 7/150\n",
            "1/1 [==============================] - 0s 32ms/step - loss: 1.9834 - acc: 0.8571 - mse: 0.1776 - val_loss: 1.9937 - val_acc: 0.7105 - val_mse: 0.1806\n",
            "Epoch 8/150\n",
            "1/1 [==============================] - 0s 28ms/step - loss: 1.9459 - acc: 0.8482 - mse: 0.1690 - val_loss: 1.9676 - val_acc: 0.7105 - val_mse: 0.1749\n",
            "Epoch 9/150\n",
            "1/1 [==============================] - 0s 27ms/step - loss: 1.9129 - acc: 0.8482 - mse: 0.1614 - val_loss: 1.9438 - val_acc: 0.7105 - val_mse: 0.1698\n",
            "Epoch 10/150\n",
            "1/1 [==============================] - 0s 37ms/step - loss: 1.8829 - acc: 0.8482 - mse: 0.1547 - val_loss: 1.9213 - val_acc: 0.7105 - val_mse: 0.1650\n",
            "Epoch 11/150\n",
            "1/1 [==============================] - 0s 33ms/step - loss: 1.8553 - acc: 0.8482 - mse: 0.1485 - val_loss: 1.9002 - val_acc: 0.7105 - val_mse: 0.1605\n",
            "Epoch 12/150\n",
            "1/1 [==============================] - 0s 28ms/step - loss: 1.8297 - acc: 0.8482 - mse: 0.1428 - val_loss: 1.8800 - val_acc: 0.7105 - val_mse: 0.1563\n",
            "Epoch 13/150\n",
            "1/1 [==============================] - 0s 30ms/step - loss: 1.8057 - acc: 0.8482 - mse: 0.1376 - val_loss: 1.8607 - val_acc: 0.7105 - val_mse: 0.1524\n",
            "Epoch 14/150\n",
            "1/1 [==============================] - 0s 28ms/step - loss: 1.7829 - acc: 0.8482 - mse: 0.1327 - val_loss: 1.8423 - val_acc: 0.7105 - val_mse: 0.1487\n",
            "Epoch 15/150\n",
            "1/1 [==============================] - 0s 31ms/step - loss: 1.7614 - acc: 0.8482 - mse: 0.1281 - val_loss: 1.8249 - val_acc: 0.7368 - val_mse: 0.1453\n",
            "Epoch 16/150\n",
            "1/1 [==============================] - 0s 30ms/step - loss: 1.7412 - acc: 0.8482 - mse: 0.1239 - val_loss: 1.8084 - val_acc: 0.7368 - val_mse: 0.1421\n",
            "Epoch 17/150\n",
            "1/1 [==============================] - 0s 30ms/step - loss: 1.7217 - acc: 0.8482 - mse: 0.1198 - val_loss: 1.7926 - val_acc: 0.7368 - val_mse: 0.1392\n",
            "Epoch 18/150\n",
            "1/1 [==============================] - 0s 31ms/step - loss: 1.7033 - acc: 0.8482 - mse: 0.1161 - val_loss: 1.7774 - val_acc: 0.7368 - val_mse: 0.1364\n",
            "Epoch 19/150\n",
            "1/1 [==============================] - 0s 33ms/step - loss: 1.6857 - acc: 0.8482 - mse: 0.1126 - val_loss: 1.7631 - val_acc: 0.7368 - val_mse: 0.1338\n",
            "Epoch 20/150\n",
            "1/1 [==============================] - 0s 29ms/step - loss: 1.6691 - acc: 0.8482 - mse: 0.1093 - val_loss: 1.7494 - val_acc: 0.7368 - val_mse: 0.1314\n",
            "Epoch 21/150\n",
            "1/1 [==============================] - 0s 31ms/step - loss: 1.6532 - acc: 0.8571 - mse: 0.1062 - val_loss: 1.7364 - val_acc: 0.7368 - val_mse: 0.1292\n",
            "Epoch 22/150\n",
            "1/1 [==============================] - 0s 29ms/step - loss: 1.6380 - acc: 0.8571 - mse: 0.1034 - val_loss: 1.7238 - val_acc: 0.7368 - val_mse: 0.1271\n",
            "Epoch 23/150\n",
            "1/1 [==============================] - 0s 52ms/step - loss: 1.6235 - acc: 0.8571 - mse: 0.1007 - val_loss: 1.7119 - val_acc: 0.7632 - val_mse: 0.1252\n",
            "Epoch 24/150\n",
            "1/1 [==============================] - 0s 36ms/step - loss: 1.6098 - acc: 0.8571 - mse: 0.0982 - val_loss: 1.7003 - val_acc: 0.7632 - val_mse: 0.1233\n",
            "Epoch 25/150\n",
            "1/1 [==============================] - 0s 41ms/step - loss: 1.5967 - acc: 0.8571 - mse: 0.0958 - val_loss: 1.6893 - val_acc: 0.7632 - val_mse: 0.1216\n",
            "Epoch 26/150\n",
            "1/1 [==============================] - 0s 34ms/step - loss: 1.5841 - acc: 0.8571 - mse: 0.0936 - val_loss: 1.6786 - val_acc: 0.7632 - val_mse: 0.1200\n",
            "Epoch 27/150\n",
            "1/1 [==============================] - 0s 41ms/step - loss: 1.5721 - acc: 0.8571 - mse: 0.0915 - val_loss: 1.6682 - val_acc: 0.7632 - val_mse: 0.1184\n",
            "Epoch 28/150\n",
            "1/1 [==============================] - 0s 32ms/step - loss: 1.5605 - acc: 0.8571 - mse: 0.0895 - val_loss: 1.6583 - val_acc: 0.7632 - val_mse: 0.1170\n",
            "Epoch 29/150\n",
            "1/1 [==============================] - 0s 33ms/step - loss: 1.5495 - acc: 0.8571 - mse: 0.0877 - val_loss: 1.6488 - val_acc: 0.7632 - val_mse: 0.1157\n",
            "Epoch 30/150\n",
            "1/1 [==============================] - 0s 32ms/step - loss: 1.5388 - acc: 0.8571 - mse: 0.0859 - val_loss: 1.6397 - val_acc: 0.7368 - val_mse: 0.1144\n",
            "Epoch 31/150\n",
            "1/1 [==============================] - 0s 31ms/step - loss: 1.5285 - acc: 0.8661 - mse: 0.0843 - val_loss: 1.6308 - val_acc: 0.7368 - val_mse: 0.1132\n",
            "Epoch 32/150\n",
            "1/1 [==============================] - 0s 29ms/step - loss: 1.5186 - acc: 0.8750 - mse: 0.0827 - val_loss: 1.6223 - val_acc: 0.7368 - val_mse: 0.1121\n",
            "Epoch 33/150\n",
            "1/1 [==============================] - 0s 28ms/step - loss: 1.5090 - acc: 0.8750 - mse: 0.0812 - val_loss: 1.6141 - val_acc: 0.7368 - val_mse: 0.1111\n",
            "Epoch 34/150\n",
            "1/1 [==============================] - 0s 30ms/step - loss: 1.4997 - acc: 0.8750 - mse: 0.0798 - val_loss: 1.6061 - val_acc: 0.7368 - val_mse: 0.1101\n",
            "Epoch 35/150\n",
            "1/1 [==============================] - 0s 31ms/step - loss: 1.4907 - acc: 0.8839 - mse: 0.0784 - val_loss: 1.5983 - val_acc: 0.7368 - val_mse: 0.1091\n",
            "Epoch 36/150\n",
            "1/1 [==============================] - 0s 35ms/step - loss: 1.4820 - acc: 0.8839 - mse: 0.0771 - val_loss: 1.5908 - val_acc: 0.7368 - val_mse: 0.1082\n",
            "Epoch 37/150\n",
            "1/1 [==============================] - 0s 27ms/step - loss: 1.4736 - acc: 0.8839 - mse: 0.0759 - val_loss: 1.5834 - val_acc: 0.7368 - val_mse: 0.1073\n",
            "Epoch 38/150\n",
            "1/1 [==============================] - 0s 32ms/step - loss: 1.4653 - acc: 0.8839 - mse: 0.0747 - val_loss: 1.5761 - val_acc: 0.7368 - val_mse: 0.1065\n",
            "Epoch 39/150\n",
            "1/1 [==============================] - 0s 40ms/step - loss: 1.4573 - acc: 0.8839 - mse: 0.0736 - val_loss: 1.5690 - val_acc: 0.7368 - val_mse: 0.1057\n",
            "Epoch 40/150\n",
            "1/1 [==============================] - 0s 32ms/step - loss: 1.4495 - acc: 0.8839 - mse: 0.0725 - val_loss: 1.5622 - val_acc: 0.7368 - val_mse: 0.1049\n",
            "Epoch 41/150\n",
            "1/1 [==============================] - 0s 29ms/step - loss: 1.4419 - acc: 0.8929 - mse: 0.0714 - val_loss: 1.5556 - val_acc: 0.7368 - val_mse: 0.1042\n",
            "Epoch 42/150\n",
            "1/1 [==============================] - 0s 28ms/step - loss: 1.4346 - acc: 0.8929 - mse: 0.0705 - val_loss: 1.5490 - val_acc: 0.7368 - val_mse: 0.1035\n",
            "Epoch 43/150\n",
            "1/1 [==============================] - 0s 34ms/step - loss: 1.4275 - acc: 0.8929 - mse: 0.0695 - val_loss: 1.5425 - val_acc: 0.7368 - val_mse: 0.1028\n",
            "Epoch 44/150\n",
            "1/1 [==============================] - 0s 44ms/step - loss: 1.4205 - acc: 0.8929 - mse: 0.0686 - val_loss: 1.5362 - val_acc: 0.7368 - val_mse: 0.1021\n",
            "Epoch 45/150\n",
            "1/1 [==============================] - 0s 33ms/step - loss: 1.4137 - acc: 0.8929 - mse: 0.0677 - val_loss: 1.5300 - val_acc: 0.7368 - val_mse: 0.1014\n",
            "Epoch 46/150\n",
            "1/1 [==============================] - 0s 31ms/step - loss: 1.4071 - acc: 0.8929 - mse: 0.0668 - val_loss: 1.5239 - val_acc: 0.7368 - val_mse: 0.1008\n",
            "Epoch 47/150\n",
            "1/1 [==============================] - 0s 33ms/step - loss: 1.4006 - acc: 0.8929 - mse: 0.0660 - val_loss: 1.5179 - val_acc: 0.7368 - val_mse: 0.1002\n",
            "Epoch 48/150\n",
            "1/1 [==============================] - 0s 37ms/step - loss: 1.3943 - acc: 0.8929 - mse: 0.0652 - val_loss: 1.5120 - val_acc: 0.7368 - val_mse: 0.0996\n",
            "Epoch 49/150\n",
            "1/1 [==============================] - 0s 35ms/step - loss: 1.3880 - acc: 0.8929 - mse: 0.0644 - val_loss: 1.5061 - val_acc: 0.7368 - val_mse: 0.0989\n",
            "Epoch 50/150\n",
            "1/1 [==============================] - 0s 33ms/step - loss: 1.3819 - acc: 0.8929 - mse: 0.0637 - val_loss: 1.5004 - val_acc: 0.7368 - val_mse: 0.0984\n",
            "Epoch 51/150\n",
            "1/1 [==============================] - 0s 42ms/step - loss: 1.3758 - acc: 0.8929 - mse: 0.0629 - val_loss: 1.4947 - val_acc: 0.7368 - val_mse: 0.0978\n",
            "Epoch 52/150\n",
            "1/1 [==============================] - 0s 46ms/step - loss: 1.3699 - acc: 0.9018 - mse: 0.0622 - val_loss: 1.4892 - val_acc: 0.7368 - val_mse: 0.0972\n",
            "Epoch 53/150\n",
            "1/1 [==============================] - 0s 36ms/step - loss: 1.3641 - acc: 0.9107 - mse: 0.0615 - val_loss: 1.4839 - val_acc: 0.7632 - val_mse: 0.0967\n",
            "Epoch 54/150\n",
            "1/1 [==============================] - 0s 31ms/step - loss: 1.3584 - acc: 0.9196 - mse: 0.0608 - val_loss: 1.4787 - val_acc: 0.7632 - val_mse: 0.0962\n",
            "Epoch 55/150\n",
            "1/1 [==============================] - 0s 32ms/step - loss: 1.3528 - acc: 0.9196 - mse: 0.0602 - val_loss: 1.4737 - val_acc: 0.7632 - val_mse: 0.0958\n",
            "Epoch 56/150\n",
            "1/1 [==============================] - 0s 32ms/step - loss: 1.3474 - acc: 0.9286 - mse: 0.0595 - val_loss: 1.4688 - val_acc: 0.7632 - val_mse: 0.0953\n",
            "Epoch 57/150\n",
            "1/1 [==============================] - 0s 33ms/step - loss: 1.3420 - acc: 0.9286 - mse: 0.0589 - val_loss: 1.4639 - val_acc: 0.7632 - val_mse: 0.0949\n",
            "Epoch 58/150\n",
            "1/1 [==============================] - 0s 32ms/step - loss: 1.3367 - acc: 0.9286 - mse: 0.0583 - val_loss: 1.4591 - val_acc: 0.7632 - val_mse: 0.0944\n",
            "Epoch 59/150\n",
            "1/1 [==============================] - 0s 39ms/step - loss: 1.3315 - acc: 0.9286 - mse: 0.0577 - val_loss: 1.4544 - val_acc: 0.7632 - val_mse: 0.0940\n",
            "Epoch 60/150\n",
            "1/1 [==============================] - 0s 33ms/step - loss: 1.3264 - acc: 0.9286 - mse: 0.0572 - val_loss: 1.4498 - val_acc: 0.7632 - val_mse: 0.0936\n",
            "Epoch 61/150\n",
            "1/1 [==============================] - 0s 39ms/step - loss: 1.3214 - acc: 0.9286 - mse: 0.0566 - val_loss: 1.4453 - val_acc: 0.7632 - val_mse: 0.0932\n",
            "Epoch 62/150\n",
            "1/1 [==============================] - 0s 31ms/step - loss: 1.3165 - acc: 0.9286 - mse: 0.0561 - val_loss: 1.4409 - val_acc: 0.7632 - val_mse: 0.0928\n",
            "Epoch 63/150\n",
            "1/1 [==============================] - 0s 35ms/step - loss: 1.3117 - acc: 0.9286 - mse: 0.0556 - val_loss: 1.4365 - val_acc: 0.7632 - val_mse: 0.0925\n",
            "Epoch 64/150\n",
            "1/1 [==============================] - 0s 30ms/step - loss: 1.3070 - acc: 0.9286 - mse: 0.0551 - val_loss: 1.4322 - val_acc: 0.7632 - val_mse: 0.0921\n",
            "Epoch 65/150\n",
            "1/1 [==============================] - 0s 35ms/step - loss: 1.3024 - acc: 0.9286 - mse: 0.0546 - val_loss: 1.4279 - val_acc: 0.7632 - val_mse: 0.0917\n",
            "Epoch 66/150\n",
            "1/1 [==============================] - 0s 33ms/step - loss: 1.2979 - acc: 0.9286 - mse: 0.0541 - val_loss: 1.4237 - val_acc: 0.7632 - val_mse: 0.0913\n",
            "Epoch 67/150\n",
            "1/1 [==============================] - 0s 27ms/step - loss: 1.2934 - acc: 0.9286 - mse: 0.0536 - val_loss: 1.4195 - val_acc: 0.7632 - val_mse: 0.0910\n",
            "Epoch 68/150\n",
            "1/1 [==============================] - 0s 32ms/step - loss: 1.2890 - acc: 0.9375 - mse: 0.0532 - val_loss: 1.4153 - val_acc: 0.7632 - val_mse: 0.0906\n",
            "Epoch 69/150\n",
            "1/1 [==============================] - 0s 29ms/step - loss: 1.2846 - acc: 0.9375 - mse: 0.0527 - val_loss: 1.4112 - val_acc: 0.7632 - val_mse: 0.0903\n",
            "Epoch 70/150\n",
            "1/1 [==============================] - 0s 37ms/step - loss: 1.2803 - acc: 0.9375 - mse: 0.0523 - val_loss: 1.4071 - val_acc: 0.7632 - val_mse: 0.0899\n",
            "Epoch 71/150\n",
            "1/1 [==============================] - 0s 32ms/step - loss: 1.2761 - acc: 0.9375 - mse: 0.0518 - val_loss: 1.4030 - val_acc: 0.7632 - val_mse: 0.0895\n",
            "Epoch 72/150\n",
            "1/1 [==============================] - 0s 32ms/step - loss: 1.2719 - acc: 0.9375 - mse: 0.0514 - val_loss: 1.3989 - val_acc: 0.7632 - val_mse: 0.0891\n",
            "Epoch 73/150\n",
            "1/1 [==============================] - 0s 34ms/step - loss: 1.2677 - acc: 0.9375 - mse: 0.0510 - val_loss: 1.3949 - val_acc: 0.7632 - val_mse: 0.0888\n",
            "Epoch 74/150\n",
            "1/1 [==============================] - 0s 53ms/step - loss: 1.2636 - acc: 0.9375 - mse: 0.0506 - val_loss: 1.3909 - val_acc: 0.7632 - val_mse: 0.0884\n",
            "Epoch 75/150\n",
            "1/1 [==============================] - 0s 30ms/step - loss: 1.2595 - acc: 0.9375 - mse: 0.0502 - val_loss: 1.3870 - val_acc: 0.7632 - val_mse: 0.0881\n",
            "Epoch 76/150\n",
            "1/1 [==============================] - 0s 32ms/step - loss: 1.2555 - acc: 0.9375 - mse: 0.0498 - val_loss: 1.3831 - val_acc: 0.7632 - val_mse: 0.0877\n",
            "Epoch 77/150\n",
            "1/1 [==============================] - 0s 38ms/step - loss: 1.2515 - acc: 0.9375 - mse: 0.0494 - val_loss: 1.3792 - val_acc: 0.7632 - val_mse: 0.0873\n",
            "Epoch 78/150\n",
            "1/1 [==============================] - 0s 63ms/step - loss: 1.2476 - acc: 0.9464 - mse: 0.0490 - val_loss: 1.3753 - val_acc: 0.7632 - val_mse: 0.0870\n",
            "Epoch 79/150\n",
            "1/1 [==============================] - 0s 45ms/step - loss: 1.2437 - acc: 0.9464 - mse: 0.0486 - val_loss: 1.3715 - val_acc: 0.7632 - val_mse: 0.0866\n",
            "Epoch 80/150\n",
            "1/1 [==============================] - 0s 35ms/step - loss: 1.2398 - acc: 0.9464 - mse: 0.0482 - val_loss: 1.3676 - val_acc: 0.7632 - val_mse: 0.0863\n",
            "Epoch 81/150\n",
            "1/1 [==============================] - 0s 31ms/step - loss: 1.2359 - acc: 0.9464 - mse: 0.0478 - val_loss: 1.3638 - val_acc: 0.7632 - val_mse: 0.0859\n",
            "Epoch 82/150\n",
            "1/1 [==============================] - 0s 35ms/step - loss: 1.2321 - acc: 0.9464 - mse: 0.0474 - val_loss: 1.3600 - val_acc: 0.7632 - val_mse: 0.0855\n",
            "Epoch 83/150\n",
            "1/1 [==============================] - 0s 29ms/step - loss: 1.2283 - acc: 0.9464 - mse: 0.0471 - val_loss: 1.3562 - val_acc: 0.7632 - val_mse: 0.0852\n",
            "Epoch 84/150\n",
            "1/1 [==============================] - 0s 57ms/step - loss: 1.2246 - acc: 0.9464 - mse: 0.0467 - val_loss: 1.3524 - val_acc: 0.7632 - val_mse: 0.0848\n",
            "Epoch 85/150\n",
            "1/1 [==============================] - 0s 32ms/step - loss: 1.2209 - acc: 0.9464 - mse: 0.0463 - val_loss: 1.3487 - val_acc: 0.7632 - val_mse: 0.0844\n",
            "Epoch 86/150\n",
            "1/1 [==============================] - 0s 32ms/step - loss: 1.2172 - acc: 0.9464 - mse: 0.0460 - val_loss: 1.3449 - val_acc: 0.7632 - val_mse: 0.0841\n",
            "Epoch 87/150\n",
            "1/1 [==============================] - 0s 31ms/step - loss: 1.2135 - acc: 0.9464 - mse: 0.0456 - val_loss: 1.3412 - val_acc: 0.7632 - val_mse: 0.0837\n",
            "Epoch 88/150\n",
            "1/1 [==============================] - 0s 32ms/step - loss: 1.2098 - acc: 0.9464 - mse: 0.0452 - val_loss: 1.3375 - val_acc: 0.7632 - val_mse: 0.0833\n",
            "Epoch 89/150\n",
            "1/1 [==============================] - 0s 31ms/step - loss: 1.2062 - acc: 0.9464 - mse: 0.0449 - val_loss: 1.3338 - val_acc: 0.7632 - val_mse: 0.0829\n",
            "Epoch 90/150\n",
            "1/1 [==============================] - 0s 32ms/step - loss: 1.2026 - acc: 0.9464 - mse: 0.0445 - val_loss: 1.3300 - val_acc: 0.7632 - val_mse: 0.0826\n",
            "Epoch 91/150\n",
            "1/1 [==============================] - 0s 35ms/step - loss: 1.1990 - acc: 0.9464 - mse: 0.0442 - val_loss: 1.3263 - val_acc: 0.7632 - val_mse: 0.0822\n",
            "Epoch 92/150\n",
            "1/1 [==============================] - 0s 35ms/step - loss: 1.1955 - acc: 0.9464 - mse: 0.0438 - val_loss: 1.3227 - val_acc: 0.7632 - val_mse: 0.0818\n",
            "Epoch 93/150\n",
            "1/1 [==============================] - 0s 36ms/step - loss: 1.1920 - acc: 0.9464 - mse: 0.0435 - val_loss: 1.3190 - val_acc: 0.7632 - val_mse: 0.0814\n",
            "Epoch 94/150\n",
            "1/1 [==============================] - 0s 36ms/step - loss: 1.1885 - acc: 0.9464 - mse: 0.0432 - val_loss: 1.3154 - val_acc: 0.7632 - val_mse: 0.0811\n",
            "Epoch 95/150\n",
            "1/1 [==============================] - 0s 39ms/step - loss: 1.1850 - acc: 0.9464 - mse: 0.0428 - val_loss: 1.3118 - val_acc: 0.7632 - val_mse: 0.0807\n",
            "Epoch 96/150\n",
            "1/1 [==============================] - 0s 31ms/step - loss: 1.1816 - acc: 0.9464 - mse: 0.0425 - val_loss: 1.3082 - val_acc: 0.7632 - val_mse: 0.0803\n",
            "Epoch 97/150\n",
            "1/1 [==============================] - 0s 43ms/step - loss: 1.1781 - acc: 0.9464 - mse: 0.0422 - val_loss: 1.3047 - val_acc: 0.7632 - val_mse: 0.0800\n",
            "Epoch 98/150\n",
            "1/1 [==============================] - 0s 37ms/step - loss: 1.1748 - acc: 0.9464 - mse: 0.0419 - val_loss: 1.3011 - val_acc: 0.7632 - val_mse: 0.0796\n",
            "Epoch 99/150\n",
            "1/1 [==============================] - 0s 31ms/step - loss: 1.1714 - acc: 0.9464 - mse: 0.0415 - val_loss: 1.2976 - val_acc: 0.7632 - val_mse: 0.0793\n",
            "Epoch 100/150\n",
            "1/1 [==============================] - 0s 38ms/step - loss: 1.1680 - acc: 0.9464 - mse: 0.0412 - val_loss: 1.2940 - val_acc: 0.7632 - val_mse: 0.0789\n",
            "Epoch 101/150\n",
            "1/1 [==============================] - 0s 29ms/step - loss: 1.1647 - acc: 0.9464 - mse: 0.0409 - val_loss: 1.2905 - val_acc: 0.7632 - val_mse: 0.0786\n",
            "Epoch 102/150\n",
            "1/1 [==============================] - 0s 37ms/step - loss: 1.1614 - acc: 0.9464 - mse: 0.0406 - val_loss: 1.2870 - val_acc: 0.7632 - val_mse: 0.0782\n",
            "Epoch 103/150\n",
            "1/1 [==============================] - 0s 32ms/step - loss: 1.1581 - acc: 0.9464 - mse: 0.0403 - val_loss: 1.2835 - val_acc: 0.7895 - val_mse: 0.0779\n",
            "Epoch 104/150\n",
            "1/1 [==============================] - 0s 53ms/step - loss: 1.1548 - acc: 0.9554 - mse: 0.0400 - val_loss: 1.2799 - val_acc: 0.7895 - val_mse: 0.0775\n",
            "Epoch 105/150\n",
            "1/1 [==============================] - 0s 34ms/step - loss: 1.1515 - acc: 0.9554 - mse: 0.0397 - val_loss: 1.2764 - val_acc: 0.7895 - val_mse: 0.0771\n",
            "Epoch 106/150\n",
            "1/1 [==============================] - 0s 30ms/step - loss: 1.1482 - acc: 0.9554 - mse: 0.0394 - val_loss: 1.2729 - val_acc: 0.7895 - val_mse: 0.0767\n",
            "Epoch 107/150\n",
            "1/1 [==============================] - 0s 37ms/step - loss: 1.1450 - acc: 0.9554 - mse: 0.0391 - val_loss: 1.2694 - val_acc: 0.7895 - val_mse: 0.0764\n",
            "Epoch 108/150\n",
            "1/1 [==============================] - 0s 32ms/step - loss: 1.1417 - acc: 0.9554 - mse: 0.0388 - val_loss: 1.2659 - val_acc: 0.7895 - val_mse: 0.0760\n",
            "Epoch 109/150\n",
            "1/1 [==============================] - 0s 31ms/step - loss: 1.1385 - acc: 0.9554 - mse: 0.0385 - val_loss: 1.2625 - val_acc: 0.7895 - val_mse: 0.0757\n",
            "Epoch 110/150\n",
            "1/1 [==============================] - 0s 46ms/step - loss: 1.1353 - acc: 0.9554 - mse: 0.0382 - val_loss: 1.2591 - val_acc: 0.7895 - val_mse: 0.0753\n",
            "Epoch 111/150\n",
            "1/1 [==============================] - 0s 37ms/step - loss: 1.1322 - acc: 0.9554 - mse: 0.0380 - val_loss: 1.2556 - val_acc: 0.7895 - val_mse: 0.0749\n",
            "Epoch 112/150\n",
            "1/1 [==============================] - 0s 31ms/step - loss: 1.1290 - acc: 0.9554 - mse: 0.0377 - val_loss: 1.2522 - val_acc: 0.7895 - val_mse: 0.0746\n",
            "Epoch 113/150\n",
            "1/1 [==============================] - 0s 38ms/step - loss: 1.1259 - acc: 0.9554 - mse: 0.0374 - val_loss: 1.2487 - val_acc: 0.7895 - val_mse: 0.0742\n",
            "Epoch 114/150\n",
            "1/1 [==============================] - 0s 39ms/step - loss: 1.1228 - acc: 0.9554 - mse: 0.0371 - val_loss: 1.2453 - val_acc: 0.7895 - val_mse: 0.0738\n",
            "Epoch 115/150\n",
            "1/1 [==============================] - 0s 39ms/step - loss: 1.1197 - acc: 0.9554 - mse: 0.0369 - val_loss: 1.2419 - val_acc: 0.7895 - val_mse: 0.0735\n",
            "Epoch 116/150\n",
            "1/1 [==============================] - 0s 39ms/step - loss: 1.1166 - acc: 0.9554 - mse: 0.0366 - val_loss: 1.2386 - val_acc: 0.7895 - val_mse: 0.0731\n",
            "Epoch 117/150\n",
            "1/1 [==============================] - 0s 34ms/step - loss: 1.1135 - acc: 0.9554 - mse: 0.0363 - val_loss: 1.2353 - val_acc: 0.7895 - val_mse: 0.0728\n",
            "Epoch 118/150\n",
            "1/1 [==============================] - 0s 35ms/step - loss: 1.1105 - acc: 0.9554 - mse: 0.0361 - val_loss: 1.2319 - val_acc: 0.8158 - val_mse: 0.0724\n",
            "Epoch 119/150\n",
            "1/1 [==============================] - 0s 45ms/step - loss: 1.1075 - acc: 0.9554 - mse: 0.0358 - val_loss: 1.2286 - val_acc: 0.8158 - val_mse: 0.0721\n",
            "Epoch 120/150\n",
            "1/1 [==============================] - 0s 31ms/step - loss: 1.1045 - acc: 0.9554 - mse: 0.0355 - val_loss: 1.2253 - val_acc: 0.8158 - val_mse: 0.0717\n",
            "Epoch 121/150\n",
            "1/1 [==============================] - 0s 40ms/step - loss: 1.1015 - acc: 0.9643 - mse: 0.0353 - val_loss: 1.2220 - val_acc: 0.8158 - val_mse: 0.0714\n",
            "Epoch 122/150\n",
            "1/1 [==============================] - 0s 34ms/step - loss: 1.0985 - acc: 0.9643 - mse: 0.0350 - val_loss: 1.2186 - val_acc: 0.8158 - val_mse: 0.0710\n",
            "Epoch 123/150\n",
            "1/1 [==============================] - 0s 39ms/step - loss: 1.0956 - acc: 0.9643 - mse: 0.0348 - val_loss: 1.2153 - val_acc: 0.8158 - val_mse: 0.0706\n",
            "Epoch 124/150\n",
            "1/1 [==============================] - 0s 41ms/step - loss: 1.0926 - acc: 0.9643 - mse: 0.0345 - val_loss: 1.2120 - val_acc: 0.8158 - val_mse: 0.0703\n",
            "Epoch 125/150\n",
            "1/1 [==============================] - 0s 44ms/step - loss: 1.0897 - acc: 0.9554 - mse: 0.0343 - val_loss: 1.2088 - val_acc: 0.8158 - val_mse: 0.0699\n",
            "Epoch 126/150\n",
            "1/1 [==============================] - 0s 43ms/step - loss: 1.0868 - acc: 0.9554 - mse: 0.0341 - val_loss: 1.2055 - val_acc: 0.8158 - val_mse: 0.0696\n",
            "Epoch 127/150\n",
            "1/1 [==============================] - 0s 31ms/step - loss: 1.0839 - acc: 0.9554 - mse: 0.0338 - val_loss: 1.2022 - val_acc: 0.8158 - val_mse: 0.0692\n",
            "Epoch 128/150\n",
            "1/1 [==============================] - 0s 32ms/step - loss: 1.0810 - acc: 0.9554 - mse: 0.0336 - val_loss: 1.1989 - val_acc: 0.8158 - val_mse: 0.0688\n",
            "Epoch 129/150\n",
            "1/1 [==============================] - 0s 29ms/step - loss: 1.0781 - acc: 0.9554 - mse: 0.0333 - val_loss: 1.1957 - val_acc: 0.8158 - val_mse: 0.0685\n",
            "Epoch 130/150\n",
            "1/1 [==============================] - 0s 32ms/step - loss: 1.0752 - acc: 0.9554 - mse: 0.0331 - val_loss: 1.1924 - val_acc: 0.8158 - val_mse: 0.0681\n",
            "Epoch 131/150\n",
            "1/1 [==============================] - 0s 40ms/step - loss: 1.0724 - acc: 0.9554 - mse: 0.0328 - val_loss: 1.1892 - val_acc: 0.8158 - val_mse: 0.0678\n",
            "Epoch 132/150\n",
            "1/1 [==============================] - 0s 35ms/step - loss: 1.0695 - acc: 0.9554 - mse: 0.0326 - val_loss: 1.1859 - val_acc: 0.8158 - val_mse: 0.0674\n",
            "Epoch 133/150\n",
            "1/1 [==============================] - 0s 37ms/step - loss: 1.0667 - acc: 0.9554 - mse: 0.0324 - val_loss: 1.1827 - val_acc: 0.8158 - val_mse: 0.0671\n",
            "Epoch 134/150\n",
            "1/1 [==============================] - 0s 35ms/step - loss: 1.0638 - acc: 0.9554 - mse: 0.0321 - val_loss: 1.1795 - val_acc: 0.8158 - val_mse: 0.0667\n",
            "Epoch 135/150\n",
            "1/1 [==============================] - 0s 33ms/step - loss: 1.0610 - acc: 0.9554 - mse: 0.0319 - val_loss: 1.1763 - val_acc: 0.8158 - val_mse: 0.0664\n",
            "Epoch 136/150\n",
            "1/1 [==============================] - 0s 38ms/step - loss: 1.0582 - acc: 0.9554 - mse: 0.0317 - val_loss: 1.1731 - val_acc: 0.8158 - val_mse: 0.0660\n",
            "Epoch 137/150\n",
            "1/1 [==============================] - 0s 34ms/step - loss: 1.0554 - acc: 0.9554 - mse: 0.0315 - val_loss: 1.1699 - val_acc: 0.8421 - val_mse: 0.0657\n",
            "Epoch 138/150\n",
            "1/1 [==============================] - 0s 49ms/step - loss: 1.0526 - acc: 0.9554 - mse: 0.0312 - val_loss: 1.1668 - val_acc: 0.8421 - val_mse: 0.0653\n",
            "Epoch 139/150\n",
            "1/1 [==============================] - 0s 35ms/step - loss: 1.0499 - acc: 0.9554 - mse: 0.0310 - val_loss: 1.1636 - val_acc: 0.8421 - val_mse: 0.0650\n",
            "Epoch 140/150\n",
            "1/1 [==============================] - 0s 36ms/step - loss: 1.0471 - acc: 0.9554 - mse: 0.0308 - val_loss: 1.1605 - val_acc: 0.8421 - val_mse: 0.0646\n",
            "Epoch 141/150\n",
            "1/1 [==============================] - 0s 36ms/step - loss: 1.0444 - acc: 0.9554 - mse: 0.0306 - val_loss: 1.1574 - val_acc: 0.8421 - val_mse: 0.0643\n",
            "Epoch 142/150\n",
            "1/1 [==============================] - 0s 36ms/step - loss: 1.0417 - acc: 0.9554 - mse: 0.0304 - val_loss: 1.1543 - val_acc: 0.8421 - val_mse: 0.0640\n",
            "Epoch 143/150\n",
            "1/1 [==============================] - 0s 31ms/step - loss: 1.0390 - acc: 0.9554 - mse: 0.0302 - val_loss: 1.1512 - val_acc: 0.8421 - val_mse: 0.0636\n",
            "Epoch 144/150\n",
            "1/1 [==============================] - 0s 39ms/step - loss: 1.0362 - acc: 0.9554 - mse: 0.0300 - val_loss: 1.1481 - val_acc: 0.8421 - val_mse: 0.0633\n",
            "Epoch 145/150\n",
            "1/1 [==============================] - 0s 37ms/step - loss: 1.0336 - acc: 0.9554 - mse: 0.0298 - val_loss: 1.1451 - val_acc: 0.8421 - val_mse: 0.0630\n",
            "Epoch 146/150\n",
            "1/1 [==============================] - 0s 36ms/step - loss: 1.0309 - acc: 0.9554 - mse: 0.0295 - val_loss: 1.1420 - val_acc: 0.8421 - val_mse: 0.0626\n",
            "Epoch 147/150\n",
            "1/1 [==============================] - 0s 29ms/step - loss: 1.0282 - acc: 0.9554 - mse: 0.0293 - val_loss: 1.1390 - val_acc: 0.8421 - val_mse: 0.0623\n",
            "Epoch 148/150\n",
            "1/1 [==============================] - 0s 34ms/step - loss: 1.0256 - acc: 0.9554 - mse: 0.0291 - val_loss: 1.1360 - val_acc: 0.8421 - val_mse: 0.0620\n",
            "Epoch 149/150\n",
            "1/1 [==============================] - 0s 42ms/step - loss: 1.0230 - acc: 0.9554 - mse: 0.0290 - val_loss: 1.1330 - val_acc: 0.8421 - val_mse: 0.0617\n",
            "Epoch 150/150\n",
            "1/1 [==============================] - 0s 37ms/step - loss: 1.0203 - acc: 0.9554 - mse: 0.0288 - val_loss: 1.1300 - val_acc: 0.8421 - val_mse: 0.0614\n"
          ]
        }
      ]
    },
    {
      "cell_type": "code",
      "metadata": {
        "id": "1Lc94uBWlwwt",
        "colab": {
          "base_uri": "https://localhost:8080/"
        },
        "outputId": "48923089-05e1-43f9-be81-5bbe10fc495c"
      },
      "source": [
        "\n",
        "\n",
        "#just how we used evaluate() in the basic model previously, use it again to find the loss, accuracy and MSE on the test set\n",
        "test_loss1, test_acc1,test_mse1 = model2.evaluate(X_test,y_test,verbose=2)\n",
        "\n",
        "print('\\nLoss',test_loss1)\n",
        "print('\\nTest accuracy:', test_acc1)\n",
        "print('\\nTest MSE',test_mse1)\n",
        "\n",
        " \n"
      ],
      "execution_count": null,
      "outputs": [
        {
          "output_type": "stream",
          "name": "stdout",
          "text": [
            "2/2 - 0s - loss: 1.1300 - acc: 0.8421 - mse: 0.0614\n",
            "\n",
            "Loss 1.1299753189086914\n",
            "\n",
            "Test accuracy: 0.8421052694320679\n",
            "\n",
            "Test MSE 0.061367712914943695\n"
          ]
        }
      ]
    },
    {
      "cell_type": "code",
      "metadata": {
        "id": "-ZrKab7Ylwwu",
        "colab": {
          "base_uri": "https://localhost:8080/",
          "height": 581
        },
        "outputId": "f531dd9e-135b-49b8-863e-b38c6601558c"
      },
      "source": [
        "# Plot the train loss vs validation loss and train accuracy vs validation accuracy graphs just like we did before\n",
        "import matplotlib.pyplot as plt\n",
        "plt.style.use('ggplot')\n",
        "plt.plot(hist2.history['loss'], label = 'loss')\n",
        "plt.plot(hist2.history['val_loss'], label='val loss')\n",
        "plt.title(\"Train Loss vs Val_Loss\")\n",
        "plt.xlabel(\"Epochs\")\n",
        "plt.ylabel(\"Loss\")\n",
        "plt.legend()\n",
        "plt.show()\n",
        "\n",
        "#similarly we plot for model accuracy \n",
        "plt.plot(hist2.history['acc'], label = 'train acc')\n",
        "plt.plot(hist2.history['val_acc'], label='val acc')\n",
        "plt.title(\"train acc vs Val_acc\")\n",
        "plt.xlabel(\"Epochs\")\n",
        "plt.ylabel(\"acc\")\n",
        "plt.legend()\n",
        "plt.show()\n",
        "\n",
        "\n",
        " \n"
      ],
      "execution_count": null,
      "outputs": [
        {
          "output_type": "display_data",
          "data": {
            "image/png": "[encoded data removed]",
            "text/plain": [
              "<Figure size 432x288 with 1 Axes>"
            ]
          },
          "metadata": {}
        },
        {
          "output_type": "display_data",
          "data": {
            "image/png": "[encoded data removed]",
            "text/plain": [
              "<Figure size 432x288 with 1 Axes>"
            ]
          },
          "metadata": {}
        }
      ]
    },
    {
      "cell_type": "code",
      "metadata": {
        "id": "lwDffxYmlwwv"
      },
      "source": [
        "\n",
        "# create a new model model3, similar to model1 and model2 and add l1 in more layers to check if it improves the model or not.\n",
        "model3 = Sequential([\n",
        "    Dense(512, activation='tanh', input_shape = X_train[0].shape,kernel_regularizer='l1'),\n",
        "    Dense(512//2, activation='tanh',kernel_regularizer='l1'),\n",
        "    Dense(512//4, activation='tanh'),\n",
        "    Dense(512//8, activation='tanh'),\n",
        "    Dense(32, activation='relu',kernel_regularizer='l1'),\n",
        "    Dense(3, activation='softmax')\n",
        "])\n",
        "\n"
      ],
      "execution_count": null,
      "outputs": []
    },
    {
      "cell_type": "code",
      "metadata": {
        "colab": {
          "base_uri": "https://localhost:8080/"
        },
        "id": "eMgRnLYZ6jwU",
        "outputId": "969ba1a4-b458-47e6-8ef5-95446768c64c"
      },
      "source": [
        "print(model3.summary())\n",
        "model3.compile(optimizer='sgd',loss='categorical_crossentropy', metrics=['acc', 'mse'])\n",
        "\n",
        "hist3 = model3.fit(X_train, y_train, epochs=150, batch_size=128, validation_data=(X_test,y_test))"
      ],
      "execution_count": null,
      "outputs": [
        {
          "output_type": "stream",
          "name": "stdout",
          "text": [
            "Model: \"sequential_7\"\n",
            "_________________________________________________________________\n",
            "Layer (type)                 Output Shape              Param #   \n",
            "=================================================================\n",
            "dense_42 (Dense)             (None, 512)               2560      \n",
            "_________________________________________________________________\n",
            "dense_43 (Dense)             (None, 256)               131328    \n",
            "_________________________________________________________________\n",
            "dense_44 (Dense)             (None, 128)               32896     \n",
            "_________________________________________________________________\n",
            "dense_45 (Dense)             (None, 64)                8256      \n",
            "_________________________________________________________________\n",
            "dense_46 (Dense)             (None, 32)                2080      \n",
            "_________________________________________________________________\n",
            "dense_47 (Dense)             (None, 3)                 99        \n",
            "=================================================================\n",
            "Total params: 177,219\n",
            "Trainable params: 177,219\n",
            "Non-trainable params: 0\n",
            "_________________________________________________________________\n",
            "None\n",
            "Epoch 1/150\n",
            "1/1 [==============================] - 1s 708ms/step - loss: 62.7958 - acc: 0.2143 - mse: 0.2483 - val_loss: 62.6025 - val_acc: 0.3684 - val_mse: 0.2364\n",
            "Epoch 2/150\n",
            "1/1 [==============================] - 0s 27ms/step - loss: 62.6136 - acc: 0.2946 - mse: 0.2392 - val_loss: 62.4310 - val_acc: 0.3947 - val_mse: 0.2291\n",
            "Epoch 3/150\n",
            "1/1 [==============================] - 0s 32ms/step - loss: 62.4389 - acc: 0.3036 - mse: 0.2311 - val_loss: 62.2653 - val_acc: 0.3684 - val_mse: 0.2227\n",
            "Epoch 4/150\n",
            "1/1 [==============================] - 0s 27ms/step - loss: 62.2681 - acc: 0.3214 - mse: 0.2235 - val_loss: 62.1029 - val_acc: 0.3684 - val_mse: 0.2168\n",
            "Epoch 5/150\n",
            "1/1 [==============================] - 0s 27ms/step - loss: 62.1015 - acc: 0.3571 - mse: 0.2167 - val_loss: 61.9423 - val_acc: 0.4474 - val_mse: 0.2112\n",
            "Epoch 6/150\n",
            "1/1 [==============================] - 0s 28ms/step - loss: 61.9375 - acc: 0.4554 - mse: 0.2102 - val_loss: 61.7830 - val_acc: 0.4211 - val_mse: 0.2058\n",
            "Epoch 7/150\n",
            "1/1 [==============================] - 0s 33ms/step - loss: 61.7752 - acc: 0.4911 - mse: 0.2041 - val_loss: 61.6246 - val_acc: 0.4211 - val_mse: 0.2005\n",
            "Epoch 8/150\n",
            "1/1 [==============================] - 0s 32ms/step - loss: 61.6143 - acc: 0.5625 - mse: 0.1981 - val_loss: 61.4677 - val_acc: 0.5526 - val_mse: 0.1954\n",
            "Epoch 9/150\n",
            "1/1 [==============================] - 0s 32ms/step - loss: 61.4555 - acc: 0.6786 - mse: 0.1926 - val_loss: 61.3131 - val_acc: 0.6579 - val_mse: 0.1908\n",
            "Epoch 10/150\n",
            "1/1 [==============================] - 0s 40ms/step - loss: 61.2988 - acc: 0.8214 - mse: 0.1874 - val_loss: 61.1606 - val_acc: 0.7368 - val_mse: 0.1866\n",
            "Epoch 11/150\n",
            "1/1 [==============================] - 0s 31ms/step - loss: 61.1440 - acc: 0.8393 - mse: 0.1826 - val_loss: 61.0097 - val_acc: 0.7368 - val_mse: 0.1827\n",
            "Epoch 12/150\n",
            "1/1 [==============================] - 0s 35ms/step - loss: 60.9905 - acc: 0.8482 - mse: 0.1780 - val_loss: 60.8604 - val_acc: 0.7368 - val_mse: 0.1792\n",
            "Epoch 13/150\n",
            "1/1 [==============================] - 0s 44ms/step - loss: 60.8384 - acc: 0.8571 - mse: 0.1737 - val_loss: 60.7124 - val_acc: 0.7368 - val_mse: 0.1759\n",
            "Epoch 14/150\n",
            "1/1 [==============================] - 0s 33ms/step - loss: 60.6877 - acc: 0.8571 - mse: 0.1697 - val_loss: 60.5653 - val_acc: 0.7632 - val_mse: 0.1728\n",
            "Epoch 15/150\n",
            "1/1 [==============================] - 0s 34ms/step - loss: 60.5380 - acc: 0.8571 - mse: 0.1658 - val_loss: 60.4193 - val_acc: 0.7632 - val_mse: 0.1698\n",
            "Epoch 16/150\n",
            "1/1 [==============================] - 0s 51ms/step - loss: 60.3894 - acc: 0.8571 - mse: 0.1622 - val_loss: 60.2741 - val_acc: 0.7632 - val_mse: 0.1671\n",
            "Epoch 17/150\n",
            "1/1 [==============================] - 0s 35ms/step - loss: 60.2418 - acc: 0.8571 - mse: 0.1587 - val_loss: 60.1297 - val_acc: 0.7632 - val_mse: 0.1644\n",
            "Epoch 18/150\n",
            "1/1 [==============================] - 0s 31ms/step - loss: 60.0953 - acc: 0.8661 - mse: 0.1555 - val_loss: 59.9861 - val_acc: 0.7632 - val_mse: 0.1619\n",
            "Epoch 19/150\n",
            "1/1 [==============================] - 0s 30ms/step - loss: 59.9497 - acc: 0.8661 - mse: 0.1523 - val_loss: 59.8431 - val_acc: 0.7632 - val_mse: 0.1594\n",
            "Epoch 20/150\n",
            "1/1 [==============================] - 0s 31ms/step - loss: 59.8048 - acc: 0.8661 - mse: 0.1493 - val_loss: 59.7007 - val_acc: 0.7632 - val_mse: 0.1570\n",
            "Epoch 21/150\n",
            "1/1 [==============================] - 0s 31ms/step - loss: 59.6604 - acc: 0.8661 - mse: 0.1464 - val_loss: 59.5588 - val_acc: 0.7632 - val_mse: 0.1548\n",
            "Epoch 22/150\n",
            "1/1 [==============================] - 0s 39ms/step - loss: 59.5166 - acc: 0.8750 - mse: 0.1435 - val_loss: 59.4174 - val_acc: 0.7632 - val_mse: 0.1525\n",
            "Epoch 23/150\n",
            "1/1 [==============================] - 0s 32ms/step - loss: 59.3735 - acc: 0.8750 - mse: 0.1408 - val_loss: 59.2765 - val_acc: 0.7632 - val_mse: 0.1503\n",
            "Epoch 24/150\n",
            "1/1 [==============================] - 0s 32ms/step - loss: 59.2309 - acc: 0.8750 - mse: 0.1381 - val_loss: 59.1361 - val_acc: 0.7632 - val_mse: 0.1482\n",
            "Epoch 25/150\n",
            "1/1 [==============================] - 0s 35ms/step - loss: 59.0890 - acc: 0.8750 - mse: 0.1355 - val_loss: 58.9959 - val_acc: 0.7632 - val_mse: 0.1462\n",
            "Epoch 26/150\n",
            "1/1 [==============================] - 0s 35ms/step - loss: 58.9474 - acc: 0.8750 - mse: 0.1330 - val_loss: 58.8562 - val_acc: 0.7632 - val_mse: 0.1441\n",
            "Epoch 27/150\n",
            "1/1 [==============================] - 0s 33ms/step - loss: 58.8062 - acc: 0.8750 - mse: 0.1305 - val_loss: 58.7169 - val_acc: 0.7632 - val_mse: 0.1422\n",
            "Epoch 28/150\n",
            "1/1 [==============================] - 0s 39ms/step - loss: 58.6655 - acc: 0.8750 - mse: 0.1281 - val_loss: 58.5780 - val_acc: 0.7632 - val_mse: 0.1402\n",
            "Epoch 29/150\n",
            "1/1 [==============================] - 0s 34ms/step - loss: 58.5253 - acc: 0.8839 - mse: 0.1258 - val_loss: 58.4396 - val_acc: 0.7632 - val_mse: 0.1384\n",
            "Epoch 30/150\n",
            "1/1 [==============================] - 0s 41ms/step - loss: 58.3856 - acc: 0.8839 - mse: 0.1236 - val_loss: 58.3018 - val_acc: 0.7632 - val_mse: 0.1367\n",
            "Epoch 31/150\n",
            "1/1 [==============================] - 0s 31ms/step - loss: 58.2465 - acc: 0.8839 - mse: 0.1214 - val_loss: 58.1642 - val_acc: 0.7632 - val_mse: 0.1350\n",
            "Epoch 32/150\n",
            "1/1 [==============================] - 0s 32ms/step - loss: 58.1078 - acc: 0.8839 - mse: 0.1194 - val_loss: 58.0272 - val_acc: 0.7632 - val_mse: 0.1333\n",
            "Epoch 33/150\n",
            "1/1 [==============================] - 0s 35ms/step - loss: 57.9696 - acc: 0.8839 - mse: 0.1174 - val_loss: 57.8904 - val_acc: 0.7632 - val_mse: 0.1317\n",
            "Epoch 34/150\n",
            "1/1 [==============================] - 0s 37ms/step - loss: 57.8318 - acc: 0.8839 - mse: 0.1155 - val_loss: 57.7542 - val_acc: 0.7632 - val_mse: 0.1302\n",
            "Epoch 35/150\n",
            "1/1 [==============================] - 0s 41ms/step - loss: 57.6945 - acc: 0.8929 - mse: 0.1136 - val_loss: 57.6182 - val_acc: 0.7632 - val_mse: 0.1288\n",
            "Epoch 36/150\n",
            "1/1 [==============================] - 0s 37ms/step - loss: 57.5576 - acc: 0.8929 - mse: 0.1118 - val_loss: 57.4826 - val_acc: 0.7632 - val_mse: 0.1273\n",
            "Epoch 37/150\n",
            "1/1 [==============================] - 0s 31ms/step - loss: 57.4210 - acc: 0.8929 - mse: 0.1100 - val_loss: 57.3474 - val_acc: 0.7632 - val_mse: 0.1259\n",
            "Epoch 38/150\n",
            "1/1 [==============================] - 0s 37ms/step - loss: 57.2848 - acc: 0.8929 - mse: 0.1083 - val_loss: 57.2125 - val_acc: 0.7632 - val_mse: 0.1246\n",
            "Epoch 39/150\n",
            "1/1 [==============================] - 0s 38ms/step - loss: 57.1490 - acc: 0.8929 - mse: 0.1067 - val_loss: 57.0778 - val_acc: 0.7632 - val_mse: 0.1233\n",
            "Epoch 40/150\n",
            "1/1 [==============================] - 0s 34ms/step - loss: 57.0134 - acc: 0.8929 - mse: 0.1051 - val_loss: 56.9435 - val_acc: 0.7632 - val_mse: 0.1220\n",
            "Epoch 41/150\n",
            "1/1 [==============================] - 0s 35ms/step - loss: 56.8783 - acc: 0.8929 - mse: 0.1035 - val_loss: 56.8095 - val_acc: 0.7632 - val_mse: 0.1208\n",
            "Epoch 42/150\n",
            "1/1 [==============================] - 0s 43ms/step - loss: 56.7434 - acc: 0.8839 - mse: 0.1020 - val_loss: 56.6758 - val_acc: 0.7632 - val_mse: 0.1196\n",
            "Epoch 43/150\n",
            "1/1 [==============================] - 0s 33ms/step - loss: 56.6088 - acc: 0.8929 - mse: 0.1006 - val_loss: 56.5422 - val_acc: 0.7632 - val_mse: 0.1184\n",
            "Epoch 44/150\n",
            "1/1 [==============================] - 0s 38ms/step - loss: 56.4745 - acc: 0.8929 - mse: 0.0991 - val_loss: 56.4091 - val_acc: 0.7632 - val_mse: 0.1172\n",
            "Epoch 45/150\n",
            "1/1 [==============================] - 0s 33ms/step - loss: 56.3406 - acc: 0.8929 - mse: 0.0977 - val_loss: 56.2761 - val_acc: 0.7632 - val_mse: 0.1161\n",
            "Epoch 46/150\n",
            "1/1 [==============================] - 0s 36ms/step - loss: 56.2068 - acc: 0.8929 - mse: 0.0963 - val_loss: 56.1435 - val_acc: 0.7632 - val_mse: 0.1150\n",
            "Epoch 47/150\n",
            "1/1 [==============================] - 0s 31ms/step - loss: 56.0735 - acc: 0.8929 - mse: 0.0950 - val_loss: 56.0111 - val_acc: 0.7632 - val_mse: 0.1140\n",
            "Epoch 48/150\n",
            "1/1 [==============================] - 0s 39ms/step - loss: 55.9403 - acc: 0.8929 - mse: 0.0937 - val_loss: 55.8791 - val_acc: 0.7632 - val_mse: 0.1129\n",
            "Epoch 49/150\n",
            "1/1 [==============================] - 0s 38ms/step - loss: 55.8075 - acc: 0.8929 - mse: 0.0924 - val_loss: 55.7471 - val_acc: 0.7632 - val_mse: 0.1119\n",
            "Epoch 50/150\n",
            "1/1 [==============================] - 0s 44ms/step - loss: 55.6749 - acc: 0.9018 - mse: 0.0912 - val_loss: 55.6154 - val_acc: 0.7632 - val_mse: 0.1109\n",
            "Epoch 51/150\n",
            "1/1 [==============================] - 0s 30ms/step - loss: 55.5426 - acc: 0.9018 - mse: 0.0900 - val_loss: 55.4837 - val_acc: 0.7632 - val_mse: 0.1099\n",
            "Epoch 52/150\n",
            "1/1 [==============================] - 0s 34ms/step - loss: 55.4105 - acc: 0.9018 - mse: 0.0888 - val_loss: 55.3523 - val_acc: 0.7632 - val_mse: 0.1089\n",
            "Epoch 53/150\n",
            "1/1 [==============================] - 0s 38ms/step - loss: 55.2786 - acc: 0.9018 - mse: 0.0876 - val_loss: 55.2212 - val_acc: 0.7632 - val_mse: 0.1079\n",
            "Epoch 54/150\n",
            "1/1 [==============================] - 0s 29ms/step - loss: 55.1469 - acc: 0.9018 - mse: 0.0865 - val_loss: 55.0902 - val_acc: 0.7632 - val_mse: 0.1069\n",
            "Epoch 55/150\n",
            "1/1 [==============================] - 0s 34ms/step - loss: 55.0154 - acc: 0.9018 - mse: 0.0853 - val_loss: 54.9597 - val_acc: 0.7632 - val_mse: 0.1060\n",
            "Epoch 56/150\n",
            "1/1 [==============================] - 0s 35ms/step - loss: 54.8843 - acc: 0.9018 - mse: 0.0842 - val_loss: 54.8294 - val_acc: 0.7632 - val_mse: 0.1052\n",
            "Epoch 57/150\n",
            "1/1 [==============================] - 0s 41ms/step - loss: 54.7534 - acc: 0.9018 - mse: 0.0832 - val_loss: 54.6993 - val_acc: 0.7632 - val_mse: 0.1043\n",
            "Epoch 58/150\n",
            "1/1 [==============================] - 0s 35ms/step - loss: 54.6229 - acc: 0.9018 - mse: 0.0822 - val_loss: 54.5696 - val_acc: 0.7632 - val_mse: 0.1035\n",
            "Epoch 59/150\n",
            "1/1 [==============================] - 0s 37ms/step - loss: 54.4926 - acc: 0.9018 - mse: 0.0812 - val_loss: 54.4401 - val_acc: 0.7632 - val_mse: 0.1027\n",
            "Epoch 60/150\n",
            "1/1 [==============================] - 0s 41ms/step - loss: 54.3627 - acc: 0.9018 - mse: 0.0803 - val_loss: 54.3108 - val_acc: 0.7632 - val_mse: 0.1020\n",
            "Epoch 61/150\n",
            "1/1 [==============================] - 0s 38ms/step - loss: 54.2329 - acc: 0.9018 - mse: 0.0794 - val_loss: 54.1818 - val_acc: 0.7632 - val_mse: 0.1013\n",
            "Epoch 62/150\n",
            "1/1 [==============================] - 0s 30ms/step - loss: 54.1035 - acc: 0.9018 - mse: 0.0785 - val_loss: 54.0531 - val_acc: 0.7632 - val_mse: 0.1006\n",
            "Epoch 63/150\n",
            "1/1 [==============================] - 0s 42ms/step - loss: 53.9743 - acc: 0.9018 - mse: 0.0776 - val_loss: 53.9246 - val_acc: 0.7632 - val_mse: 0.0999\n",
            "Epoch 64/150\n",
            "1/1 [==============================] - 0s 30ms/step - loss: 53.8454 - acc: 0.9018 - mse: 0.0768 - val_loss: 53.7963 - val_acc: 0.7632 - val_mse: 0.0992\n",
            "Epoch 65/150\n",
            "1/1 [==============================] - 0s 35ms/step - loss: 53.7168 - acc: 0.9018 - mse: 0.0760 - val_loss: 53.6683 - val_acc: 0.7632 - val_mse: 0.0985\n",
            "Epoch 66/150\n",
            "1/1 [==============================] - 0s 37ms/step - loss: 53.5884 - acc: 0.9018 - mse: 0.0752 - val_loss: 53.5404 - val_acc: 0.7632 - val_mse: 0.0979\n",
            "Epoch 67/150\n",
            "1/1 [==============================] - 0s 37ms/step - loss: 53.4602 - acc: 0.9018 - mse: 0.0745 - val_loss: 53.4129 - val_acc: 0.7632 - val_mse: 0.0973\n",
            "Epoch 68/150\n",
            "1/1 [==============================] - 0s 34ms/step - loss: 53.3323 - acc: 0.9018 - mse: 0.0737 - val_loss: 53.2855 - val_acc: 0.7632 - val_mse: 0.0967\n",
            "Epoch 69/150\n",
            "1/1 [==============================] - 0s 61ms/step - loss: 53.2046 - acc: 0.9018 - mse: 0.0730 - val_loss: 53.1584 - val_acc: 0.7632 - val_mse: 0.0962\n",
            "Epoch 70/150\n",
            "1/1 [==============================] - 0s 31ms/step - loss: 53.0772 - acc: 0.9018 - mse: 0.0724 - val_loss: 53.0314 - val_acc: 0.7632 - val_mse: 0.0956\n",
            "Epoch 71/150\n",
            "1/1 [==============================] - 0s 32ms/step - loss: 52.9499 - acc: 0.9018 - mse: 0.0717 - val_loss: 52.9047 - val_acc: 0.7632 - val_mse: 0.0951\n",
            "Epoch 72/150\n",
            "1/1 [==============================] - 0s 29ms/step - loss: 52.8229 - acc: 0.9018 - mse: 0.0710 - val_loss: 52.7782 - val_acc: 0.7632 - val_mse: 0.0945\n",
            "Epoch 73/150\n",
            "1/1 [==============================] - 0s 32ms/step - loss: 52.6961 - acc: 0.9018 - mse: 0.0704 - val_loss: 52.6518 - val_acc: 0.7632 - val_mse: 0.0940\n",
            "Epoch 74/150\n",
            "1/1 [==============================] - 0s 37ms/step - loss: 52.5695 - acc: 0.9018 - mse: 0.0698 - val_loss: 52.5257 - val_acc: 0.7632 - val_mse: 0.0935\n",
            "Epoch 75/150\n",
            "1/1 [==============================] - 0s 44ms/step - loss: 52.4431 - acc: 0.9018 - mse: 0.0692 - val_loss: 52.3998 - val_acc: 0.7632 - val_mse: 0.0930\n",
            "Epoch 76/150\n",
            "1/1 [==============================] - 0s 41ms/step - loss: 52.3170 - acc: 0.9018 - mse: 0.0686 - val_loss: 52.2741 - val_acc: 0.7632 - val_mse: 0.0925\n",
            "Epoch 77/150\n",
            "1/1 [==============================] - 0s 36ms/step - loss: 52.1911 - acc: 0.9018 - mse: 0.0681 - val_loss: 52.1486 - val_acc: 0.7632 - val_mse: 0.0920\n",
            "Epoch 78/150\n",
            "1/1 [==============================] - 0s 31ms/step - loss: 52.0654 - acc: 0.9018 - mse: 0.0675 - val_loss: 52.0234 - val_acc: 0.7895 - val_mse: 0.0916\n",
            "Epoch 79/150\n",
            "1/1 [==============================] - 0s 35ms/step - loss: 51.9400 - acc: 0.9018 - mse: 0.0670 - val_loss: 51.8982 - val_acc: 0.7895 - val_mse: 0.0911\n",
            "Epoch 80/150\n",
            "1/1 [==============================] - 0s 37ms/step - loss: 51.8146 - acc: 0.9018 - mse: 0.0665 - val_loss: 51.7734 - val_acc: 0.7895 - val_mse: 0.0907\n",
            "Epoch 81/150\n",
            "1/1 [==============================] - 0s 31ms/step - loss: 51.6896 - acc: 0.9018 - mse: 0.0660 - val_loss: 51.6486 - val_acc: 0.7895 - val_mse: 0.0903\n",
            "Epoch 82/150\n",
            "1/1 [==============================] - 0s 39ms/step - loss: 51.5647 - acc: 0.9107 - mse: 0.0655 - val_loss: 51.5241 - val_acc: 0.7895 - val_mse: 0.0898\n",
            "Epoch 83/150\n",
            "1/1 [==============================] - 0s 33ms/step - loss: 51.4400 - acc: 0.9107 - mse: 0.0650 - val_loss: 51.3997 - val_acc: 0.7895 - val_mse: 0.0894\n",
            "Epoch 84/150\n",
            "1/1 [==============================] - 0s 38ms/step - loss: 51.3155 - acc: 0.9107 - mse: 0.0645 - val_loss: 51.2756 - val_acc: 0.7895 - val_mse: 0.0890\n",
            "Epoch 85/150\n",
            "1/1 [==============================] - 0s 41ms/step - loss: 51.1912 - acc: 0.9196 - mse: 0.0640 - val_loss: 51.1517 - val_acc: 0.7895 - val_mse: 0.0886\n",
            "Epoch 86/150\n",
            "1/1 [==============================] - 0s 33ms/step - loss: 51.0671 - acc: 0.9196 - mse: 0.0636 - val_loss: 51.0279 - val_acc: 0.7895 - val_mse: 0.0882\n",
            "Epoch 87/150\n",
            "1/1 [==============================] - 0s 48ms/step - loss: 50.9433 - acc: 0.9196 - mse: 0.0631 - val_loss: 50.9043 - val_acc: 0.7895 - val_mse: 0.0878\n",
            "Epoch 88/150\n",
            "1/1 [==============================] - 0s 50ms/step - loss: 50.8196 - acc: 0.9286 - mse: 0.0627 - val_loss: 50.7809 - val_acc: 0.7895 - val_mse: 0.0874\n",
            "Epoch 89/150\n",
            "1/1 [==============================] - 0s 35ms/step - loss: 50.6960 - acc: 0.9286 - mse: 0.0623 - val_loss: 50.6578 - val_acc: 0.7895 - val_mse: 0.0871\n",
            "Epoch 90/150\n",
            "1/1 [==============================] - 0s 37ms/step - loss: 50.5728 - acc: 0.9286 - mse: 0.0618 - val_loss: 50.5347 - val_acc: 0.7895 - val_mse: 0.0867\n",
            "Epoch 91/150\n",
            "1/1 [==============================] - 0s 36ms/step - loss: 50.4496 - acc: 0.9286 - mse: 0.0614 - val_loss: 50.4120 - val_acc: 0.7895 - val_mse: 0.0863\n",
            "Epoch 92/150\n",
            "1/1 [==============================] - 0s 34ms/step - loss: 50.3267 - acc: 0.9375 - mse: 0.0610 - val_loss: 50.2893 - val_acc: 0.7895 - val_mse: 0.0860\n",
            "Epoch 93/150\n",
            "1/1 [==============================] - 0s 37ms/step - loss: 50.2039 - acc: 0.9375 - mse: 0.0606 - val_loss: 50.1670 - val_acc: 0.7895 - val_mse: 0.0857\n",
            "Epoch 94/150\n",
            "1/1 [==============================] - 0s 38ms/step - loss: 50.0814 - acc: 0.9375 - mse: 0.0602 - val_loss: 50.0446 - val_acc: 0.7895 - val_mse: 0.0853\n",
            "Epoch 95/150\n",
            "1/1 [==============================] - 0s 40ms/step - loss: 49.9590 - acc: 0.9375 - mse: 0.0599 - val_loss: 49.9226 - val_acc: 0.7895 - val_mse: 0.0850\n",
            "Epoch 96/150\n",
            "1/1 [==============================] - 0s 36ms/step - loss: 49.8369 - acc: 0.9375 - mse: 0.0595 - val_loss: 49.8006 - val_acc: 0.7895 - val_mse: 0.0846\n",
            "Epoch 97/150\n",
            "1/1 [==============================] - 0s 34ms/step - loss: 49.7148 - acc: 0.9375 - mse: 0.0591 - val_loss: 49.6789 - val_acc: 0.7895 - val_mse: 0.0843\n",
            "Epoch 98/150\n",
            "1/1 [==============================] - 0s 39ms/step - loss: 49.5930 - acc: 0.9375 - mse: 0.0588 - val_loss: 49.5572 - val_acc: 0.7895 - val_mse: 0.0840\n",
            "Epoch 99/150\n",
            "1/1 [==============================] - 0s 32ms/step - loss: 49.4713 - acc: 0.9375 - mse: 0.0584 - val_loss: 49.4359 - val_acc: 0.7895 - val_mse: 0.0837\n",
            "Epoch 100/150\n",
            "1/1 [==============================] - 0s 49ms/step - loss: 49.3498 - acc: 0.9375 - mse: 0.0581 - val_loss: 49.3146 - val_acc: 0.7895 - val_mse: 0.0834\n",
            "Epoch 101/150\n",
            "1/1 [==============================] - 0s 33ms/step - loss: 49.2285 - acc: 0.9375 - mse: 0.0577 - val_loss: 49.1936 - val_acc: 0.7895 - val_mse: 0.0831\n",
            "Epoch 102/150\n",
            "1/1 [==============================] - 0s 40ms/step - loss: 49.1074 - acc: 0.9375 - mse: 0.0574 - val_loss: 49.0727 - val_acc: 0.7895 - val_mse: 0.0827\n",
            "Epoch 103/150\n",
            "1/1 [==============================] - 0s 38ms/step - loss: 48.9864 - acc: 0.9375 - mse: 0.0570 - val_loss: 48.9520 - val_acc: 0.7895 - val_mse: 0.0824\n",
            "Epoch 104/150\n",
            "1/1 [==============================] - 0s 32ms/step - loss: 48.8656 - acc: 0.9375 - mse: 0.0567 - val_loss: 48.8314 - val_acc: 0.7895 - val_mse: 0.0821\n",
            "Epoch 105/150\n",
            "1/1 [==============================] - 0s 31ms/step - loss: 48.7450 - acc: 0.9375 - mse: 0.0564 - val_loss: 48.7111 - val_acc: 0.7895 - val_mse: 0.0819\n",
            "Epoch 106/150\n",
            "1/1 [==============================] - 0s 35ms/step - loss: 48.6246 - acc: 0.9375 - mse: 0.0561 - val_loss: 48.5908 - val_acc: 0.7895 - val_mse: 0.0816\n",
            "Epoch 107/150\n",
            "1/1 [==============================] - 0s 38ms/step - loss: 48.5043 - acc: 0.9375 - mse: 0.0558 - val_loss: 48.4709 - val_acc: 0.7895 - val_mse: 0.0813\n",
            "Epoch 108/150\n",
            "1/1 [==============================] - 0s 40ms/step - loss: 48.3843 - acc: 0.9375 - mse: 0.0554 - val_loss: 48.3510 - val_acc: 0.7895 - val_mse: 0.0810\n",
            "Epoch 109/150\n",
            "1/1 [==============================] - 0s 40ms/step - loss: 48.2643 - acc: 0.9375 - mse: 0.0551 - val_loss: 48.2314 - val_acc: 0.7895 - val_mse: 0.0807\n",
            "Epoch 110/150\n",
            "1/1 [==============================] - 0s 38ms/step - loss: 48.1446 - acc: 0.9375 - mse: 0.0548 - val_loss: 48.1118 - val_acc: 0.7895 - val_mse: 0.0804\n",
            "Epoch 111/150\n",
            "1/1 [==============================] - 0s 41ms/step - loss: 48.0250 - acc: 0.9375 - mse: 0.0545 - val_loss: 47.9925 - val_acc: 0.7895 - val_mse: 0.0802\n",
            "Epoch 112/150\n",
            "1/1 [==============================] - 0s 34ms/step - loss: 47.9057 - acc: 0.9375 - mse: 0.0542 - val_loss: 47.8732 - val_acc: 0.7895 - val_mse: 0.0799\n",
            "Epoch 113/150\n",
            "1/1 [==============================] - 0s 32ms/step - loss: 47.7864 - acc: 0.9375 - mse: 0.0540 - val_loss: 47.7543 - val_acc: 0.7895 - val_mse: 0.0796\n",
            "Epoch 114/150\n",
            "1/1 [==============================] - 0s 35ms/step - loss: 47.6674 - acc: 0.9375 - mse: 0.0537 - val_loss: 47.6354 - val_acc: 0.7895 - val_mse: 0.0793\n",
            "Epoch 115/150\n",
            "1/1 [==============================] - 0s 33ms/step - loss: 47.5484 - acc: 0.9375 - mse: 0.0534 - val_loss: 47.5169 - val_acc: 0.7895 - val_mse: 0.0791\n",
            "Epoch 116/150\n",
            "1/1 [==============================] - 0s 40ms/step - loss: 47.4299 - acc: 0.9375 - mse: 0.0531 - val_loss: 47.3982 - val_acc: 0.7895 - val_mse: 0.0788\n",
            "Epoch 117/150\n",
            "1/1 [==============================] - 0s 44ms/step - loss: 47.3113 - acc: 0.9375 - mse: 0.0528 - val_loss: 47.2801 - val_acc: 0.7895 - val_mse: 0.0786\n",
            "Epoch 118/150\n",
            "1/1 [==============================] - 0s 33ms/step - loss: 47.1931 - acc: 0.9375 - mse: 0.0526 - val_loss: 47.1618 - val_acc: 0.7895 - val_mse: 0.0783\n",
            "Epoch 119/150\n",
            "1/1 [==============================] - 0s 39ms/step - loss: 47.0747 - acc: 0.9375 - mse: 0.0523 - val_loss: 47.0440 - val_acc: 0.7895 - val_mse: 0.0780\n",
            "Epoch 120/150\n",
            "1/1 [==============================] - 0s 34ms/step - loss: 46.9569 - acc: 0.9375 - mse: 0.0520 - val_loss: 46.9260 - val_acc: 0.8158 - val_mse: 0.0778\n",
            "Epoch 121/150\n",
            "1/1 [==============================] - 0s 37ms/step - loss: 46.8389 - acc: 0.9375 - mse: 0.0518 - val_loss: 46.8085 - val_acc: 0.8158 - val_mse: 0.0775\n",
            "Epoch 122/150\n",
            "1/1 [==============================] - 0s 36ms/step - loss: 46.7214 - acc: 0.9375 - mse: 0.0515 - val_loss: 46.6909 - val_acc: 0.8158 - val_mse: 0.0773\n",
            "Epoch 123/150\n",
            "1/1 [==============================] - 0s 43ms/step - loss: 46.6037 - acc: 0.9375 - mse: 0.0513 - val_loss: 46.5737 - val_acc: 0.8158 - val_mse: 0.0771\n",
            "Epoch 124/150\n",
            "1/1 [==============================] - 0s 31ms/step - loss: 46.4865 - acc: 0.9375 - mse: 0.0510 - val_loss: 46.4565 - val_acc: 0.8158 - val_mse: 0.0768\n",
            "Epoch 125/150\n",
            "1/1 [==============================] - 0s 33ms/step - loss: 46.3692 - acc: 0.9375 - mse: 0.0508 - val_loss: 46.3396 - val_acc: 0.8158 - val_mse: 0.0766\n",
            "Epoch 126/150\n",
            "1/1 [==============================] - 0s 32ms/step - loss: 46.2523 - acc: 0.9375 - mse: 0.0505 - val_loss: 46.2226 - val_acc: 0.8158 - val_mse: 0.0764\n",
            "Epoch 127/150\n",
            "1/1 [==============================] - 0s 32ms/step - loss: 46.1354 - acc: 0.9375 - mse: 0.0503 - val_loss: 46.1061 - val_acc: 0.8158 - val_mse: 0.0761\n",
            "Epoch 128/150\n",
            "1/1 [==============================] - 0s 37ms/step - loss: 46.0188 - acc: 0.9375 - mse: 0.0500 - val_loss: 45.9895 - val_acc: 0.8158 - val_mse: 0.0759\n",
            "Epoch 129/150\n",
            "1/1 [==============================] - 0s 41ms/step - loss: 45.9022 - acc: 0.9375 - mse: 0.0498 - val_loss: 45.8733 - val_acc: 0.8158 - val_mse: 0.0757\n",
            "Epoch 130/150\n",
            "1/1 [==============================] - 0s 45ms/step - loss: 45.7859 - acc: 0.9375 - mse: 0.0496 - val_loss: 45.7570 - val_acc: 0.8158 - val_mse: 0.0754\n",
            "Epoch 131/150\n",
            "1/1 [==============================] - 0s 40ms/step - loss: 45.6696 - acc: 0.9375 - mse: 0.0493 - val_loss: 45.6411 - val_acc: 0.8158 - val_mse: 0.0752\n",
            "Epoch 132/150\n",
            "1/1 [==============================] - 0s 36ms/step - loss: 45.5537 - acc: 0.9375 - mse: 0.0491 - val_loss: 45.5250 - val_acc: 0.8158 - val_mse: 0.0750\n",
            "Epoch 133/150\n",
            "1/1 [==============================] - 0s 39ms/step - loss: 45.4376 - acc: 0.9375 - mse: 0.0489 - val_loss: 45.4095 - val_acc: 0.8158 - val_mse: 0.0748\n",
            "Epoch 134/150\n",
            "1/1 [==============================] - 0s 36ms/step - loss: 45.3221 - acc: 0.9375 - mse: 0.0487 - val_loss: 45.2937 - val_acc: 0.8158 - val_mse: 0.0746\n",
            "Epoch 135/150\n",
            "1/1 [==============================] - 0s 44ms/step - loss: 45.2063 - acc: 0.9375 - mse: 0.0484 - val_loss: 45.1785 - val_acc: 0.8158 - val_mse: 0.0743\n",
            "Epoch 136/150\n",
            "1/1 [==============================] - 0s 55ms/step - loss: 45.0911 - acc: 0.9375 - mse: 0.0482 - val_loss: 45.0632 - val_acc: 0.8158 - val_mse: 0.0741\n",
            "Epoch 137/150\n",
            "1/1 [==============================] - 0s 40ms/step - loss: 44.9757 - acc: 0.9375 - mse: 0.0480 - val_loss: 44.9482 - val_acc: 0.8158 - val_mse: 0.0739\n",
            "Epoch 138/150\n",
            "1/1 [==============================] - 0s 32ms/step - loss: 44.8608 - acc: 0.9375 - mse: 0.0478 - val_loss: 44.8332 - val_acc: 0.8158 - val_mse: 0.0737\n",
            "Epoch 139/150\n",
            "1/1 [==============================] - 0s 44ms/step - loss: 44.7458 - acc: 0.9375 - mse: 0.0476 - val_loss: 44.7185 - val_acc: 0.8158 - val_mse: 0.0735\n",
            "Epoch 140/150\n",
            "1/1 [==============================] - 0s 37ms/step - loss: 44.6311 - acc: 0.9375 - mse: 0.0474 - val_loss: 44.6039 - val_acc: 0.8158 - val_mse: 0.0733\n",
            "Epoch 141/150\n",
            "1/1 [==============================] - 0s 34ms/step - loss: 44.5164 - acc: 0.9375 - mse: 0.0472 - val_loss: 44.4894 - val_acc: 0.8158 - val_mse: 0.0731\n",
            "Epoch 142/150\n",
            "1/1 [==============================] - 0s 31ms/step - loss: 44.4020 - acc: 0.9375 - mse: 0.0470 - val_loss: 44.3751 - val_acc: 0.8158 - val_mse: 0.0729\n",
            "Epoch 143/150\n",
            "1/1 [==============================] - 0s 36ms/step - loss: 44.2877 - acc: 0.9375 - mse: 0.0468 - val_loss: 44.2610 - val_acc: 0.8158 - val_mse: 0.0726\n",
            "Epoch 144/150\n",
            "1/1 [==============================] - 0s 40ms/step - loss: 44.1736 - acc: 0.9375 - mse: 0.0466 - val_loss: 44.1470 - val_acc: 0.8158 - val_mse: 0.0724\n",
            "Epoch 145/150\n",
            "1/1 [==============================] - 0s 36ms/step - loss: 44.0596 - acc: 0.9464 - mse: 0.0464 - val_loss: 44.0332 - val_acc: 0.8158 - val_mse: 0.0722\n",
            "Epoch 146/150\n",
            "1/1 [==============================] - 0s 36ms/step - loss: 43.9458 - acc: 0.9464 - mse: 0.0462 - val_loss: 43.9195 - val_acc: 0.8158 - val_mse: 0.0720\n",
            "Epoch 147/150\n",
            "1/1 [==============================] - 0s 35ms/step - loss: 43.8322 - acc: 0.9464 - mse: 0.0460 - val_loss: 43.8061 - val_acc: 0.8158 - val_mse: 0.0718\n",
            "Epoch 148/150\n",
            "1/1 [==============================] - 0s 35ms/step - loss: 43.7187 - acc: 0.9464 - mse: 0.0458 - val_loss: 43.6927 - val_acc: 0.8158 - val_mse: 0.0716\n",
            "Epoch 149/150\n",
            "1/1 [==============================] - 0s 39ms/step - loss: 43.6054 - acc: 0.9464 - mse: 0.0456 - val_loss: 43.5796 - val_acc: 0.8158 - val_mse: 0.0714\n",
            "Epoch 150/150\n",
            "1/1 [==============================] - 0s 37ms/step - loss: 43.4923 - acc: 0.9464 - mse: 0.0454 - val_loss: 43.4666 - val_acc: 0.8158 - val_mse: 0.0712\n"
          ]
        }
      ]
    },
    {
      "cell_type": "code",
      "metadata": {
        "id": "feEcldBzlwww",
        "colab": {
          "base_uri": "https://localhost:8080/"
        },
        "outputId": "bf2f1008-f291-4eca-8108-ebf71c6ad746"
      },
      "source": [
        "#just how we used evaluate() in the basic model previously, use it again to find the loss, accuracy and MSE on the test set\n",
        "\n",
        "test_loss2, test_acc2,test_mse2 = model3.evaluate(X_test,y_test,verbose=2)\n",
        "\n",
        "print('\\nLoss',test_loss2)\n",
        "print('\\nTest accuracy:', test_acc2)\n",
        "print('\\nTest MSE',test_mse2)\n",
        "\n"
      ],
      "execution_count": null,
      "outputs": [
        {
          "output_type": "stream",
          "name": "stdout",
          "text": [
            "2/2 - 0s - loss: 43.4666 - acc: 0.8158 - mse: 0.0712\n",
            "\n",
            "Loss 43.466575622558594\n",
            "\n",
            "Test accuracy: 0.8157894611358643\n",
            "\n",
            "Test MSE 0.07120121270418167\n"
          ]
        }
      ]
    },
    {
      "cell_type": "code",
      "metadata": {
        "id": "bR9PY2Z9lwwy",
        "colab": {
          "base_uri": "https://localhost:8080/",
          "height": 581
        },
        "outputId": "7d65e494-df2e-4124-c709-b878d1bbc27a"
      },
      "source": [
        "# Plot the train loss vs validation loss and train accuracy vs validation accuracy graphs just like we did before\n",
        "import matplotlib.pyplot as plt\n",
        "plt.style.use('ggplot')\n",
        "plt.plot(hist3.history['loss'], label = 'loss')\n",
        "plt.plot(hist3.history['val_loss'], label='val loss')\n",
        "plt.title(\"Train Loss vs Val_Loss\")\n",
        "plt.xlabel(\"Epochs\")\n",
        "plt.ylabel(\"Loss\")\n",
        "plt.legend()\n",
        "plt.show()\n",
        "\n",
        "#similarly we plot for model accuracy \n",
        "plt.plot(hist3.history['acc'], label = 'train acc')\n",
        "plt.plot(hist3.history['val_acc'], label='val acc')\n",
        "plt.title(\"train acc vs Val_acc\")\n",
        "plt.xlabel(\"Epochs\")\n",
        "plt.ylabel(\"acc\")\n",
        "plt.legend()\n",
        "plt.show()\n"
      ],
      "execution_count": null,
      "outputs": [
        {
          "output_type": "display_data",
          "data": {
            "image/png": "[encoded data removed]",
            "text/plain": [
              "<Figure size 432x288 with 1 Axes>"
            ]
          },
          "metadata": {}
        },
        {
          "output_type": "display_data",
          "data": {
            "image/png": "[encoded data removed]",
            "text/plain": [
              "<Figure size 432x288 with 1 Axes>"
            ]
          },
          "metadata": {}
        }
      ]
    },
    {
      "cell_type": "markdown",
      "metadata": {
        "id": "cGcLJI9D7zur"
      },
      "source": [
        "## By adding extra l1 the model loss is exponetially increasing."
      ]
    },
    {
      "cell_type": "markdown",
      "metadata": {
        "id": "Nq0NY6A_lww0"
      },
      "source": [
        "\n",
        "## L2 Regularization\n"
      ]
    },
    {
      "cell_type": "code",
      "metadata": {
        "id": "BdKqlDIslww1"
      },
      "source": [
        " \n",
        "\n",
        "# L2 Regularization is another regularization technique which is also known as Ridge regularization. In L2 regularization we add the squared magnitude of weights to penalize our lost function.\n",
        "tf.keras.regularizers.L2(l2=0.01)\n",
        "\n",
        "#to implement L2 regularization, create another model called model4 similar to our initial basic model, this time add an extra parameter kernel_regularizer, which we set to ‘l2’ for L1 Regularization in the first Dense layer.\n",
        "#compile and run the model\n",
        "model4 = Sequential([\n",
        "    Dense(512, activation='tanh', input_shape = X_train[0].shape,kernel_regularizer='l2'),\n",
        "    Dense(512//2, activation='tanh'),\n",
        "    Dense(512//4, activation='tanh'),\n",
        "    Dense(512//8, activation='tanh'),\n",
        "    Dense(32, activation='relu'),\n",
        "    Dense(3, activation='softmax')\n",
        "])\n",
        "\n",
        " \n"
      ],
      "execution_count": null,
      "outputs": []
    },
    {
      "cell_type": "code",
      "metadata": {
        "colab": {
          "base_uri": "https://localhost:8080/"
        },
        "id": "cBbfnxbG8pMw",
        "outputId": "3b3d11a3-92ba-4276-9c9a-7c0bb1d2d3a0"
      },
      "source": [
        "print(model4.summary())\n",
        "model4.compile(optimizer='sgd',loss='categorical_crossentropy', metrics=['acc', 'mse'])\n",
        "\n",
        "hist3 = model4.fit(X_train, y_train, epochs=150, batch_size=128, validation_data=(X_test,y_test))"
      ],
      "execution_count": null,
      "outputs": [
        {
          "output_type": "stream",
          "name": "stdout",
          "text": [
            "Model: \"sequential_9\"\n",
            "_________________________________________________________________\n",
            "Layer (type)                 Output Shape              Param #   \n",
            "=================================================================\n",
            "dense_55 (Dense)             (None, 512)               2560      \n",
            "_________________________________________________________________\n",
            "dense_56 (Dense)             (None, 256)               131328    \n",
            "_________________________________________________________________\n",
            "dense_57 (Dense)             (None, 128)               32896     \n",
            "_________________________________________________________________\n",
            "dense_58 (Dense)             (None, 64)                8256      \n",
            "_________________________________________________________________\n",
            "dense_59 (Dense)             (None, 32)                2080      \n",
            "_________________________________________________________________\n",
            "dense_60 (Dense)             (None, 3)                 99        \n",
            "=================================================================\n",
            "Total params: 177,219\n",
            "Trainable params: 177,219\n",
            "Non-trainable params: 0\n",
            "_________________________________________________________________\n",
            "None\n",
            "Epoch 1/150\n",
            "1/1 [==============================] - 1s 613ms/step - loss: 1.1023 - acc: 0.5714 - mse: 0.2065 - val_loss: 0.9923 - val_acc: 0.7632 - val_mse: 0.1806\n",
            "Epoch 2/150\n",
            "1/1 [==============================] - 0s 39ms/step - loss: 1.0177 - acc: 0.6071 - mse: 0.1870 - val_loss: 0.9301 - val_acc: 0.7895 - val_mse: 0.1658\n",
            "Epoch 3/150\n",
            "1/1 [==============================] - 0s 27ms/step - loss: 0.9510 - acc: 0.6339 - mse: 0.1713 - val_loss: 0.8803 - val_acc: 0.8684 - val_mse: 0.1542\n",
            "Epoch 4/150\n",
            "1/1 [==============================] - 0s 47ms/step - loss: 0.8938 - acc: 0.7589 - mse: 0.1578 - val_loss: 0.8412 - val_acc: 0.7632 - val_mse: 0.1453\n",
            "Epoch 5/150\n",
            "1/1 [==============================] - 0s 26ms/step - loss: 0.8468 - acc: 0.8393 - mse: 0.1469 - val_loss: 0.8095 - val_acc: 0.7368 - val_mse: 0.1384\n",
            "Epoch 6/150\n",
            "1/1 [==============================] - 0s 26ms/step - loss: 0.8069 - acc: 0.8125 - mse: 0.1378 - val_loss: 0.7834 - val_acc: 0.7368 - val_mse: 0.1329\n",
            "Epoch 7/150\n",
            "1/1 [==============================] - 0s 34ms/step - loss: 0.7734 - acc: 0.8125 - mse: 0.1302 - val_loss: 0.7619 - val_acc: 0.7368 - val_mse: 0.1286\n",
            "Epoch 8/150\n",
            "1/1 [==============================] - 0s 32ms/step - loss: 0.7452 - acc: 0.7946 - mse: 0.1239 - val_loss: 0.7440 - val_acc: 0.7368 - val_mse: 0.1251\n",
            "Epoch 9/150\n",
            "1/1 [==============================] - 0s 32ms/step - loss: 0.7210 - acc: 0.8125 - mse: 0.1186 - val_loss: 0.7288 - val_acc: 0.7368 - val_mse: 0.1223\n",
            "Epoch 10/150\n",
            "1/1 [==============================] - 0s 27ms/step - loss: 0.7000 - acc: 0.8125 - mse: 0.1141 - val_loss: 0.7157 - val_acc: 0.7368 - val_mse: 0.1200\n",
            "Epoch 11/150\n",
            "1/1 [==============================] - 0s 26ms/step - loss: 0.6817 - acc: 0.8125 - mse: 0.1103 - val_loss: 0.7042 - val_acc: 0.7105 - val_mse: 0.1181\n",
            "Epoch 12/150\n",
            "1/1 [==============================] - 0s 39ms/step - loss: 0.6657 - acc: 0.8125 - mse: 0.1070 - val_loss: 0.6941 - val_acc: 0.7105 - val_mse: 0.1165\n",
            "Epoch 13/150\n",
            "1/1 [==============================] - 0s 30ms/step - loss: 0.6513 - acc: 0.8125 - mse: 0.1042 - val_loss: 0.6851 - val_acc: 0.7105 - val_mse: 0.1151\n",
            "Epoch 14/150\n",
            "1/1 [==============================] - 0s 28ms/step - loss: 0.6385 - acc: 0.8125 - mse: 0.1016 - val_loss: 0.6771 - val_acc: 0.7105 - val_mse: 0.1139\n",
            "Epoch 15/150\n",
            "1/1 [==============================] - 0s 45ms/step - loss: 0.6267 - acc: 0.8125 - mse: 0.0994 - val_loss: 0.6698 - val_acc: 0.7105 - val_mse: 0.1129\n",
            "Epoch 16/150\n",
            "1/1 [==============================] - 0s 31ms/step - loss: 0.6159 - acc: 0.8125 - mse: 0.0973 - val_loss: 0.6631 - val_acc: 0.7105 - val_mse: 0.1121\n",
            "Epoch 17/150\n",
            "1/1 [==============================] - 0s 32ms/step - loss: 0.6059 - acc: 0.8125 - mse: 0.0954 - val_loss: 0.6570 - val_acc: 0.7105 - val_mse: 0.1113\n",
            "Epoch 18/150\n",
            "1/1 [==============================] - 0s 34ms/step - loss: 0.5968 - acc: 0.8125 - mse: 0.0938 - val_loss: 0.6514 - val_acc: 0.7105 - val_mse: 0.1107\n",
            "Epoch 19/150\n",
            "1/1 [==============================] - 0s 32ms/step - loss: 0.5885 - acc: 0.8125 - mse: 0.0923 - val_loss: 0.6464 - val_acc: 0.7105 - val_mse: 0.1101\n",
            "Epoch 20/150\n",
            "1/1 [==============================] - 0s 30ms/step - loss: 0.5808 - acc: 0.8125 - mse: 0.0909 - val_loss: 0.6417 - val_acc: 0.7105 - val_mse: 0.1096\n",
            "Epoch 21/150\n",
            "1/1 [==============================] - 0s 31ms/step - loss: 0.5738 - acc: 0.8125 - mse: 0.0897 - val_loss: 0.6371 - val_acc: 0.7105 - val_mse: 0.1091\n",
            "Epoch 22/150\n",
            "1/1 [==============================] - 0s 37ms/step - loss: 0.5671 - acc: 0.8214 - mse: 0.0886 - val_loss: 0.6328 - val_acc: 0.7105 - val_mse: 0.1086\n",
            "Epoch 23/150\n",
            "1/1 [==============================] - 0s 29ms/step - loss: 0.5609 - acc: 0.8214 - mse: 0.0875 - val_loss: 0.6287 - val_acc: 0.7105 - val_mse: 0.1082\n",
            "Epoch 24/150\n",
            "1/1 [==============================] - 0s 34ms/step - loss: 0.5550 - acc: 0.8304 - mse: 0.0865 - val_loss: 0.6248 - val_acc: 0.7105 - val_mse: 0.1078\n",
            "Epoch 25/150\n",
            "1/1 [==============================] - 0s 32ms/step - loss: 0.5494 - acc: 0.8304 - mse: 0.0856 - val_loss: 0.6211 - val_acc: 0.7105 - val_mse: 0.1074\n",
            "Epoch 26/150\n",
            "1/1 [==============================] - 0s 31ms/step - loss: 0.5441 - acc: 0.8304 - mse: 0.0847 - val_loss: 0.6175 - val_acc: 0.7105 - val_mse: 0.1070\n",
            "Epoch 27/150\n",
            "1/1 [==============================] - 0s 30ms/step - loss: 0.5390 - acc: 0.8393 - mse: 0.0839 - val_loss: 0.6140 - val_acc: 0.7368 - val_mse: 0.1066\n",
            "Epoch 28/150\n",
            "1/1 [==============================] - 0s 30ms/step - loss: 0.5342 - acc: 0.8393 - mse: 0.0831 - val_loss: 0.6107 - val_acc: 0.7368 - val_mse: 0.1062\n",
            "Epoch 29/150\n",
            "1/1 [==============================] - 0s 27ms/step - loss: 0.5296 - acc: 0.8393 - mse: 0.0823 - val_loss: 0.6076 - val_acc: 0.7368 - val_mse: 0.1059\n",
            "Epoch 30/150\n",
            "1/1 [==============================] - 0s 48ms/step - loss: 0.5253 - acc: 0.8393 - mse: 0.0816 - val_loss: 0.6046 - val_acc: 0.7368 - val_mse: 0.1055\n",
            "Epoch 31/150\n",
            "1/1 [==============================] - 0s 31ms/step - loss: 0.5211 - acc: 0.8393 - mse: 0.0809 - val_loss: 0.6016 - val_acc: 0.7368 - val_mse: 0.1052\n",
            "Epoch 32/150\n",
            "1/1 [==============================] - 0s 31ms/step - loss: 0.5170 - acc: 0.8482 - mse: 0.0802 - val_loss: 0.5987 - val_acc: 0.7368 - val_mse: 0.1049\n",
            "Epoch 33/150\n",
            "1/1 [==============================] - 0s 31ms/step - loss: 0.5131 - acc: 0.8482 - mse: 0.0795 - val_loss: 0.5959 - val_acc: 0.7368 - val_mse: 0.1045\n",
            "Epoch 34/150\n",
            "1/1 [==============================] - 0s 30ms/step - loss: 0.5093 - acc: 0.8482 - mse: 0.0789 - val_loss: 0.5931 - val_acc: 0.7368 - val_mse: 0.1042\n",
            "Epoch 35/150\n",
            "1/1 [==============================] - 0s 30ms/step - loss: 0.5056 - acc: 0.8482 - mse: 0.0782 - val_loss: 0.5904 - val_acc: 0.7368 - val_mse: 0.1039\n",
            "Epoch 36/150\n",
            "1/1 [==============================] - 0s 31ms/step - loss: 0.5021 - acc: 0.8571 - mse: 0.0776 - val_loss: 0.5878 - val_acc: 0.7368 - val_mse: 0.1035\n",
            "Epoch 37/150\n",
            "1/1 [==============================] - 0s 29ms/step - loss: 0.4986 - acc: 0.8571 - mse: 0.0770 - val_loss: 0.5853 - val_acc: 0.7368 - val_mse: 0.1032\n",
            "Epoch 38/150\n",
            "1/1 [==============================] - 0s 35ms/step - loss: 0.4952 - acc: 0.8571 - mse: 0.0764 - val_loss: 0.5828 - val_acc: 0.7105 - val_mse: 0.1029\n",
            "Epoch 39/150\n",
            "1/1 [==============================] - 0s 32ms/step - loss: 0.4920 - acc: 0.8571 - mse: 0.0759 - val_loss: 0.5804 - val_acc: 0.7105 - val_mse: 0.1026\n",
            "Epoch 40/150\n",
            "1/1 [==============================] - 0s 29ms/step - loss: 0.4888 - acc: 0.8571 - mse: 0.0753 - val_loss: 0.5779 - val_acc: 0.7105 - val_mse: 0.1023\n",
            "Epoch 41/150\n",
            "1/1 [==============================] - 0s 28ms/step - loss: 0.4856 - acc: 0.8571 - mse: 0.0747 - val_loss: 0.5756 - val_acc: 0.7105 - val_mse: 0.1019\n",
            "Epoch 42/150\n",
            "1/1 [==============================] - 0s 35ms/step - loss: 0.4825 - acc: 0.8661 - mse: 0.0742 - val_loss: 0.5732 - val_acc: 0.7105 - val_mse: 0.1016\n",
            "Epoch 43/150\n",
            "1/1 [==============================] - 0s 51ms/step - loss: 0.4796 - acc: 0.8661 - mse: 0.0737 - val_loss: 0.5709 - val_acc: 0.7105 - val_mse: 0.1013\n",
            "Epoch 44/150\n",
            "1/1 [==============================] - 0s 29ms/step - loss: 0.4766 - acc: 0.8661 - mse: 0.0731 - val_loss: 0.5686 - val_acc: 0.7105 - val_mse: 0.1010\n",
            "Epoch 45/150\n",
            "1/1 [==============================] - 0s 31ms/step - loss: 0.4737 - acc: 0.8661 - mse: 0.0726 - val_loss: 0.5663 - val_acc: 0.7105 - val_mse: 0.1006\n",
            "Epoch 46/150\n",
            "1/1 [==============================] - 0s 29ms/step - loss: 0.4708 - acc: 0.8661 - mse: 0.0720 - val_loss: 0.5641 - val_acc: 0.7105 - val_mse: 0.1003\n",
            "Epoch 47/150\n",
            "1/1 [==============================] - 0s 30ms/step - loss: 0.4680 - acc: 0.8661 - mse: 0.0715 - val_loss: 0.5619 - val_acc: 0.7105 - val_mse: 0.1000\n",
            "Epoch 48/150\n",
            "1/1 [==============================] - 0s 31ms/step - loss: 0.4653 - acc: 0.8661 - mse: 0.0710 - val_loss: 0.5598 - val_acc: 0.7368 - val_mse: 0.0997\n",
            "Epoch 49/150\n",
            "1/1 [==============================] - 0s 36ms/step - loss: 0.4625 - acc: 0.8661 - mse: 0.0705 - val_loss: 0.5577 - val_acc: 0.7368 - val_mse: 0.0994\n",
            "Epoch 50/150\n",
            "1/1 [==============================] - 0s 35ms/step - loss: 0.4599 - acc: 0.8661 - mse: 0.0700 - val_loss: 0.5557 - val_acc: 0.7368 - val_mse: 0.0991\n",
            "Epoch 51/150\n",
            "1/1 [==============================] - 0s 38ms/step - loss: 0.4573 - acc: 0.8661 - mse: 0.0695 - val_loss: 0.5537 - val_acc: 0.7368 - val_mse: 0.0988\n",
            "Epoch 52/150\n",
            "1/1 [==============================] - 0s 34ms/step - loss: 0.4547 - acc: 0.8661 - mse: 0.0690 - val_loss: 0.5518 - val_acc: 0.7368 - val_mse: 0.0985\n",
            "Epoch 53/150\n",
            "1/1 [==============================] - 0s 36ms/step - loss: 0.4522 - acc: 0.8661 - mse: 0.0685 - val_loss: 0.5499 - val_acc: 0.7368 - val_mse: 0.0982\n",
            "Epoch 54/150\n",
            "1/1 [==============================] - 0s 34ms/step - loss: 0.4497 - acc: 0.8661 - mse: 0.0680 - val_loss: 0.5480 - val_acc: 0.7368 - val_mse: 0.0979\n",
            "Epoch 55/150\n",
            "1/1 [==============================] - 0s 34ms/step - loss: 0.4472 - acc: 0.8661 - mse: 0.0675 - val_loss: 0.5462 - val_acc: 0.7368 - val_mse: 0.0976\n",
            "Epoch 56/150\n",
            "1/1 [==============================] - 0s 41ms/step - loss: 0.4448 - acc: 0.8661 - mse: 0.0671 - val_loss: 0.5443 - val_acc: 0.7368 - val_mse: 0.0974\n",
            "Epoch 57/150\n",
            "1/1 [==============================] - 0s 32ms/step - loss: 0.4424 - acc: 0.8661 - mse: 0.0666 - val_loss: 0.5426 - val_acc: 0.7632 - val_mse: 0.0971\n",
            "Epoch 58/150\n",
            "1/1 [==============================] - 0s 35ms/step - loss: 0.4401 - acc: 0.8661 - mse: 0.0662 - val_loss: 0.5408 - val_acc: 0.7632 - val_mse: 0.0968\n",
            "Epoch 59/150\n",
            "1/1 [==============================] - 0s 39ms/step - loss: 0.4378 - acc: 0.8661 - mse: 0.0657 - val_loss: 0.5391 - val_acc: 0.7632 - val_mse: 0.0965\n",
            "Epoch 60/150\n",
            "1/1 [==============================] - 0s 39ms/step - loss: 0.4355 - acc: 0.8661 - mse: 0.0653 - val_loss: 0.5374 - val_acc: 0.7632 - val_mse: 0.0963\n",
            "Epoch 61/150\n",
            "1/1 [==============================] - 0s 49ms/step - loss: 0.4333 - acc: 0.8661 - mse: 0.0648 - val_loss: 0.5357 - val_acc: 0.7632 - val_mse: 0.0960\n",
            "Epoch 62/150\n",
            "1/1 [==============================] - 0s 30ms/step - loss: 0.4310 - acc: 0.8661 - mse: 0.0644 - val_loss: 0.5340 - val_acc: 0.7632 - val_mse: 0.0957\n",
            "Epoch 63/150\n",
            "1/1 [==============================] - 0s 29ms/step - loss: 0.4288 - acc: 0.8661 - mse: 0.0639 - val_loss: 0.5323 - val_acc: 0.7632 - val_mse: 0.0955\n",
            "Epoch 64/150\n",
            "1/1 [==============================] - 0s 35ms/step - loss: 0.4267 - acc: 0.8661 - mse: 0.0635 - val_loss: 0.5308 - val_acc: 0.7632 - val_mse: 0.0952\n",
            "Epoch 65/150\n",
            "1/1 [==============================] - 0s 39ms/step - loss: 0.4246 - acc: 0.8750 - mse: 0.0631 - val_loss: 0.5292 - val_acc: 0.7632 - val_mse: 0.0950\n",
            "Epoch 66/150\n",
            "1/1 [==============================] - 0s 35ms/step - loss: 0.4225 - acc: 0.8750 - mse: 0.0627 - val_loss: 0.5277 - val_acc: 0.7632 - val_mse: 0.0947\n",
            "Epoch 67/150\n",
            "1/1 [==============================] - 0s 37ms/step - loss: 0.4204 - acc: 0.8750 - mse: 0.0622 - val_loss: 0.5261 - val_acc: 0.7632 - val_mse: 0.0945\n",
            "Epoch 68/150\n",
            "1/1 [==============================] - 0s 34ms/step - loss: 0.4183 - acc: 0.8750 - mse: 0.0618 - val_loss: 0.5246 - val_acc: 0.7632 - val_mse: 0.0942\n",
            "Epoch 69/150\n",
            "1/1 [==============================] - 0s 36ms/step - loss: 0.4163 - acc: 0.8750 - mse: 0.0614 - val_loss: 0.5231 - val_acc: 0.7632 - val_mse: 0.0940\n",
            "Epoch 70/150\n",
            "1/1 [==============================] - 0s 31ms/step - loss: 0.4143 - acc: 0.8750 - mse: 0.0610 - val_loss: 0.5217 - val_acc: 0.7632 - val_mse: 0.0938\n",
            "Epoch 71/150\n",
            "1/1 [==============================] - 0s 38ms/step - loss: 0.4123 - acc: 0.8750 - mse: 0.0606 - val_loss: 0.5203 - val_acc: 0.7632 - val_mse: 0.0935\n",
            "Epoch 72/150\n",
            "1/1 [==============================] - 0s 34ms/step - loss: 0.4104 - acc: 0.8750 - mse: 0.0602 - val_loss: 0.5189 - val_acc: 0.7632 - val_mse: 0.0933\n",
            "Epoch 73/150\n",
            "1/1 [==============================] - 0s 40ms/step - loss: 0.4084 - acc: 0.8750 - mse: 0.0599 - val_loss: 0.5175 - val_acc: 0.7632 - val_mse: 0.0931\n",
            "Epoch 74/150\n",
            "1/1 [==============================] - 0s 33ms/step - loss: 0.4066 - acc: 0.8750 - mse: 0.0595 - val_loss: 0.5161 - val_acc: 0.7632 - val_mse: 0.0928\n",
            "Epoch 75/150\n",
            "1/1 [==============================] - 0s 30ms/step - loss: 0.4047 - acc: 0.8750 - mse: 0.0591 - val_loss: 0.5147 - val_acc: 0.7632 - val_mse: 0.0926\n",
            "Epoch 76/150\n",
            "1/1 [==============================] - 0s 35ms/step - loss: 0.4028 - acc: 0.8750 - mse: 0.0587 - val_loss: 0.5133 - val_acc: 0.7632 - val_mse: 0.0924\n",
            "Epoch 77/150\n",
            "1/1 [==============================] - 0s 39ms/step - loss: 0.4010 - acc: 0.8750 - mse: 0.0584 - val_loss: 0.5120 - val_acc: 0.7632 - val_mse: 0.0922\n",
            "Epoch 78/150\n",
            "1/1 [==============================] - 0s 35ms/step - loss: 0.3992 - acc: 0.8750 - mse: 0.0580 - val_loss: 0.5106 - val_acc: 0.7632 - val_mse: 0.0919\n",
            "Epoch 79/150\n",
            "1/1 [==============================] - 0s 37ms/step - loss: 0.3974 - acc: 0.8839 - mse: 0.0577 - val_loss: 0.5093 - val_acc: 0.7632 - val_mse: 0.0917\n",
            "Epoch 80/150\n",
            "1/1 [==============================] - 0s 33ms/step - loss: 0.3957 - acc: 0.8839 - mse: 0.0573 - val_loss: 0.5080 - val_acc: 0.7632 - val_mse: 0.0915\n",
            "Epoch 81/150\n",
            "1/1 [==============================] - 0s 42ms/step - loss: 0.3939 - acc: 0.8839 - mse: 0.0569 - val_loss: 0.5067 - val_acc: 0.7632 - val_mse: 0.0913\n",
            "Epoch 82/150\n",
            "1/1 [==============================] - 0s 32ms/step - loss: 0.3922 - acc: 0.8929 - mse: 0.0566 - val_loss: 0.5055 - val_acc: 0.7632 - val_mse: 0.0911\n",
            "Epoch 83/150\n",
            "1/1 [==============================] - 0s 33ms/step - loss: 0.3905 - acc: 0.9018 - mse: 0.0563 - val_loss: 0.5042 - val_acc: 0.7632 - val_mse: 0.0909\n",
            "Epoch 84/150\n",
            "1/1 [==============================] - 0s 31ms/step - loss: 0.3888 - acc: 0.9018 - mse: 0.0559 - val_loss: 0.5029 - val_acc: 0.7632 - val_mse: 0.0906\n",
            "Epoch 85/150\n",
            "1/1 [==============================] - 0s 32ms/step - loss: 0.3871 - acc: 0.9018 - mse: 0.0556 - val_loss: 0.5017 - val_acc: 0.7632 - val_mse: 0.0904\n",
            "Epoch 86/150\n",
            "1/1 [==============================] - 0s 30ms/step - loss: 0.3855 - acc: 0.9018 - mse: 0.0552 - val_loss: 0.5005 - val_acc: 0.7632 - val_mse: 0.0902\n",
            "Epoch 87/150\n",
            "1/1 [==============================] - 0s 38ms/step - loss: 0.3839 - acc: 0.9018 - mse: 0.0549 - val_loss: 0.4993 - val_acc: 0.7632 - val_mse: 0.0900\n",
            "Epoch 88/150\n",
            "1/1 [==============================] - 0s 49ms/step - loss: 0.3822 - acc: 0.9018 - mse: 0.0546 - val_loss: 0.4980 - val_acc: 0.7632 - val_mse: 0.0898\n",
            "Epoch 89/150\n",
            "1/1 [==============================] - 0s 29ms/step - loss: 0.3806 - acc: 0.9018 - mse: 0.0543 - val_loss: 0.4968 - val_acc: 0.7632 - val_mse: 0.0896\n",
            "Epoch 90/150\n",
            "1/1 [==============================] - 0s 33ms/step - loss: 0.3791 - acc: 0.9018 - mse: 0.0540 - val_loss: 0.4956 - val_acc: 0.7632 - val_mse: 0.0894\n",
            "Epoch 91/150\n",
            "1/1 [==============================] - 0s 30ms/step - loss: 0.3775 - acc: 0.9018 - mse: 0.0536 - val_loss: 0.4944 - val_acc: 0.7632 - val_mse: 0.0892\n",
            "Epoch 92/150\n",
            "1/1 [==============================] - 0s 31ms/step - loss: 0.3759 - acc: 0.9018 - mse: 0.0533 - val_loss: 0.4932 - val_acc: 0.7632 - val_mse: 0.0890\n",
            "Epoch 93/150\n",
            "1/1 [==============================] - 0s 28ms/step - loss: 0.3744 - acc: 0.9018 - mse: 0.0530 - val_loss: 0.4920 - val_acc: 0.7632 - val_mse: 0.0888\n",
            "Epoch 94/150\n",
            "1/1 [==============================] - 0s 31ms/step - loss: 0.3728 - acc: 0.9107 - mse: 0.0527 - val_loss: 0.4908 - val_acc: 0.7632 - val_mse: 0.0885\n",
            "Epoch 95/150\n",
            "1/1 [==============================] - 0s 29ms/step - loss: 0.3713 - acc: 0.9107 - mse: 0.0524 - val_loss: 0.4896 - val_acc: 0.7632 - val_mse: 0.0883\n",
            "Epoch 96/150\n",
            "1/1 [==============================] - 0s 50ms/step - loss: 0.3698 - acc: 0.9107 - mse: 0.0521 - val_loss: 0.4885 - val_acc: 0.7632 - val_mse: 0.0881\n",
            "Epoch 97/150\n",
            "1/1 [==============================] - 0s 36ms/step - loss: 0.3683 - acc: 0.9107 - mse: 0.0518 - val_loss: 0.4873 - val_acc: 0.7632 - val_mse: 0.0879\n",
            "Epoch 98/150\n",
            "1/1 [==============================] - 0s 37ms/step - loss: 0.3668 - acc: 0.9107 - mse: 0.0515 - val_loss: 0.4862 - val_acc: 0.7895 - val_mse: 0.0877\n",
            "Epoch 99/150\n",
            "1/1 [==============================] - 0s 33ms/step - loss: 0.3653 - acc: 0.9107 - mse: 0.0512 - val_loss: 0.4850 - val_acc: 0.7895 - val_mse: 0.0875\n",
            "Epoch 100/150\n",
            "1/1 [==============================] - 0s 33ms/step - loss: 0.3638 - acc: 0.9107 - mse: 0.0509 - val_loss: 0.4839 - val_acc: 0.7632 - val_mse: 0.0873\n",
            "Epoch 101/150\n",
            "1/1 [==============================] - 0s 30ms/step - loss: 0.3624 - acc: 0.9107 - mse: 0.0506 - val_loss: 0.4828 - val_acc: 0.7632 - val_mse: 0.0871\n",
            "Epoch 102/150\n",
            "1/1 [==============================] - 0s 37ms/step - loss: 0.3610 - acc: 0.9107 - mse: 0.0503 - val_loss: 0.4817 - val_acc: 0.7632 - val_mse: 0.0869\n",
            "Epoch 103/150\n",
            "1/1 [==============================] - 0s 42ms/step - loss: 0.3595 - acc: 0.9107 - mse: 0.0500 - val_loss: 0.4806 - val_acc: 0.7632 - val_mse: 0.0867\n",
            "Epoch 104/150\n",
            "1/1 [==============================] - 0s 36ms/step - loss: 0.3581 - acc: 0.9107 - mse: 0.0497 - val_loss: 0.4795 - val_acc: 0.7632 - val_mse: 0.0865\n",
            "Epoch 105/150\n",
            "1/1 [==============================] - 0s 34ms/step - loss: 0.3567 - acc: 0.9107 - mse: 0.0494 - val_loss: 0.4784 - val_acc: 0.7632 - val_mse: 0.0863\n",
            "Epoch 106/150\n",
            "1/1 [==============================] - 0s 39ms/step - loss: 0.3553 - acc: 0.9107 - mse: 0.0491 - val_loss: 0.4773 - val_acc: 0.7632 - val_mse: 0.0861\n",
            "Epoch 107/150\n",
            "1/1 [==============================] - 0s 38ms/step - loss: 0.3539 - acc: 0.9196 - mse: 0.0488 - val_loss: 0.4763 - val_acc: 0.7632 - val_mse: 0.0859\n",
            "Epoch 108/150\n",
            "1/1 [==============================] - 0s 37ms/step - loss: 0.3526 - acc: 0.9196 - mse: 0.0486 - val_loss: 0.4752 - val_acc: 0.7632 - val_mse: 0.0857\n",
            "Epoch 109/150\n",
            "1/1 [==============================] - 0s 37ms/step - loss: 0.3512 - acc: 0.9286 - mse: 0.0483 - val_loss: 0.4741 - val_acc: 0.7632 - val_mse: 0.0855\n",
            "Epoch 110/150\n",
            "1/1 [==============================] - 0s 30ms/step - loss: 0.3499 - acc: 0.9286 - mse: 0.0480 - val_loss: 0.4731 - val_acc: 0.7632 - val_mse: 0.0853\n",
            "Epoch 111/150\n",
            "1/1 [==============================] - 0s 31ms/step - loss: 0.3485 - acc: 0.9286 - mse: 0.0477 - val_loss: 0.4720 - val_acc: 0.7632 - val_mse: 0.0851\n",
            "Epoch 112/150\n",
            "1/1 [==============================] - 0s 37ms/step - loss: 0.3472 - acc: 0.9375 - mse: 0.0475 - val_loss: 0.4709 - val_acc: 0.7632 - val_mse: 0.0849\n",
            "Epoch 113/150\n",
            "1/1 [==============================] - 0s 36ms/step - loss: 0.3458 - acc: 0.9375 - mse: 0.0472 - val_loss: 0.4699 - val_acc: 0.7632 - val_mse: 0.0847\n",
            "Epoch 114/150\n",
            "1/1 [==============================] - 0s 39ms/step - loss: 0.3445 - acc: 0.9375 - mse: 0.0469 - val_loss: 0.4688 - val_acc: 0.7632 - val_mse: 0.0846\n",
            "Epoch 115/150\n",
            "1/1 [==============================] - 0s 35ms/step - loss: 0.3432 - acc: 0.9375 - mse: 0.0466 - val_loss: 0.4678 - val_acc: 0.7632 - val_mse: 0.0844\n",
            "Epoch 116/150\n",
            "1/1 [==============================] - 0s 35ms/step - loss: 0.3419 - acc: 0.9375 - mse: 0.0464 - val_loss: 0.4667 - val_acc: 0.7632 - val_mse: 0.0842\n",
            "Epoch 117/150\n",
            "1/1 [==============================] - 0s 34ms/step - loss: 0.3405 - acc: 0.9375 - mse: 0.0461 - val_loss: 0.4657 - val_acc: 0.7632 - val_mse: 0.0840\n",
            "Epoch 118/150\n",
            "1/1 [==============================] - 0s 32ms/step - loss: 0.3392 - acc: 0.9375 - mse: 0.0458 - val_loss: 0.4647 - val_acc: 0.7632 - val_mse: 0.0838\n",
            "Epoch 119/150\n",
            "1/1 [==============================] - 0s 38ms/step - loss: 0.3379 - acc: 0.9375 - mse: 0.0456 - val_loss: 0.4636 - val_acc: 0.7632 - val_mse: 0.0836\n",
            "Epoch 120/150\n",
            "1/1 [==============================] - 0s 42ms/step - loss: 0.3366 - acc: 0.9375 - mse: 0.0453 - val_loss: 0.4626 - val_acc: 0.7632 - val_mse: 0.0834\n",
            "Epoch 121/150\n",
            "1/1 [==============================] - 0s 29ms/step - loss: 0.3354 - acc: 0.9375 - mse: 0.0450 - val_loss: 0.4616 - val_acc: 0.7632 - val_mse: 0.0832\n",
            "Epoch 122/150\n",
            "1/1 [==============================] - 0s 28ms/step - loss: 0.3341 - acc: 0.9375 - mse: 0.0448 - val_loss: 0.4605 - val_acc: 0.7632 - val_mse: 0.0830\n",
            "Epoch 123/150\n",
            "1/1 [==============================] - 0s 40ms/step - loss: 0.3328 - acc: 0.9375 - mse: 0.0445 - val_loss: 0.4595 - val_acc: 0.7632 - val_mse: 0.0828\n",
            "Epoch 124/150\n",
            "1/1 [==============================] - 0s 31ms/step - loss: 0.3316 - acc: 0.9375 - mse: 0.0443 - val_loss: 0.4584 - val_acc: 0.7632 - val_mse: 0.0826\n",
            "Epoch 125/150\n",
            "1/1 [==============================] - 0s 36ms/step - loss: 0.3304 - acc: 0.9375 - mse: 0.0440 - val_loss: 0.4574 - val_acc: 0.7632 - val_mse: 0.0824\n",
            "Epoch 126/150\n",
            "1/1 [==============================] - 0s 43ms/step - loss: 0.3291 - acc: 0.9375 - mse: 0.0438 - val_loss: 0.4564 - val_acc: 0.7632 - val_mse: 0.0822\n",
            "Epoch 127/150\n",
            "1/1 [==============================] - 0s 34ms/step - loss: 0.3279 - acc: 0.9375 - mse: 0.0435 - val_loss: 0.4553 - val_acc: 0.7632 - val_mse: 0.0820\n",
            "Epoch 128/150\n",
            "1/1 [==============================] - 0s 36ms/step - loss: 0.3267 - acc: 0.9375 - mse: 0.0433 - val_loss: 0.4543 - val_acc: 0.7632 - val_mse: 0.0817\n",
            "Epoch 129/150\n",
            "1/1 [==============================] - 0s 32ms/step - loss: 0.3255 - acc: 0.9375 - mse: 0.0430 - val_loss: 0.4532 - val_acc: 0.7632 - val_mse: 0.0815\n",
            "Epoch 130/150\n",
            "1/1 [==============================] - 0s 37ms/step - loss: 0.3243 - acc: 0.9375 - mse: 0.0428 - val_loss: 0.4522 - val_acc: 0.7632 - val_mse: 0.0813\n",
            "Epoch 131/150\n",
            "1/1 [==============================] - 0s 29ms/step - loss: 0.3231 - acc: 0.9375 - mse: 0.0425 - val_loss: 0.4512 - val_acc: 0.7632 - val_mse: 0.0811\n",
            "Epoch 132/150\n",
            "1/1 [==============================] - 0s 55ms/step - loss: 0.3219 - acc: 0.9375 - mse: 0.0423 - val_loss: 0.4501 - val_acc: 0.7632 - val_mse: 0.0809\n",
            "Epoch 133/150\n",
            "1/1 [==============================] - 0s 32ms/step - loss: 0.3207 - acc: 0.9375 - mse: 0.0420 - val_loss: 0.4491 - val_acc: 0.7632 - val_mse: 0.0807\n",
            "Epoch 134/150\n",
            "1/1 [==============================] - 0s 30ms/step - loss: 0.3195 - acc: 0.9375 - mse: 0.0418 - val_loss: 0.4481 - val_acc: 0.7632 - val_mse: 0.0805\n",
            "Epoch 135/150\n",
            "1/1 [==============================] - 0s 29ms/step - loss: 0.3184 - acc: 0.9375 - mse: 0.0416 - val_loss: 0.4471 - val_acc: 0.7632 - val_mse: 0.0803\n",
            "Epoch 136/150\n",
            "1/1 [==============================] - 0s 34ms/step - loss: 0.3172 - acc: 0.9375 - mse: 0.0413 - val_loss: 0.4460 - val_acc: 0.7632 - val_mse: 0.0801\n",
            "Epoch 137/150\n",
            "1/1 [==============================] - 0s 33ms/step - loss: 0.3160 - acc: 0.9375 - mse: 0.0411 - val_loss: 0.4450 - val_acc: 0.7632 - val_mse: 0.0799\n",
            "Epoch 138/150\n",
            "1/1 [==============================] - 0s 30ms/step - loss: 0.3149 - acc: 0.9375 - mse: 0.0408 - val_loss: 0.4440 - val_acc: 0.7632 - val_mse: 0.0797\n",
            "Epoch 139/150\n",
            "1/1 [==============================] - 0s 32ms/step - loss: 0.3137 - acc: 0.9375 - mse: 0.0406 - val_loss: 0.4430 - val_acc: 0.7632 - val_mse: 0.0795\n",
            "Epoch 140/150\n",
            "1/1 [==============================] - 0s 32ms/step - loss: 0.3125 - acc: 0.9375 - mse: 0.0404 - val_loss: 0.4420 - val_acc: 0.7632 - val_mse: 0.0793\n",
            "Epoch 141/150\n",
            "1/1 [==============================] - 0s 37ms/step - loss: 0.3113 - acc: 0.9375 - mse: 0.0401 - val_loss: 0.4411 - val_acc: 0.7632 - val_mse: 0.0791\n",
            "Epoch 142/150\n",
            "1/1 [==============================] - 0s 38ms/step - loss: 0.3101 - acc: 0.9375 - mse: 0.0399 - val_loss: 0.4401 - val_acc: 0.7895 - val_mse: 0.0789\n",
            "Epoch 143/150\n",
            "1/1 [==============================] - 0s 34ms/step - loss: 0.3090 - acc: 0.9375 - mse: 0.0396 - val_loss: 0.4391 - val_acc: 0.7895 - val_mse: 0.0787\n",
            "Epoch 144/150\n",
            "1/1 [==============================] - 0s 33ms/step - loss: 0.3078 - acc: 0.9375 - mse: 0.0394 - val_loss: 0.4381 - val_acc: 0.7895 - val_mse: 0.0785\n",
            "Epoch 145/150\n",
            "1/1 [==============================] - 0s 35ms/step - loss: 0.3067 - acc: 0.9464 - mse: 0.0391 - val_loss: 0.4371 - val_acc: 0.7895 - val_mse: 0.0783\n",
            "Epoch 146/150\n",
            "1/1 [==============================] - 0s 39ms/step - loss: 0.3055 - acc: 0.9464 - mse: 0.0389 - val_loss: 0.4361 - val_acc: 0.7895 - val_mse: 0.0781\n",
            "Epoch 147/150\n",
            "1/1 [==============================] - 0s 48ms/step - loss: 0.3044 - acc: 0.9464 - mse: 0.0387 - val_loss: 0.4350 - val_acc: 0.7895 - val_mse: 0.0779\n",
            "Epoch 148/150\n",
            "1/1 [==============================] - 0s 32ms/step - loss: 0.3033 - acc: 0.9464 - mse: 0.0385 - val_loss: 0.4340 - val_acc: 0.7895 - val_mse: 0.0777\n",
            "Epoch 149/150\n",
            "1/1 [==============================] - 0s 38ms/step - loss: 0.3022 - acc: 0.9464 - mse: 0.0382 - val_loss: 0.4330 - val_acc: 0.7895 - val_mse: 0.0775\n",
            "Epoch 150/150\n",
            "1/1 [==============================] - 0s 35ms/step - loss: 0.3012 - acc: 0.9464 - mse: 0.0380 - val_loss: 0.4320 - val_acc: 0.7895 - val_mse: 0.0773\n"
          ]
        }
      ]
    },
    {
      "cell_type": "code",
      "metadata": {
        "id": "U94JvClolww2",
        "colab": {
          "base_uri": "https://localhost:8080/"
        },
        "outputId": "095b34e3-9122-44ee-f9b0-4b7b8256d3e7"
      },
      "source": [
        "\n",
        "#just how we used evaluate() in the basic model previously, use it again to find the loss, accuracy and MSE on the test set\n",
        "test_loss3, test_acc3,test_mse3 = model4.evaluate(X_test,y_test,verbose=2)\n",
        "\n",
        "print('\\nLoss',test_loss3)\n",
        "print('\\nTest accuracy:', test_acc3)\n",
        "print('\\nTest MSE',test_mse3)\n"
      ],
      "execution_count": null,
      "outputs": [
        {
          "output_type": "stream",
          "name": "stdout",
          "text": [
            "2/2 - 0s - loss: 0.4320 - acc: 0.7895 - mse: 0.0773\n",
            "\n",
            "Loss 0.4319779872894287\n",
            "\n",
            "Test accuracy: 0.7894737124443054\n",
            "\n",
            "Test MSE 0.07726290822029114\n"
          ]
        }
      ]
    },
    {
      "cell_type": "code",
      "metadata": {
        "id": "-QurVBFMlww3",
        "colab": {
          "base_uri": "https://localhost:8080/",
          "height": 581
        },
        "outputId": "a1b14781-13a8-4c15-a8e9-9afc116493b9"
      },
      "source": [
        "\n",
        "# Plot the train loss vs validation loss and train accuracy vs validation accuracy graphs just like we did before\n",
        "import matplotlib.pyplot as plt\n",
        "plt.style.use('ggplot')\n",
        "plt.plot(hist3.history['loss'], label = 'loss')\n",
        "plt.plot(hist3.history['val_loss'], label='val loss')\n",
        "plt.title(\"Train Loss vs Val_Loss\")\n",
        "plt.xlabel(\"Epochs\")\n",
        "plt.ylabel(\"Loss\")\n",
        "plt.legend()\n",
        "plt.show()\n",
        "\n",
        "#similarly we plot for model accuracy \n",
        "plt.plot(hist3.history['acc'], label = 'train acc')\n",
        "plt.plot(hist3.history['val_acc'], label='val acc')\n",
        "plt.title(\"train acc vs Val_acc\")\n",
        "plt.xlabel(\"Epochs\")\n",
        "plt.ylabel(\"acc\")\n",
        "plt.legend()\n",
        "plt.show()\n",
        "\n"
      ],
      "execution_count": null,
      "outputs": [
        {
          "output_type": "display_data",
          "data": {
            "image/png": "[encoded data removed]",
            "text/plain": [
              "<Figure size 432x288 with 1 Axes>"
            ]
          },
          "metadata": {}
        },
        {
          "output_type": "display_data",
          "data": {
            "image/png": "[encoded data removed]",
            "text/plain": [
              "<Figure size 432x288 with 1 Axes>"
            ]
          },
          "metadata": {}
        }
      ]
    },
    {
      "cell_type": "code",
      "metadata": {
        "id": "EdKvylNdlww4"
      },
      "source": [
        "\n",
        "# Now create model5 having similar to the above models having L2 in all other layers.\n",
        "model5 = Sequential([\n",
        "    Dense(512, activation='tanh', input_shape = X_train[0].shape,kernel_regularizer='l2'),\n",
        "    Dense(512//2, activation='tanh',kernel_regularizer='l2'),\n",
        "    Dense(512//4, activation='tanh'),\n",
        "    Dense(512//8, activation='tanh'),\n",
        "    Dense(32, activation='relu',kernel_regularizer='l2'),\n",
        "    Dense(3, activation='softmax')\n",
        "])\n"
      ],
      "execution_count": null,
      "outputs": []
    },
    {
      "cell_type": "code",
      "metadata": {
        "colab": {
          "base_uri": "https://localhost:8080/"
        },
        "id": "ZnbM4LUcLLQR",
        "outputId": "f7feff20-be33-47df-c8d8-d3d3c36731da"
      },
      "source": [
        "print(model5.summary())\n",
        "model5.compile(optimizer='sgd',loss='categorical_crossentropy', metrics=['acc', 'mse'])\n",
        "\n",
        "hist3 = model5.fit(X_train, y_train, epochs=150, batch_size=128, validation_data=(X_test,y_test))"
      ],
      "execution_count": null,
      "outputs": [
        {
          "output_type": "stream",
          "name": "stdout",
          "text": [
            "Model: \"sequential_11\"\n",
            "_________________________________________________________________\n",
            "Layer (type)                 Output Shape              Param #   \n",
            "=================================================================\n",
            "dense_67 (Dense)             (None, 512)               2560      \n",
            "_________________________________________________________________\n",
            "dense_68 (Dense)             (None, 256)               131328    \n",
            "_________________________________________________________________\n",
            "dense_69 (Dense)             (None, 128)               32896     \n",
            "_________________________________________________________________\n",
            "dense_70 (Dense)             (None, 64)                8256      \n",
            "_________________________________________________________________\n",
            "dense_71 (Dense)             (None, 32)                2080      \n",
            "_________________________________________________________________\n",
            "dense_72 (Dense)             (None, 3)                 99        \n",
            "=================================================================\n",
            "Total params: 177,219\n",
            "Trainable params: 177,219\n",
            "Non-trainable params: 0\n",
            "_________________________________________________________________\n",
            "None\n",
            "Epoch 1/150\n",
            "1/1 [==============================] - 1s 673ms/step - loss: 5.0828 - acc: 0.2857 - mse: 0.2377 - val_loss: 4.9763 - val_acc: 0.5000 - val_mse: 0.2153\n",
            "Epoch 2/150\n",
            "1/1 [==============================] - 0s 27ms/step - loss: 5.0076 - acc: 0.4018 - mse: 0.2221 - val_loss: 4.9196 - val_acc: 0.5789 - val_mse: 0.2025\n",
            "Epoch 3/150\n",
            "1/1 [==============================] - 0s 27ms/step - loss: 4.9339 - acc: 0.4554 - mse: 0.2058 - val_loss: 4.8700 - val_acc: 0.5000 - val_mse: 0.1909\n",
            "Epoch 4/150\n",
            "1/1 [==============================] - 0s 29ms/step - loss: 4.8684 - acc: 0.6518 - mse: 0.1906 - val_loss: 4.8278 - val_acc: 0.5789 - val_mse: 0.1809\n",
            "Epoch 5/150\n",
            "1/1 [==============================] - 0s 29ms/step - loss: 4.8132 - acc: 0.6875 - mse: 0.1775 - val_loss: 4.7934 - val_acc: 0.5789 - val_mse: 0.1727\n",
            "Epoch 6/150\n",
            "1/1 [==============================] - 0s 29ms/step - loss: 4.7646 - acc: 0.6964 - mse: 0.1660 - val_loss: 4.7644 - val_acc: 0.5789 - val_mse: 0.1660\n",
            "Epoch 7/150\n",
            "1/1 [==============================] - 0s 28ms/step - loss: 4.7230 - acc: 0.6964 - mse: 0.1561 - val_loss: 4.7399 - val_acc: 0.5789 - val_mse: 0.1605\n",
            "Epoch 8/150\n",
            "1/1 [==============================] - 0s 29ms/step - loss: 4.6886 - acc: 0.7054 - mse: 0.1482 - val_loss: 4.7182 - val_acc: 0.6053 - val_mse: 0.1557\n",
            "Epoch 9/150\n",
            "1/1 [==============================] - 0s 32ms/step - loss: 4.6586 - acc: 0.7054 - mse: 0.1414 - val_loss: 4.6991 - val_acc: 0.6053 - val_mse: 0.1517\n",
            "Epoch 10/150\n",
            "1/1 [==============================] - 0s 38ms/step - loss: 4.6327 - acc: 0.7054 - mse: 0.1357 - val_loss: 4.6819 - val_acc: 0.6053 - val_mse: 0.1482\n",
            "Epoch 11/150\n",
            "1/1 [==============================] - 0s 31ms/step - loss: 4.6095 - acc: 0.7232 - mse: 0.1307 - val_loss: 4.6663 - val_acc: 0.6053 - val_mse: 0.1452\n",
            "Epoch 12/150\n",
            "1/1 [==============================] - 0s 31ms/step - loss: 4.5887 - acc: 0.7232 - mse: 0.1263 - val_loss: 4.6521 - val_acc: 0.6316 - val_mse: 0.1425\n",
            "Epoch 13/150\n",
            "1/1 [==============================] - 0s 33ms/step - loss: 4.5696 - acc: 0.7321 - mse: 0.1225 - val_loss: 4.6391 - val_acc: 0.6579 - val_mse: 0.1401\n",
            "Epoch 14/150\n",
            "1/1 [==============================] - 0s 43ms/step - loss: 4.5521 - acc: 0.7500 - mse: 0.1190 - val_loss: 4.6266 - val_acc: 0.6579 - val_mse: 0.1380\n",
            "Epoch 15/150\n",
            "1/1 [==============================] - 0s 31ms/step - loss: 4.5360 - acc: 0.7768 - mse: 0.1159 - val_loss: 4.6149 - val_acc: 0.6579 - val_mse: 0.1360\n",
            "Epoch 16/150\n",
            "1/1 [==============================] - 0s 53ms/step - loss: 4.5210 - acc: 0.7768 - mse: 0.1131 - val_loss: 4.6038 - val_acc: 0.6842 - val_mse: 0.1342\n",
            "Epoch 17/150\n",
            "1/1 [==============================] - 0s 30ms/step - loss: 4.5069 - acc: 0.7768 - mse: 0.1106 - val_loss: 4.5935 - val_acc: 0.6842 - val_mse: 0.1326\n",
            "Epoch 18/150\n",
            "1/1 [==============================] - 0s 31ms/step - loss: 4.4938 - acc: 0.7857 - mse: 0.1083 - val_loss: 4.5837 - val_acc: 0.6842 - val_mse: 0.1311\n",
            "Epoch 19/150\n",
            "1/1 [==============================] - 0s 27ms/step - loss: 4.4815 - acc: 0.7946 - mse: 0.1062 - val_loss: 4.5743 - val_acc: 0.6842 - val_mse: 0.1297\n",
            "Epoch 20/150\n",
            "1/1 [==============================] - 0s 31ms/step - loss: 4.4699 - acc: 0.8125 - mse: 0.1042 - val_loss: 4.5654 - val_acc: 0.7105 - val_mse: 0.1284\n",
            "Epoch 21/150\n",
            "1/1 [==============================] - 0s 29ms/step - loss: 4.4590 - acc: 0.8125 - mse: 0.1024 - val_loss: 4.5567 - val_acc: 0.7105 - val_mse: 0.1272\n",
            "Epoch 22/150\n",
            "1/1 [==============================] - 0s 32ms/step - loss: 4.4485 - acc: 0.8125 - mse: 0.1007 - val_loss: 4.5483 - val_acc: 0.7105 - val_mse: 0.1260\n",
            "Epoch 23/150\n",
            "1/1 [==============================] - 0s 37ms/step - loss: 4.4384 - acc: 0.8125 - mse: 0.0991 - val_loss: 4.5402 - val_acc: 0.7105 - val_mse: 0.1249\n",
            "Epoch 24/150\n",
            "1/1 [==============================] - 0s 29ms/step - loss: 4.4288 - acc: 0.8125 - mse: 0.0976 - val_loss: 4.5323 - val_acc: 0.7105 - val_mse: 0.1239\n",
            "Epoch 25/150\n",
            "1/1 [==============================] - 0s 30ms/step - loss: 4.4196 - acc: 0.8304 - mse: 0.0962 - val_loss: 4.5243 - val_acc: 0.7105 - val_mse: 0.1228\n",
            "Epoch 26/150\n",
            "1/1 [==============================] - 0s 28ms/step - loss: 4.4106 - acc: 0.8304 - mse: 0.0948 - val_loss: 4.5167 - val_acc: 0.7105 - val_mse: 0.1218\n",
            "Epoch 27/150\n",
            "1/1 [==============================] - 0s 30ms/step - loss: 4.4020 - acc: 0.8304 - mse: 0.0935 - val_loss: 4.5092 - val_acc: 0.7105 - val_mse: 0.1208\n",
            "Epoch 28/150\n",
            "1/1 [==============================] - 0s 29ms/step - loss: 4.3936 - acc: 0.8304 - mse: 0.0922 - val_loss: 4.5018 - val_acc: 0.7105 - val_mse: 0.1199\n",
            "Epoch 29/150\n",
            "1/1 [==============================] - 0s 28ms/step - loss: 4.3853 - acc: 0.8393 - mse: 0.0910 - val_loss: 4.4946 - val_acc: 0.7105 - val_mse: 0.1189\n",
            "Epoch 30/150\n",
            "1/1 [==============================] - 0s 37ms/step - loss: 4.3773 - acc: 0.8393 - mse: 0.0898 - val_loss: 4.4874 - val_acc: 0.7105 - val_mse: 0.1180\n",
            "Epoch 31/150\n",
            "1/1 [==============================] - 0s 30ms/step - loss: 4.3694 - acc: 0.8482 - mse: 0.0887 - val_loss: 4.4804 - val_acc: 0.7105 - val_mse: 0.1171\n",
            "Epoch 32/150\n",
            "1/1 [==============================] - 0s 31ms/step - loss: 4.3618 - acc: 0.8482 - mse: 0.0876 - val_loss: 4.4734 - val_acc: 0.7105 - val_mse: 0.1162\n",
            "Epoch 33/150\n",
            "1/1 [==============================] - 0s 29ms/step - loss: 4.3543 - acc: 0.8482 - mse: 0.0865 - val_loss: 4.4663 - val_acc: 0.7368 - val_mse: 0.1153\n",
            "Epoch 34/150\n",
            "1/1 [==============================] - 0s 29ms/step - loss: 4.3468 - acc: 0.8482 - mse: 0.0854 - val_loss: 4.4591 - val_acc: 0.7368 - val_mse: 0.1143\n",
            "Epoch 35/150\n",
            "1/1 [==============================] - 0s 30ms/step - loss: 4.3394 - acc: 0.8482 - mse: 0.0843 - val_loss: 4.4518 - val_acc: 0.7368 - val_mse: 0.1133\n",
            "Epoch 36/150\n",
            "1/1 [==============================] - 0s 32ms/step - loss: 4.3321 - acc: 0.8482 - mse: 0.0832 - val_loss: 4.4448 - val_acc: 0.7368 - val_mse: 0.1124\n",
            "Epoch 37/150\n",
            "1/1 [==============================] - 0s 26ms/step - loss: 4.3249 - acc: 0.8571 - mse: 0.0822 - val_loss: 4.4378 - val_acc: 0.7368 - val_mse: 0.1114\n",
            "Epoch 38/150\n",
            "1/1 [==============================] - 0s 31ms/step - loss: 4.3178 - acc: 0.8571 - mse: 0.0811 - val_loss: 4.4309 - val_acc: 0.7368 - val_mse: 0.1105\n",
            "Epoch 39/150\n",
            "1/1 [==============================] - 0s 34ms/step - loss: 4.3108 - acc: 0.8571 - mse: 0.0801 - val_loss: 4.4242 - val_acc: 0.7368 - val_mse: 0.1096\n",
            "Epoch 40/150\n",
            "1/1 [==============================] - 0s 31ms/step - loss: 4.3040 - acc: 0.8571 - mse: 0.0791 - val_loss: 4.4176 - val_acc: 0.7368 - val_mse: 0.1087\n",
            "Epoch 41/150\n",
            "1/1 [==============================] - 0s 50ms/step - loss: 4.2972 - acc: 0.8571 - mse: 0.0781 - val_loss: 4.4110 - val_acc: 0.7368 - val_mse: 0.1079\n",
            "Epoch 42/150\n",
            "1/1 [==============================] - 0s 39ms/step - loss: 4.2905 - acc: 0.8571 - mse: 0.0771 - val_loss: 4.4044 - val_acc: 0.7368 - val_mse: 0.1070\n",
            "Epoch 43/150\n",
            "1/1 [==============================] - 0s 29ms/step - loss: 4.2839 - acc: 0.8571 - mse: 0.0762 - val_loss: 4.3980 - val_acc: 0.7368 - val_mse: 0.1061\n",
            "Epoch 44/150\n",
            "1/1 [==============================] - 0s 32ms/step - loss: 4.2774 - acc: 0.8571 - mse: 0.0752 - val_loss: 4.3917 - val_acc: 0.7632 - val_mse: 0.1053\n",
            "Epoch 45/150\n",
            "1/1 [==============================] - 0s 31ms/step - loss: 4.2710 - acc: 0.8571 - mse: 0.0743 - val_loss: 4.3854 - val_acc: 0.7895 - val_mse: 0.1044\n",
            "Epoch 46/150\n",
            "1/1 [==============================] - 0s 33ms/step - loss: 4.2646 - acc: 0.8571 - mse: 0.0733 - val_loss: 4.3792 - val_acc: 0.7895 - val_mse: 0.1036\n",
            "Epoch 47/150\n",
            "1/1 [==============================] - 0s 32ms/step - loss: 4.2584 - acc: 0.8661 - mse: 0.0724 - val_loss: 4.3730 - val_acc: 0.7895 - val_mse: 0.1027\n",
            "Epoch 48/150\n",
            "1/1 [==============================] - 0s 32ms/step - loss: 4.2522 - acc: 0.8661 - mse: 0.0715 - val_loss: 4.3669 - val_acc: 0.7895 - val_mse: 0.1019\n",
            "Epoch 49/150\n",
            "1/1 [==============================] - 0s 30ms/step - loss: 4.2461 - acc: 0.8661 - mse: 0.0705 - val_loss: 4.3608 - val_acc: 0.7895 - val_mse: 0.1011\n",
            "Epoch 50/150\n",
            "1/1 [==============================] - 0s 33ms/step - loss: 4.2400 - acc: 0.8750 - mse: 0.0696 - val_loss: 4.3548 - val_acc: 0.7895 - val_mse: 0.1003\n",
            "Epoch 51/150\n",
            "1/1 [==============================] - 0s 33ms/step - loss: 4.2341 - acc: 0.8839 - mse: 0.0688 - val_loss: 4.3490 - val_acc: 0.7632 - val_mse: 0.0995\n",
            "Epoch 52/150\n",
            "1/1 [==============================] - 0s 28ms/step - loss: 4.2282 - acc: 0.8839 - mse: 0.0679 - val_loss: 4.3432 - val_acc: 0.7632 - val_mse: 0.0987\n",
            "Epoch 53/150\n",
            "1/1 [==============================] - 0s 49ms/step - loss: 4.2224 - acc: 0.8839 - mse: 0.0670 - val_loss: 4.3373 - val_acc: 0.7632 - val_mse: 0.0979\n",
            "Epoch 54/150\n",
            "1/1 [==============================] - 0s 34ms/step - loss: 4.2166 - acc: 0.8839 - mse: 0.0661 - val_loss: 4.3317 - val_acc: 0.7632 - val_mse: 0.0971\n",
            "Epoch 55/150\n",
            "1/1 [==============================] - 0s 39ms/step - loss: 4.2108 - acc: 0.8929 - mse: 0.0653 - val_loss: 4.3260 - val_acc: 0.7632 - val_mse: 0.0964\n",
            "Epoch 56/150\n",
            "1/1 [==============================] - 0s 30ms/step - loss: 4.2051 - acc: 0.8929 - mse: 0.0644 - val_loss: 4.3204 - val_acc: 0.7632 - val_mse: 0.0956\n",
            "Epoch 57/150\n",
            "1/1 [==============================] - 0s 33ms/step - loss: 4.1993 - acc: 0.8929 - mse: 0.0635 - val_loss: 4.3149 - val_acc: 0.7632 - val_mse: 0.0949\n",
            "Epoch 58/150\n",
            "1/1 [==============================] - 0s 31ms/step - loss: 4.1937 - acc: 0.8929 - mse: 0.0627 - val_loss: 4.3095 - val_acc: 0.7632 - val_mse: 0.0941\n",
            "Epoch 59/150\n",
            "1/1 [==============================] - 0s 34ms/step - loss: 4.1881 - acc: 0.9018 - mse: 0.0618 - val_loss: 4.3043 - val_acc: 0.7632 - val_mse: 0.0935\n",
            "Epoch 60/150\n",
            "1/1 [==============================] - 0s 33ms/step - loss: 4.1825 - acc: 0.9018 - mse: 0.0610 - val_loss: 4.2991 - val_acc: 0.7632 - val_mse: 0.0928\n",
            "Epoch 61/150\n",
            "1/1 [==============================] - 0s 31ms/step - loss: 4.1770 - acc: 0.9018 - mse: 0.0602 - val_loss: 4.2940 - val_acc: 0.7632 - val_mse: 0.0921\n",
            "Epoch 62/150\n",
            "1/1 [==============================] - 0s 33ms/step - loss: 4.1716 - acc: 0.9018 - mse: 0.0594 - val_loss: 4.2889 - val_acc: 0.7632 - val_mse: 0.0915\n",
            "Epoch 63/150\n",
            "1/1 [==============================] - 0s 29ms/step - loss: 4.1662 - acc: 0.9018 - mse: 0.0586 - val_loss: 4.2840 - val_acc: 0.7632 - val_mse: 0.0909\n",
            "Epoch 64/150\n",
            "1/1 [==============================] - 0s 36ms/step - loss: 4.1609 - acc: 0.9018 - mse: 0.0578 - val_loss: 4.2792 - val_acc: 0.7632 - val_mse: 0.0903\n",
            "Epoch 65/150\n",
            "1/1 [==============================] - 0s 34ms/step - loss: 4.1557 - acc: 0.9018 - mse: 0.0570 - val_loss: 4.2744 - val_acc: 0.7632 - val_mse: 0.0897\n",
            "Epoch 66/150\n",
            "1/1 [==============================] - 0s 34ms/step - loss: 4.1507 - acc: 0.9018 - mse: 0.0563 - val_loss: 4.2696 - val_acc: 0.7632 - val_mse: 0.0891\n",
            "Epoch 67/150\n",
            "1/1 [==============================] - 0s 36ms/step - loss: 4.1457 - acc: 0.9018 - mse: 0.0556 - val_loss: 4.2650 - val_acc: 0.7632 - val_mse: 0.0885\n",
            "Epoch 68/150\n",
            "1/1 [==============================] - 0s 43ms/step - loss: 4.1407 - acc: 0.9107 - mse: 0.0549 - val_loss: 4.2604 - val_acc: 0.7895 - val_mse: 0.0880\n",
            "Epoch 69/150\n",
            "1/1 [==============================] - 0s 37ms/step - loss: 4.1359 - acc: 0.9107 - mse: 0.0542 - val_loss: 4.2558 - val_acc: 0.7895 - val_mse: 0.0874\n",
            "Epoch 70/150\n",
            "1/1 [==============================] - 0s 30ms/step - loss: 4.1311 - acc: 0.9107 - mse: 0.0536 - val_loss: 4.2514 - val_acc: 0.7895 - val_mse: 0.0869\n",
            "Epoch 71/150\n",
            "1/1 [==============================] - 0s 38ms/step - loss: 4.1264 - acc: 0.9196 - mse: 0.0529 - val_loss: 4.2470 - val_acc: 0.7895 - val_mse: 0.0864\n",
            "Epoch 72/150\n",
            "1/1 [==============================] - 0s 36ms/step - loss: 4.1218 - acc: 0.9196 - mse: 0.0523 - val_loss: 4.2427 - val_acc: 0.7895 - val_mse: 0.0859\n",
            "Epoch 73/150\n",
            "1/1 [==============================] - 0s 49ms/step - loss: 4.1172 - acc: 0.9196 - mse: 0.0517 - val_loss: 4.2384 - val_acc: 0.7895 - val_mse: 0.0854\n",
            "Epoch 74/150\n",
            "1/1 [==============================] - 0s 33ms/step - loss: 4.1127 - acc: 0.9196 - mse: 0.0511 - val_loss: 4.2341 - val_acc: 0.7895 - val_mse: 0.0849\n",
            "Epoch 75/150\n",
            "1/1 [==============================] - 0s 34ms/step - loss: 4.1083 - acc: 0.9196 - mse: 0.0505 - val_loss: 4.2299 - val_acc: 0.7895 - val_mse: 0.0844\n",
            "Epoch 76/150\n",
            "1/1 [==============================] - 0s 54ms/step - loss: 4.1039 - acc: 0.9196 - mse: 0.0499 - val_loss: 4.2258 - val_acc: 0.7895 - val_mse: 0.0839\n",
            "Epoch 77/150\n",
            "1/1 [==============================] - 0s 30ms/step - loss: 4.0996 - acc: 0.9196 - mse: 0.0494 - val_loss: 4.2217 - val_acc: 0.7895 - val_mse: 0.0834\n",
            "Epoch 78/150\n",
            "1/1 [==============================] - 0s 28ms/step - loss: 4.0954 - acc: 0.9286 - mse: 0.0488 - val_loss: 4.2176 - val_acc: 0.7895 - val_mse: 0.0829\n",
            "Epoch 79/150\n",
            "1/1 [==============================] - 0s 35ms/step - loss: 4.0911 - acc: 0.9375 - mse: 0.0483 - val_loss: 4.2135 - val_acc: 0.7895 - val_mse: 0.0825\n",
            "Epoch 80/150\n",
            "1/1 [==============================] - 0s 39ms/step - loss: 4.0870 - acc: 0.9375 - mse: 0.0477 - val_loss: 4.2095 - val_acc: 0.7895 - val_mse: 0.0820\n",
            "Epoch 81/150\n",
            "1/1 [==============================] - 0s 54ms/step - loss: 4.0829 - acc: 0.9375 - mse: 0.0472 - val_loss: 4.2055 - val_acc: 0.7895 - val_mse: 0.0816\n",
            "Epoch 82/150\n",
            "1/1 [==============================] - 0s 31ms/step - loss: 4.0788 - acc: 0.9375 - mse: 0.0467 - val_loss: 4.2016 - val_acc: 0.7895 - val_mse: 0.0811\n",
            "Epoch 83/150\n",
            "1/1 [==============================] - 0s 35ms/step - loss: 4.0749 - acc: 0.9375 - mse: 0.0462 - val_loss: 4.1978 - val_acc: 0.7895 - val_mse: 0.0807\n",
            "Epoch 84/150\n",
            "1/1 [==============================] - 0s 33ms/step - loss: 4.0709 - acc: 0.9375 - mse: 0.0457 - val_loss: 4.1939 - val_acc: 0.7895 - val_mse: 0.0803\n",
            "Epoch 85/150\n",
            "1/1 [==============================] - 0s 28ms/step - loss: 4.0670 - acc: 0.9375 - mse: 0.0453 - val_loss: 4.1901 - val_acc: 0.7895 - val_mse: 0.0798\n",
            "Epoch 86/150\n",
            "1/1 [==============================] - 0s 33ms/step - loss: 4.0632 - acc: 0.9375 - mse: 0.0448 - val_loss: 4.1863 - val_acc: 0.7895 - val_mse: 0.0794\n",
            "Epoch 87/150\n",
            "1/1 [==============================] - 0s 35ms/step - loss: 4.0594 - acc: 0.9375 - mse: 0.0444 - val_loss: 4.1826 - val_acc: 0.7895 - val_mse: 0.0790\n",
            "Epoch 88/150\n",
            "1/1 [==============================] - 0s 40ms/step - loss: 4.0556 - acc: 0.9375 - mse: 0.0439 - val_loss: 4.1789 - val_acc: 0.7895 - val_mse: 0.0786\n",
            "Epoch 89/150\n",
            "1/1 [==============================] - 0s 34ms/step - loss: 4.0519 - acc: 0.9375 - mse: 0.0435 - val_loss: 4.1752 - val_acc: 0.7895 - val_mse: 0.0782\n",
            "Epoch 90/150\n",
            "1/1 [==============================] - 0s 33ms/step - loss: 4.0482 - acc: 0.9375 - mse: 0.0430 - val_loss: 4.1716 - val_acc: 0.7895 - val_mse: 0.0778\n",
            "Epoch 91/150\n",
            "1/1 [==============================] - 0s 37ms/step - loss: 4.0445 - acc: 0.9375 - mse: 0.0426 - val_loss: 4.1680 - val_acc: 0.7895 - val_mse: 0.0774\n",
            "Epoch 92/150\n",
            "1/1 [==============================] - 0s 39ms/step - loss: 4.0409 - acc: 0.9375 - mse: 0.0422 - val_loss: 4.1645 - val_acc: 0.8158 - val_mse: 0.0771\n",
            "Epoch 93/150\n",
            "1/1 [==============================] - 0s 39ms/step - loss: 4.0373 - acc: 0.9375 - mse: 0.0418 - val_loss: 4.1610 - val_acc: 0.8158 - val_mse: 0.0767\n",
            "Epoch 94/150\n",
            "1/1 [==============================] - 0s 31ms/step - loss: 4.0338 - acc: 0.9375 - mse: 0.0414 - val_loss: 4.1575 - val_acc: 0.7895 - val_mse: 0.0763\n",
            "Epoch 95/150\n",
            "1/1 [==============================] - 0s 37ms/step - loss: 4.0302 - acc: 0.9375 - mse: 0.0410 - val_loss: 4.1540 - val_acc: 0.7895 - val_mse: 0.0760\n",
            "Epoch 96/150\n",
            "1/1 [==============================] - 0s 35ms/step - loss: 4.0268 - acc: 0.9375 - mse: 0.0406 - val_loss: 4.1506 - val_acc: 0.7895 - val_mse: 0.0756\n",
            "Epoch 97/150\n",
            "1/1 [==============================] - 0s 34ms/step - loss: 4.0233 - acc: 0.9375 - mse: 0.0402 - val_loss: 4.1472 - val_acc: 0.7895 - val_mse: 0.0753\n",
            "Epoch 98/150\n",
            "1/1 [==============================] - 0s 33ms/step - loss: 4.0199 - acc: 0.9375 - mse: 0.0399 - val_loss: 4.1438 - val_acc: 0.7895 - val_mse: 0.0749\n",
            "Epoch 99/150\n",
            "1/1 [==============================] - 0s 35ms/step - loss: 4.0165 - acc: 0.9375 - mse: 0.0395 - val_loss: 4.1405 - val_acc: 0.7895 - val_mse: 0.0746\n",
            "Epoch 100/150\n",
            "1/1 [==============================] - 0s 34ms/step - loss: 4.0131 - acc: 0.9375 - mse: 0.0391 - val_loss: 4.1371 - val_acc: 0.7895 - val_mse: 0.0742\n",
            "Epoch 101/150\n",
            "1/1 [==============================] - 0s 31ms/step - loss: 4.0098 - acc: 0.9375 - mse: 0.0388 - val_loss: 4.1338 - val_acc: 0.7895 - val_mse: 0.0739\n",
            "Epoch 102/150\n",
            "1/1 [==============================] - 0s 30ms/step - loss: 4.0065 - acc: 0.9375 - mse: 0.0384 - val_loss: 4.1306 - val_acc: 0.7895 - val_mse: 0.0736\n",
            "Epoch 103/150\n",
            "1/1 [==============================] - 0s 31ms/step - loss: 4.0033 - acc: 0.9464 - mse: 0.0381 - val_loss: 4.1274 - val_acc: 0.7895 - val_mse: 0.0733\n",
            "Epoch 104/150\n",
            "1/1 [==============================] - 0s 33ms/step - loss: 4.0000 - acc: 0.9464 - mse: 0.0377 - val_loss: 4.1242 - val_acc: 0.7895 - val_mse: 0.0729\n",
            "Epoch 105/150\n",
            "1/1 [==============================] - 0s 31ms/step - loss: 3.9968 - acc: 0.9464 - mse: 0.0374 - val_loss: 4.1209 - val_acc: 0.7895 - val_mse: 0.0726\n",
            "Epoch 106/150\n",
            "1/1 [==============================] - 0s 28ms/step - loss: 3.9937 - acc: 0.9464 - mse: 0.0371 - val_loss: 4.1176 - val_acc: 0.7895 - val_mse: 0.0723\n",
            "Epoch 107/150\n",
            "1/1 [==============================] - 0s 40ms/step - loss: 3.9905 - acc: 0.9554 - mse: 0.0368 - val_loss: 4.1143 - val_acc: 0.7895 - val_mse: 0.0719\n",
            "Epoch 108/150\n",
            "1/1 [==============================] - 0s 30ms/step - loss: 3.9873 - acc: 0.9554 - mse: 0.0364 - val_loss: 4.1111 - val_acc: 0.7895 - val_mse: 0.0716\n",
            "Epoch 109/150\n",
            "1/1 [==============================] - 0s 32ms/step - loss: 3.9842 - acc: 0.9554 - mse: 0.0361 - val_loss: 4.1078 - val_acc: 0.7895 - val_mse: 0.0712\n",
            "Epoch 110/150\n",
            "1/1 [==============================] - 0s 35ms/step - loss: 3.9811 - acc: 0.9554 - mse: 0.0358 - val_loss: 4.1046 - val_acc: 0.7895 - val_mse: 0.0709\n",
            "Epoch 111/150\n",
            "1/1 [==============================] - 0s 38ms/step - loss: 3.9781 - acc: 0.9554 - mse: 0.0355 - val_loss: 4.1014 - val_acc: 0.7895 - val_mse: 0.0706\n",
            "Epoch 112/150\n",
            "1/1 [==============================] - 0s 31ms/step - loss: 3.9750 - acc: 0.9554 - mse: 0.0352 - val_loss: 4.0982 - val_acc: 0.7895 - val_mse: 0.0702\n",
            "Epoch 113/150\n",
            "1/1 [==============================] - 0s 40ms/step - loss: 3.9720 - acc: 0.9554 - mse: 0.0349 - val_loss: 4.0950 - val_acc: 0.7895 - val_mse: 0.0699\n",
            "Epoch 114/150\n",
            "1/1 [==============================] - 0s 36ms/step - loss: 3.9690 - acc: 0.9554 - mse: 0.0346 - val_loss: 4.0919 - val_acc: 0.8158 - val_mse: 0.0696\n",
            "Epoch 115/150\n",
            "1/1 [==============================] - 0s 38ms/step - loss: 3.9660 - acc: 0.9554 - mse: 0.0344 - val_loss: 4.0887 - val_acc: 0.8158 - val_mse: 0.0692\n",
            "Epoch 116/150\n",
            "1/1 [==============================] - 0s 33ms/step - loss: 3.9631 - acc: 0.9554 - mse: 0.0341 - val_loss: 4.0856 - val_acc: 0.8158 - val_mse: 0.0689\n",
            "Epoch 117/150\n",
            "1/1 [==============================] - 0s 38ms/step - loss: 3.9602 - acc: 0.9554 - mse: 0.0338 - val_loss: 4.0825 - val_acc: 0.8158 - val_mse: 0.0686\n",
            "Epoch 118/150\n",
            "1/1 [==============================] - 0s 38ms/step - loss: 3.9573 - acc: 0.9554 - mse: 0.0335 - val_loss: 4.0795 - val_acc: 0.8158 - val_mse: 0.0683\n",
            "Epoch 119/150\n",
            "1/1 [==============================] - 0s 34ms/step - loss: 3.9544 - acc: 0.9554 - mse: 0.0333 - val_loss: 4.0764 - val_acc: 0.8158 - val_mse: 0.0680\n",
            "Epoch 120/150\n",
            "1/1 [==============================] - 0s 37ms/step - loss: 3.9515 - acc: 0.9554 - mse: 0.0330 - val_loss: 4.0734 - val_acc: 0.8158 - val_mse: 0.0677\n",
            "Epoch 121/150\n",
            "1/1 [==============================] - 0s 36ms/step - loss: 3.9487 - acc: 0.9554 - mse: 0.0327 - val_loss: 4.0703 - val_acc: 0.8158 - val_mse: 0.0674\n",
            "Epoch 122/150\n",
            "1/1 [==============================] - 0s 40ms/step - loss: 3.9459 - acc: 0.9554 - mse: 0.0325 - val_loss: 4.0673 - val_acc: 0.8158 - val_mse: 0.0671\n",
            "Epoch 123/150\n",
            "1/1 [==============================] - 0s 35ms/step - loss: 3.9430 - acc: 0.9554 - mse: 0.0322 - val_loss: 4.0643 - val_acc: 0.8158 - val_mse: 0.0668\n",
            "Epoch 124/150\n",
            "1/1 [==============================] - 0s 31ms/step - loss: 3.9403 - acc: 0.9554 - mse: 0.0320 - val_loss: 4.0613 - val_acc: 0.8158 - val_mse: 0.0664\n",
            "Epoch 125/150\n",
            "1/1 [==============================] - 0s 35ms/step - loss: 3.9375 - acc: 0.9554 - mse: 0.0318 - val_loss: 4.0583 - val_acc: 0.8158 - val_mse: 0.0661\n",
            "Epoch 126/150\n",
            "1/1 [==============================] - 0s 30ms/step - loss: 3.9347 - acc: 0.9554 - mse: 0.0315 - val_loss: 4.0552 - val_acc: 0.8158 - val_mse: 0.0658\n",
            "Epoch 127/150\n",
            "1/1 [==============================] - 0s 36ms/step - loss: 3.9320 - acc: 0.9554 - mse: 0.0313 - val_loss: 4.0521 - val_acc: 0.8158 - val_mse: 0.0655\n",
            "Epoch 128/150\n",
            "1/1 [==============================] - 0s 35ms/step - loss: 3.9292 - acc: 0.9554 - mse: 0.0310 - val_loss: 4.0490 - val_acc: 0.8158 - val_mse: 0.0651\n",
            "Epoch 129/150\n",
            "1/1 [==============================] - 0s 39ms/step - loss: 3.9265 - acc: 0.9554 - mse: 0.0308 - val_loss: 4.0459 - val_acc: 0.8421 - val_mse: 0.0648\n",
            "Epoch 130/150\n",
            "1/1 [==============================] - 0s 37ms/step - loss: 3.9238 - acc: 0.9554 - mse: 0.0305 - val_loss: 4.0429 - val_acc: 0.8421 - val_mse: 0.0645\n",
            "Epoch 131/150\n",
            "1/1 [==============================] - 0s 35ms/step - loss: 3.9211 - acc: 0.9554 - mse: 0.0303 - val_loss: 4.0398 - val_acc: 0.8421 - val_mse: 0.0641\n",
            "Epoch 132/150\n",
            "1/1 [==============================] - 0s 35ms/step - loss: 3.9184 - acc: 0.9554 - mse: 0.0301 - val_loss: 4.0368 - val_acc: 0.8421 - val_mse: 0.0638\n",
            "Epoch 133/150\n",
            "1/1 [==============================] - 0s 42ms/step - loss: 3.9157 - acc: 0.9554 - mse: 0.0298 - val_loss: 4.0338 - val_acc: 0.8421 - val_mse: 0.0635\n",
            "Epoch 134/150\n",
            "1/1 [==============================] - 0s 32ms/step - loss: 3.9131 - acc: 0.9554 - mse: 0.0296 - val_loss: 4.0308 - val_acc: 0.8421 - val_mse: 0.0631\n",
            "Epoch 135/150\n",
            "1/1 [==============================] - 0s 37ms/step - loss: 3.9105 - acc: 0.9554 - mse: 0.0294 - val_loss: 4.0278 - val_acc: 0.8421 - val_mse: 0.0628\n",
            "Epoch 136/150\n",
            "1/1 [==============================] - 0s 33ms/step - loss: 3.9078 - acc: 0.9554 - mse: 0.0292 - val_loss: 4.0247 - val_acc: 0.8421 - val_mse: 0.0625\n",
            "Epoch 137/150\n",
            "1/1 [==============================] - 0s 35ms/step - loss: 3.9052 - acc: 0.9554 - mse: 0.0289 - val_loss: 4.0217 - val_acc: 0.8421 - val_mse: 0.0621\n",
            "Epoch 138/150\n",
            "1/1 [==============================] - 0s 31ms/step - loss: 3.9026 - acc: 0.9554 - mse: 0.0287 - val_loss: 4.0187 - val_acc: 0.8421 - val_mse: 0.0618\n",
            "Epoch 139/150\n",
            "1/1 [==============================] - 0s 39ms/step - loss: 3.9000 - acc: 0.9554 - mse: 0.0285 - val_loss: 4.0157 - val_acc: 0.8421 - val_mse: 0.0615\n",
            "Epoch 140/150\n",
            "1/1 [==============================] - 0s 37ms/step - loss: 3.8974 - acc: 0.9554 - mse: 0.0283 - val_loss: 4.0128 - val_acc: 0.8421 - val_mse: 0.0611\n",
            "Epoch 141/150\n",
            "1/1 [==============================] - 0s 38ms/step - loss: 3.8948 - acc: 0.9554 - mse: 0.0281 - val_loss: 4.0098 - val_acc: 0.8421 - val_mse: 0.0608\n",
            "Epoch 142/150\n",
            "1/1 [==============================] - 0s 37ms/step - loss: 3.8923 - acc: 0.9554 - mse: 0.0279 - val_loss: 4.0069 - val_acc: 0.8421 - val_mse: 0.0605\n",
            "Epoch 143/150\n",
            "1/1 [==============================] - 0s 45ms/step - loss: 3.8897 - acc: 0.9554 - mse: 0.0277 - val_loss: 4.0040 - val_acc: 0.8421 - val_mse: 0.0602\n",
            "Epoch 144/150\n",
            "1/1 [==============================] - 0s 33ms/step - loss: 3.8872 - acc: 0.9554 - mse: 0.0275 - val_loss: 4.0011 - val_acc: 0.8421 - val_mse: 0.0599\n",
            "Epoch 145/150\n",
            "1/1 [==============================] - 0s 32ms/step - loss: 3.8847 - acc: 0.9554 - mse: 0.0273 - val_loss: 3.9983 - val_acc: 0.8421 - val_mse: 0.0596\n",
            "Epoch 146/150\n",
            "1/1 [==============================] - 0s 41ms/step - loss: 3.8822 - acc: 0.9554 - mse: 0.0271 - val_loss: 3.9954 - val_acc: 0.8421 - val_mse: 0.0593\n",
            "Epoch 147/150\n",
            "1/1 [==============================] - 0s 32ms/step - loss: 3.8797 - acc: 0.9554 - mse: 0.0269 - val_loss: 3.9926 - val_acc: 0.8421 - val_mse: 0.0590\n",
            "Epoch 148/150\n",
            "1/1 [==============================] - 0s 39ms/step - loss: 3.8773 - acc: 0.9554 - mse: 0.0267 - val_loss: 3.9898 - val_acc: 0.8421 - val_mse: 0.0587\n",
            "Epoch 149/150\n",
            "1/1 [==============================] - 0s 42ms/step - loss: 3.8748 - acc: 0.9554 - mse: 0.0265 - val_loss: 3.9869 - val_acc: 0.8421 - val_mse: 0.0584\n",
            "Epoch 150/150\n",
            "1/1 [==============================] - 0s 40ms/step - loss: 3.8724 - acc: 0.9554 - mse: 0.0263 - val_loss: 3.9841 - val_acc: 0.8421 - val_mse: 0.0581\n"
          ]
        }
      ]
    },
    {
      "cell_type": "code",
      "metadata": {
        "id": "DNOrnCbMlww5",
        "colab": {
          "base_uri": "https://localhost:8080/"
        },
        "outputId": "1e324093-739e-4fa5-c308-a83fcaf7fb4b"
      },
      "source": [
        "\n",
        "#just how we used evaluate() in the basic model previously, use it again to find the loss, accuracy and MSE on the test set\n",
        "test_loss4, test_acc4,test_mse4 = model5.evaluate(X_test,y_test,verbose=2)\n",
        "\n",
        "print('\\nLoss',test_loss4)\n",
        "print('\\nTest accuracy:', test_acc4)\n",
        "print('\\nTest MSE',test_mse4)\n",
        "\n"
      ],
      "execution_count": null,
      "outputs": [
        {
          "output_type": "stream",
          "name": "stdout",
          "text": [
            "2/2 - 0s - loss: 3.9841 - acc: 0.8421 - mse: 0.0581\n",
            "\n",
            "Loss 3.9841291904449463\n",
            "\n",
            "Test accuracy: 0.8421052694320679\n",
            "\n",
            "Test MSE 0.058081790804862976\n"
          ]
        }
      ]
    },
    {
      "cell_type": "code",
      "metadata": {
        "id": "7jR4_-Uslww6",
        "colab": {
          "base_uri": "https://localhost:8080/",
          "height": 581
        },
        "outputId": "20f82895-12d8-4504-eec0-de0f49cbf481"
      },
      "source": [
        "# Plot the train loss vs validation loss and train accuracy vs validation accuracy graphs just like we did before\n",
        "\n",
        "# Plot the train loss vs validation loss and train accuracy vs validation accuracy graphs just like we did before\n",
        "import matplotlib.pyplot as plt\n",
        "plt.style.use('ggplot')\n",
        "plt.plot(hist3.history['loss'], label = 'loss')\n",
        "plt.plot(hist3.history['val_loss'], label='val loss')\n",
        "plt.title(\"Train Loss vs Val_Loss\")\n",
        "plt.xlabel(\"Epochs\")\n",
        "plt.ylabel(\"Loss\")\n",
        "plt.legend()\n",
        "plt.show()\n",
        "\n",
        "#similarly we plot for model accuracy \n",
        "plt.plot(hist3.history['acc'], label = 'train acc')\n",
        "plt.plot(hist3.history['val_acc'], label='val acc')\n",
        "plt.title(\"train acc vs Val_acc\")\n",
        "plt.xlabel(\"Epochs\")\n",
        "plt.ylabel(\"acc\")\n",
        "plt.legend()\n",
        "plt.show()\n",
        "\n",
        "\n",
        "\n"
      ],
      "execution_count": null,
      "outputs": [
        {
          "output_type": "display_data",
          "data": {
            "image/png": "[encoded data removed]",
            "text/plain": [
              "<Figure size 432x288 with 1 Axes>"
            ]
          },
          "metadata": {}
        },
        {
          "output_type": "display_data",
          "data": {
            "image/png": "[encoded data removed]",
            "text/plain": [
              "<Figure size 432x288 with 1 Axes>"
            ]
          },
          "metadata": {}
        }
      ]
    },
    {
      "cell_type": "markdown",
      "metadata": {
        "id": "hc3M0uTllww7"
      },
      "source": [
        "\n",
        " \n",
        "\n",
        "## Dropout\n",
        " \n"
      ]
    },
    {
      "cell_type": "code",
      "metadata": {
        "id": "EpdZtOYClww7"
      },
      "source": [
        "\n",
        "#Another common way to avoid regularization is by using the Dropout technique. The main idea behind using dropout is that we randomly turn off some neurons in our layer based on some probability.\n",
        "# Create a model6 having same layers as the basic model. Add a dropout layer in this model, lets say after the 1st dense layer, and set dropout rate as 50%\n",
        "import tensorflow as tf\n",
        "model6 = Sequential([\n",
        "    Dense(512, activation='tanh', input_shape = X_train[0].shape),\n",
        "    Dense(512//2, activation='tanh'),\n",
        "    Dense(512//4, activation='tanh'),\n",
        "    Dense(512//8, activation='tanh'),\n",
        "    keras.layers.Dropout(0.5),\n",
        "    Dense(32, activation='relu'),\n",
        "    Dense(3, activation='softmax')\n",
        "])\n",
        "\n"
      ],
      "execution_count": null,
      "outputs": []
    },
    {
      "cell_type": "code",
      "metadata": {
        "colab": {
          "base_uri": "https://localhost:8080/"
        },
        "id": "DlZG4cbbRCkJ",
        "outputId": "52b6d735-1ae3-4cfc-efb3-07dbea2476b5"
      },
      "source": [
        "print(model6.summary())\n",
        "model6.compile(optimizer='sgd',loss='categorical_crossentropy', metrics=['acc', 'mse'])\n",
        "\n",
        "hist4 = model6.fit(X_train, y_train, epochs=150, batch_size=128, validation_data=(X_test,y_test))"
      ],
      "execution_count": null,
      "outputs": [
        {
          "output_type": "stream",
          "name": "stdout",
          "text": [
            "Model: \"sequential_16\"\n",
            "_________________________________________________________________\n",
            "Layer (type)                 Output Shape              Param #   \n",
            "=================================================================\n",
            "dense_97 (Dense)             (None, 512)               2560      \n",
            "_________________________________________________________________\n",
            "dense_98 (Dense)             (None, 256)               131328    \n",
            "_________________________________________________________________\n",
            "dense_99 (Dense)             (None, 128)               32896     \n",
            "_________________________________________________________________\n",
            "dense_100 (Dense)            (None, 64)                8256      \n",
            "_________________________________________________________________\n",
            "dropout_7 (Dropout)          (None, 64)                0         \n",
            "_________________________________________________________________\n",
            "dense_101 (Dense)            (None, 32)                2080      \n",
            "_________________________________________________________________\n",
            "dense_102 (Dense)            (None, 3)                 99        \n",
            "=================================================================\n",
            "Total params: 177,219\n",
            "Trainable params: 177,219\n",
            "Non-trainable params: 0\n",
            "_________________________________________________________________\n",
            "None\n",
            "Epoch 1/150\n",
            "1/1 [==============================] - 1s 598ms/step - loss: 1.2033 - acc: 0.1696 - mse: 0.2484 - val_loss: 1.1004 - val_acc: 0.3158 - val_mse: 0.2261\n",
            "Epoch 2/150\n",
            "1/1 [==============================] - 0s 30ms/step - loss: 1.1697 - acc: 0.2321 - mse: 0.2408 - val_loss: 1.0574 - val_acc: 0.3684 - val_mse: 0.2170\n",
            "Epoch 3/150\n",
            "1/1 [==============================] - 0s 31ms/step - loss: 1.0826 - acc: 0.2679 - mse: 0.2228 - val_loss: 1.0182 - val_acc: 0.4211 - val_mse: 0.2084\n",
            "Epoch 4/150\n",
            "1/1 [==============================] - 0s 28ms/step - loss: 1.0374 - acc: 0.3839 - mse: 0.2132 - val_loss: 0.9855 - val_acc: 0.4737 - val_mse: 0.2009\n",
            "Epoch 5/150\n",
            "1/1 [==============================] - 0s 27ms/step - loss: 1.0137 - acc: 0.4464 - mse: 0.2072 - val_loss: 0.9548 - val_acc: 0.4474 - val_mse: 0.1938\n",
            "Epoch 6/150\n",
            "1/1 [==============================] - 0s 34ms/step - loss: 0.9662 - acc: 0.5089 - mse: 0.1973 - val_loss: 0.9276 - val_acc: 0.7368 - val_mse: 0.1870\n",
            "Epoch 7/150\n",
            "1/1 [==============================] - 0s 31ms/step - loss: 0.9279 - acc: 0.5893 - mse: 0.1865 - val_loss: 0.9018 - val_acc: 0.7368 - val_mse: 0.1808\n",
            "Epoch 8/150\n",
            "1/1 [==============================] - 0s 32ms/step - loss: 0.9091 - acc: 0.6607 - mse: 0.1824 - val_loss: 0.8770 - val_acc: 0.7368 - val_mse: 0.1747\n",
            "Epoch 9/150\n",
            "1/1 [==============================] - 0s 30ms/step - loss: 0.8868 - acc: 0.7143 - mse: 0.1776 - val_loss: 0.8548 - val_acc: 0.7368 - val_mse: 0.1693\n",
            "Epoch 10/150\n",
            "1/1 [==============================] - 0s 36ms/step - loss: 0.8632 - acc: 0.6607 - mse: 0.1718 - val_loss: 0.8344 - val_acc: 0.7368 - val_mse: 0.1644\n",
            "Epoch 11/150\n",
            "1/1 [==============================] - 0s 31ms/step - loss: 0.8134 - acc: 0.7679 - mse: 0.1592 - val_loss: 0.8150 - val_acc: 0.7368 - val_mse: 0.1597\n",
            "Epoch 12/150\n",
            "1/1 [==============================] - 0s 33ms/step - loss: 0.8046 - acc: 0.7321 - mse: 0.1574 - val_loss: 0.7992 - val_acc: 0.7368 - val_mse: 0.1559\n",
            "Epoch 13/150\n",
            "1/1 [==============================] - 0s 31ms/step - loss: 0.7820 - acc: 0.7768 - mse: 0.1518 - val_loss: 0.7840 - val_acc: 0.7105 - val_mse: 0.1522\n",
            "Epoch 14/150\n",
            "1/1 [==============================] - 0s 33ms/step - loss: 0.7649 - acc: 0.7857 - mse: 0.1477 - val_loss: 0.7691 - val_acc: 0.7105 - val_mse: 0.1487\n",
            "Epoch 15/150\n",
            "1/1 [==============================] - 0s 32ms/step - loss: 0.7233 - acc: 0.8214 - mse: 0.1371 - val_loss: 0.7552 - val_acc: 0.7105 - val_mse: 0.1455\n",
            "Epoch 16/150\n",
            "1/1 [==============================] - 0s 29ms/step - loss: 0.7285 - acc: 0.7500 - mse: 0.1394 - val_loss: 0.7413 - val_acc: 0.7105 - val_mse: 0.1422\n",
            "Epoch 17/150\n",
            "1/1 [==============================] - 0s 27ms/step - loss: 0.6982 - acc: 0.8036 - mse: 0.1320 - val_loss: 0.7282 - val_acc: 0.7105 - val_mse: 0.1393\n",
            "Epoch 18/150\n",
            "1/1 [==============================] - 0s 29ms/step - loss: 0.6982 - acc: 0.8214 - mse: 0.1323 - val_loss: 0.7159 - val_acc: 0.7105 - val_mse: 0.1365\n",
            "Epoch 19/150\n",
            "1/1 [==============================] - 0s 29ms/step - loss: 0.6681 - acc: 0.8214 - mse: 0.1251 - val_loss: 0.7066 - val_acc: 0.7105 - val_mse: 0.1346\n",
            "Epoch 20/150\n",
            "1/1 [==============================] - 0s 32ms/step - loss: 0.6631 - acc: 0.8036 - mse: 0.1246 - val_loss: 0.6964 - val_acc: 0.7105 - val_mse: 0.1325\n",
            "Epoch 21/150\n",
            "1/1 [==============================] - 0s 29ms/step - loss: 0.6561 - acc: 0.8214 - mse: 0.1227 - val_loss: 0.6877 - val_acc: 0.7105 - val_mse: 0.1307\n",
            "Epoch 22/150\n",
            "1/1 [==============================] - 0s 33ms/step - loss: 0.6465 - acc: 0.8036 - mse: 0.1214 - val_loss: 0.6796 - val_acc: 0.7105 - val_mse: 0.1291\n",
            "Epoch 23/150\n",
            "1/1 [==============================] - 0s 30ms/step - loss: 0.6442 - acc: 0.7946 - mse: 0.1204 - val_loss: 0.6714 - val_acc: 0.7105 - val_mse: 0.1275\n",
            "Epoch 24/150\n",
            "1/1 [==============================] - 0s 26ms/step - loss: 0.5974 - acc: 0.8125 - mse: 0.1094 - val_loss: 0.6635 - val_acc: 0.7105 - val_mse: 0.1259\n",
            "Epoch 25/150\n",
            "1/1 [==============================] - 0s 30ms/step - loss: 0.6107 - acc: 0.7946 - mse: 0.1127 - val_loss: 0.6555 - val_acc: 0.7105 - val_mse: 0.1244\n",
            "Epoch 26/150\n",
            "1/1 [==============================] - 0s 29ms/step - loss: 0.5986 - acc: 0.8482 - mse: 0.1095 - val_loss: 0.6478 - val_acc: 0.7105 - val_mse: 0.1230\n",
            "Epoch 27/150\n",
            "1/1 [==============================] - 0s 33ms/step - loss: 0.5830 - acc: 0.8571 - mse: 0.1069 - val_loss: 0.6407 - val_acc: 0.7105 - val_mse: 0.1216\n",
            "Epoch 28/150\n",
            "1/1 [==============================] - 0s 25ms/step - loss: 0.5904 - acc: 0.8125 - mse: 0.1093 - val_loss: 0.6337 - val_acc: 0.7105 - val_mse: 0.1204\n",
            "Epoch 29/150\n",
            "1/1 [==============================] - 0s 32ms/step - loss: 0.5973 - acc: 0.8482 - mse: 0.1101 - val_loss: 0.6268 - val_acc: 0.7105 - val_mse: 0.1191\n",
            "Epoch 30/150\n",
            "1/1 [==============================] - 0s 34ms/step - loss: 0.5644 - acc: 0.8393 - mse: 0.1027 - val_loss: 0.6200 - val_acc: 0.7105 - val_mse: 0.1179\n",
            "Epoch 31/150\n",
            "1/1 [==============================] - 0s 31ms/step - loss: 0.5665 - acc: 0.8482 - mse: 0.1036 - val_loss: 0.6130 - val_acc: 0.7105 - val_mse: 0.1167\n",
            "Epoch 32/150\n",
            "1/1 [==============================] - 0s 31ms/step - loss: 0.5645 - acc: 0.8393 - mse: 0.1038 - val_loss: 0.6069 - val_acc: 0.7105 - val_mse: 0.1156\n",
            "Epoch 33/150\n",
            "1/1 [==============================] - 0s 28ms/step - loss: 0.5097 - acc: 0.8304 - mse: 0.0913 - val_loss: 0.6007 - val_acc: 0.7105 - val_mse: 0.1146\n",
            "Epoch 34/150\n",
            "1/1 [==============================] - 0s 28ms/step - loss: 0.5465 - acc: 0.8393 - mse: 0.0999 - val_loss: 0.5947 - val_acc: 0.7105 - val_mse: 0.1136\n",
            "Epoch 35/150\n",
            "1/1 [==============================] - 0s 30ms/step - loss: 0.5163 - acc: 0.8571 - mse: 0.0927 - val_loss: 0.5891 - val_acc: 0.7105 - val_mse: 0.1127\n",
            "Epoch 36/150\n",
            "1/1 [==============================] - 0s 29ms/step - loss: 0.4967 - acc: 0.8393 - mse: 0.0891 - val_loss: 0.5839 - val_acc: 0.7105 - val_mse: 0.1119\n",
            "Epoch 37/150\n",
            "1/1 [==============================] - 0s 28ms/step - loss: 0.5206 - acc: 0.8393 - mse: 0.0951 - val_loss: 0.5795 - val_acc: 0.7105 - val_mse: 0.1113\n",
            "Epoch 38/150\n",
            "1/1 [==============================] - 0s 27ms/step - loss: 0.4866 - acc: 0.8482 - mse: 0.0867 - val_loss: 0.5749 - val_acc: 0.7105 - val_mse: 0.1106\n",
            "Epoch 39/150\n",
            "1/1 [==============================] - 0s 26ms/step - loss: 0.4989 - acc: 0.8571 - mse: 0.0890 - val_loss: 0.5705 - val_acc: 0.7105 - val_mse: 0.1101\n",
            "Epoch 40/150\n",
            "1/1 [==============================] - 0s 31ms/step - loss: 0.4953 - acc: 0.8214 - mse: 0.0901 - val_loss: 0.5666 - val_acc: 0.7105 - val_mse: 0.1095\n",
            "Epoch 41/150\n",
            "1/1 [==============================] - 0s 32ms/step - loss: 0.4816 - acc: 0.8393 - mse: 0.0860 - val_loss: 0.5623 - val_acc: 0.7105 - val_mse: 0.1089\n",
            "Epoch 42/150\n",
            "1/1 [==============================] - 0s 36ms/step - loss: 0.4845 - acc: 0.8393 - mse: 0.0872 - val_loss: 0.5582 - val_acc: 0.7105 - val_mse: 0.1084\n",
            "Epoch 43/150\n",
            "1/1 [==============================] - 0s 27ms/step - loss: 0.4844 - acc: 0.8750 - mse: 0.0872 - val_loss: 0.5547 - val_acc: 0.7105 - val_mse: 0.1080\n",
            "Epoch 44/150\n",
            "1/1 [==============================] - 0s 28ms/step - loss: 0.4790 - acc: 0.8571 - mse: 0.0861 - val_loss: 0.5504 - val_acc: 0.7105 - val_mse: 0.1074\n",
            "Epoch 45/150\n",
            "1/1 [==============================] - 0s 29ms/step - loss: 0.4622 - acc: 0.8571 - mse: 0.0824 - val_loss: 0.5458 - val_acc: 0.7368 - val_mse: 0.1067\n",
            "Epoch 46/150\n",
            "1/1 [==============================] - 0s 31ms/step - loss: 0.4706 - acc: 0.8393 - mse: 0.0856 - val_loss: 0.5423 - val_acc: 0.7368 - val_mse: 0.1062\n",
            "Epoch 47/150\n",
            "1/1 [==============================] - 0s 34ms/step - loss: 0.4596 - acc: 0.8929 - mse: 0.0813 - val_loss: 0.5391 - val_acc: 0.7368 - val_mse: 0.1059\n",
            "Epoch 48/150\n",
            "1/1 [==============================] - 0s 35ms/step - loss: 0.4260 - acc: 0.8661 - mse: 0.0744 - val_loss: 0.5360 - val_acc: 0.7368 - val_mse: 0.1055\n",
            "Epoch 49/150\n",
            "1/1 [==============================] - 0s 33ms/step - loss: 0.4330 - acc: 0.8839 - mse: 0.0764 - val_loss: 0.5327 - val_acc: 0.7368 - val_mse: 0.1051\n",
            "Epoch 50/150\n",
            "1/1 [==============================] - 0s 30ms/step - loss: 0.4345 - acc: 0.8661 - mse: 0.0769 - val_loss: 0.5298 - val_acc: 0.7368 - val_mse: 0.1048\n",
            "Epoch 51/150\n",
            "1/1 [==============================] - 0s 30ms/step - loss: 0.4431 - acc: 0.8750 - mse: 0.0789 - val_loss: 0.5269 - val_acc: 0.7368 - val_mse: 0.1045\n",
            "Epoch 52/150\n",
            "1/1 [==============================] - 0s 27ms/step - loss: 0.4347 - acc: 0.8482 - mse: 0.0785 - val_loss: 0.5242 - val_acc: 0.7368 - val_mse: 0.1042\n",
            "Epoch 53/150\n",
            "1/1 [==============================] - 0s 27ms/step - loss: 0.4371 - acc: 0.8482 - mse: 0.0782 - val_loss: 0.5208 - val_acc: 0.7368 - val_mse: 0.1038\n",
            "Epoch 54/150\n",
            "1/1 [==============================] - 0s 38ms/step - loss: 0.3939 - acc: 0.8750 - mse: 0.0683 - val_loss: 0.5179 - val_acc: 0.7368 - val_mse: 0.1034\n",
            "Epoch 55/150\n",
            "1/1 [==============================] - 0s 32ms/step - loss: 0.4299 - acc: 0.8482 - mse: 0.0770 - val_loss: 0.5158 - val_acc: 0.7368 - val_mse: 0.1033\n",
            "Epoch 56/150\n",
            "1/1 [==============================] - 0s 32ms/step - loss: 0.4330 - acc: 0.8661 - mse: 0.0775 - val_loss: 0.5131 - val_acc: 0.7368 - val_mse: 0.1030\n",
            "Epoch 57/150\n",
            "1/1 [==============================] - 0s 26ms/step - loss: 0.4278 - acc: 0.8571 - mse: 0.0774 - val_loss: 0.5113 - val_acc: 0.7368 - val_mse: 0.1029\n",
            "Epoch 58/150\n",
            "1/1 [==============================] - 0s 31ms/step - loss: 0.4092 - acc: 0.8750 - mse: 0.0729 - val_loss: 0.5085 - val_acc: 0.7368 - val_mse: 0.1026\n",
            "Epoch 59/150\n",
            "1/1 [==============================] - 0s 28ms/step - loss: 0.4128 - acc: 0.8661 - mse: 0.0747 - val_loss: 0.5068 - val_acc: 0.7368 - val_mse: 0.1026\n",
            "Epoch 60/150\n",
            "1/1 [==============================] - 0s 33ms/step - loss: 0.4026 - acc: 0.8571 - mse: 0.0708 - val_loss: 0.5051 - val_acc: 0.7368 - val_mse: 0.1025\n",
            "Epoch 61/150\n",
            "1/1 [==============================] - 0s 33ms/step - loss: 0.3724 - acc: 0.8750 - mse: 0.0653 - val_loss: 0.5027 - val_acc: 0.7368 - val_mse: 0.1022\n",
            "Epoch 62/150\n",
            "1/1 [==============================] - 0s 30ms/step - loss: 0.3955 - acc: 0.9018 - mse: 0.0701 - val_loss: 0.5002 - val_acc: 0.7368 - val_mse: 0.1019\n",
            "Epoch 63/150\n",
            "1/1 [==============================] - 0s 37ms/step - loss: 0.3800 - acc: 0.8839 - mse: 0.0689 - val_loss: 0.4982 - val_acc: 0.7368 - val_mse: 0.1017\n",
            "Epoch 64/150\n",
            "1/1 [==============================] - 0s 37ms/step - loss: 0.3859 - acc: 0.8750 - mse: 0.0672 - val_loss: 0.4962 - val_acc: 0.7368 - val_mse: 0.1015\n",
            "Epoch 65/150\n",
            "1/1 [==============================] - 0s 32ms/step - loss: 0.3922 - acc: 0.8929 - mse: 0.0697 - val_loss: 0.4931 - val_acc: 0.7368 - val_mse: 0.1010\n",
            "Epoch 66/150\n",
            "1/1 [==============================] - 0s 33ms/step - loss: 0.3633 - acc: 0.9018 - mse: 0.0645 - val_loss: 0.4921 - val_acc: 0.7368 - val_mse: 0.1011\n",
            "Epoch 67/150\n",
            "1/1 [==============================] - 0s 29ms/step - loss: 0.4090 - acc: 0.8482 - mse: 0.0749 - val_loss: 0.4907 - val_acc: 0.7368 - val_mse: 0.1010\n",
            "Epoch 68/150\n",
            "1/1 [==============================] - 0s 32ms/step - loss: 0.3745 - acc: 0.9018 - mse: 0.0652 - val_loss: 0.4890 - val_acc: 0.7368 - val_mse: 0.1009\n",
            "Epoch 69/150\n",
            "1/1 [==============================] - 0s 30ms/step - loss: 0.3956 - acc: 0.8482 - mse: 0.0730 - val_loss: 0.4880 - val_acc: 0.7368 - val_mse: 0.1010\n",
            "Epoch 70/150\n",
            "1/1 [==============================] - 0s 34ms/step - loss: 0.3658 - acc: 0.9107 - mse: 0.0647 - val_loss: 0.4861 - val_acc: 0.7368 - val_mse: 0.1007\n",
            "Epoch 71/150\n",
            "1/1 [==============================] - 0s 29ms/step - loss: 0.3520 - acc: 0.9018 - mse: 0.0626 - val_loss: 0.4840 - val_acc: 0.7368 - val_mse: 0.1004\n",
            "Epoch 72/150\n",
            "1/1 [==============================] - 0s 32ms/step - loss: 0.3657 - acc: 0.8571 - mse: 0.0651 - val_loss: 0.4821 - val_acc: 0.7368 - val_mse: 0.1002\n",
            "Epoch 73/150\n",
            "1/1 [==============================] - 0s 31ms/step - loss: 0.3641 - acc: 0.8839 - mse: 0.0634 - val_loss: 0.4811 - val_acc: 0.7368 - val_mse: 0.1003\n",
            "Epoch 74/150\n",
            "1/1 [==============================] - 0s 33ms/step - loss: 0.3749 - acc: 0.8661 - mse: 0.0678 - val_loss: 0.4793 - val_acc: 0.7368 - val_mse: 0.1001\n",
            "Epoch 75/150\n",
            "1/1 [==============================] - 0s 49ms/step - loss: 0.3729 - acc: 0.8750 - mse: 0.0675 - val_loss: 0.4778 - val_acc: 0.7368 - val_mse: 0.1000\n",
            "Epoch 76/150\n",
            "1/1 [==============================] - 0s 32ms/step - loss: 0.3513 - acc: 0.8929 - mse: 0.0624 - val_loss: 0.4761 - val_acc: 0.7368 - val_mse: 0.0998\n",
            "Epoch 77/150\n",
            "1/1 [==============================] - 0s 28ms/step - loss: 0.3646 - acc: 0.8571 - mse: 0.0672 - val_loss: 0.4746 - val_acc: 0.7368 - val_mse: 0.0996\n",
            "Epoch 78/150\n",
            "1/1 [==============================] - 0s 32ms/step - loss: 0.3616 - acc: 0.8750 - mse: 0.0658 - val_loss: 0.4729 - val_acc: 0.7368 - val_mse: 0.0995\n",
            "Epoch 79/150\n",
            "1/1 [==============================] - 0s 35ms/step - loss: 0.3579 - acc: 0.8571 - mse: 0.0646 - val_loss: 0.4715 - val_acc: 0.7368 - val_mse: 0.0993\n",
            "Epoch 80/150\n",
            "1/1 [==============================] - 0s 39ms/step - loss: 0.3487 - acc: 0.9196 - mse: 0.0610 - val_loss: 0.4707 - val_acc: 0.7632 - val_mse: 0.0994\n",
            "Epoch 81/150\n",
            "1/1 [==============================] - 0s 39ms/step - loss: 0.3504 - acc: 0.8929 - mse: 0.0632 - val_loss: 0.4684 - val_acc: 0.7632 - val_mse: 0.0990\n",
            "Epoch 82/150\n",
            "1/1 [==============================] - 0s 37ms/step - loss: 0.3571 - acc: 0.9018 - mse: 0.0637 - val_loss: 0.4668 - val_acc: 0.7632 - val_mse: 0.0988\n",
            "Epoch 83/150\n",
            "1/1 [==============================] - 0s 34ms/step - loss: 0.3568 - acc: 0.9018 - mse: 0.0640 - val_loss: 0.4654 - val_acc: 0.7632 - val_mse: 0.0986\n",
            "Epoch 84/150\n",
            "1/1 [==============================] - 0s 27ms/step - loss: 0.3472 - acc: 0.8750 - mse: 0.0626 - val_loss: 0.4640 - val_acc: 0.7632 - val_mse: 0.0985\n",
            "Epoch 85/150\n",
            "1/1 [==============================] - 0s 31ms/step - loss: 0.3409 - acc: 0.8839 - mse: 0.0615 - val_loss: 0.4632 - val_acc: 0.7632 - val_mse: 0.0984\n",
            "Epoch 86/150\n",
            "1/1 [==============================] - 0s 35ms/step - loss: 0.3417 - acc: 0.8839 - mse: 0.0623 - val_loss: 0.4605 - val_acc: 0.7632 - val_mse: 0.0980\n",
            "Epoch 87/150\n",
            "1/1 [==============================] - 0s 29ms/step - loss: 0.3443 - acc: 0.8661 - mse: 0.0620 - val_loss: 0.4585 - val_acc: 0.7632 - val_mse: 0.0977\n",
            "Epoch 88/150\n",
            "1/1 [==============================] - 0s 40ms/step - loss: 0.3319 - acc: 0.8929 - mse: 0.0587 - val_loss: 0.4570 - val_acc: 0.7632 - val_mse: 0.0974\n",
            "Epoch 89/150\n",
            "1/1 [==============================] - 0s 27ms/step - loss: 0.3291 - acc: 0.8929 - mse: 0.0592 - val_loss: 0.4555 - val_acc: 0.7632 - val_mse: 0.0973\n",
            "Epoch 90/150\n",
            "1/1 [==============================] - 0s 40ms/step - loss: 0.3302 - acc: 0.9018 - mse: 0.0577 - val_loss: 0.4532 - val_acc: 0.7632 - val_mse: 0.0969\n",
            "Epoch 91/150\n",
            "1/1 [==============================] - 0s 39ms/step - loss: 0.3284 - acc: 0.8929 - mse: 0.0582 - val_loss: 0.4520 - val_acc: 0.7632 - val_mse: 0.0968\n",
            "Epoch 92/150\n",
            "1/1 [==============================] - 0s 35ms/step - loss: 0.3305 - acc: 0.8839 - mse: 0.0618 - val_loss: 0.4509 - val_acc: 0.7632 - val_mse: 0.0967\n",
            "Epoch 93/150\n",
            "1/1 [==============================] - 0s 33ms/step - loss: 0.3208 - acc: 0.8929 - mse: 0.0582 - val_loss: 0.4497 - val_acc: 0.7632 - val_mse: 0.0965\n",
            "Epoch 94/150\n",
            "1/1 [==============================] - 0s 31ms/step - loss: 0.3242 - acc: 0.9018 - mse: 0.0584 - val_loss: 0.4482 - val_acc: 0.7632 - val_mse: 0.0963\n",
            "Epoch 95/150\n",
            "1/1 [==============================] - 0s 29ms/step - loss: 0.3495 - acc: 0.8839 - mse: 0.0647 - val_loss: 0.4467 - val_acc: 0.7632 - val_mse: 0.0960\n",
            "Epoch 96/150\n",
            "1/1 [==============================] - 0s 31ms/step - loss: 0.3324 - acc: 0.8929 - mse: 0.0602 - val_loss: 0.4454 - val_acc: 0.7632 - val_mse: 0.0959\n",
            "Epoch 97/150\n",
            "1/1 [==============================] - 0s 34ms/step - loss: 0.3007 - acc: 0.8929 - mse: 0.0531 - val_loss: 0.4440 - val_acc: 0.7632 - val_mse: 0.0957\n",
            "Epoch 98/150\n",
            "1/1 [==============================] - 0s 26ms/step - loss: 0.2984 - acc: 0.8839 - mse: 0.0522 - val_loss: 0.4433 - val_acc: 0.7632 - val_mse: 0.0957\n",
            "Epoch 99/150\n",
            "1/1 [==============================] - 0s 31ms/step - loss: 0.3203 - acc: 0.8929 - mse: 0.0588 - val_loss: 0.4420 - val_acc: 0.7632 - val_mse: 0.0956\n",
            "Epoch 100/150\n",
            "1/1 [==============================] - 0s 35ms/step - loss: 0.3036 - acc: 0.8571 - mse: 0.0548 - val_loss: 0.4406 - val_acc: 0.7632 - val_mse: 0.0954\n",
            "Epoch 101/150\n",
            "1/1 [==============================] - 0s 34ms/step - loss: 0.3003 - acc: 0.9196 - mse: 0.0522 - val_loss: 0.4408 - val_acc: 0.7632 - val_mse: 0.0956\n",
            "Epoch 102/150\n",
            "1/1 [==============================] - 0s 30ms/step - loss: 0.3049 - acc: 0.9018 - mse: 0.0534 - val_loss: 0.4394 - val_acc: 0.7632 - val_mse: 0.0953\n",
            "Epoch 103/150\n",
            "1/1 [==============================] - 0s 29ms/step - loss: 0.3250 - acc: 0.8661 - mse: 0.0612 - val_loss: 0.4374 - val_acc: 0.7632 - val_mse: 0.0949\n",
            "Epoch 104/150\n",
            "1/1 [==============================] - 0s 30ms/step - loss: 0.3021 - acc: 0.8929 - mse: 0.0542 - val_loss: 0.4368 - val_acc: 0.7632 - val_mse: 0.0949\n",
            "Epoch 105/150\n",
            "1/1 [==============================] - 0s 32ms/step - loss: 0.3081 - acc: 0.8839 - mse: 0.0570 - val_loss: 0.4351 - val_acc: 0.7632 - val_mse: 0.0946\n",
            "Epoch 106/150\n",
            "1/1 [==============================] - 0s 30ms/step - loss: 0.3128 - acc: 0.9107 - mse: 0.0566 - val_loss: 0.4338 - val_acc: 0.7632 - val_mse: 0.0944\n",
            "Epoch 107/150\n",
            "1/1 [==============================] - 0s 31ms/step - loss: 0.3425 - acc: 0.8929 - mse: 0.0645 - val_loss: 0.4314 - val_acc: 0.7632 - val_mse: 0.0939\n",
            "Epoch 108/150\n",
            "1/1 [==============================] - 0s 31ms/step - loss: 0.2943 - acc: 0.9107 - mse: 0.0509 - val_loss: 0.4308 - val_acc: 0.7632 - val_mse: 0.0939\n",
            "Epoch 109/150\n",
            "1/1 [==============================] - 0s 32ms/step - loss: 0.2970 - acc: 0.8929 - mse: 0.0525 - val_loss: 0.4304 - val_acc: 0.7632 - val_mse: 0.0940\n",
            "Epoch 110/150\n",
            "1/1 [==============================] - 0s 30ms/step - loss: 0.3225 - acc: 0.8750 - mse: 0.0595 - val_loss: 0.4289 - val_acc: 0.7632 - val_mse: 0.0937\n",
            "Epoch 111/150\n",
            "1/1 [==============================] - 0s 31ms/step - loss: 0.3009 - acc: 0.9286 - mse: 0.0544 - val_loss: 0.4279 - val_acc: 0.7632 - val_mse: 0.0935\n",
            "Epoch 112/150\n",
            "1/1 [==============================] - 0s 32ms/step - loss: 0.2915 - acc: 0.9286 - mse: 0.0498 - val_loss: 0.4263 - val_acc: 0.7632 - val_mse: 0.0933\n",
            "Epoch 113/150\n",
            "1/1 [==============================] - 0s 28ms/step - loss: 0.2669 - acc: 0.9375 - mse: 0.0454 - val_loss: 0.4243 - val_acc: 0.7895 - val_mse: 0.0929\n",
            "Epoch 114/150\n",
            "1/1 [==============================] - 0s 30ms/step - loss: 0.2702 - acc: 0.9196 - mse: 0.0466 - val_loss: 0.4229 - val_acc: 0.7895 - val_mse: 0.0927\n",
            "Epoch 115/150\n",
            "1/1 [==============================] - 0s 35ms/step - loss: 0.2841 - acc: 0.8929 - mse: 0.0499 - val_loss: 0.4231 - val_acc: 0.7895 - val_mse: 0.0929\n",
            "Epoch 116/150\n",
            "1/1 [==============================] - 0s 29ms/step - loss: 0.3024 - acc: 0.8929 - mse: 0.0555 - val_loss: 0.4214 - val_acc: 0.7895 - val_mse: 0.0926\n",
            "Epoch 117/150\n",
            "1/1 [==============================] - 0s 37ms/step - loss: 0.3087 - acc: 0.9018 - mse: 0.0570 - val_loss: 0.4208 - val_acc: 0.7895 - val_mse: 0.0926\n",
            "Epoch 118/150\n",
            "1/1 [==============================] - 0s 35ms/step - loss: 0.2856 - acc: 0.9196 - mse: 0.0516 - val_loss: 0.4190 - val_acc: 0.7895 - val_mse: 0.0922\n",
            "Epoch 119/150\n",
            "1/1 [==============================] - 0s 32ms/step - loss: 0.2494 - acc: 0.9286 - mse: 0.0424 - val_loss: 0.4176 - val_acc: 0.7895 - val_mse: 0.0920\n",
            "Epoch 120/150\n",
            "1/1 [==============================] - 0s 41ms/step - loss: 0.2976 - acc: 0.8929 - mse: 0.0547 - val_loss: 0.4173 - val_acc: 0.7895 - val_mse: 0.0920\n",
            "Epoch 121/150\n",
            "1/1 [==============================] - 0s 34ms/step - loss: 0.3139 - acc: 0.8929 - mse: 0.0588 - val_loss: 0.4168 - val_acc: 0.7895 - val_mse: 0.0920\n",
            "Epoch 122/150\n",
            "1/1 [==============================] - 0s 36ms/step - loss: 0.2635 - acc: 0.9196 - mse: 0.0456 - val_loss: 0.4147 - val_acc: 0.7895 - val_mse: 0.0916\n",
            "Epoch 123/150\n",
            "1/1 [==============================] - 0s 29ms/step - loss: 0.2770 - acc: 0.9196 - mse: 0.0478 - val_loss: 0.4126 - val_acc: 0.7895 - val_mse: 0.0911\n",
            "Epoch 124/150\n",
            "1/1 [==============================] - 0s 39ms/step - loss: 0.3157 - acc: 0.9018 - mse: 0.0599 - val_loss: 0.4110 - val_acc: 0.7895 - val_mse: 0.0908\n",
            "Epoch 125/150\n",
            "1/1 [==============================] - 0s 34ms/step - loss: 0.2597 - acc: 0.9018 - mse: 0.0461 - val_loss: 0.4089 - val_acc: 0.7632 - val_mse: 0.0904\n",
            "Epoch 126/150\n",
            "1/1 [==============================] - 0s 31ms/step - loss: 0.2724 - acc: 0.8929 - mse: 0.0494 - val_loss: 0.4079 - val_acc: 0.7632 - val_mse: 0.0902\n",
            "Epoch 127/150\n",
            "1/1 [==============================] - 0s 35ms/step - loss: 0.2593 - acc: 0.9107 - mse: 0.0452 - val_loss: 0.4076 - val_acc: 0.7632 - val_mse: 0.0903\n",
            "Epoch 128/150\n",
            "1/1 [==============================] - 0s 37ms/step - loss: 0.2658 - acc: 0.9018 - mse: 0.0479 - val_loss: 0.4063 - val_acc: 0.7632 - val_mse: 0.0900\n",
            "Epoch 129/150\n",
            "1/1 [==============================] - 0s 38ms/step - loss: 0.2612 - acc: 0.9107 - mse: 0.0470 - val_loss: 0.4047 - val_acc: 0.7632 - val_mse: 0.0897\n",
            "Epoch 130/150\n",
            "1/1 [==============================] - 0s 34ms/step - loss: 0.2592 - acc: 0.9286 - mse: 0.0440 - val_loss: 0.4042 - val_acc: 0.7632 - val_mse: 0.0896\n",
            "Epoch 131/150\n",
            "1/1 [==============================] - 0s 29ms/step - loss: 0.2598 - acc: 0.9375 - mse: 0.0449 - val_loss: 0.4027 - val_acc: 0.7632 - val_mse: 0.0893\n",
            "Epoch 132/150\n",
            "1/1 [==============================] - 0s 33ms/step - loss: 0.2629 - acc: 0.9107 - mse: 0.0469 - val_loss: 0.4011 - val_acc: 0.7632 - val_mse: 0.0890\n",
            "Epoch 133/150\n",
            "1/1 [==============================] - 0s 40ms/step - loss: 0.2582 - acc: 0.9107 - mse: 0.0448 - val_loss: 0.3991 - val_acc: 0.7632 - val_mse: 0.0886\n",
            "Epoch 134/150\n",
            "1/1 [==============================] - 0s 35ms/step - loss: 0.2398 - acc: 0.9464 - mse: 0.0412 - val_loss: 0.3974 - val_acc: 0.7632 - val_mse: 0.0882\n",
            "Epoch 135/150\n",
            "1/1 [==============================] - 0s 36ms/step - loss: 0.2582 - acc: 0.9464 - mse: 0.0450 - val_loss: 0.3968 - val_acc: 0.7632 - val_mse: 0.0882\n",
            "Epoch 136/150\n",
            "1/1 [==============================] - 0s 33ms/step - loss: 0.2733 - acc: 0.9107 - mse: 0.0503 - val_loss: 0.3950 - val_acc: 0.7632 - val_mse: 0.0878\n",
            "Epoch 137/150\n",
            "1/1 [==============================] - 0s 36ms/step - loss: 0.2725 - acc: 0.9196 - mse: 0.0479 - val_loss: 0.3935 - val_acc: 0.7632 - val_mse: 0.0875\n",
            "Epoch 138/150\n",
            "1/1 [==============================] - 0s 35ms/step - loss: 0.2838 - acc: 0.8929 - mse: 0.0519 - val_loss: 0.3937 - val_acc: 0.7632 - val_mse: 0.0877\n",
            "Epoch 139/150\n",
            "1/1 [==============================] - 0s 35ms/step - loss: 0.2855 - acc: 0.8929 - mse: 0.0544 - val_loss: 0.3916 - val_acc: 0.7632 - val_mse: 0.0872\n",
            "Epoch 140/150\n",
            "1/1 [==============================] - 0s 31ms/step - loss: 0.2619 - acc: 0.9107 - mse: 0.0463 - val_loss: 0.3909 - val_acc: 0.7632 - val_mse: 0.0871\n",
            "Epoch 141/150\n",
            "1/1 [==============================] - 0s 30ms/step - loss: 0.2596 - acc: 0.9196 - mse: 0.0455 - val_loss: 0.3883 - val_acc: 0.7632 - val_mse: 0.0865\n",
            "Epoch 142/150\n",
            "1/1 [==============================] - 0s 44ms/step - loss: 0.2452 - acc: 0.9196 - mse: 0.0445 - val_loss: 0.3869 - val_acc: 0.7632 - val_mse: 0.0862\n",
            "Epoch 143/150\n",
            "1/1 [==============================] - 0s 32ms/step - loss: 0.2569 - acc: 0.8839 - mse: 0.0461 - val_loss: 0.3851 - val_acc: 0.7632 - val_mse: 0.0858\n",
            "Epoch 144/150\n",
            "1/1 [==============================] - 0s 41ms/step - loss: 0.2751 - acc: 0.8929 - mse: 0.0516 - val_loss: 0.3837 - val_acc: 0.7632 - val_mse: 0.0855\n",
            "Epoch 145/150\n",
            "1/1 [==============================] - 0s 34ms/step - loss: 0.2429 - acc: 0.9107 - mse: 0.0433 - val_loss: 0.3825 - val_acc: 0.7632 - val_mse: 0.0852\n",
            "Epoch 146/150\n",
            "1/1 [==============================] - 0s 35ms/step - loss: 0.2575 - acc: 0.9018 - mse: 0.0478 - val_loss: 0.3805 - val_acc: 0.7632 - val_mse: 0.0848\n",
            "Epoch 147/150\n",
            "1/1 [==============================] - 0s 34ms/step - loss: 0.2443 - acc: 0.9375 - mse: 0.0427 - val_loss: 0.3785 - val_acc: 0.7632 - val_mse: 0.0843\n",
            "Epoch 148/150\n",
            "1/1 [==============================] - 0s 43ms/step - loss: 0.2427 - acc: 0.9286 - mse: 0.0413 - val_loss: 0.3786 - val_acc: 0.7632 - val_mse: 0.0844\n",
            "Epoch 149/150\n",
            "1/1 [==============================] - 0s 37ms/step - loss: 0.2801 - acc: 0.8839 - mse: 0.0528 - val_loss: 0.3777 - val_acc: 0.7632 - val_mse: 0.0843\n",
            "Epoch 150/150\n",
            "1/1 [==============================] - 0s 36ms/step - loss: 0.2526 - acc: 0.9018 - mse: 0.0465 - val_loss: 0.3761 - val_acc: 0.7632 - val_mse: 0.0839\n"
          ]
        }
      ]
    },
    {
      "cell_type": "code",
      "metadata": {
        "id": "zadtypZrlww8",
        "colab": {
          "base_uri": "https://localhost:8080/"
        },
        "outputId": "f19a6947-ddfe-4c34-a33c-8a10715dc3a9"
      },
      "source": [
        "#just how we used evaluate() in the basic model previously, use it again to find the loss, accuracy and MSE on the test set\n",
        "test_loss5, test_acc5,test_mse5 = model6.evaluate(X_test,y_test,verbose=2)\n",
        "\n",
        "print('\\nLoss',test_loss5)\n",
        "print('\\nTest accuracy:', test_acc5)\n",
        "print('\\nTest MSE',test_mse5)\n",
        "\n",
        " \n"
      ],
      "execution_count": null,
      "outputs": [
        {
          "output_type": "stream",
          "name": "stdout",
          "text": [
            "2/2 - 0s - loss: 0.3761 - acc: 0.7632 - mse: 0.0839\n",
            "\n",
            "Loss 0.3760729432106018\n",
            "\n",
            "Test accuracy: 0.7631579041481018\n",
            "\n",
            "Test MSE 0.08390786498785019\n"
          ]
        }
      ]
    },
    {
      "cell_type": "code",
      "metadata": {
        "id": "o0cWnA2Plww9",
        "colab": {
          "base_uri": "https://localhost:8080/",
          "height": 581
        },
        "outputId": "f9b2619f-664c-4221-c156-04a17f131461"
      },
      "source": [
        "\n",
        "# Plot the train loss vs validation loss and train accuracy vs validation accuracy graphs just like we did before\n",
        "import matplotlib.pyplot as plt\n",
        "plt.style.use('ggplot')\n",
        "plt.plot(hist4.history['loss'], label = 'loss')\n",
        "plt.plot(hist4.history['val_loss'], label='val loss')\n",
        "plt.title(\"Train Loss vs Val_Loss\")\n",
        "plt.xlabel(\"Epochs\")\n",
        "plt.ylabel(\"Loss\")\n",
        "plt.legend()\n",
        "plt.show()\n",
        "\n",
        "#similarly we plot for model accuracy \n",
        "plt.plot(hist4.history['acc'], label = 'train acc')\n",
        "plt.plot(hist4.history['val_acc'], label='val acc')\n",
        "plt.title(\"train acc vs Val_acc\")\n",
        "plt.xlabel(\"Epochs\")\n",
        "plt.ylabel(\"acc\")\n",
        "plt.legend()\n",
        "plt.show()\n"
      ],
      "execution_count": null,
      "outputs": [
        {
          "output_type": "display_data",
          "data": {
            "image/png": "[encoded data removed]",
            "text/plain": [
              "<Figure size 432x288 with 1 Axes>"
            ]
          },
          "metadata": {}
        },
        {
          "output_type": "display_data",
          "data": {
            "image/png": "[encoded data removed]",
            "text/plain": [
              "<Figure size 432x288 with 1 Axes>"
            ]
          },
          "metadata": {}
        }
      ]
    },
    {
      "cell_type": "code",
      "metadata": {
        "id": "uR-wZ9Hflww-"
      },
      "source": [
        "# Create model7, having more dropout layers, having a dropout rate of your choice\n",
        "model7 = Sequential([\n",
        "    Dense(512, activation='tanh', input_shape = X_train[0].shape),\n",
        "    Dense(512//2, activation='tanh'),\n",
        "    keras.layers.Dropout(0.5),\n",
        "    Dense(512//4, activation='tanh'),\n",
        "    Dense(512//8, activation='tanh'),\n",
        "    keras.layers.Dropout(0.5),\n",
        "    Dense(32, activation='relu'),\n",
        "    Dense(3, activation='softmax')\n",
        "])\n"
      ],
      "execution_count": null,
      "outputs": []
    },
    {
      "cell_type": "code",
      "metadata": {
        "colab": {
          "base_uri": "https://localhost:8080/"
        },
        "id": "_DotmUVhRukk",
        "outputId": "aaef59c7-5ab2-485e-8871-9299b9ed318e"
      },
      "source": [
        "print(model7.summary())\n",
        "model7.compile(optimizer='sgd',loss='categorical_crossentropy', metrics=['acc', 'mse'])\n",
        "\n",
        "hist5 = model7.fit(X_train, y_train, epochs=150, batch_size=128, validation_data=(X_test,y_test))"
      ],
      "execution_count": null,
      "outputs": [
        {
          "output_type": "stream",
          "name": "stdout",
          "text": [
            "Model: \"sequential_15\"\n",
            "_________________________________________________________________\n",
            "Layer (type)                 Output Shape              Param #   \n",
            "=================================================================\n",
            "dense_91 (Dense)             (None, 512)               2560      \n",
            "_________________________________________________________________\n",
            "dense_92 (Dense)             (None, 256)               131328    \n",
            "_________________________________________________________________\n",
            "dropout_5 (Dropout)          (None, 256)               0         \n",
            "_________________________________________________________________\n",
            "dense_93 (Dense)             (None, 128)               32896     \n",
            "_________________________________________________________________\n",
            "dense_94 (Dense)             (None, 64)                8256      \n",
            "_________________________________________________________________\n",
            "dropout_6 (Dropout)          (None, 64)                0         \n",
            "_________________________________________________________________\n",
            "dense_95 (Dense)             (None, 32)                2080      \n",
            "_________________________________________________________________\n",
            "dense_96 (Dense)             (None, 3)                 99        \n",
            "=================================================================\n",
            "Total params: 177,219\n",
            "Trainable params: 177,219\n",
            "Non-trainable params: 0\n",
            "_________________________________________________________________\n",
            "None\n",
            "Epoch 1/150\n",
            "1/1 [==============================] - 1s 644ms/step - loss: 1.1189 - acc: 0.3661 - mse: 0.2257 - val_loss: 1.0655 - val_acc: 0.2632 - val_mse: 0.2151\n",
            "Epoch 2/150\n",
            "1/1 [==============================] - 0s 28ms/step - loss: 1.0679 - acc: 0.3750 - mse: 0.2155 - val_loss: 1.0458 - val_acc: 0.2632 - val_mse: 0.2107\n",
            "Epoch 3/150\n",
            "1/1 [==============================] - 0s 33ms/step - loss: 1.0845 - acc: 0.3571 - mse: 0.2189 - val_loss: 1.0263 - val_acc: 0.2632 - val_mse: 0.2063\n",
            "Epoch 4/150\n",
            "1/1 [==============================] - 0s 37ms/step - loss: 1.0367 - acc: 0.4018 - mse: 0.2084 - val_loss: 1.0098 - val_acc: 0.4211 - val_mse: 0.2027\n",
            "Epoch 5/150\n",
            "1/1 [==============================] - 0s 28ms/step - loss: 1.0079 - acc: 0.4196 - mse: 0.2023 - val_loss: 0.9930 - val_acc: 0.4474 - val_mse: 0.1990\n",
            "Epoch 6/150\n",
            "1/1 [==============================] - 0s 35ms/step - loss: 1.0117 - acc: 0.3929 - mse: 0.2039 - val_loss: 0.9770 - val_acc: 0.5789 - val_mse: 0.1954\n",
            "Epoch 7/150\n",
            "1/1 [==============================] - 0s 35ms/step - loss: 0.9482 - acc: 0.4911 - mse: 0.1880 - val_loss: 0.9617 - val_acc: 0.6053 - val_mse: 0.1920\n",
            "Epoch 8/150\n",
            "1/1 [==============================] - 0s 30ms/step - loss: 0.9588 - acc: 0.4821 - mse: 0.1913 - val_loss: 0.9463 - val_acc: 0.6316 - val_mse: 0.1887\n",
            "Epoch 9/150\n",
            "1/1 [==============================] - 0s 39ms/step - loss: 0.9505 - acc: 0.4375 - mse: 0.1907 - val_loss: 0.9307 - val_acc: 0.6316 - val_mse: 0.1852\n",
            "Epoch 10/150\n",
            "1/1 [==============================] - 0s 31ms/step - loss: 0.9472 - acc: 0.4821 - mse: 0.1897 - val_loss: 0.9166 - val_acc: 0.6316 - val_mse: 0.1822\n",
            "Epoch 11/150\n",
            "1/1 [==============================] - 0s 32ms/step - loss: 0.9101 - acc: 0.5000 - mse: 0.1810 - val_loss: 0.9033 - val_acc: 0.6316 - val_mse: 0.1793\n",
            "Epoch 12/150\n",
            "1/1 [==============================] - 0s 34ms/step - loss: 0.8766 - acc: 0.5536 - mse: 0.1730 - val_loss: 0.8903 - val_acc: 0.6316 - val_mse: 0.1764\n",
            "Epoch 13/150\n",
            "1/1 [==============================] - 0s 31ms/step - loss: 0.8714 - acc: 0.5804 - mse: 0.1739 - val_loss: 0.8776 - val_acc: 0.6579 - val_mse: 0.1737\n",
            "Epoch 14/150\n",
            "1/1 [==============================] - 0s 29ms/step - loss: 0.8803 - acc: 0.5536 - mse: 0.1749 - val_loss: 0.8656 - val_acc: 0.7368 - val_mse: 0.1711\n",
            "Epoch 15/150\n",
            "1/1 [==============================] - 0s 27ms/step - loss: 0.8575 - acc: 0.6161 - mse: 0.1688 - val_loss: 0.8538 - val_acc: 0.7368 - val_mse: 0.1686\n",
            "Epoch 16/150\n",
            "1/1 [==============================] - 0s 32ms/step - loss: 0.8354 - acc: 0.6161 - mse: 0.1645 - val_loss: 0.8425 - val_acc: 0.7632 - val_mse: 0.1662\n",
            "Epoch 17/150\n",
            "1/1 [==============================] - 0s 33ms/step - loss: 0.8292 - acc: 0.6339 - mse: 0.1628 - val_loss: 0.8315 - val_acc: 0.7632 - val_mse: 0.1640\n",
            "Epoch 18/150\n",
            "1/1 [==============================] - 0s 35ms/step - loss: 0.8405 - acc: 0.5982 - mse: 0.1667 - val_loss: 0.8209 - val_acc: 0.7368 - val_mse: 0.1617\n",
            "Epoch 19/150\n",
            "1/1 [==============================] - 0s 31ms/step - loss: 0.7964 - acc: 0.7143 - mse: 0.1555 - val_loss: 0.8106 - val_acc: 0.7368 - val_mse: 0.1596\n",
            "Epoch 20/150\n",
            "1/1 [==============================] - 0s 28ms/step - loss: 0.7754 - acc: 0.7143 - mse: 0.1506 - val_loss: 0.7996 - val_acc: 0.7368 - val_mse: 0.1573\n",
            "Epoch 21/150\n",
            "1/1 [==============================] - 0s 28ms/step - loss: 0.7543 - acc: 0.7321 - mse: 0.1458 - val_loss: 0.7887 - val_acc: 0.7368 - val_mse: 0.1550\n",
            "Epoch 22/150\n",
            "1/1 [==============================] - 0s 32ms/step - loss: 0.7482 - acc: 0.7679 - mse: 0.1443 - val_loss: 0.7788 - val_acc: 0.7368 - val_mse: 0.1530\n",
            "Epoch 23/150\n",
            "1/1 [==============================] - 0s 35ms/step - loss: 0.7495 - acc: 0.7589 - mse: 0.1453 - val_loss: 0.7686 - val_acc: 0.7368 - val_mse: 0.1508\n",
            "Epoch 24/150\n",
            "1/1 [==============================] - 0s 32ms/step - loss: 0.7443 - acc: 0.7500 - mse: 0.1443 - val_loss: 0.7577 - val_acc: 0.7368 - val_mse: 0.1484\n",
            "Epoch 25/150\n",
            "1/1 [==============================] - 0s 34ms/step - loss: 0.7345 - acc: 0.7768 - mse: 0.1428 - val_loss: 0.7478 - val_acc: 0.7368 - val_mse: 0.1463\n",
            "Epoch 26/150\n",
            "1/1 [==============================] - 0s 30ms/step - loss: 0.7070 - acc: 0.7589 - mse: 0.1359 - val_loss: 0.7374 - val_acc: 0.7368 - val_mse: 0.1441\n",
            "Epoch 27/150\n",
            "1/1 [==============================] - 0s 35ms/step - loss: 0.7036 - acc: 0.7857 - mse: 0.1355 - val_loss: 0.7283 - val_acc: 0.7368 - val_mse: 0.1422\n",
            "Epoch 28/150\n",
            "1/1 [==============================] - 0s 33ms/step - loss: 0.7019 - acc: 0.7589 - mse: 0.1353 - val_loss: 0.7188 - val_acc: 0.7368 - val_mse: 0.1401\n",
            "Epoch 29/150\n",
            "1/1 [==============================] - 0s 29ms/step - loss: 0.7006 - acc: 0.7589 - mse: 0.1359 - val_loss: 0.7097 - val_acc: 0.7368 - val_mse: 0.1382\n",
            "Epoch 30/150\n",
            "1/1 [==============================] - 0s 34ms/step - loss: 0.6748 - acc: 0.8036 - mse: 0.1299 - val_loss: 0.7005 - val_acc: 0.7368 - val_mse: 0.1362\n",
            "Epoch 31/150\n",
            "1/1 [==============================] - 0s 33ms/step - loss: 0.6917 - acc: 0.7500 - mse: 0.1341 - val_loss: 0.6907 - val_acc: 0.7368 - val_mse: 0.1340\n",
            "Epoch 32/150\n",
            "1/1 [==============================] - 0s 27ms/step - loss: 0.6750 - acc: 0.7857 - mse: 0.1296 - val_loss: 0.6822 - val_acc: 0.7368 - val_mse: 0.1322\n",
            "Epoch 33/150\n",
            "1/1 [==============================] - 0s 28ms/step - loss: 0.6648 - acc: 0.8036 - mse: 0.1270 - val_loss: 0.6730 - val_acc: 0.7368 - val_mse: 0.1303\n",
            "Epoch 34/150\n",
            "1/1 [==============================] - 0s 27ms/step - loss: 0.6397 - acc: 0.8036 - mse: 0.1201 - val_loss: 0.6650 - val_acc: 0.7368 - val_mse: 0.1287\n",
            "Epoch 35/150\n",
            "1/1 [==============================] - 0s 29ms/step - loss: 0.6210 - acc: 0.8125 - mse: 0.1180 - val_loss: 0.6566 - val_acc: 0.7368 - val_mse: 0.1269\n",
            "Epoch 36/150\n",
            "1/1 [==============================] - 0s 32ms/step - loss: 0.6270 - acc: 0.8393 - mse: 0.1189 - val_loss: 0.6500 - val_acc: 0.7368 - val_mse: 0.1256\n",
            "Epoch 37/150\n",
            "1/1 [==============================] - 0s 45ms/step - loss: 0.6446 - acc: 0.8214 - mse: 0.1232 - val_loss: 0.6426 - val_acc: 0.7368 - val_mse: 0.1241\n",
            "Epoch 38/150\n",
            "1/1 [==============================] - 0s 34ms/step - loss: 0.6015 - acc: 0.8393 - mse: 0.1137 - val_loss: 0.6346 - val_acc: 0.7368 - val_mse: 0.1224\n",
            "Epoch 39/150\n",
            "1/1 [==============================] - 0s 33ms/step - loss: 0.6330 - acc: 0.7946 - mse: 0.1213 - val_loss: 0.6274 - val_acc: 0.7632 - val_mse: 0.1209\n",
            "Epoch 40/150\n",
            "1/1 [==============================] - 0s 32ms/step - loss: 0.6018 - acc: 0.8214 - mse: 0.1134 - val_loss: 0.6205 - val_acc: 0.7632 - val_mse: 0.1195\n",
            "Epoch 41/150\n",
            "1/1 [==============================] - 0s 34ms/step - loss: 0.6205 - acc: 0.8125 - mse: 0.1185 - val_loss: 0.6133 - val_acc: 0.7632 - val_mse: 0.1179\n",
            "Epoch 42/150\n",
            "1/1 [==============================] - 0s 36ms/step - loss: 0.5965 - acc: 0.8214 - mse: 0.1137 - val_loss: 0.6062 - val_acc: 0.7632 - val_mse: 0.1164\n",
            "Epoch 43/150\n",
            "1/1 [==============================] - 0s 34ms/step - loss: 0.5825 - acc: 0.8482 - mse: 0.1088 - val_loss: 0.5994 - val_acc: 0.7632 - val_mse: 0.1151\n",
            "Epoch 44/150\n",
            "1/1 [==============================] - 0s 30ms/step - loss: 0.5613 - acc: 0.8393 - mse: 0.1033 - val_loss: 0.5923 - val_acc: 0.7632 - val_mse: 0.1137\n",
            "Epoch 45/150\n",
            "1/1 [==============================] - 0s 30ms/step - loss: 0.5777 - acc: 0.8393 - mse: 0.1092 - val_loss: 0.5860 - val_acc: 0.7895 - val_mse: 0.1124\n",
            "Epoch 46/150\n",
            "1/1 [==============================] - 0s 38ms/step - loss: 0.5778 - acc: 0.8393 - mse: 0.1088 - val_loss: 0.5800 - val_acc: 0.7895 - val_mse: 0.1112\n",
            "Epoch 47/150\n",
            "1/1 [==============================] - 0s 35ms/step - loss: 0.5885 - acc: 0.8125 - mse: 0.1103 - val_loss: 0.5743 - val_acc: 0.7895 - val_mse: 0.1101\n",
            "Epoch 48/150\n",
            "1/1 [==============================] - 0s 39ms/step - loss: 0.5860 - acc: 0.8393 - mse: 0.1113 - val_loss: 0.5683 - val_acc: 0.7895 - val_mse: 0.1089\n",
            "Epoch 49/150\n",
            "1/1 [==============================] - 0s 37ms/step - loss: 0.5240 - acc: 0.8482 - mse: 0.0958 - val_loss: 0.5625 - val_acc: 0.7895 - val_mse: 0.1078\n",
            "Epoch 50/150\n",
            "1/1 [==============================] - 0s 35ms/step - loss: 0.5131 - acc: 0.8839 - mse: 0.0932 - val_loss: 0.5564 - val_acc: 0.7895 - val_mse: 0.1066\n",
            "Epoch 51/150\n",
            "1/1 [==============================] - 0s 35ms/step - loss: 0.5400 - acc: 0.8393 - mse: 0.0996 - val_loss: 0.5511 - val_acc: 0.7895 - val_mse: 0.1056\n",
            "Epoch 52/150\n",
            "1/1 [==============================] - 0s 41ms/step - loss: 0.5181 - acc: 0.8571 - mse: 0.0949 - val_loss: 0.5457 - val_acc: 0.7895 - val_mse: 0.1047\n",
            "Epoch 53/150\n",
            "1/1 [==============================] - 0s 39ms/step - loss: 0.5052 - acc: 0.8929 - mse: 0.0906 - val_loss: 0.5408 - val_acc: 0.7895 - val_mse: 0.1038\n",
            "Epoch 54/150\n",
            "1/1 [==============================] - 0s 35ms/step - loss: 0.4975 - acc: 0.8661 - mse: 0.0901 - val_loss: 0.5346 - val_acc: 0.7895 - val_mse: 0.1026\n",
            "Epoch 55/150\n",
            "1/1 [==============================] - 0s 29ms/step - loss: 0.5053 - acc: 0.8214 - mse: 0.0933 - val_loss: 0.5287 - val_acc: 0.7895 - val_mse: 0.1013\n",
            "Epoch 56/150\n",
            "1/1 [==============================] - 0s 33ms/step - loss: 0.5100 - acc: 0.8482 - mse: 0.0932 - val_loss: 0.5244 - val_acc: 0.7895 - val_mse: 0.1006\n",
            "Epoch 57/150\n",
            "1/1 [==============================] - 0s 33ms/step - loss: 0.5080 - acc: 0.8571 - mse: 0.0931 - val_loss: 0.5193 - val_acc: 0.7895 - val_mse: 0.0996\n",
            "Epoch 58/150\n",
            "1/1 [==============================] - 0s 38ms/step - loss: 0.4832 - acc: 0.8750 - mse: 0.0871 - val_loss: 0.5143 - val_acc: 0.7895 - val_mse: 0.0987\n",
            "Epoch 59/150\n",
            "1/1 [==============================] - 0s 32ms/step - loss: 0.4956 - acc: 0.8571 - mse: 0.0909 - val_loss: 0.5107 - val_acc: 0.7895 - val_mse: 0.0982\n",
            "Epoch 60/150\n",
            "1/1 [==============================] - 0s 32ms/step - loss: 0.4932 - acc: 0.8571 - mse: 0.0890 - val_loss: 0.5059 - val_acc: 0.7895 - val_mse: 0.0973\n",
            "Epoch 61/150\n",
            "1/1 [==============================] - 0s 32ms/step - loss: 0.4449 - acc: 0.8661 - mse: 0.0784 - val_loss: 0.5013 - val_acc: 0.7632 - val_mse: 0.0965\n",
            "Epoch 62/150\n",
            "1/1 [==============================] - 0s 29ms/step - loss: 0.4707 - acc: 0.9018 - mse: 0.0835 - val_loss: 0.4969 - val_acc: 0.7632 - val_mse: 0.0957\n",
            "Epoch 63/150\n",
            "1/1 [==============================] - 0s 46ms/step - loss: 0.4637 - acc: 0.8750 - mse: 0.0837 - val_loss: 0.4921 - val_acc: 0.7632 - val_mse: 0.0948\n",
            "Epoch 64/150\n",
            "1/1 [==============================] - 0s 41ms/step - loss: 0.4640 - acc: 0.8929 - mse: 0.0832 - val_loss: 0.4876 - val_acc: 0.7632 - val_mse: 0.0940\n",
            "Epoch 65/150\n",
            "1/1 [==============================] - 0s 42ms/step - loss: 0.4459 - acc: 0.9196 - mse: 0.0778 - val_loss: 0.4829 - val_acc: 0.7632 - val_mse: 0.0932\n",
            "Epoch 66/150\n",
            "1/1 [==============================] - 0s 35ms/step - loss: 0.4543 - acc: 0.9018 - mse: 0.0816 - val_loss: 0.4800 - val_acc: 0.7632 - val_mse: 0.0929\n",
            "Epoch 67/150\n",
            "1/1 [==============================] - 0s 32ms/step - loss: 0.4430 - acc: 0.8750 - mse: 0.0803 - val_loss: 0.4760 - val_acc: 0.7632 - val_mse: 0.0922\n",
            "Epoch 68/150\n",
            "1/1 [==============================] - 0s 37ms/step - loss: 0.4429 - acc: 0.8750 - mse: 0.0786 - val_loss: 0.4716 - val_acc: 0.7632 - val_mse: 0.0914\n",
            "Epoch 69/150\n",
            "1/1 [==============================] - 0s 32ms/step - loss: 0.4705 - acc: 0.8839 - mse: 0.0864 - val_loss: 0.4675 - val_acc: 0.7632 - val_mse: 0.0906\n",
            "Epoch 70/150\n",
            "1/1 [==============================] - 0s 28ms/step - loss: 0.4162 - acc: 0.9196 - mse: 0.0716 - val_loss: 0.4640 - val_acc: 0.7632 - val_mse: 0.0901\n",
            "Epoch 71/150\n",
            "1/1 [==============================] - 0s 35ms/step - loss: 0.4217 - acc: 0.8750 - mse: 0.0748 - val_loss: 0.4597 - val_acc: 0.7632 - val_mse: 0.0893\n",
            "Epoch 72/150\n",
            "1/1 [==============================] - 0s 31ms/step - loss: 0.4110 - acc: 0.8661 - mse: 0.0720 - val_loss: 0.4568 - val_acc: 0.7632 - val_mse: 0.0889\n",
            "Epoch 73/150\n",
            "1/1 [==============================] - 0s 52ms/step - loss: 0.4159 - acc: 0.9018 - mse: 0.0740 - val_loss: 0.4538 - val_acc: 0.7632 - val_mse: 0.0884\n",
            "Epoch 74/150\n",
            "1/1 [==============================] - 0s 33ms/step - loss: 0.3846 - acc: 0.8929 - mse: 0.0661 - val_loss: 0.4509 - val_acc: 0.7632 - val_mse: 0.0880\n",
            "Epoch 75/150\n",
            "1/1 [==============================] - 0s 37ms/step - loss: 0.4007 - acc: 0.8929 - mse: 0.0690 - val_loss: 0.4475 - val_acc: 0.7895 - val_mse: 0.0875\n",
            "Epoch 76/150\n",
            "1/1 [==============================] - 0s 32ms/step - loss: 0.3855 - acc: 0.9196 - mse: 0.0659 - val_loss: 0.4449 - val_acc: 0.7895 - val_mse: 0.0872\n",
            "Epoch 77/150\n",
            "1/1 [==============================] - 0s 44ms/step - loss: 0.4123 - acc: 0.8661 - mse: 0.0735 - val_loss: 0.4417 - val_acc: 0.7895 - val_mse: 0.0866\n",
            "Epoch 78/150\n",
            "1/1 [==============================] - 0s 48ms/step - loss: 0.4104 - acc: 0.9196 - mse: 0.0713 - val_loss: 0.4390 - val_acc: 0.7895 - val_mse: 0.0862\n",
            "Epoch 79/150\n",
            "1/1 [==============================] - 0s 36ms/step - loss: 0.3802 - acc: 0.8929 - mse: 0.0648 - val_loss: 0.4355 - val_acc: 0.7895 - val_mse: 0.0856\n",
            "Epoch 80/150\n",
            "1/1 [==============================] - 0s 39ms/step - loss: 0.4025 - acc: 0.9107 - mse: 0.0710 - val_loss: 0.4317 - val_acc: 0.7895 - val_mse: 0.0849\n",
            "Epoch 81/150\n",
            "1/1 [==============================] - 0s 36ms/step - loss: 0.3963 - acc: 0.9107 - mse: 0.0689 - val_loss: 0.4296 - val_acc: 0.7895 - val_mse: 0.0847\n",
            "Epoch 82/150\n",
            "1/1 [==============================] - 0s 33ms/step - loss: 0.3922 - acc: 0.8929 - mse: 0.0700 - val_loss: 0.4262 - val_acc: 0.7895 - val_mse: 0.0841\n",
            "Epoch 83/150\n",
            "1/1 [==============================] - 0s 31ms/step - loss: 0.4089 - acc: 0.8750 - mse: 0.0741 - val_loss: 0.4228 - val_acc: 0.7895 - val_mse: 0.0835\n",
            "Epoch 84/150\n",
            "1/1 [==============================] - 0s 32ms/step - loss: 0.3728 - acc: 0.9196 - mse: 0.0636 - val_loss: 0.4204 - val_acc: 0.7895 - val_mse: 0.0832\n",
            "Epoch 85/150\n",
            "1/1 [==============================] - 0s 32ms/step - loss: 0.3924 - acc: 0.8750 - mse: 0.0706 - val_loss: 0.4179 - val_acc: 0.7895 - val_mse: 0.0828\n",
            "Epoch 86/150\n",
            "1/1 [==============================] - 0s 47ms/step - loss: 0.3628 - acc: 0.9107 - mse: 0.0611 - val_loss: 0.4152 - val_acc: 0.7895 - val_mse: 0.0824\n",
            "Epoch 87/150\n",
            "1/1 [==============================] - 0s 33ms/step - loss: 0.3540 - acc: 0.9018 - mse: 0.0601 - val_loss: 0.4134 - val_acc: 0.7895 - val_mse: 0.0822\n",
            "Epoch 88/150\n",
            "1/1 [==============================] - 0s 33ms/step - loss: 0.3826 - acc: 0.8929 - mse: 0.0674 - val_loss: 0.4112 - val_acc: 0.7895 - val_mse: 0.0819\n",
            "Epoch 89/150\n",
            "1/1 [==============================] - 0s 42ms/step - loss: 0.3724 - acc: 0.8839 - mse: 0.0660 - val_loss: 0.4090 - val_acc: 0.7895 - val_mse: 0.0816\n",
            "Epoch 90/150\n",
            "1/1 [==============================] - 0s 33ms/step - loss: 0.3657 - acc: 0.9018 - mse: 0.0642 - val_loss: 0.4070 - val_acc: 0.7895 - val_mse: 0.0814\n",
            "Epoch 91/150\n",
            "1/1 [==============================] - 0s 38ms/step - loss: 0.3582 - acc: 0.8750 - mse: 0.0627 - val_loss: 0.4052 - val_acc: 0.7895 - val_mse: 0.0811\n",
            "Epoch 92/150\n",
            "1/1 [==============================] - 0s 33ms/step - loss: 0.3465 - acc: 0.9375 - mse: 0.0581 - val_loss: 0.4021 - val_acc: 0.7895 - val_mse: 0.0806\n",
            "Epoch 93/150\n",
            "1/1 [==============================] - 0s 32ms/step - loss: 0.3690 - acc: 0.9196 - mse: 0.0646 - val_loss: 0.3996 - val_acc: 0.7895 - val_mse: 0.0801\n",
            "Epoch 94/150\n",
            "1/1 [==============================] - 0s 34ms/step - loss: 0.3543 - acc: 0.9107 - mse: 0.0622 - val_loss: 0.3973 - val_acc: 0.7895 - val_mse: 0.0798\n",
            "Epoch 95/150\n",
            "1/1 [==============================] - 0s 32ms/step - loss: 0.3359 - acc: 0.9375 - mse: 0.0566 - val_loss: 0.3955 - val_acc: 0.7895 - val_mse: 0.0796\n",
            "Epoch 96/150\n",
            "1/1 [==============================] - 0s 58ms/step - loss: 0.3439 - acc: 0.9196 - mse: 0.0596 - val_loss: 0.3928 - val_acc: 0.7895 - val_mse: 0.0791\n",
            "Epoch 97/150\n",
            "1/1 [==============================] - 0s 37ms/step - loss: 0.3217 - acc: 0.9018 - mse: 0.0544 - val_loss: 0.3913 - val_acc: 0.7895 - val_mse: 0.0789\n",
            "Epoch 98/150\n",
            "1/1 [==============================] - 0s 40ms/step - loss: 0.3473 - acc: 0.9107 - mse: 0.0595 - val_loss: 0.3894 - val_acc: 0.7895 - val_mse: 0.0787\n",
            "Epoch 99/150\n",
            "1/1 [==============================] - 0s 32ms/step - loss: 0.3636 - acc: 0.9107 - mse: 0.0621 - val_loss: 0.3879 - val_acc: 0.7895 - val_mse: 0.0785\n",
            "Epoch 100/150\n",
            "1/1 [==============================] - 0s 34ms/step - loss: 0.3275 - acc: 0.9018 - mse: 0.0567 - val_loss: 0.3851 - val_acc: 0.7895 - val_mse: 0.0780\n",
            "Epoch 101/150\n",
            "1/1 [==============================] - 0s 36ms/step - loss: 0.3373 - acc: 0.9107 - mse: 0.0587 - val_loss: 0.3831 - val_acc: 0.7895 - val_mse: 0.0776\n",
            "Epoch 102/150\n",
            "1/1 [==============================] - 0s 39ms/step - loss: 0.3304 - acc: 0.9196 - mse: 0.0558 - val_loss: 0.3817 - val_acc: 0.7895 - val_mse: 0.0775\n",
            "Epoch 103/150\n",
            "1/1 [==============================] - 0s 36ms/step - loss: 0.3143 - acc: 0.8929 - mse: 0.0535 - val_loss: 0.3806 - val_acc: 0.7895 - val_mse: 0.0775\n",
            "Epoch 104/150\n",
            "1/1 [==============================] - 0s 31ms/step - loss: 0.3304 - acc: 0.8839 - mse: 0.0585 - val_loss: 0.3789 - val_acc: 0.7895 - val_mse: 0.0772\n",
            "Epoch 105/150\n",
            "1/1 [==============================] - 0s 31ms/step - loss: 0.3517 - acc: 0.8839 - mse: 0.0626 - val_loss: 0.3771 - val_acc: 0.7895 - val_mse: 0.0770\n",
            "Epoch 106/150\n",
            "1/1 [==============================] - 0s 32ms/step - loss: 0.3013 - acc: 0.9286 - mse: 0.0499 - val_loss: 0.3758 - val_acc: 0.7895 - val_mse: 0.0769\n",
            "Epoch 107/150\n",
            "1/1 [==============================] - 0s 37ms/step - loss: 0.3199 - acc: 0.9107 - mse: 0.0552 - val_loss: 0.3740 - val_acc: 0.7895 - val_mse: 0.0766\n",
            "Epoch 108/150\n",
            "1/1 [==============================] - 0s 36ms/step - loss: 0.2852 - acc: 0.9107 - mse: 0.0460 - val_loss: 0.3723 - val_acc: 0.7895 - val_mse: 0.0763\n",
            "Epoch 109/150\n",
            "1/1 [==============================] - 0s 46ms/step - loss: 0.3158 - acc: 0.9196 - mse: 0.0539 - val_loss: 0.3710 - val_acc: 0.7895 - val_mse: 0.0762\n",
            "Epoch 110/150\n",
            "1/1 [==============================] - 0s 38ms/step - loss: 0.3190 - acc: 0.9018 - mse: 0.0558 - val_loss: 0.3697 - val_acc: 0.7895 - val_mse: 0.0760\n",
            "Epoch 111/150\n",
            "1/1 [==============================] - 0s 30ms/step - loss: 0.2922 - acc: 0.9196 - mse: 0.0486 - val_loss: 0.3687 - val_acc: 0.7895 - val_mse: 0.0759\n",
            "Epoch 112/150\n",
            "1/1 [==============================] - 0s 28ms/step - loss: 0.3028 - acc: 0.9286 - mse: 0.0510 - val_loss: 0.3666 - val_acc: 0.7895 - val_mse: 0.0755\n",
            "Epoch 113/150\n",
            "1/1 [==============================] - 0s 35ms/step - loss: 0.2873 - acc: 0.9107 - mse: 0.0488 - val_loss: 0.3646 - val_acc: 0.7895 - val_mse: 0.0752\n",
            "Epoch 114/150\n",
            "1/1 [==============================] - 0s 31ms/step - loss: 0.2853 - acc: 0.9107 - mse: 0.0484 - val_loss: 0.3638 - val_acc: 0.7895 - val_mse: 0.0752\n",
            "Epoch 115/150\n",
            "1/1 [==============================] - 0s 33ms/step - loss: 0.3323 - acc: 0.8839 - mse: 0.0605 - val_loss: 0.3615 - val_acc: 0.7895 - val_mse: 0.0746\n",
            "Epoch 116/150\n",
            "1/1 [==============================] - 0s 33ms/step - loss: 0.3195 - acc: 0.9286 - mse: 0.0553 - val_loss: 0.3603 - val_acc: 0.7895 - val_mse: 0.0745\n",
            "Epoch 117/150\n",
            "1/1 [==============================] - 0s 37ms/step - loss: 0.3112 - acc: 0.9196 - mse: 0.0530 - val_loss: 0.3583 - val_acc: 0.7895 - val_mse: 0.0741\n",
            "Epoch 118/150\n",
            "1/1 [==============================] - 0s 31ms/step - loss: 0.2871 - acc: 0.9286 - mse: 0.0483 - val_loss: 0.3568 - val_acc: 0.7895 - val_mse: 0.0739\n",
            "Epoch 119/150\n",
            "1/1 [==============================] - 0s 34ms/step - loss: 0.3239 - acc: 0.9196 - mse: 0.0575 - val_loss: 0.3551 - val_acc: 0.7895 - val_mse: 0.0735\n",
            "Epoch 120/150\n",
            "1/1 [==============================] - 0s 38ms/step - loss: 0.3004 - acc: 0.9107 - mse: 0.0514 - val_loss: 0.3532 - val_acc: 0.7632 - val_mse: 0.0731\n",
            "Epoch 121/150\n",
            "1/1 [==============================] - 0s 37ms/step - loss: 0.2846 - acc: 0.9286 - mse: 0.0476 - val_loss: 0.3524 - val_acc: 0.7895 - val_mse: 0.0731\n",
            "Epoch 122/150\n",
            "1/1 [==============================] - 0s 36ms/step - loss: 0.3048 - acc: 0.8929 - mse: 0.0546 - val_loss: 0.3515 - val_acc: 0.7895 - val_mse: 0.0731\n",
            "Epoch 123/150\n",
            "1/1 [==============================] - 0s 32ms/step - loss: 0.3141 - acc: 0.8929 - mse: 0.0561 - val_loss: 0.3502 - val_acc: 0.7895 - val_mse: 0.0729\n",
            "Epoch 124/150\n",
            "1/1 [==============================] - 0s 33ms/step - loss: 0.2802 - acc: 0.9375 - mse: 0.0461 - val_loss: 0.3489 - val_acc: 0.7895 - val_mse: 0.0727\n",
            "Epoch 125/150\n",
            "1/1 [==============================] - 0s 33ms/step - loss: 0.2939 - acc: 0.9196 - mse: 0.0501 - val_loss: 0.3476 - val_acc: 0.7895 - val_mse: 0.0726\n",
            "Epoch 126/150\n",
            "1/1 [==============================] - 0s 53ms/step - loss: 0.2924 - acc: 0.9286 - mse: 0.0503 - val_loss: 0.3474 - val_acc: 0.7895 - val_mse: 0.0727\n",
            "Epoch 127/150\n",
            "1/1 [==============================] - 0s 33ms/step - loss: 0.2730 - acc: 0.9107 - mse: 0.0467 - val_loss: 0.3454 - val_acc: 0.8158 - val_mse: 0.0722\n",
            "Epoch 128/150\n",
            "1/1 [==============================] - 0s 37ms/step - loss: 0.2453 - acc: 0.9554 - mse: 0.0380 - val_loss: 0.3444 - val_acc: 0.8158 - val_mse: 0.0721\n",
            "Epoch 129/150\n",
            "1/1 [==============================] - 0s 30ms/step - loss: 0.2639 - acc: 0.9286 - mse: 0.0445 - val_loss: 0.3432 - val_acc: 0.8158 - val_mse: 0.0720\n",
            "Epoch 130/150\n",
            "1/1 [==============================] - 0s 29ms/step - loss: 0.2758 - acc: 0.9018 - mse: 0.0468 - val_loss: 0.3419 - val_acc: 0.8158 - val_mse: 0.0717\n",
            "Epoch 131/150\n",
            "1/1 [==============================] - 0s 37ms/step - loss: 0.2734 - acc: 0.9375 - mse: 0.0446 - val_loss: 0.3398 - val_acc: 0.8158 - val_mse: 0.0713\n",
            "Epoch 132/150\n",
            "1/1 [==============================] - 0s 41ms/step - loss: 0.2925 - acc: 0.8929 - mse: 0.0528 - val_loss: 0.3392 - val_acc: 0.8158 - val_mse: 0.0713\n",
            "Epoch 133/150\n",
            "1/1 [==============================] - 0s 36ms/step - loss: 0.2471 - acc: 0.9107 - mse: 0.0397 - val_loss: 0.3381 - val_acc: 0.8158 - val_mse: 0.0711\n",
            "Epoch 134/150\n",
            "1/1 [==============================] - 0s 32ms/step - loss: 0.2549 - acc: 0.9286 - mse: 0.0427 - val_loss: 0.3369 - val_acc: 0.8158 - val_mse: 0.0709\n",
            "Epoch 135/150\n",
            "1/1 [==============================] - 0s 35ms/step - loss: 0.2709 - acc: 0.9286 - mse: 0.0468 - val_loss: 0.3358 - val_acc: 0.8158 - val_mse: 0.0707\n",
            "Epoch 136/150\n",
            "1/1 [==============================] - 0s 53ms/step - loss: 0.2721 - acc: 0.9018 - mse: 0.0482 - val_loss: 0.3339 - val_acc: 0.8158 - val_mse: 0.0703\n",
            "Epoch 137/150\n",
            "1/1 [==============================] - 0s 29ms/step - loss: 0.2538 - acc: 0.9554 - mse: 0.0410 - val_loss: 0.3323 - val_acc: 0.7895 - val_mse: 0.0700\n",
            "Epoch 138/150\n",
            "1/1 [==============================] - 0s 40ms/step - loss: 0.2374 - acc: 0.9464 - mse: 0.0380 - val_loss: 0.3313 - val_acc: 0.8158 - val_mse: 0.0698\n",
            "Epoch 139/150\n",
            "1/1 [==============================] - 0s 37ms/step - loss: 0.2476 - acc: 0.9286 - mse: 0.0414 - val_loss: 0.3301 - val_acc: 0.8158 - val_mse: 0.0696\n",
            "Epoch 140/150\n",
            "1/1 [==============================] - 0s 30ms/step - loss: 0.2472 - acc: 0.9464 - mse: 0.0402 - val_loss: 0.3287 - val_acc: 0.7895 - val_mse: 0.0693\n",
            "Epoch 141/150\n",
            "1/1 [==============================] - 0s 33ms/step - loss: 0.2485 - acc: 0.9464 - mse: 0.0400 - val_loss: 0.3286 - val_acc: 0.8158 - val_mse: 0.0695\n",
            "Epoch 142/150\n",
            "1/1 [==============================] - 0s 40ms/step - loss: 0.2624 - acc: 0.9107 - mse: 0.0449 - val_loss: 0.3280 - val_acc: 0.8158 - val_mse: 0.0695\n",
            "Epoch 143/150\n",
            "1/1 [==============================] - 0s 38ms/step - loss: 0.2507 - acc: 0.9286 - mse: 0.0415 - val_loss: 0.3270 - val_acc: 0.8158 - val_mse: 0.0693\n",
            "Epoch 144/150\n",
            "1/1 [==============================] - 0s 34ms/step - loss: 0.2423 - acc: 0.9375 - mse: 0.0388 - val_loss: 0.3260 - val_acc: 0.8158 - val_mse: 0.0692\n",
            "Epoch 145/150\n",
            "1/1 [==============================] - 0s 35ms/step - loss: 0.2532 - acc: 0.9286 - mse: 0.0425 - val_loss: 0.3245 - val_acc: 0.8158 - val_mse: 0.0689\n",
            "Epoch 146/150\n",
            "1/1 [==============================] - 0s 41ms/step - loss: 0.2329 - acc: 0.9375 - mse: 0.0383 - val_loss: 0.3230 - val_acc: 0.7895 - val_mse: 0.0686\n",
            "Epoch 147/150\n",
            "1/1 [==============================] - 0s 35ms/step - loss: 0.2392 - acc: 0.9286 - mse: 0.0386 - val_loss: 0.3224 - val_acc: 0.7895 - val_mse: 0.0685\n",
            "Epoch 148/150\n",
            "1/1 [==============================] - 0s 34ms/step - loss: 0.2422 - acc: 0.9286 - mse: 0.0402 - val_loss: 0.3214 - val_acc: 0.7895 - val_mse: 0.0684\n",
            "Epoch 149/150\n",
            "1/1 [==============================] - 0s 40ms/step - loss: 0.2551 - acc: 0.9375 - mse: 0.0429 - val_loss: 0.3200 - val_acc: 0.7895 - val_mse: 0.0681\n",
            "Epoch 150/150\n",
            "1/1 [==============================] - 0s 44ms/step - loss: 0.2752 - acc: 0.9286 - mse: 0.0498 - val_loss: 0.3189 - val_acc: 0.7895 - val_mse: 0.0679\n"
          ]
        }
      ]
    },
    {
      "cell_type": "code",
      "metadata": {
        "id": "iPgzCUS1lww_",
        "colab": {
          "base_uri": "https://localhost:8080/"
        },
        "outputId": "05630a02-3b6f-4dfe-cf5a-73bde3f3532f"
      },
      "source": [
        "#just how we used evaluate() in the basic model previously, use it again to find the loss, accuracy and MSE on the test set\n",
        "test_loss6, test_acc6,test_mse6 = model7.evaluate(X_test,y_test,verbose=2)\n",
        "\n",
        "print('\\nLoss',test_loss6)\n",
        "print('\\nTest accuracy:', test_acc6)\n",
        "print('\\nTest MSE',test_mse6)\n",
        "\n",
        " \n"
      ],
      "execution_count": null,
      "outputs": [
        {
          "output_type": "stream",
          "name": "stdout",
          "text": [
            "2/2 - 0s - loss: 0.3189 - acc: 0.7895 - mse: 0.0679\n",
            "\n",
            "Loss 0.31891223788261414\n",
            "\n",
            "Test accuracy: 0.7894737124443054\n",
            "\n",
            "Test MSE 0.06785432249307632\n"
          ]
        }
      ]
    },
    {
      "cell_type": "code",
      "metadata": {
        "id": "5sjovWRXlwxB",
        "colab": {
          "base_uri": "https://localhost:8080/",
          "height": 581
        },
        "outputId": "361463cd-c3db-4b64-afb2-852ed8d7cfcc"
      },
      "source": [
        "# Plot the train loss vs validation loss and train accuracy vs validation accuracy graphs just like we did before\n",
        "\n",
        "import matplotlib.pyplot as plt\n",
        "plt.style.use('ggplot')\n",
        "plt.plot(hist5.history['loss'], label = 'loss')\n",
        "plt.plot(hist5.history['val_loss'], label='val loss')\n",
        "plt.title(\"Train Loss vs Val_Loss\")\n",
        "plt.xlabel(\"Epochs\")\n",
        "plt.ylabel(\"Loss\")\n",
        "plt.legend()\n",
        "plt.show()\n",
        "\n",
        "#similarly we plot for model accuracy \n",
        "plt.plot(hist5.history['acc'], label = 'train acc')\n",
        "plt.plot(hist5.history['val_acc'], label='val acc')\n",
        "plt.title(\"train acc vs Val_acc\")\n",
        "plt.xlabel(\"Epochs\")\n",
        "plt.ylabel(\"acc\")\n",
        "plt.legend()\n",
        "plt.show()\n",
        "\n",
        "\n"
      ],
      "execution_count": null,
      "outputs": [
        {
          "output_type": "display_data",
          "data": {
            "image/png": "[encoded data removed]",
            "text/plain": [
              "<Figure size 432x288 with 1 Axes>"
            ]
          },
          "metadata": {}
        },
        {
          "output_type": "display_data",
          "data": {
            "image/png": "[encoded data removed]",
            "text/plain": [
              "<Figure size 432x288 with 1 Axes>"
            ]
          },
          "metadata": {}
        }
      ]
    },
    {
      "cell_type": "markdown",
      "metadata": {
        "id": "qiqftH-mlwxE"
      },
      "source": [
        "## Batch Normalization\n"
      ]
    },
    {
      "cell_type": "code",
      "metadata": {
        "id": "DQR8bulSlwxF"
      },
      "source": [
        "\n",
        "# The main idea behind batch normalization is that we normalize the input layer by using several techniques (sklearn.preprocessing.StandardScaler) in our case, which improves the model performance, so if the input layer is benefitted by normalization, why not normalize the hidden layers, which will improve and fasten learning even further.\n",
        "\n",
        "# To add it in your TensorFlow model, just add tf.keras.layers.BatchNormalization() after your layers.\n",
        "\n",
        "#Create model8, having same layers as the first model, but this time add a BatchNormalization layer after the first or second dense layer\n",
        "model8 = Sequential([\n",
        "    Dense(512, activation='tanh', input_shape = X_train[0].shape),\n",
        "    keras.layers.BatchNormalization(),\n",
        "    Dense(512//2, activation='tanh'),\n",
        "    keras.layers.BatchNormalization(),\n",
        "    Dense(512//4, activation='tanh'),\n",
        "    Dense(512//8, activation='tanh'),\n",
        "    \n",
        "    Dense(32, activation='relu'),\n",
        "    Dense(3, activation='softmax')\n",
        "])\n",
        "\n",
        "\n",
        " \n"
      ],
      "execution_count": null,
      "outputs": []
    },
    {
      "cell_type": "code",
      "metadata": {
        "colab": {
          "base_uri": "https://localhost:8080/"
        },
        "id": "k5-mJ9lTfsTF",
        "outputId": "67885d12-47c2-4265-8aab-17c504e5ae1a"
      },
      "source": [
        "print(model8.summary())\n",
        "model8.compile(optimizer='sgd',loss='categorical_crossentropy', metrics=['acc', 'mse'])\n",
        "\n",
        "hist6 = model8.fit(X_train, y_train, epochs=150, batch_size=128, validation_data=(X_test,y_test))"
      ],
      "execution_count": null,
      "outputs": [
        {
          "output_type": "stream",
          "name": "stdout",
          "text": [
            "Model: \"sequential_19\"\n",
            "_________________________________________________________________\n",
            "Layer (type)                 Output Shape              Param #   \n",
            "=================================================================\n",
            "dense_127 (Dense)            (None, 512)               2560      \n",
            "_________________________________________________________________\n",
            "batch_normalization_3 (Batch (None, 512)               2048      \n",
            "_________________________________________________________________\n",
            "dense_128 (Dense)            (None, 256)               131328    \n",
            "_________________________________________________________________\n",
            "batch_normalization_4 (Batch (None, 256)               1024      \n",
            "_________________________________________________________________\n",
            "dense_129 (Dense)            (None, 128)               32896     \n",
            "_________________________________________________________________\n",
            "dense_130 (Dense)            (None, 64)                8256      \n",
            "_________________________________________________________________\n",
            "dense_131 (Dense)            (None, 32)                2080      \n",
            "_________________________________________________________________\n",
            "dense_132 (Dense)            (None, 3)                 99        \n",
            "=================================================================\n",
            "Total params: 180,291\n",
            "Trainable params: 178,755\n",
            "Non-trainable params: 1,536\n",
            "_________________________________________________________________\n",
            "None\n",
            "Epoch 1/150\n",
            "1/1 [==============================] - 1s 971ms/step - loss: 1.1849 - acc: 0.3750 - mse: 0.2329 - val_loss: 1.0075 - val_acc: 0.2632 - val_mse: 0.2017\n",
            "Epoch 2/150\n",
            "1/1 [==============================] - 0s 32ms/step - loss: 0.6962 - acc: 0.7857 - mse: 0.1383 - val_loss: 0.9761 - val_acc: 0.3684 - val_mse: 0.1948\n",
            "Epoch 3/150\n",
            "1/1 [==============================] - 0s 41ms/step - loss: 0.5504 - acc: 0.8393 - mse: 0.1035 - val_loss: 0.9545 - val_acc: 0.6053 - val_mse: 0.1900\n",
            "Epoch 4/150\n",
            "1/1 [==============================] - 0s 31ms/step - loss: 0.4787 - acc: 0.8571 - mse: 0.0869 - val_loss: 0.9386 - val_acc: 0.7105 - val_mse: 0.1864\n",
            "Epoch 5/150\n",
            "1/1 [==============================] - 0s 32ms/step - loss: 0.4390 - acc: 0.8661 - mse: 0.0784 - val_loss: 0.9259 - val_acc: 0.7632 - val_mse: 0.1834\n",
            "Epoch 6/150\n",
            "1/1 [==============================] - 0s 30ms/step - loss: 0.4116 - acc: 0.8839 - mse: 0.0727 - val_loss: 0.9151 - val_acc: 0.7632 - val_mse: 0.1810\n",
            "Epoch 7/150\n",
            "1/1 [==============================] - 0s 39ms/step - loss: 0.3905 - acc: 0.8839 - mse: 0.0686 - val_loss: 0.9057 - val_acc: 0.7632 - val_mse: 0.1788\n",
            "Epoch 8/150\n",
            "1/1 [==============================] - 0s 32ms/step - loss: 0.3736 - acc: 0.8839 - mse: 0.0652 - val_loss: 0.8974 - val_acc: 0.7632 - val_mse: 0.1769\n",
            "Epoch 9/150\n",
            "1/1 [==============================] - 0s 32ms/step - loss: 0.3592 - acc: 0.8839 - mse: 0.0624 - val_loss: 0.8895 - val_acc: 0.7632 - val_mse: 0.1751\n",
            "Epoch 10/150\n",
            "1/1 [==============================] - 0s 37ms/step - loss: 0.3465 - acc: 0.8929 - mse: 0.0600 - val_loss: 0.8825 - val_acc: 0.7632 - val_mse: 0.1734\n",
            "Epoch 11/150\n",
            "1/1 [==============================] - 0s 33ms/step - loss: 0.3356 - acc: 0.8929 - mse: 0.0579 - val_loss: 0.8752 - val_acc: 0.7632 - val_mse: 0.1717\n",
            "Epoch 12/150\n",
            "1/1 [==============================] - 0s 32ms/step - loss: 0.3256 - acc: 0.8929 - mse: 0.0559 - val_loss: 0.8685 - val_acc: 0.7632 - val_mse: 0.1701\n",
            "Epoch 13/150\n",
            "1/1 [==============================] - 0s 30ms/step - loss: 0.3166 - acc: 0.8929 - mse: 0.0541 - val_loss: 0.8624 - val_acc: 0.7632 - val_mse: 0.1687\n",
            "Epoch 14/150\n",
            "1/1 [==============================] - 0s 39ms/step - loss: 0.3083 - acc: 0.8839 - mse: 0.0524 - val_loss: 0.8565 - val_acc: 0.7368 - val_mse: 0.1673\n",
            "Epoch 15/150\n",
            "1/1 [==============================] - 0s 32ms/step - loss: 0.3008 - acc: 0.8929 - mse: 0.0508 - val_loss: 0.8504 - val_acc: 0.7368 - val_mse: 0.1659\n",
            "Epoch 16/150\n",
            "1/1 [==============================] - 0s 29ms/step - loss: 0.2939 - acc: 0.8929 - mse: 0.0496 - val_loss: 0.8452 - val_acc: 0.7368 - val_mse: 0.1647\n",
            "Epoch 17/150\n",
            "1/1 [==============================] - 0s 27ms/step - loss: 0.2876 - acc: 0.9018 - mse: 0.0481 - val_loss: 0.8391 - val_acc: 0.7105 - val_mse: 0.1632\n",
            "Epoch 18/150\n",
            "1/1 [==============================] - 0s 31ms/step - loss: 0.2816 - acc: 0.8929 - mse: 0.0473 - val_loss: 0.8342 - val_acc: 0.7632 - val_mse: 0.1620\n",
            "Epoch 19/150\n",
            "1/1 [==============================] - 0s 29ms/step - loss: 0.2760 - acc: 0.9018 - mse: 0.0459 - val_loss: 0.8284 - val_acc: 0.7632 - val_mse: 0.1607\n",
            "Epoch 20/150\n",
            "1/1 [==============================] - 0s 28ms/step - loss: 0.2709 - acc: 0.9018 - mse: 0.0453 - val_loss: 0.8238 - val_acc: 0.7632 - val_mse: 0.1596\n",
            "Epoch 21/150\n",
            "1/1 [==============================] - 0s 34ms/step - loss: 0.2658 - acc: 0.9018 - mse: 0.0441 - val_loss: 0.8187 - val_acc: 0.7632 - val_mse: 0.1584\n",
            "Epoch 22/150\n",
            "1/1 [==============================] - 0s 29ms/step - loss: 0.2613 - acc: 0.9018 - mse: 0.0433 - val_loss: 0.8139 - val_acc: 0.7632 - val_mse: 0.1572\n",
            "Epoch 23/150\n",
            "1/1 [==============================] - 0s 30ms/step - loss: 0.2570 - acc: 0.9018 - mse: 0.0425 - val_loss: 0.8091 - val_acc: 0.7632 - val_mse: 0.1561\n",
            "Epoch 24/150\n",
            "1/1 [==============================] - 0s 33ms/step - loss: 0.2529 - acc: 0.9018 - mse: 0.0418 - val_loss: 0.8045 - val_acc: 0.7895 - val_mse: 0.1550\n",
            "Epoch 25/150\n",
            "1/1 [==============================] - 0s 28ms/step - loss: 0.2489 - acc: 0.9018 - mse: 0.0411 - val_loss: 0.8001 - val_acc: 0.7895 - val_mse: 0.1540\n",
            "Epoch 26/150\n",
            "1/1 [==============================] - 0s 32ms/step - loss: 0.2452 - acc: 0.9107 - mse: 0.0403 - val_loss: 0.7957 - val_acc: 0.7895 - val_mse: 0.1530\n",
            "Epoch 27/150\n",
            "1/1 [==============================] - 0s 28ms/step - loss: 0.2418 - acc: 0.9018 - mse: 0.0399 - val_loss: 0.7920 - val_acc: 0.8158 - val_mse: 0.1521\n",
            "Epoch 28/150\n",
            "1/1 [==============================] - 0s 33ms/step - loss: 0.2386 - acc: 0.9196 - mse: 0.0389 - val_loss: 0.7867 - val_acc: 0.8158 - val_mse: 0.1508\n",
            "Epoch 29/150\n",
            "1/1 [==============================] - 0s 29ms/step - loss: 0.2358 - acc: 0.9018 - mse: 0.0390 - val_loss: 0.7837 - val_acc: 0.8158 - val_mse: 0.1501\n",
            "Epoch 30/150\n",
            "1/1 [==============================] - 0s 31ms/step - loss: 0.2321 - acc: 0.9196 - mse: 0.0377 - val_loss: 0.7787 - val_acc: 0.8158 - val_mse: 0.1489\n",
            "Epoch 31/150\n",
            "1/1 [==============================] - 0s 29ms/step - loss: 0.2295 - acc: 0.9107 - mse: 0.0378 - val_loss: 0.7758 - val_acc: 0.8158 - val_mse: 0.1483\n",
            "Epoch 32/150\n",
            "1/1 [==============================] - 0s 33ms/step - loss: 0.2260 - acc: 0.9196 - mse: 0.0366 - val_loss: 0.7711 - val_acc: 0.8158 - val_mse: 0.1472\n",
            "Epoch 33/150\n",
            "1/1 [==============================] - 0s 30ms/step - loss: 0.2234 - acc: 0.9196 - mse: 0.0365 - val_loss: 0.7681 - val_acc: 0.8158 - val_mse: 0.1464\n",
            "Epoch 34/150\n",
            "1/1 [==============================] - 0s 28ms/step - loss: 0.2204 - acc: 0.9286 - mse: 0.0356 - val_loss: 0.7634 - val_acc: 0.8158 - val_mse: 0.1454\n",
            "Epoch 35/150\n",
            "1/1 [==============================] - 0s 32ms/step - loss: 0.2183 - acc: 0.9286 - mse: 0.0356 - val_loss: 0.7606 - val_acc: 0.8158 - val_mse: 0.1447\n",
            "Epoch 36/150\n",
            "1/1 [==============================] - 0s 41ms/step - loss: 0.2154 - acc: 0.9286 - mse: 0.0346 - val_loss: 0.7559 - val_acc: 0.8158 - val_mse: 0.1436\n",
            "Epoch 37/150\n",
            "1/1 [==============================] - 0s 34ms/step - loss: 0.2135 - acc: 0.9286 - mse: 0.0348 - val_loss: 0.7533 - val_acc: 0.8158 - val_mse: 0.1430\n",
            "Epoch 38/150\n",
            "1/1 [==============================] - 0s 45ms/step - loss: 0.2104 - acc: 0.9286 - mse: 0.0337 - val_loss: 0.7491 - val_acc: 0.8158 - val_mse: 0.1420\n",
            "Epoch 39/150\n",
            "1/1 [==============================] - 0s 33ms/step - loss: 0.2080 - acc: 0.9286 - mse: 0.0336 - val_loss: 0.7459 - val_acc: 0.8158 - val_mse: 0.1413\n",
            "Epoch 40/150\n",
            "1/1 [==============================] - 0s 30ms/step - loss: 0.2058 - acc: 0.9286 - mse: 0.0330 - val_loss: 0.7418 - val_acc: 0.8158 - val_mse: 0.1403\n",
            "Epoch 41/150\n",
            "1/1 [==============================] - 0s 30ms/step - loss: 0.2041 - acc: 0.9286 - mse: 0.0330 - val_loss: 0.7395 - val_acc: 0.8158 - val_mse: 0.1398\n",
            "Epoch 42/150\n",
            "1/1 [==============================] - 0s 36ms/step - loss: 0.2018 - acc: 0.9286 - mse: 0.0321 - val_loss: 0.7348 - val_acc: 0.8158 - val_mse: 0.1387\n",
            "Epoch 43/150\n",
            "1/1 [==============================] - 0s 34ms/step - loss: 0.2003 - acc: 0.9286 - mse: 0.0323 - val_loss: 0.7326 - val_acc: 0.8158 - val_mse: 0.1382\n",
            "Epoch 44/150\n",
            "1/1 [==============================] - 0s 38ms/step - loss: 0.1975 - acc: 0.9286 - mse: 0.0314 - val_loss: 0.7286 - val_acc: 0.8158 - val_mse: 0.1373\n",
            "Epoch 45/150\n",
            "1/1 [==============================] - 0s 53ms/step - loss: 0.1956 - acc: 0.9286 - mse: 0.0313 - val_loss: 0.7258 - val_acc: 0.8158 - val_mse: 0.1366\n",
            "Epoch 46/150\n",
            "1/1 [==============================] - 0s 27ms/step - loss: 0.1938 - acc: 0.9286 - mse: 0.0308 - val_loss: 0.7218 - val_acc: 0.8158 - val_mse: 0.1357\n",
            "Epoch 47/150\n",
            "1/1 [==============================] - 0s 38ms/step - loss: 0.1923 - acc: 0.9286 - mse: 0.0308 - val_loss: 0.7198 - val_acc: 0.8158 - val_mse: 0.1353\n",
            "Epoch 48/150\n",
            "1/1 [==============================] - 0s 37ms/step - loss: 0.1904 - acc: 0.9286 - mse: 0.0301 - val_loss: 0.7155 - val_acc: 0.8158 - val_mse: 0.1343\n",
            "Epoch 49/150\n",
            "1/1 [==============================] - 0s 31ms/step - loss: 0.1889 - acc: 0.9286 - mse: 0.0302 - val_loss: 0.7135 - val_acc: 0.8158 - val_mse: 0.1338\n",
            "Epoch 50/150\n",
            "1/1 [==============================] - 0s 37ms/step - loss: 0.1869 - acc: 0.9286 - mse: 0.0295 - val_loss: 0.7098 - val_acc: 0.8158 - val_mse: 0.1330\n",
            "Epoch 51/150\n",
            "1/1 [==============================] - 0s 34ms/step - loss: 0.1853 - acc: 0.9286 - mse: 0.0295 - val_loss: 0.7075 - val_acc: 0.8158 - val_mse: 0.1325\n",
            "Epoch 52/150\n",
            "1/1 [==============================] - 0s 48ms/step - loss: 0.1836 - acc: 0.9286 - mse: 0.0289 - val_loss: 0.7039 - val_acc: 0.8158 - val_mse: 0.1316\n",
            "Epoch 53/150\n",
            "1/1 [==============================] - 0s 34ms/step - loss: 0.1821 - acc: 0.9286 - mse: 0.0289 - val_loss: 0.7018 - val_acc: 0.8158 - val_mse: 0.1312\n",
            "Epoch 54/150\n",
            "1/1 [==============================] - 0s 32ms/step - loss: 0.1806 - acc: 0.9375 - mse: 0.0284 - val_loss: 0.6979 - val_acc: 0.8158 - val_mse: 0.1303\n",
            "Epoch 55/150\n",
            "1/1 [==============================] - 0s 32ms/step - loss: 0.1792 - acc: 0.9286 - mse: 0.0284 - val_loss: 0.6960 - val_acc: 0.8158 - val_mse: 0.1299\n",
            "Epoch 56/150\n",
            "1/1 [==============================] - 0s 35ms/step - loss: 0.1777 - acc: 0.9375 - mse: 0.0278 - val_loss: 0.6919 - val_acc: 0.8158 - val_mse: 0.1289\n",
            "Epoch 57/150\n",
            "1/1 [==============================] - 0s 34ms/step - loss: 0.1763 - acc: 0.9286 - mse: 0.0279 - val_loss: 0.6901 - val_acc: 0.8158 - val_mse: 0.1286\n",
            "Epoch 58/150\n",
            "1/1 [==============================] - 0s 38ms/step - loss: 0.1747 - acc: 0.9464 - mse: 0.0273 - val_loss: 0.6862 - val_acc: 0.8158 - val_mse: 0.1277\n",
            "Epoch 59/150\n",
            "1/1 [==============================] - 0s 43ms/step - loss: 0.1734 - acc: 0.9375 - mse: 0.0273 - val_loss: 0.6843 - val_acc: 0.8158 - val_mse: 0.1273\n",
            "Epoch 60/150\n",
            "1/1 [==============================] - 0s 34ms/step - loss: 0.1718 - acc: 0.9464 - mse: 0.0268 - val_loss: 0.6810 - val_acc: 0.8158 - val_mse: 0.1266\n",
            "Epoch 61/150\n",
            "1/1 [==============================] - 0s 35ms/step - loss: 0.1704 - acc: 0.9375 - mse: 0.0267 - val_loss: 0.6788 - val_acc: 0.8158 - val_mse: 0.1261\n",
            "Epoch 62/150\n",
            "1/1 [==============================] - 0s 46ms/step - loss: 0.1691 - acc: 0.9464 - mse: 0.0263 - val_loss: 0.6755 - val_acc: 0.8158 - val_mse: 0.1254\n",
            "Epoch 63/150\n",
            "1/1 [==============================] - 0s 45ms/step - loss: 0.1678 - acc: 0.9464 - mse: 0.0262 - val_loss: 0.6734 - val_acc: 0.8158 - val_mse: 0.1249\n",
            "Epoch 64/150\n",
            "1/1 [==============================] - 0s 31ms/step - loss: 0.1665 - acc: 0.9464 - mse: 0.0259 - val_loss: 0.6702 - val_acc: 0.8158 - val_mse: 0.1242\n",
            "Epoch 65/150\n",
            "1/1 [==============================] - 0s 32ms/step - loss: 0.1653 - acc: 0.9464 - mse: 0.0258 - val_loss: 0.6681 - val_acc: 0.8158 - val_mse: 0.1237\n",
            "Epoch 66/150\n",
            "1/1 [==============================] - 0s 34ms/step - loss: 0.1640 - acc: 0.9464 - mse: 0.0254 - val_loss: 0.6650 - val_acc: 0.8158 - val_mse: 0.1231\n",
            "Epoch 67/150\n",
            "1/1 [==============================] - 0s 29ms/step - loss: 0.1629 - acc: 0.9464 - mse: 0.0253 - val_loss: 0.6629 - val_acc: 0.8158 - val_mse: 0.1226\n",
            "Epoch 68/150\n",
            "1/1 [==============================] - 0s 37ms/step - loss: 0.1616 - acc: 0.9464 - mse: 0.0250 - val_loss: 0.6599 - val_acc: 0.8158 - val_mse: 0.1220\n",
            "Epoch 69/150\n",
            "1/1 [==============================] - 0s 33ms/step - loss: 0.1605 - acc: 0.9464 - mse: 0.0249 - val_loss: 0.6577 - val_acc: 0.8158 - val_mse: 0.1215\n",
            "Epoch 70/150\n",
            "1/1 [==============================] - 0s 32ms/step - loss: 0.1594 - acc: 0.9464 - mse: 0.0246 - val_loss: 0.6546 - val_acc: 0.8158 - val_mse: 0.1209\n",
            "Epoch 71/150\n",
            "1/1 [==============================] - 0s 36ms/step - loss: 0.1583 - acc: 0.9464 - mse: 0.0245 - val_loss: 0.6530 - val_acc: 0.8421 - val_mse: 0.1205\n",
            "Epoch 72/150\n",
            "1/1 [==============================] - 0s 31ms/step - loss: 0.1573 - acc: 0.9464 - mse: 0.0241 - val_loss: 0.6494 - val_acc: 0.8421 - val_mse: 0.1198\n",
            "Epoch 73/150\n",
            "1/1 [==============================] - 0s 42ms/step - loss: 0.1562 - acc: 0.9464 - mse: 0.0241 - val_loss: 0.6479 - val_acc: 0.8421 - val_mse: 0.1195\n",
            "Epoch 74/150\n",
            "1/1 [==============================] - 0s 36ms/step - loss: 0.1550 - acc: 0.9464 - mse: 0.0238 - val_loss: 0.6449 - val_acc: 0.8421 - val_mse: 0.1188\n",
            "Epoch 75/150\n",
            "1/1 [==============================] - 0s 37ms/step - loss: 0.1539 - acc: 0.9464 - mse: 0.0237 - val_loss: 0.6428 - val_acc: 0.8421 - val_mse: 0.1184\n",
            "Epoch 76/150\n",
            "1/1 [==============================] - 0s 36ms/step - loss: 0.1530 - acc: 0.9464 - mse: 0.0234 - val_loss: 0.6400 - val_acc: 0.8421 - val_mse: 0.1178\n",
            "Epoch 77/150\n",
            "1/1 [==============================] - 0s 35ms/step - loss: 0.1520 - acc: 0.9464 - mse: 0.0233 - val_loss: 0.6384 - val_acc: 0.8421 - val_mse: 0.1175\n",
            "Epoch 78/150\n",
            "1/1 [==============================] - 0s 36ms/step - loss: 0.1511 - acc: 0.9464 - mse: 0.0231 - val_loss: 0.6350 - val_acc: 0.8421 - val_mse: 0.1168\n",
            "Epoch 79/150\n",
            "1/1 [==============================] - 0s 38ms/step - loss: 0.1501 - acc: 0.9464 - mse: 0.0231 - val_loss: 0.6335 - val_acc: 0.8421 - val_mse: 0.1165\n",
            "Epoch 80/150\n",
            "1/1 [==============================] - 0s 44ms/step - loss: 0.1491 - acc: 0.9464 - mse: 0.0227 - val_loss: 0.6305 - val_acc: 0.8421 - val_mse: 0.1158\n",
            "Epoch 81/150\n",
            "1/1 [==============================] - 0s 33ms/step - loss: 0.1481 - acc: 0.9464 - mse: 0.0227 - val_loss: 0.6284 - val_acc: 0.8421 - val_mse: 0.1154\n",
            "Epoch 82/150\n",
            "1/1 [==============================] - 0s 34ms/step - loss: 0.1472 - acc: 0.9464 - mse: 0.0225 - val_loss: 0.6262 - val_acc: 0.8421 - val_mse: 0.1150\n",
            "Epoch 83/150\n",
            "1/1 [==============================] - 0s 38ms/step - loss: 0.1462 - acc: 0.9554 - mse: 0.0223 - val_loss: 0.6240 - val_acc: 0.8421 - val_mse: 0.1145\n",
            "Epoch 84/150\n",
            "1/1 [==============================] - 0s 37ms/step - loss: 0.1453 - acc: 0.9554 - mse: 0.0221 - val_loss: 0.6216 - val_acc: 0.8421 - val_mse: 0.1141\n",
            "Epoch 85/150\n",
            "1/1 [==============================] - 0s 40ms/step - loss: 0.1445 - acc: 0.9554 - mse: 0.0220 - val_loss: 0.6199 - val_acc: 0.8421 - val_mse: 0.1137\n",
            "Epoch 86/150\n",
            "1/1 [==============================] - 0s 37ms/step - loss: 0.1437 - acc: 0.9643 - mse: 0.0218 - val_loss: 0.6170 - val_acc: 0.8421 - val_mse: 0.1131\n",
            "Epoch 87/150\n",
            "1/1 [==============================] - 0s 37ms/step - loss: 0.1429 - acc: 0.9554 - mse: 0.0218 - val_loss: 0.6156 - val_acc: 0.8421 - val_mse: 0.1129\n",
            "Epoch 88/150\n",
            "1/1 [==============================] - 0s 37ms/step - loss: 0.1420 - acc: 0.9643 - mse: 0.0215 - val_loss: 0.6124 - val_acc: 0.8421 - val_mse: 0.1122\n",
            "Epoch 89/150\n",
            "1/1 [==============================] - 0s 33ms/step - loss: 0.1411 - acc: 0.9643 - mse: 0.0215 - val_loss: 0.6113 - val_acc: 0.8684 - val_mse: 0.1120\n",
            "Epoch 90/150\n",
            "1/1 [==============================] - 0s 35ms/step - loss: 0.1403 - acc: 0.9643 - mse: 0.0212 - val_loss: 0.6083 - val_acc: 0.8684 - val_mse: 0.1114\n",
            "Epoch 91/150\n",
            "1/1 [==============================] - 0s 36ms/step - loss: 0.1394 - acc: 0.9643 - mse: 0.0211 - val_loss: 0.6065 - val_acc: 0.8684 - val_mse: 0.1110\n",
            "Epoch 92/150\n",
            "1/1 [==============================] - 0s 32ms/step - loss: 0.1386 - acc: 0.9643 - mse: 0.0209 - val_loss: 0.6042 - val_acc: 0.8684 - val_mse: 0.1106\n",
            "Epoch 93/150\n",
            "1/1 [==============================] - 0s 36ms/step - loss: 0.1378 - acc: 0.9643 - mse: 0.0208 - val_loss: 0.6022 - val_acc: 0.8684 - val_mse: 0.1102\n",
            "Epoch 94/150\n",
            "1/1 [==============================] - 0s 38ms/step - loss: 0.1370 - acc: 0.9643 - mse: 0.0207 - val_loss: 0.6003 - val_acc: 0.8684 - val_mse: 0.1098\n",
            "Epoch 95/150\n",
            "1/1 [==============================] - 0s 30ms/step - loss: 0.1362 - acc: 0.9643 - mse: 0.0205 - val_loss: 0.5981 - val_acc: 0.8684 - val_mse: 0.1094\n",
            "Epoch 96/150\n",
            "1/1 [==============================] - 0s 35ms/step - loss: 0.1354 - acc: 0.9643 - mse: 0.0204 - val_loss: 0.5962 - val_acc: 0.8947 - val_mse: 0.1091\n",
            "Epoch 97/150\n",
            "1/1 [==============================] - 0s 39ms/step - loss: 0.1347 - acc: 0.9643 - mse: 0.0202 - val_loss: 0.5939 - val_acc: 0.8947 - val_mse: 0.1086\n",
            "Epoch 98/150\n",
            "1/1 [==============================] - 0s 39ms/step - loss: 0.1339 - acc: 0.9643 - mse: 0.0201 - val_loss: 0.5920 - val_acc: 0.8947 - val_mse: 0.1083\n",
            "Epoch 99/150\n",
            "1/1 [==============================] - 0s 41ms/step - loss: 0.1332 - acc: 0.9643 - mse: 0.0200 - val_loss: 0.5905 - val_acc: 0.8947 - val_mse: 0.1080\n",
            "Epoch 100/150\n",
            "1/1 [==============================] - 0s 30ms/step - loss: 0.1325 - acc: 0.9643 - mse: 0.0198 - val_loss: 0.5877 - val_acc: 0.8947 - val_mse: 0.1074\n",
            "Epoch 101/150\n",
            "1/1 [==============================] - 0s 29ms/step - loss: 0.1318 - acc: 0.9643 - mse: 0.0198 - val_loss: 0.5869 - val_acc: 0.8947 - val_mse: 0.1073\n",
            "Epoch 102/150\n",
            "1/1 [==============================] - 0s 36ms/step - loss: 0.1311 - acc: 0.9643 - mse: 0.0195 - val_loss: 0.5837 - val_acc: 0.8947 - val_mse: 0.1067\n",
            "Epoch 103/150\n",
            "1/1 [==============================] - 0s 38ms/step - loss: 0.1303 - acc: 0.9643 - mse: 0.0195 - val_loss: 0.5826 - val_acc: 0.8947 - val_mse: 0.1065\n",
            "Epoch 104/150\n",
            "1/1 [==============================] - 0s 33ms/step - loss: 0.1296 - acc: 0.9643 - mse: 0.0193 - val_loss: 0.5804 - val_acc: 0.8947 - val_mse: 0.1061\n",
            "Epoch 105/150\n",
            "1/1 [==============================] - 0s 40ms/step - loss: 0.1288 - acc: 0.9643 - mse: 0.0192 - val_loss: 0.5787 - val_acc: 0.8947 - val_mse: 0.1058\n",
            "Epoch 106/150\n",
            "1/1 [==============================] - 0s 44ms/step - loss: 0.1281 - acc: 0.9643 - mse: 0.0191 - val_loss: 0.5766 - val_acc: 0.8684 - val_mse: 0.1054\n",
            "Epoch 107/150\n",
            "1/1 [==============================] - 0s 31ms/step - loss: 0.1274 - acc: 0.9643 - mse: 0.0190 - val_loss: 0.5750 - val_acc: 0.8684 - val_mse: 0.1051\n",
            "Epoch 108/150\n",
            "1/1 [==============================] - 0s 34ms/step - loss: 0.1268 - acc: 0.9643 - mse: 0.0188 - val_loss: 0.5727 - val_acc: 0.8684 - val_mse: 0.1047\n",
            "Epoch 109/150\n",
            "1/1 [==============================] - 0s 37ms/step - loss: 0.1261 - acc: 0.9643 - mse: 0.0187 - val_loss: 0.5711 - val_acc: 0.8684 - val_mse: 0.1044\n",
            "Epoch 110/150\n",
            "1/1 [==============================] - 0s 36ms/step - loss: 0.1254 - acc: 0.9643 - mse: 0.0186 - val_loss: 0.5697 - val_acc: 0.8684 - val_mse: 0.1042\n",
            "Epoch 111/150\n",
            "1/1 [==============================] - 0s 33ms/step - loss: 0.1248 - acc: 0.9643 - mse: 0.0184 - val_loss: 0.5671 - val_acc: 0.8684 - val_mse: 0.1037\n",
            "Epoch 112/150\n",
            "1/1 [==============================] - 0s 46ms/step - loss: 0.1241 - acc: 0.9643 - mse: 0.0184 - val_loss: 0.5659 - val_acc: 0.8684 - val_mse: 0.1035\n",
            "Epoch 113/150\n",
            "1/1 [==============================] - 0s 39ms/step - loss: 0.1235 - acc: 0.9643 - mse: 0.0182 - val_loss: 0.5636 - val_acc: 0.8684 - val_mse: 0.1030\n",
            "Epoch 114/150\n",
            "1/1 [==============================] - 0s 31ms/step - loss: 0.1229 - acc: 0.9643 - mse: 0.0182 - val_loss: 0.5624 - val_acc: 0.8684 - val_mse: 0.1029\n",
            "Epoch 115/150\n",
            "1/1 [==============================] - 0s 41ms/step - loss: 0.1223 - acc: 0.9643 - mse: 0.0180 - val_loss: 0.5599 - val_acc: 0.8947 - val_mse: 0.1024\n",
            "Epoch 116/150\n",
            "1/1 [==============================] - 0s 36ms/step - loss: 0.1216 - acc: 0.9643 - mse: 0.0180 - val_loss: 0.5588 - val_acc: 0.8947 - val_mse: 0.1022\n",
            "Epoch 117/150\n",
            "1/1 [==============================] - 0s 34ms/step - loss: 0.1211 - acc: 0.9643 - mse: 0.0178 - val_loss: 0.5565 - val_acc: 0.8947 - val_mse: 0.1018\n",
            "Epoch 118/150\n",
            "1/1 [==============================] - 0s 34ms/step - loss: 0.1204 - acc: 0.9643 - mse: 0.0177 - val_loss: 0.5555 - val_acc: 0.8947 - val_mse: 0.1017\n",
            "Epoch 119/150\n",
            "1/1 [==============================] - 0s 35ms/step - loss: 0.1199 - acc: 0.9643 - mse: 0.0176 - val_loss: 0.5529 - val_acc: 0.8947 - val_mse: 0.1011\n",
            "Epoch 120/150\n",
            "1/1 [==============================] - 0s 40ms/step - loss: 0.1192 - acc: 0.9643 - mse: 0.0175 - val_loss: 0.5520 - val_acc: 0.8947 - val_mse: 0.1010\n",
            "Epoch 121/150\n",
            "1/1 [==============================] - 0s 34ms/step - loss: 0.1187 - acc: 0.9643 - mse: 0.0174 - val_loss: 0.5495 - val_acc: 0.8947 - val_mse: 0.1005\n",
            "Epoch 122/150\n",
            "1/1 [==============================] - 0s 32ms/step - loss: 0.1180 - acc: 0.9643 - mse: 0.0173 - val_loss: 0.5486 - val_acc: 0.8947 - val_mse: 0.1004\n",
            "Epoch 123/150\n",
            "1/1 [==============================] - 0s 34ms/step - loss: 0.1175 - acc: 0.9643 - mse: 0.0172 - val_loss: 0.5460 - val_acc: 0.8947 - val_mse: 0.1000\n",
            "Epoch 124/150\n",
            "1/1 [==============================] - 0s 34ms/step - loss: 0.1169 - acc: 0.9643 - mse: 0.0171 - val_loss: 0.5449 - val_acc: 0.8947 - val_mse: 0.0998\n",
            "Epoch 125/150\n",
            "1/1 [==============================] - 0s 37ms/step - loss: 0.1163 - acc: 0.9643 - mse: 0.0170 - val_loss: 0.5431 - val_acc: 0.8947 - val_mse: 0.0995\n",
            "Epoch 126/150\n",
            "1/1 [==============================] - 0s 36ms/step - loss: 0.1157 - acc: 0.9643 - mse: 0.0169 - val_loss: 0.5418 - val_acc: 0.8947 - val_mse: 0.0992\n",
            "Epoch 127/150\n",
            "1/1 [==============================] - 0s 37ms/step - loss: 0.1152 - acc: 0.9643 - mse: 0.0168 - val_loss: 0.5398 - val_acc: 0.8947 - val_mse: 0.0989\n",
            "Epoch 128/150\n",
            "1/1 [==============================] - 0s 38ms/step - loss: 0.1147 - acc: 0.9643 - mse: 0.0167 - val_loss: 0.5391 - val_acc: 0.8947 - val_mse: 0.0988\n",
            "Epoch 129/150\n",
            "1/1 [==============================] - 0s 37ms/step - loss: 0.1142 - acc: 0.9643 - mse: 0.0166 - val_loss: 0.5363 - val_acc: 0.8947 - val_mse: 0.0983\n",
            "Epoch 130/150\n",
            "1/1 [==============================] - 0s 34ms/step - loss: 0.1136 - acc: 0.9643 - mse: 0.0166 - val_loss: 0.5361 - val_acc: 0.8947 - val_mse: 0.0983\n",
            "Epoch 131/150\n",
            "1/1 [==============================] - 0s 50ms/step - loss: 0.1131 - acc: 0.9643 - mse: 0.0164 - val_loss: 0.5336 - val_acc: 0.8947 - val_mse: 0.0979\n",
            "Epoch 132/150\n",
            "1/1 [==============================] - 0s 31ms/step - loss: 0.1125 - acc: 0.9643 - mse: 0.0163 - val_loss: 0.5323 - val_acc: 0.8947 - val_mse: 0.0977\n",
            "Epoch 133/150\n",
            "1/1 [==============================] - 0s 40ms/step - loss: 0.1120 - acc: 0.9643 - mse: 0.0162 - val_loss: 0.5308 - val_acc: 0.8947 - val_mse: 0.0974\n",
            "Epoch 134/150\n",
            "1/1 [==============================] - 0s 35ms/step - loss: 0.1114 - acc: 0.9643 - mse: 0.0161 - val_loss: 0.5295 - val_acc: 0.8947 - val_mse: 0.0972\n",
            "Epoch 135/150\n",
            "1/1 [==============================] - 0s 36ms/step - loss: 0.1109 - acc: 0.9643 - mse: 0.0160 - val_loss: 0.5278 - val_acc: 0.8947 - val_mse: 0.0969\n",
            "Epoch 136/150\n",
            "1/1 [==============================] - 0s 38ms/step - loss: 0.1104 - acc: 0.9643 - mse: 0.0160 - val_loss: 0.5265 - val_acc: 0.8947 - val_mse: 0.0967\n",
            "Epoch 137/150\n",
            "1/1 [==============================] - 0s 34ms/step - loss: 0.1099 - acc: 0.9643 - mse: 0.0159 - val_loss: 0.5248 - val_acc: 0.8947 - val_mse: 0.0964\n",
            "Epoch 138/150\n",
            "1/1 [==============================] - 0s 39ms/step - loss: 0.1094 - acc: 0.9643 - mse: 0.0158 - val_loss: 0.5242 - val_acc: 0.8947 - val_mse: 0.0963\n",
            "Epoch 139/150\n",
            "1/1 [==============================] - 0s 35ms/step - loss: 0.1090 - acc: 0.9732 - mse: 0.0157 - val_loss: 0.5217 - val_acc: 0.8947 - val_mse: 0.0959\n",
            "Epoch 140/150\n",
            "1/1 [==============================] - 0s 36ms/step - loss: 0.1085 - acc: 0.9643 - mse: 0.0157 - val_loss: 0.5214 - val_acc: 0.8947 - val_mse: 0.0958\n",
            "Epoch 141/150\n",
            "1/1 [==============================] - 0s 37ms/step - loss: 0.1080 - acc: 0.9732 - mse: 0.0155 - val_loss: 0.5191 - val_acc: 0.8947 - val_mse: 0.0954\n",
            "Epoch 142/150\n",
            "1/1 [==============================] - 0s 34ms/step - loss: 0.1075 - acc: 0.9643 - mse: 0.0154 - val_loss: 0.5182 - val_acc: 0.8947 - val_mse: 0.0953\n",
            "Epoch 143/150\n",
            "1/1 [==============================] - 0s 33ms/step - loss: 0.1070 - acc: 0.9732 - mse: 0.0153 - val_loss: 0.5165 - val_acc: 0.8947 - val_mse: 0.0950\n",
            "Epoch 144/150\n",
            "1/1 [==============================] - 0s 38ms/step - loss: 0.1065 - acc: 0.9732 - mse: 0.0153 - val_loss: 0.5158 - val_acc: 0.8947 - val_mse: 0.0949\n",
            "Epoch 145/150\n",
            "1/1 [==============================] - 0s 36ms/step - loss: 0.1061 - acc: 0.9732 - mse: 0.0152 - val_loss: 0.5137 - val_acc: 0.8947 - val_mse: 0.0945\n",
            "Epoch 146/150\n",
            "1/1 [==============================] - 0s 34ms/step - loss: 0.1056 - acc: 0.9732 - mse: 0.0151 - val_loss: 0.5135 - val_acc: 0.8947 - val_mse: 0.0945\n",
            "Epoch 147/150\n",
            "1/1 [==============================] - 0s 42ms/step - loss: 0.1052 - acc: 0.9732 - mse: 0.0150 - val_loss: 0.5110 - val_acc: 0.8947 - val_mse: 0.0941\n",
            "Epoch 148/150\n",
            "1/1 [==============================] - 0s 40ms/step - loss: 0.1046 - acc: 0.9732 - mse: 0.0150 - val_loss: 0.5107 - val_acc: 0.8947 - val_mse: 0.0940\n",
            "Epoch 149/150\n",
            "1/1 [==============================] - 0s 32ms/step - loss: 0.1043 - acc: 0.9732 - mse: 0.0148 - val_loss: 0.5085 - val_acc: 0.8947 - val_mse: 0.0937\n",
            "Epoch 150/150\n",
            "1/1 [==============================] - 0s 42ms/step - loss: 0.1037 - acc: 0.9732 - mse: 0.0148 - val_loss: 0.5075 - val_acc: 0.8947 - val_mse: 0.0935\n"
          ]
        }
      ]
    },
    {
      "cell_type": "code",
      "metadata": {
        "id": "tRznzWb-lwxF",
        "colab": {
          "base_uri": "https://localhost:8080/"
        },
        "outputId": "0ebebd6f-99fe-411d-b278-f7ecf25e7d4b"
      },
      "source": [
        "#just how we used evaluate() in the basic model previously, use it again to find the loss, accuracy and MSE on the test set\n",
        "test_loss7, test_acc7,test_mse7 = model8.evaluate(X_test,y_test,verbose=2)\n",
        "\n",
        "print('\\nLoss',test_loss7)\n",
        "print('\\nTest accuracy:', test_acc7)\n",
        "print('\\nTest MSE',test_mse7)\n"
      ],
      "execution_count": null,
      "outputs": [
        {
          "output_type": "stream",
          "name": "stdout",
          "text": [
            "2/2 - 0s - loss: 0.5075 - acc: 0.8947 - mse: 0.0935\n",
            "\n",
            "Loss 0.5074710249900818\n",
            "\n",
            "Test accuracy: 0.8947368264198303\n",
            "\n",
            "Test MSE 0.09347309917211533\n"
          ]
        }
      ]
    },
    {
      "cell_type": "code",
      "metadata": {
        "id": "PZlCKYpjlwxG",
        "colab": {
          "base_uri": "https://localhost:8080/",
          "height": 581
        },
        "outputId": "befb127f-ad97-4345-d4df-d7dfdd0b7ce3"
      },
      "source": [
        "# Plot the train loss vs validation loss and train accuracy vs validation accuracy graphs just like we did before\n",
        "\n",
        "import matplotlib.pyplot as plt\n",
        "plt.style.use('ggplot')\n",
        "plt.plot(hist6.history['loss'], label = 'loss')\n",
        "plt.plot(hist6.history['val_loss'], label='val loss')\n",
        "plt.title(\"Train Loss vs Val_Loss\")\n",
        "plt.xlabel(\"Epochs\")\n",
        "plt.ylabel(\"Loss\")\n",
        "plt.legend()\n",
        "plt.show()\n",
        "\n",
        "#similarly we plot for model accuracy \n",
        "plt.plot(hist6.history['acc'], label = 'train acc')\n",
        "plt.plot(hist6.history['val_acc'], label='val acc')\n",
        "plt.title(\"train acc vs Val_acc\")\n",
        "plt.xlabel(\"Epochs\")\n",
        "plt.ylabel(\"acc\")\n",
        "plt.legend()\n",
        "plt.show()\n",
        "\n",
        "\n"
      ],
      "execution_count": null,
      "outputs": [
        {
          "output_type": "display_data",
          "data": {
            "image/png": "[encoded data removed]",
            "text/plain": [
              "<Figure size 432x288 with 1 Axes>"
            ]
          },
          "metadata": {}
        },
        {
          "output_type": "display_data",
          "data": {
            "image/png": "[encoded data removed]",
            "text/plain": [
              "<Figure size 432x288 with 1 Axes>"
            ]
          },
          "metadata": {}
        }
      ]
    },
    {
      "cell_type": "code",
      "metadata": {
        "id": "SsGG-FzGlwxH"
      },
      "source": [
        "\n",
        "# Now create model9, having a BatchNormalization layer after each dense layer\n",
        "model9 = Sequential([\n",
        "    Dense(512, activation='tanh', input_shape = X_train[0].shape),\n",
        "    keras.layers.BatchNormalization(),\n",
        "    Dense(512//2, activation='tanh'),\n",
        "    keras.layers.BatchNormalization(),\n",
        "    Dense(512//4, activation='tanh'),\n",
        "    keras.layers.BatchNormalization(),\n",
        "    Dense(512//8, activation='tanh'),\n",
        "    keras.layers.BatchNormalization(),\n",
        "    Dense(32, activation='relu'),\n",
        "    keras.layers.BatchNormalization(),\n",
        "    Dense(3, activation='softmax'),\n",
        "    keras.layers.BatchNormalization()\n",
        "])\n",
        " \n"
      ],
      "execution_count": null,
      "outputs": []
    },
    {
      "cell_type": "code",
      "metadata": {
        "id": "ML-V7eKslwxI",
        "colab": {
          "base_uri": "https://localhost:8080/"
        },
        "outputId": "d45a00fe-3216-43c5-f248-170ba694be93"
      },
      "source": [
        "print(model9.summary())\n",
        "model9.compile(optimizer='sgd',loss='categorical_crossentropy', metrics=['acc', 'mse'])\n",
        "\n",
        "hist7 = model9.fit(X_train, y_train, epochs=150, batch_size=128, validation_data=(X_test,y_test))\n",
        "\n",
        " "
      ],
      "execution_count": null,
      "outputs": [
        {
          "output_type": "stream",
          "name": "stdout",
          "text": [
            "Model: \"sequential_21\"\n",
            "_________________________________________________________________\n",
            "Layer (type)                 Output Shape              Param #   \n",
            "=================================================================\n",
            "dense_139 (Dense)            (None, 512)               2560      \n",
            "_________________________________________________________________\n",
            "batch_normalization_11 (Batc (None, 512)               2048      \n",
            "_________________________________________________________________\n",
            "dense_140 (Dense)            (None, 256)               131328    \n",
            "_________________________________________________________________\n",
            "batch_normalization_12 (Batc (None, 256)               1024      \n",
            "_________________________________________________________________\n",
            "dense_141 (Dense)            (None, 128)               32896     \n",
            "_________________________________________________________________\n",
            "batch_normalization_13 (Batc (None, 128)               512       \n",
            "_________________________________________________________________\n",
            "dense_142 (Dense)            (None, 64)                8256      \n",
            "_________________________________________________________________\n",
            "batch_normalization_14 (Batc (None, 64)                256       \n",
            "_________________________________________________________________\n",
            "dense_143 (Dense)            (None, 32)                2080      \n",
            "_________________________________________________________________\n",
            "batch_normalization_15 (Batc (None, 32)                128       \n",
            "_________________________________________________________________\n",
            "dense_144 (Dense)            (None, 3)                 99        \n",
            "_________________________________________________________________\n",
            "batch_normalization_16 (Batc (None, 3)                 12        \n",
            "=================================================================\n",
            "Total params: 181,199\n",
            "Trainable params: 179,209\n",
            "Non-trainable params: 1,990\n",
            "_________________________________________________________________\n",
            "None\n",
            "Epoch 1/150\n",
            "1/1 [==============================] - 2s 2s/step - loss: 6.6657 - acc: 0.5893 - mse: 0.9704 - val_loss: 0.9819 - val_acc: 0.3421 - val_mse: 0.2021\n",
            "Epoch 2/150\n",
            "1/1 [==============================] - 0s 33ms/step - loss: 7.0995 - acc: 0.5268 - mse: 1.0019 - val_loss: 0.9844 - val_acc: 0.2895 - val_mse: 0.2048\n",
            "Epoch 3/150\n",
            "1/1 [==============================] - 0s 28ms/step - loss: 8.8113 - acc: 0.5714 - mse: 0.9175 - val_loss: 0.9802 - val_acc: 0.2895 - val_mse: 0.2040\n",
            "Epoch 4/150\n",
            "1/1 [==============================] - 0s 32ms/step - loss: 7.3881 - acc: 0.6429 - mse: 0.8606 - val_loss: 0.8512 - val_acc: 0.6579 - val_mse: 0.1715\n",
            "Epoch 5/150\n",
            "1/1 [==============================] - 0s 29ms/step - loss: 8.2233 - acc: 0.6964 - mse: 0.8302 - val_loss: 0.8457 - val_acc: 0.6316 - val_mse: 0.1706\n",
            "Epoch 6/150\n",
            "1/1 [==============================] - 0s 28ms/step - loss: 7.5247 - acc: 0.7143 - mse: 0.8070 - val_loss: 0.8423 - val_acc: 0.6053 - val_mse: 0.1703\n",
            "Epoch 7/150\n",
            "1/1 [==============================] - 0s 41ms/step - loss: 6.4736 - acc: 0.6875 - mse: 0.8185 - val_loss: 6.5442 - val_acc: 0.0263 - val_mse: 0.4156\n",
            "Epoch 8/150\n",
            "1/1 [==============================] - 0s 38ms/step - loss: 2.1727 - acc: 0.1607 - mse: 1.5926 - val_loss: 6.5736 - val_acc: 0.0526 - val_mse: 0.4199\n",
            "Epoch 9/150\n",
            "1/1 [==============================] - 0s 34ms/step - loss: 2.7581 - acc: 0.1696 - mse: 1.5847 - val_loss: 5.5251 - val_acc: 0.1053 - val_mse: 0.3691\n",
            "Epoch 10/150\n",
            "1/1 [==============================] - 0s 44ms/step - loss: 4.0295 - acc: 0.3125 - mse: 1.4408 - val_loss: 5.8149 - val_acc: 0.1053 - val_mse: 0.3710\n",
            "Epoch 11/150\n",
            "1/1 [==============================] - 0s 37ms/step - loss: 4.0295 - acc: 0.3125 - mse: 1.4408 - val_loss: 5.8409 - val_acc: 0.1053 - val_mse: 0.3728\n",
            "Epoch 12/150\n",
            "1/1 [==============================] - 0s 31ms/step - loss: 4.0295 - acc: 0.3125 - mse: 1.4408 - val_loss: 5.8853 - val_acc: 0.1053 - val_mse: 0.3747\n",
            "Epoch 13/150\n",
            "1/1 [==============================] - 0s 32ms/step - loss: 4.0295 - acc: 0.3125 - mse: 1.4408 - val_loss: 6.1495 - val_acc: 0.0789 - val_mse: 0.3767\n",
            "Epoch 14/150\n",
            "1/1 [==============================] - 0s 42ms/step - loss: 4.0295 - acc: 0.3125 - mse: 1.4408 - val_loss: 6.1662 - val_acc: 0.0526 - val_mse: 0.3786\n",
            "Epoch 15/150\n",
            "1/1 [==============================] - 0s 33ms/step - loss: 4.0295 - acc: 0.3125 - mse: 1.4408 - val_loss: 6.1862 - val_acc: 0.0526 - val_mse: 0.3805\n",
            "Epoch 16/150\n",
            "1/1 [==============================] - 0s 42ms/step - loss: 4.0295 - acc: 0.3125 - mse: 1.4408 - val_loss: 6.2135 - val_acc: 0.0526 - val_mse: 0.3824\n",
            "Epoch 17/150\n",
            "1/1 [==============================] - 0s 36ms/step - loss: 4.0295 - acc: 0.3125 - mse: 1.4408 - val_loss: 6.2881 - val_acc: 0.0526 - val_mse: 0.3844\n",
            "Epoch 18/150\n",
            "1/1 [==============================] - 0s 33ms/step - loss: 4.0295 - acc: 0.3125 - mse: 1.4408 - val_loss: 6.5036 - val_acc: 0.0526 - val_mse: 0.3863\n",
            "Epoch 19/150\n",
            "1/1 [==============================] - 0s 33ms/step - loss: 4.0295 - acc: 0.3125 - mse: 1.4408 - val_loss: 6.5157 - val_acc: 0.0526 - val_mse: 0.3883\n",
            "Epoch 20/150\n",
            "1/1 [==============================] - 0s 32ms/step - loss: 4.0295 - acc: 0.3125 - mse: 1.4408 - val_loss: 6.5285 - val_acc: 0.0526 - val_mse: 0.3903\n",
            "Epoch 21/150\n",
            "1/1 [==============================] - 0s 33ms/step - loss: 4.0295 - acc: 0.3125 - mse: 1.4408 - val_loss: 6.5422 - val_acc: 0.0526 - val_mse: 0.3923\n",
            "Epoch 22/150\n",
            "1/1 [==============================] - 0s 31ms/step - loss: 4.0295 - acc: 0.3125 - mse: 1.4408 - val_loss: 6.5569 - val_acc: 0.0526 - val_mse: 0.3943\n",
            "Epoch 23/150\n",
            "1/1 [==============================] - 0s 33ms/step - loss: 4.0295 - acc: 0.3125 - mse: 1.4408 - val_loss: 6.5729 - val_acc: 0.0526 - val_mse: 0.3963\n",
            "Epoch 24/150\n",
            "1/1 [==============================] - 0s 33ms/step - loss: 4.0295 - acc: 0.3125 - mse: 1.4408 - val_loss: 6.5902 - val_acc: 0.0526 - val_mse: 0.3983\n",
            "Epoch 25/150\n",
            "1/1 [==============================] - 0s 31ms/step - loss: 4.0295 - acc: 0.3125 - mse: 1.4408 - val_loss: 6.6092 - val_acc: 0.0526 - val_mse: 0.4004\n",
            "Epoch 26/150\n",
            "1/1 [==============================] - 0s 37ms/step - loss: 4.0295 - acc: 0.3125 - mse: 1.4408 - val_loss: 6.6304 - val_acc: 0.0526 - val_mse: 0.4024\n",
            "Epoch 27/150\n",
            "1/1 [==============================] - 0s 36ms/step - loss: 4.0295 - acc: 0.3125 - mse: 1.4408 - val_loss: 6.6547 - val_acc: 0.0526 - val_mse: 0.4044\n",
            "Epoch 28/150\n",
            "1/1 [==============================] - 0s 35ms/step - loss: 4.0295 - acc: 0.3125 - mse: 1.4408 - val_loss: 6.6837 - val_acc: 0.0526 - val_mse: 0.4065\n",
            "Epoch 29/150\n",
            "1/1 [==============================] - 0s 34ms/step - loss: 4.0295 - acc: 0.3125 - mse: 1.4408 - val_loss: 6.7214 - val_acc: 0.0526 - val_mse: 0.4085\n",
            "Epoch 30/150\n",
            "1/1 [==============================] - 0s 34ms/step - loss: 4.0295 - acc: 0.3125 - mse: 1.4408 - val_loss: 6.8010 - val_acc: 0.0526 - val_mse: 0.4106\n",
            "Epoch 31/150\n",
            "1/1 [==============================] - 0s 34ms/step - loss: 4.0295 - acc: 0.3125 - mse: 1.4408 - val_loss: 7.0802 - val_acc: 0.0526 - val_mse: 0.4127\n",
            "Epoch 32/150\n",
            "1/1 [==============================] - 0s 28ms/step - loss: 4.0295 - acc: 0.3125 - mse: 1.4408 - val_loss: 7.1147 - val_acc: 0.0526 - val_mse: 0.4147\n",
            "Epoch 33/150\n",
            "1/1 [==============================] - 0s 33ms/step - loss: 4.0295 - acc: 0.3125 - mse: 1.4408 - val_loss: 7.1607 - val_acc: 0.0526 - val_mse: 0.4168\n",
            "Epoch 34/150\n",
            "1/1 [==============================] - 0s 36ms/step - loss: 4.0295 - acc: 0.3125 - mse: 1.4408 - val_loss: 7.2369 - val_acc: 0.0526 - val_mse: 0.4189\n",
            "Epoch 35/150\n",
            "1/1 [==============================] - 0s 32ms/step - loss: 4.0295 - acc: 0.3125 - mse: 1.4408 - val_loss: 7.8664 - val_acc: 0.0526 - val_mse: 0.4210\n",
            "Epoch 36/150\n",
            "1/1 [==============================] - 0s 33ms/step - loss: 4.0295 - acc: 0.3125 - mse: 1.4408 - val_loss: 8.1566 - val_acc: 0.0526 - val_mse: 0.4230\n",
            "Epoch 37/150\n",
            "1/1 [==============================] - 0s 31ms/step - loss: 4.0295 - acc: 0.3125 - mse: 1.4408 - val_loss: 8.1816 - val_acc: 0.0526 - val_mse: 0.4252\n",
            "Epoch 38/150\n",
            "1/1 [==============================] - 0s 44ms/step - loss: 4.0295 - acc: 0.3125 - mse: 1.4408 - val_loss: 8.2280 - val_acc: 0.0526 - val_mse: 0.4273\n",
            "Epoch 39/150\n",
            "1/1 [==============================] - 0s 56ms/step - loss: 4.0295 - acc: 0.3125 - mse: 1.4408 - val_loss: 8.5104 - val_acc: 0.0526 - val_mse: 0.4294\n",
            "Epoch 40/150\n",
            "1/1 [==============================] - 0s 37ms/step - loss: 4.0295 - acc: 0.3125 - mse: 1.4408 - val_loss: 8.5266 - val_acc: 0.0526 - val_mse: 0.4315\n",
            "Epoch 41/150\n",
            "1/1 [==============================] - 0s 38ms/step - loss: 4.0295 - acc: 0.3125 - mse: 1.4408 - val_loss: 8.5472 - val_acc: 0.0526 - val_mse: 0.4337\n",
            "Epoch 42/150\n",
            "1/1 [==============================] - 0s 36ms/step - loss: 4.0295 - acc: 0.3125 - mse: 1.4408 - val_loss: 8.5795 - val_acc: 0.0526 - val_mse: 0.4358\n",
            "Epoch 43/150\n",
            "1/1 [==============================] - 0s 35ms/step - loss: 4.0295 - acc: 0.3125 - mse: 1.4408 - val_loss: 8.8783 - val_acc: 0.0526 - val_mse: 0.4380\n",
            "Epoch 44/150\n",
            "1/1 [==============================] - 0s 29ms/step - loss: 4.0295 - acc: 0.3125 - mse: 1.4408 - val_loss: 8.8896 - val_acc: 0.0526 - val_mse: 0.4401\n",
            "Epoch 45/150\n",
            "1/1 [==============================] - 0s 40ms/step - loss: 4.0295 - acc: 0.3125 - mse: 1.4408 - val_loss: 8.9022 - val_acc: 0.0526 - val_mse: 0.4423\n",
            "Epoch 46/150\n",
            "1/1 [==============================] - 0s 34ms/step - loss: 4.0295 - acc: 0.3125 - mse: 1.4408 - val_loss: 8.9164 - val_acc: 0.0526 - val_mse: 0.4445\n",
            "Epoch 47/150\n",
            "1/1 [==============================] - 0s 39ms/step - loss: 4.0295 - acc: 0.3125 - mse: 1.4408 - val_loss: 8.9326 - val_acc: 0.0526 - val_mse: 0.4467\n",
            "Epoch 48/150\n",
            "1/1 [==============================] - 0s 32ms/step - loss: 4.0295 - acc: 0.3125 - mse: 1.4408 - val_loss: 8.9515 - val_acc: 0.0526 - val_mse: 0.4489\n",
            "Epoch 49/150\n",
            "1/1 [==============================] - 0s 34ms/step - loss: 4.0295 - acc: 0.3125 - mse: 1.4408 - val_loss: 8.9743 - val_acc: 0.0526 - val_mse: 0.4511\n",
            "Epoch 50/150\n",
            "1/1 [==============================] - 0s 35ms/step - loss: 4.0295 - acc: 0.3125 - mse: 1.4408 - val_loss: 9.0035 - val_acc: 0.0526 - val_mse: 0.4534\n",
            "Epoch 51/150\n",
            "1/1 [==============================] - 0s 34ms/step - loss: 4.0295 - acc: 0.3125 - mse: 1.4408 - val_loss: 9.0460 - val_acc: 0.0526 - val_mse: 0.4556\n",
            "Epoch 52/150\n",
            "1/1 [==============================] - 0s 39ms/step - loss: 4.0295 - acc: 0.3125 - mse: 1.4408 - val_loss: 9.3551 - val_acc: 0.0526 - val_mse: 0.4578\n",
            "Epoch 53/150\n",
            "1/1 [==============================] - 0s 30ms/step - loss: 4.0295 - acc: 0.3125 - mse: 1.4408 - val_loss: 9.6467 - val_acc: 0.0526 - val_mse: 0.4600\n",
            "Epoch 54/150\n",
            "1/1 [==============================] - 0s 37ms/step - loss: 4.0295 - acc: 0.3125 - mse: 1.4408 - val_loss: 9.6778 - val_acc: 0.0526 - val_mse: 0.4623\n",
            "Epoch 55/150\n",
            "1/1 [==============================] - 0s 29ms/step - loss: 4.0295 - acc: 0.3125 - mse: 1.4408 - val_loss: 9.9825 - val_acc: 0.0526 - val_mse: 0.4645\n",
            "Epoch 56/150\n",
            "1/1 [==============================] - 0s 31ms/step - loss: 4.0295 - acc: 0.3125 - mse: 1.4408 - val_loss: 10.0049 - val_acc: 0.0526 - val_mse: 0.4667\n",
            "Epoch 57/150\n",
            "1/1 [==============================] - 0s 40ms/step - loss: 4.0295 - acc: 0.3125 - mse: 1.4408 - val_loss: 10.2999 - val_acc: 0.0526 - val_mse: 0.4690\n",
            "Epoch 58/150\n",
            "1/1 [==============================] - 0s 35ms/step - loss: 4.0295 - acc: 0.3125 - mse: 1.4408 - val_loss: 10.3048 - val_acc: 0.0789 - val_mse: 0.4712\n",
            "Epoch 59/150\n",
            "1/1 [==============================] - 0s 33ms/step - loss: 4.0295 - acc: 0.3125 - mse: 1.4408 - val_loss: 10.3104 - val_acc: 0.0789 - val_mse: 0.4735\n",
            "Epoch 60/150\n",
            "1/1 [==============================] - 0s 39ms/step - loss: 4.0295 - acc: 0.3125 - mse: 1.4408 - val_loss: 10.3168 - val_acc: 0.0789 - val_mse: 0.4758\n",
            "Epoch 61/150\n",
            "1/1 [==============================] - 0s 39ms/step - loss: 4.0295 - acc: 0.3125 - mse: 1.4408 - val_loss: 10.3243 - val_acc: 0.0789 - val_mse: 0.4780\n",
            "Epoch 62/150\n",
            "1/1 [==============================] - 0s 37ms/step - loss: 4.0295 - acc: 0.3125 - mse: 1.4408 - val_loss: 10.3335 - val_acc: 0.0789 - val_mse: 0.4803\n",
            "Epoch 63/150\n",
            "1/1 [==============================] - 0s 41ms/step - loss: 4.0295 - acc: 0.3125 - mse: 1.4408 - val_loss: 10.3449 - val_acc: 0.0789 - val_mse: 0.4826\n",
            "Epoch 64/150\n",
            "1/1 [==============================] - 0s 42ms/step - loss: 4.0295 - acc: 0.3125 - mse: 1.4408 - val_loss: 10.3605 - val_acc: 0.0789 - val_mse: 0.4849\n",
            "Epoch 65/150\n",
            "1/1 [==============================] - 0s 35ms/step - loss: 4.0295 - acc: 0.3125 - mse: 1.4408 - val_loss: 10.3871 - val_acc: 0.0789 - val_mse: 0.4872\n",
            "Epoch 66/150\n",
            "1/1 [==============================] - 0s 38ms/step - loss: 4.0295 - acc: 0.3125 - mse: 1.4408 - val_loss: 10.6655 - val_acc: 0.0789 - val_mse: 0.4895\n",
            "Epoch 67/150\n",
            "1/1 [==============================] - 0s 33ms/step - loss: 4.0295 - acc: 0.3125 - mse: 1.4408 - val_loss: 10.6706 - val_acc: 0.0789 - val_mse: 0.4918\n",
            "Epoch 68/150\n",
            "1/1 [==============================] - 0s 35ms/step - loss: 4.0295 - acc: 0.3125 - mse: 1.4408 - val_loss: 10.6764 - val_acc: 0.0789 - val_mse: 0.4941\n",
            "Epoch 69/150\n",
            "1/1 [==============================] - 0s 42ms/step - loss: 4.0295 - acc: 0.3125 - mse: 1.4408 - val_loss: 10.6830 - val_acc: 0.1053 - val_mse: 0.4964\n",
            "Epoch 70/150\n",
            "1/1 [==============================] - 0s 32ms/step - loss: 4.0295 - acc: 0.3125 - mse: 1.4408 - val_loss: 10.6907 - val_acc: 0.1053 - val_mse: 0.4987\n",
            "Epoch 71/150\n",
            "1/1 [==============================] - 0s 40ms/step - loss: 4.0295 - acc: 0.3125 - mse: 1.4408 - val_loss: 10.6997 - val_acc: 0.1053 - val_mse: 0.5011\n",
            "Epoch 72/150\n",
            "1/1 [==============================] - 0s 35ms/step - loss: 4.0295 - acc: 0.3125 - mse: 1.4408 - val_loss: 10.7106 - val_acc: 0.1053 - val_mse: 0.5034\n",
            "Epoch 73/150\n",
            "1/1 [==============================] - 0s 42ms/step - loss: 4.0295 - acc: 0.3125 - mse: 1.4408 - val_loss: 10.7249 - val_acc: 0.1053 - val_mse: 0.5057\n",
            "Epoch 74/150\n",
            "1/1 [==============================] - 0s 31ms/step - loss: 4.0295 - acc: 0.3125 - mse: 1.4408 - val_loss: 10.7464 - val_acc: 0.1053 - val_mse: 0.5081\n",
            "Epoch 75/150\n",
            "1/1 [==============================] - 0s 37ms/step - loss: 4.0295 - acc: 0.3125 - mse: 1.4408 - val_loss: 10.8071 - val_acc: 0.1053 - val_mse: 0.5104\n",
            "Epoch 76/150\n",
            "1/1 [==============================] - 0s 33ms/step - loss: 4.0295 - acc: 0.3125 - mse: 1.4408 - val_loss: 11.0534 - val_acc: 0.1053 - val_mse: 0.5127\n",
            "Epoch 77/150\n",
            "1/1 [==============================] - 0s 37ms/step - loss: 4.0295 - acc: 0.3125 - mse: 1.4408 - val_loss: 11.0638 - val_acc: 0.1053 - val_mse: 0.5150\n",
            "Epoch 78/150\n",
            "1/1 [==============================] - 0s 41ms/step - loss: 4.0295 - acc: 0.3125 - mse: 1.4408 - val_loss: 11.0796 - val_acc: 0.1053 - val_mse: 0.5174\n",
            "Epoch 79/150\n",
            "1/1 [==============================] - 0s 37ms/step - loss: 4.0295 - acc: 0.3125 - mse: 1.4408 - val_loss: 11.1143 - val_acc: 0.1053 - val_mse: 0.5197\n",
            "Epoch 80/150\n",
            "1/1 [==============================] - 0s 35ms/step - loss: 4.0295 - acc: 0.3125 - mse: 1.4408 - val_loss: 11.3742 - val_acc: 0.1053 - val_mse: 0.5220\n",
            "Epoch 81/150\n",
            "1/1 [==============================] - 0s 40ms/step - loss: 4.0295 - acc: 0.3125 - mse: 1.4408 - val_loss: 11.3775 - val_acc: 0.1053 - val_mse: 0.5244\n",
            "Epoch 82/150\n",
            "1/1 [==============================] - 0s 36ms/step - loss: 4.0295 - acc: 0.3125 - mse: 1.4408 - val_loss: 11.3817 - val_acc: 0.1053 - val_mse: 0.5267\n",
            "Epoch 83/150\n",
            "1/1 [==============================] - 0s 36ms/step - loss: 4.0295 - acc: 0.3125 - mse: 1.4408 - val_loss: 11.3872 - val_acc: 0.1053 - val_mse: 0.5291\n",
            "Epoch 84/150\n",
            "1/1 [==============================] - 0s 37ms/step - loss: 4.0295 - acc: 0.3125 - mse: 1.4408 - val_loss: 11.3946 - val_acc: 0.1053 - val_mse: 0.5315\n",
            "Epoch 85/150\n",
            "1/1 [==============================] - 0s 38ms/step - loss: 4.0295 - acc: 0.3125 - mse: 1.4408 - val_loss: 11.4058 - val_acc: 0.1053 - val_mse: 0.5339\n",
            "Epoch 86/150\n",
            "1/1 [==============================] - 0s 39ms/step - loss: 4.0295 - acc: 0.3125 - mse: 1.4408 - val_loss: 11.4276 - val_acc: 0.1053 - val_mse: 0.5362\n",
            "Epoch 87/150\n",
            "1/1 [==============================] - 0s 40ms/step - loss: 4.0295 - acc: 0.3125 - mse: 1.4408 - val_loss: 11.6682 - val_acc: 0.1053 - val_mse: 0.5386\n",
            "Epoch 88/150\n",
            "1/1 [==============================] - 0s 42ms/step - loss: 4.0295 - acc: 0.3125 - mse: 1.4408 - val_loss: 11.6669 - val_acc: 0.1053 - val_mse: 0.5410\n",
            "Epoch 89/150\n",
            "1/1 [==============================] - 0s 39ms/step - loss: 4.0295 - acc: 0.3125 - mse: 1.4408 - val_loss: 11.6655 - val_acc: 0.1053 - val_mse: 0.5434\n",
            "Epoch 90/150\n",
            "1/1 [==============================] - 0s 35ms/step - loss: 4.0295 - acc: 0.3125 - mse: 1.4408 - val_loss: 11.6642 - val_acc: 0.1053 - val_mse: 0.5458\n",
            "Epoch 91/150\n",
            "1/1 [==============================] - 0s 35ms/step - loss: 4.0295 - acc: 0.3125 - mse: 1.4408 - val_loss: 11.6630 - val_acc: 0.1053 - val_mse: 0.5483\n",
            "Epoch 92/150\n",
            "1/1 [==============================] - 0s 36ms/step - loss: 4.0295 - acc: 0.3125 - mse: 1.4408 - val_loss: 11.6617 - val_acc: 0.1053 - val_mse: 0.5507\n",
            "Epoch 93/150\n",
            "1/1 [==============================] - 0s 46ms/step - loss: 4.0295 - acc: 0.3125 - mse: 1.4408 - val_loss: 11.6604 - val_acc: 0.1053 - val_mse: 0.5531\n",
            "Epoch 94/150\n",
            "1/1 [==============================] - 0s 35ms/step - loss: 4.0295 - acc: 0.3125 - mse: 1.4408 - val_loss: 11.6591 - val_acc: 0.1053 - val_mse: 0.5555\n",
            "Epoch 95/150\n",
            "1/1 [==============================] - 0s 34ms/step - loss: 4.0295 - acc: 0.3125 - mse: 1.4408 - val_loss: 11.6579 - val_acc: 0.1053 - val_mse: 0.5579\n",
            "Epoch 96/150\n",
            "1/1 [==============================] - 0s 32ms/step - loss: 4.0295 - acc: 0.3125 - mse: 1.4408 - val_loss: 11.6566 - val_acc: 0.1053 - val_mse: 0.5603\n",
            "Epoch 97/150\n",
            "1/1 [==============================] - 0s 38ms/step - loss: 4.0295 - acc: 0.3125 - mse: 1.4408 - val_loss: 11.6554 - val_acc: 0.1053 - val_mse: 0.5627\n",
            "Epoch 98/150\n",
            "1/1 [==============================] - 0s 34ms/step - loss: 4.0295 - acc: 0.3125 - mse: 1.4408 - val_loss: 11.6542 - val_acc: 0.1053 - val_mse: 0.5651\n",
            "Epoch 99/150\n",
            "1/1 [==============================] - 0s 36ms/step - loss: 4.0295 - acc: 0.3125 - mse: 1.4408 - val_loss: 11.6529 - val_acc: 0.1053 - val_mse: 0.5675\n",
            "Epoch 100/150\n",
            "1/1 [==============================] - 0s 33ms/step - loss: 4.0295 - acc: 0.3125 - mse: 1.4408 - val_loss: 11.6517 - val_acc: 0.1053 - val_mse: 0.5699\n",
            "Epoch 101/150\n",
            "1/1 [==============================] - 0s 31ms/step - loss: 4.0295 - acc: 0.3125 - mse: 1.4408 - val_loss: 11.6505 - val_acc: 0.1053 - val_mse: 0.5723\n",
            "Epoch 102/150\n",
            "1/1 [==============================] - 0s 37ms/step - loss: 4.0295 - acc: 0.3125 - mse: 1.4408 - val_loss: 11.6494 - val_acc: 0.1053 - val_mse: 0.5747\n",
            "Epoch 103/150\n",
            "1/1 [==============================] - 0s 31ms/step - loss: 4.0295 - acc: 0.3125 - mse: 1.4408 - val_loss: 11.6482 - val_acc: 0.1053 - val_mse: 0.5771\n",
            "Epoch 104/150\n",
            "1/1 [==============================] - 0s 35ms/step - loss: 4.0295 - acc: 0.3125 - mse: 1.4408 - val_loss: 11.6473 - val_acc: 0.1053 - val_mse: 0.5795\n",
            "Epoch 105/150\n",
            "1/1 [==============================] - 0s 34ms/step - loss: 4.0295 - acc: 0.3125 - mse: 1.4408 - val_loss: 11.6468 - val_acc: 0.1053 - val_mse: 0.5819\n",
            "Epoch 106/150\n",
            "1/1 [==============================] - 0s 39ms/step - loss: 4.0295 - acc: 0.3125 - mse: 1.4408 - val_loss: 11.6463 - val_acc: 0.1053 - val_mse: 0.5843\n",
            "Epoch 107/150\n",
            "1/1 [==============================] - 0s 37ms/step - loss: 4.0295 - acc: 0.3125 - mse: 1.4408 - val_loss: 11.6458 - val_acc: 0.1053 - val_mse: 0.5867\n",
            "Epoch 108/150\n",
            "1/1 [==============================] - 0s 51ms/step - loss: 4.0295 - acc: 0.3125 - mse: 1.4408 - val_loss: 11.6454 - val_acc: 0.1053 - val_mse: 0.5891\n",
            "Epoch 109/150\n",
            "1/1 [==============================] - 0s 38ms/step - loss: 4.0295 - acc: 0.3125 - mse: 1.4408 - val_loss: 11.6450 - val_acc: 0.1053 - val_mse: 0.5915\n",
            "Epoch 110/150\n",
            "1/1 [==============================] - 0s 35ms/step - loss: 4.0295 - acc: 0.3125 - mse: 1.4408 - val_loss: 11.6447 - val_acc: 0.1053 - val_mse: 0.5939\n",
            "Epoch 111/150\n",
            "1/1 [==============================] - 0s 36ms/step - loss: 4.0295 - acc: 0.3125 - mse: 1.4408 - val_loss: 11.6444 - val_acc: 0.1053 - val_mse: 0.5963\n",
            "Epoch 112/150\n",
            "1/1 [==============================] - 0s 43ms/step - loss: 4.0295 - acc: 0.3125 - mse: 1.4408 - val_loss: 11.3938 - val_acc: 0.1053 - val_mse: 0.5987\n",
            "Epoch 113/150\n",
            "1/1 [==============================] - 0s 31ms/step - loss: 4.0295 - acc: 0.3125 - mse: 1.4408 - val_loss: 11.3695 - val_acc: 0.1053 - val_mse: 0.6011\n",
            "Epoch 114/150\n",
            "1/1 [==============================] - 0s 40ms/step - loss: 4.0295 - acc: 0.3125 - mse: 1.4408 - val_loss: 11.3564 - val_acc: 0.1053 - val_mse: 0.6035\n",
            "Epoch 115/150\n",
            "1/1 [==============================] - 0s 34ms/step - loss: 4.0295 - acc: 0.3125 - mse: 1.4408 - val_loss: 11.3473 - val_acc: 0.1053 - val_mse: 0.6060\n",
            "Epoch 116/150\n",
            "1/1 [==============================] - 0s 35ms/step - loss: 4.0295 - acc: 0.3125 - mse: 1.4408 - val_loss: 11.3402 - val_acc: 0.1316 - val_mse: 0.6084\n",
            "Epoch 117/150\n",
            "1/1 [==============================] - 0s 41ms/step - loss: 4.0295 - acc: 0.3125 - mse: 1.4408 - val_loss: 11.3345 - val_acc: 0.1316 - val_mse: 0.6108\n",
            "Epoch 118/150\n",
            "1/1 [==============================] - 0s 63ms/step - loss: 4.0295 - acc: 0.3125 - mse: 1.4408 - val_loss: 11.3297 - val_acc: 0.1316 - val_mse: 0.6132\n",
            "Epoch 119/150\n",
            "1/1 [==============================] - 0s 35ms/step - loss: 4.0295 - acc: 0.3125 - mse: 1.4408 - val_loss: 11.3256 - val_acc: 0.1316 - val_mse: 0.6156\n",
            "Epoch 120/150\n",
            "1/1 [==============================] - 0s 36ms/step - loss: 4.0295 - acc: 0.3125 - mse: 1.4408 - val_loss: 11.3221 - val_acc: 0.1316 - val_mse: 0.6180\n",
            "Epoch 121/150\n",
            "1/1 [==============================] - 0s 38ms/step - loss: 4.0295 - acc: 0.3125 - mse: 1.4408 - val_loss: 11.3191 - val_acc: 0.1316 - val_mse: 0.6205\n",
            "Epoch 122/150\n",
            "1/1 [==============================] - 0s 42ms/step - loss: 4.0295 - acc: 0.3125 - mse: 1.4408 - val_loss: 11.3170 - val_acc: 0.1316 - val_mse: 0.6229\n",
            "Epoch 123/150\n",
            "1/1 [==============================] - 0s 34ms/step - loss: 4.0295 - acc: 0.3125 - mse: 1.4408 - val_loss: 11.3152 - val_acc: 0.1316 - val_mse: 0.6253\n",
            "Epoch 124/150\n",
            "1/1 [==============================] - 0s 36ms/step - loss: 4.0295 - acc: 0.3125 - mse: 1.4408 - val_loss: 11.3139 - val_acc: 0.1316 - val_mse: 0.6278\n",
            "Epoch 125/150\n",
            "1/1 [==============================] - 0s 38ms/step - loss: 4.0295 - acc: 0.3125 - mse: 1.4408 - val_loss: 11.3131 - val_acc: 0.1316 - val_mse: 0.6302\n",
            "Epoch 126/150\n",
            "1/1 [==============================] - 0s 39ms/step - loss: 4.0295 - acc: 0.3125 - mse: 1.4408 - val_loss: 11.3129 - val_acc: 0.1316 - val_mse: 0.6327\n",
            "Epoch 127/150\n",
            "1/1 [==============================] - 0s 38ms/step - loss: 4.0295 - acc: 0.3125 - mse: 1.4408 - val_loss: 11.3133 - val_acc: 0.1316 - val_mse: 0.6351\n",
            "Epoch 128/150\n",
            "1/1 [==============================] - 0s 41ms/step - loss: 4.0295 - acc: 0.3125 - mse: 1.4408 - val_loss: 11.3148 - val_acc: 0.1316 - val_mse: 0.6376\n",
            "Epoch 129/150\n",
            "1/1 [==============================] - 0s 36ms/step - loss: 4.0295 - acc: 0.3125 - mse: 1.4408 - val_loss: 11.3174 - val_acc: 0.1316 - val_mse: 0.6400\n",
            "Epoch 130/150\n",
            "1/1 [==============================] - 0s 58ms/step - loss: 4.0295 - acc: 0.3125 - mse: 1.4408 - val_loss: 11.3217 - val_acc: 0.1316 - val_mse: 0.6425\n",
            "Epoch 131/150\n",
            "1/1 [==============================] - 0s 37ms/step - loss: 4.0295 - acc: 0.3125 - mse: 1.4408 - val_loss: 11.3288 - val_acc: 0.1316 - val_mse: 0.6449\n",
            "Epoch 132/150\n",
            "1/1 [==============================] - 0s 44ms/step - loss: 4.0295 - acc: 0.3125 - mse: 1.4408 - val_loss: 11.3424 - val_acc: 0.1316 - val_mse: 0.6474\n",
            "Epoch 133/150\n",
            "1/1 [==============================] - 0s 42ms/step - loss: 4.0295 - acc: 0.3125 - mse: 1.4408 - val_loss: 11.3918 - val_acc: 0.1316 - val_mse: 0.6498\n",
            "Epoch 134/150\n",
            "1/1 [==============================] - 0s 40ms/step - loss: 4.0295 - acc: 0.3125 - mse: 1.4408 - val_loss: 11.6293 - val_acc: 0.1316 - val_mse: 0.6522\n",
            "Epoch 135/150\n",
            "1/1 [==============================] - 0s 38ms/step - loss: 4.0295 - acc: 0.3125 - mse: 1.4408 - val_loss: 11.6268 - val_acc: 0.1316 - val_mse: 0.6547\n",
            "Epoch 136/150\n",
            "1/1 [==============================] - 0s 37ms/step - loss: 4.0295 - acc: 0.3125 - mse: 1.4408 - val_loss: 11.6244 - val_acc: 0.1316 - val_mse: 0.6572\n",
            "Epoch 137/150\n",
            "1/1 [==============================] - 0s 36ms/step - loss: 4.0295 - acc: 0.3125 - mse: 1.4408 - val_loss: 11.6221 - val_acc: 0.1316 - val_mse: 0.6597\n",
            "Epoch 138/150\n",
            "1/1 [==============================] - 0s 37ms/step - loss: 4.0295 - acc: 0.3125 - mse: 1.4408 - val_loss: 11.6200 - val_acc: 0.1316 - val_mse: 0.6621\n",
            "Epoch 139/150\n",
            "1/1 [==============================] - 0s 33ms/step - loss: 4.0295 - acc: 0.3125 - mse: 1.4408 - val_loss: 11.6181 - val_acc: 0.1316 - val_mse: 0.6646\n",
            "Epoch 140/150\n",
            "1/1 [==============================] - 0s 45ms/step - loss: 4.0295 - acc: 0.3125 - mse: 1.4408 - val_loss: 11.6162 - val_acc: 0.1316 - val_mse: 0.6671\n",
            "Epoch 141/150\n",
            "1/1 [==============================] - 0s 33ms/step - loss: 4.0295 - acc: 0.3125 - mse: 1.4408 - val_loss: 11.6143 - val_acc: 0.1316 - val_mse: 0.6696\n",
            "Epoch 142/150\n",
            "1/1 [==============================] - 0s 55ms/step - loss: 4.0295 - acc: 0.3125 - mse: 1.4408 - val_loss: 11.6125 - val_acc: 0.1316 - val_mse: 0.6721\n",
            "Epoch 143/150\n",
            "1/1 [==============================] - 0s 39ms/step - loss: 4.0295 - acc: 0.3125 - mse: 1.4408 - val_loss: 11.6107 - val_acc: 0.1316 - val_mse: 0.6745\n",
            "Epoch 144/150\n",
            "1/1 [==============================] - 0s 54ms/step - loss: 4.0295 - acc: 0.3125 - mse: 1.4408 - val_loss: 11.6093 - val_acc: 0.1316 - val_mse: 0.6770\n",
            "Epoch 145/150\n",
            "1/1 [==============================] - 0s 38ms/step - loss: 4.0295 - acc: 0.3125 - mse: 1.4408 - val_loss: 11.6079 - val_acc: 0.1316 - val_mse: 0.6795\n",
            "Epoch 146/150\n",
            "1/1 [==============================] - 0s 35ms/step - loss: 4.0295 - acc: 0.3125 - mse: 1.4408 - val_loss: 11.6066 - val_acc: 0.1316 - val_mse: 0.6820\n",
            "Epoch 147/150\n",
            "1/1 [==============================] - 0s 38ms/step - loss: 4.0295 - acc: 0.3125 - mse: 1.4408 - val_loss: 11.6047 - val_acc: 0.1316 - val_mse: 0.6844\n",
            "Epoch 148/150\n",
            "1/1 [==============================] - 0s 37ms/step - loss: 4.0295 - acc: 0.3125 - mse: 1.4408 - val_loss: 11.6028 - val_acc: 0.1316 - val_mse: 0.6869\n",
            "Epoch 149/150\n",
            "1/1 [==============================] - 0s 29ms/step - loss: 4.0295 - acc: 0.3125 - mse: 1.4408 - val_loss: 11.6010 - val_acc: 0.1316 - val_mse: 0.6894\n",
            "Epoch 150/150\n",
            "1/1 [==============================] - 0s 41ms/step - loss: 4.0295 - acc: 0.3125 - mse: 1.4408 - val_loss: 11.5993 - val_acc: 0.1316 - val_mse: 0.6918\n"
          ]
        }
      ]
    },
    {
      "cell_type": "code",
      "metadata": {
        "colab": {
          "base_uri": "https://localhost:8080/"
        },
        "id": "WvYJT39vhjWz",
        "outputId": "1a4e98bb-99b1-414b-b485-ccee82f298a1"
      },
      "source": [
        "#just how we used evaluate() in the basic model9 previously, use it again to find the loss, accuracy and MSE on the test set\n",
        "test_loss8, test_acc8,test_mse8 = model9.evaluate(X_test,y_test,verbose=2)\n",
        "\n",
        "print('\\nLoss',test_loss8)\n",
        "print('\\nTest accuracy:', test_acc8)\n",
        "print('\\nTest MSE',test_mse8)\n"
      ],
      "execution_count": null,
      "outputs": [
        {
          "output_type": "stream",
          "name": "stdout",
          "text": [
            "2/2 - 0s - loss: 11.5993 - acc: 0.1316 - mse: 0.6918\n",
            "\n",
            "Loss 11.599250793457031\n",
            "\n",
            "Test accuracy: 0.1315789520740509\n",
            "\n",
            "Test MSE 0.6918296813964844\n"
          ]
        }
      ]
    },
    {
      "cell_type": "code",
      "metadata": {
        "id": "szE9TDuvlwxI",
        "colab": {
          "base_uri": "https://localhost:8080/",
          "height": 581
        },
        "outputId": "a456444f-2768-4ac9-ad20-38f8389ba847"
      },
      "source": [
        "# Plot the train loss vs validation loss and train accuracy vs validation accuracy graphs just like we did before\n",
        "import matplotlib.pyplot as plt\n",
        "plt.style.use('ggplot')\n",
        "plt.plot(hist6.history['loss'], label = 'loss')\n",
        "plt.plot(hist6.history['val_loss'], label='val loss')\n",
        "plt.title(\"Train Loss vs Val_Loss\")\n",
        "plt.xlabel(\"Epochs\")\n",
        "plt.ylabel(\"Loss\")\n",
        "plt.legend()\n",
        "plt.show()\n",
        "\n",
        "#similarly we plot for model accuracy \n",
        "plt.plot(hist6.history['acc'], label = 'train acc')\n",
        "plt.plot(hist6.history['val_acc'], label='val acc')\n",
        "plt.title(\"train acc vs Val_acc\")\n",
        "plt.xlabel(\"Epochs\")\n",
        "plt.ylabel(\"acc\")\n",
        "plt.legend()\n",
        "plt.show()\n"
      ],
      "execution_count": null,
      "outputs": [
        {
          "output_type": "display_data",
          "data": {
            "image/png": "[encoded data removed]",
            "text/plain": [
              "<Figure size 432x288 with 1 Axes>"
            ]
          },
          "metadata": {}
        },
        {
          "output_type": "display_data",
          "data": {
            "image/png": "[encoded data removed]",
            "text/plain": [
              "<Figure size 432x288 with 1 Axes>"
            ]
          },
          "metadata": {}
        }
      ]
    },
    {
      "cell_type": "code",
      "metadata": {
        "id": "YJBTd-ESlwxJ"
      },
      "source": [
        "#After completing the above tasks, note down what you've understood and observed in each of the 9 models and what type of regularization works best for this dataset\n",
        "In this task i have understood how to use tensorflow and studied more about it in depth and also became more friendly towards layers l1,l2,batch normalization and dropout\n",
        "the model works best for batch normalization when it was only applied to only first 2 layers\n",
        "and the model works worst for batch normalization when it was applied to all layers.\n",
        "and in rest all the models the accuracy was ranging from 75 to 83 in all the cases."
      ],
      "execution_count": null,
      "outputs": []
    }
  ]
}