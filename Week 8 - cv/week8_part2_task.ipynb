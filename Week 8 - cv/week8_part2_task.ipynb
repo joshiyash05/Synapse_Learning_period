{
  "nbformat": 4,
  "nbformat_minor": 0,
  "metadata": {
    "colab": {
      "name": " week8_part2_task.ipynb",
      "provenance": [],
      "collapsed_sections": []
    },
    "kernelspec": {
      "name": "python3",
      "display_name": "Python 3"
    },
    "language_info": {
      "name": "python"
    },
    "accelerator": "GPU"
  },
  "cells": [
    {
      "cell_type": "markdown",
      "metadata": {
        "id": "NVdR1p0yN1YE"
      },
      "source": [
        "# Class Models, Custom Layers, GPU training and Custom Resnets"
      ]
    },
    {
      "cell_type": "markdown",
      "metadata": {
        "id": "5jVXoMVAzLdj"
      },
      "source": [
        "## Instructions\n",
        "1. Use Google Collab for this task\n",
        "2. change runtime type to GPU in the Runtime tab"
      ]
    },
    {
      "cell_type": "markdown",
      "metadata": {
        "id": "Q0OSmQlRtyMh"
      },
      "source": [
        "\\\\## Making models using class\n",
        "\n",
        "1. In earlier tasks, we learnt how to make a model using the sequential api provided by tensorflow.\n",
        "2. Now we learnt how to make a model using a class based approach."
      ]
    },
    {
      "cell_type": "markdown",
      "metadata": {
        "id": "T67gFCm5yKJ0"
      },
      "source": [
        "1. <b>Import</b>"
      ]
    },
    {
      "cell_type": "code",
      "metadata": {
        "id": "Bvd3N1aMte77"
      },
      "source": [
        "import numpy as np\n",
        "import tensorflow as tf\n",
        "import matplotlib.pyplot as plt\n",
        "from tensorflow import keras\n",
        "from tensorflow.keras import Sequential, layers, initializers, models, callbacks, optimizers\n",
        "from tensorflow.keras.models import Model\n",
        "from tensorflow.keras.utils import to_categorical\n",
        "from tensorflow.keras.datasets import mnist"
      ],
      "execution_count": null,
      "outputs": []
    },
    {
      "cell_type": "markdown",
      "metadata": {
        "id": "qaaIDs0Xyeve"
      },
      "source": [
        "2. <b>To avoid GPU errors</b>"
      ]
    },
    {
      "cell_type": "code",
      "metadata": {
        "id": "lEZk_IRuydWT"
      },
      "source": [
        "physical_devices = tf.config.list_physical_devices(\"GPU\")\n",
        "tf.config.experimental.set_memory_growth(physical_devices[0], True) "
      ],
      "execution_count": null,
      "outputs": []
    },
    {
      "cell_type": "markdown",
      "metadata": {
        "id": "qszmpUatzwPs"
      },
      "source": [
        "3. <b>Loading MNIST Data</b>"
      ]
    },
    {
      "cell_type": "code",
      "metadata": {
        "id": "fw4x8BFxzHHb",
        "colab": {
          "base_uri": "https://localhost:8080/"
        },
        "outputId": "82dac564-6143-4212-c854-36909b629f3b"
      },
      "source": [
        "(x_train, y_train) , (x_test, y_test) = mnist.load_data()\n",
        "#flattening the images into 1 dimensional array\n",
        "x_train = x_train.reshape(-1, 28*28).astype(\"float32\") / 255.0\n",
        "x_test = x_test.reshape(-1, 28*28).astype(\"float32\") / 255.0"
      ],
      "execution_count": null,
      "outputs": [
        {
          "output_type": "stream",
          "name": "stdout",
          "text": [
            "Downloading data from https://storage.googleapis.com/tensorflow/tf-keras-datasets/mnist.npz\n",
            "11493376/11490434 [==============================] - 0s 0us/step\n",
            "11501568/11490434 [==============================] - 0s 0us/step\n"
          ]
        }
      ]
    },
    {
      "cell_type": "code",
      "metadata": {
        "id": "4CTHTVKj0jh6",
        "colab": {
          "base_uri": "https://localhost:8080/"
        },
        "outputId": "d0e41fa0-0812-4880-9a1f-66e8cada24dc"
      },
      "source": [
        "len(x_train)"
      ],
      "execution_count": null,
      "outputs": [
        {
          "output_type": "execute_result",
          "data": {
            "text/plain": [
              "60000"
            ]
          },
          "metadata": {},
          "execution_count": 4
        }
      ]
    },
    {
      "cell_type": "code",
      "metadata": {
        "id": "849L-lA80lN4",
        "colab": {
          "base_uri": "https://localhost:8080/"
        },
        "outputId": "89f9383e-d004-42f2-a6cd-afa6018f38fa"
      },
      "source": [
        "len(x_test)"
      ],
      "execution_count": null,
      "outputs": [
        {
          "output_type": "execute_result",
          "data": {
            "text/plain": [
              "10000"
            ]
          },
          "metadata": {},
          "execution_count": 5
        }
      ]
    },
    {
      "cell_type": "markdown",
      "metadata": {
        "id": "FWRIJkRa05n6"
      },
      "source": [
        "4. <b>Building the model</b>"
      ]
    },
    {
      "cell_type": "code",
      "metadata": {
        "id": "zJARi9jQ0rfr"
      },
      "source": [
        "#we will extend the class from keras.Model\n",
        "#this means that we can use the functionalities of keras.model\n",
        "#extending a class is an object oriented concept, so google that if you are confused\n",
        "class MyModel(keras.Model):\n",
        "\n",
        "  def __init__(self):\n",
        "    super(MyModel, self).__init__() #super is also an object oriented thing which allows us to call the init method of the parent class (keras.Model here)\n",
        "    self.dense1 = layers.Dense(64) #self links the variable to the class. You can access dense1 anywhere in this class by using self.dense1\n",
        "    self.dense2 = layers.Dense(10)\n",
        "\n",
        "  def call(self, input_tensor):\n",
        "    x = tf.nn.relu(self.dense1(input_tensor))\n",
        "    x = self.dense2(x)\n",
        "    return x"
      ],
      "execution_count": null,
      "outputs": []
    },
    {
      "cell_type": "markdown",
      "metadata": {
        "id": "OoTVfSbf6l_Q"
      },
      "source": [
        "5. <b>Creating the model object</b>"
      ]
    },
    {
      "cell_type": "code",
      "metadata": {
        "id": "fQx1h46h6lBR"
      },
      "source": [
        "model = MyModel()"
      ],
      "execution_count": null,
      "outputs": []
    },
    {
      "cell_type": "markdown",
      "metadata": {
        "id": "Y6kOrpUT6yRV"
      },
      "source": [
        "6. <b>Compiling the model</b>"
      ]
    },
    {
      "cell_type": "code",
      "metadata": {
        "id": "v-8eI1MO6tYS"
      },
      "source": [
        "model.compile(\n",
        "    loss = keras.losses.SparseCategoricalCrossentropy(from_logits=True),\n",
        "    optimizer = keras.optimizers.Adam(),\n",
        "    metrics = ['accuracy'],\n",
        ")"
      ],
      "execution_count": null,
      "outputs": []
    },
    {
      "cell_type": "markdown",
      "metadata": {
        "id": "DixE2_s473n-"
      },
      "source": [
        "7. <b>Fitting the model"
      ]
    },
    {
      "cell_type": "code",
      "metadata": {
        "id": "WwOXXNQS7La1",
        "colab": {
          "base_uri": "https://localhost:8080/"
        },
        "outputId": "2f896283-8564-467a-f665-c5be4f07137c"
      },
      "source": [
        "model.fit(x_train, y_train, batch_size=32, epochs=2)"
      ],
      "execution_count": null,
      "outputs": [
        {
          "output_type": "stream",
          "name": "stdout",
          "text": [
            "Epoch 1/2\n",
            "1875/1875 [==============================] - 7s 3ms/step - loss: 0.3109 - accuracy: 0.9139\n",
            "Epoch 2/2\n",
            "1875/1875 [==============================] - 5s 3ms/step - loss: 0.1495 - accuracy: 0.9564\n"
          ]
        },
        {
          "output_type": "execute_result",
          "data": {
            "text/plain": [
              "<keras.callbacks.History at 0x7fe107ea3ed0>"
            ]
          },
          "metadata": {},
          "execution_count": 9
        }
      ]
    },
    {
      "cell_type": "markdown",
      "metadata": {
        "id": "1AO3QvJr8_VX"
      },
      "source": [
        "6. <b>Evaluate the model</b>"
      ]
    },
    {
      "cell_type": "code",
      "metadata": {
        "id": "-MLpsRt58GC6",
        "colab": {
          "base_uri": "https://localhost:8080/"
        },
        "outputId": "ea7f9310-b333-4d19-d673-cd4c7940849b"
      },
      "source": [
        "model.evaluate(x_test, y_test, batch_size=32)"
      ],
      "execution_count": null,
      "outputs": [
        {
          "output_type": "stream",
          "name": "stdout",
          "text": [
            "313/313 [==============================] - 1s 3ms/step - loss: 0.1217 - accuracy: 0.9619\n"
          ]
        },
        {
          "output_type": "execute_result",
          "data": {
            "text/plain": [
              "[0.12173996865749359, 0.961899995803833]"
            ]
          },
          "metadata": {},
          "execution_count": 10
        }
      ]
    },
    {
      "cell_type": "code",
      "metadata": {
        "id": "x9Fal70p9QZX"
      },
      "source": [
        ""
      ],
      "execution_count": null,
      "outputs": []
    },
    {
      "cell_type": "markdown",
      "metadata": {
        "id": "K8GUhKhs-RIL"
      },
      "source": [
        "<b>Why class based</b>\n",
        "1. allows for better code visualization\n",
        "2. better connectivity\n",
        "3. helps in modularizing the code"
      ]
    },
    {
      "cell_type": "markdown",
      "metadata": {
        "id": "KTQn7xVS-baA"
      },
      "source": [
        "<b>Now we'll learn to make the layers (like Dense) using classes</b><br><br>\n",
        "<b>Why do we need to dive till making layers?</b>\n",
        "1. sometimes when we make our own models, we want to do our operations.<br><br>\n",
        "  a. dense follows the operation WX+b<br><br>\n",
        "  b. while back propogation, tf uses it's own automatic derivative algorithm to calculate the derivative of this operation and uses it for gradient descent.<br><br>\n",
        "  c. What if we want to implement a dense operation which does (WX x 5) + (7 x b)? How will tensorflow account for this derivative?<br><br>\n",
        "  d. The answer is : by using the keras.Layer class to build the layer <br><br>\n",
        "\n",
        "2. Hence, we can do any complex operation using the Layer class and tensorflow will account for its derivative during back propogation."
      ]
    },
    {
      "cell_type": "code",
      "metadata": {
        "id": "d00WbYM_Dgun"
      },
      "source": [
        ""
      ],
      "execution_count": null,
      "outputs": []
    },
    {
      "cell_type": "markdown",
      "metadata": {
        "id": "0jjbIKZ79fCX"
      },
      "source": [
        "## Making layers using classes"
      ]
    },
    {
      "cell_type": "markdown",
      "metadata": {
        "id": "_LSso33-Doc8"
      },
      "source": [
        "1. <b>Building the Dense layer from scratch</b>"
      ]
    },
    {
      "cell_type": "code",
      "metadata": {
        "id": "vS88cD5C9mbX"
      },
      "source": [
        "class MyDense(layers.Layer):\n",
        "  #when object created, first init is called\n",
        "  def __init__(self, units=32):\n",
        "      super(MyDense, self).__init__()\n",
        "      self.units = units\n",
        "  \n",
        "  #init automatically calls build and the weights are set. init passes the input shape to build automatically. (input shape for dense 1 will be (batch_size, 784) 28*28=784, for dense 2 -> (batch_size,64))\n",
        "  def build(self, input_shape):\n",
        "      print(input_shape)\n",
        "      self.w = self.add_weight(shape=(input_shape[-1], self.units), #why do we choose this shape? ponder (make a neural net diagram and see what shape fits the matrix multiplication W*X)\n",
        "                               initializer='random_normal', #what other initialization methods exist?\n",
        "                               trainable=True)\n",
        "      self.b = self.add_weight(shape=(self.units,),\n",
        "                               initializer='zeros',\n",
        "                               trainable=True)\n",
        "\n",
        "  #build calls the call function which executes the operation\n",
        "  def call(self, inputs):\n",
        "      return tf.matmul(inputs, self.w) + self.b"
      ],
      "execution_count": null,
      "outputs": []
    },
    {
      "cell_type": "markdown",
      "metadata": {
        "id": "MOweaJ9gFcwG"
      },
      "source": [
        "2. <b>Using custom Dense to build MyModel</b>"
      ]
    },
    {
      "cell_type": "code",
      "metadata": {
        "id": "M1VtughXFbrZ"
      },
      "source": [
        "#we will extend the class from keras.Model\n",
        "#this means that we can use the functionalities of keras.model\n",
        "#extending a class is an object oriented concept, so google that if you are confused\n",
        "class MyModel(keras.Model):\n",
        "\n",
        "  def __init__(self):\n",
        "    super(MyModel, self).__init__() #super is also an object oriented thing which allows us to call the init method of the parent class (keras.Model here)\n",
        "    self.dense1 = MyDense(64) #self links the variable to the class. You can access dense1 anywhere in this class by using self.dense1\n",
        "    self.dense2 = MyDense(10)\n",
        "\n",
        "  def call(self, input_tensor):\n",
        "    x = tf.nn.relu(self.dense1(input_tensor))\n",
        "    x = self.dense2(x)\n",
        "    return x"
      ],
      "execution_count": null,
      "outputs": []
    },
    {
      "cell_type": "markdown",
      "metadata": {
        "id": "Y9jXYFrmFxUZ"
      },
      "source": [
        "3. <b>Training the model </b>\n"
      ]
    },
    {
      "cell_type": "code",
      "metadata": {
        "colab": {
          "base_uri": "https://localhost:8080/"
        },
        "id": "3e0orLBUFvKP",
        "outputId": "08cf603b-c68d-4e07-a6e4-ba90e2ba018a"
      },
      "source": [
        "#train the model\n",
        "#write code here\n",
        "model = MyModel()\n",
        "model.compile(\n",
        "    loss = keras.losses.SparseCategoricalCrossentropy(from_logits=True),\n",
        "    optimizer = keras.optimizers.Adam(),\n",
        "    metrics = ['accuracy'],\n",
        ")\n",
        "model.fit(x_train, y_train, batch_size=32, epochs=2)"
      ],
      "execution_count": null,
      "outputs": [
        {
          "output_type": "stream",
          "name": "stdout",
          "text": [
            "Epoch 1/2\n",
            "(32, 784)\n",
            "(32, 64)\n",
            "1875/1875 [==============================] - 5s 3ms/step - loss: 0.3510 - accuracy: 0.9042\n",
            "Epoch 2/2\n",
            "1875/1875 [==============================] - 5s 3ms/step - loss: 0.1640 - accuracy: 0.9524\n"
          ]
        },
        {
          "output_type": "execute_result",
          "data": {
            "text/plain": [
              "<keras.callbacks.History at 0x7fe107db0ad0>"
            ]
          },
          "metadata": {},
          "execution_count": 13
        }
      ]
    },
    {
      "cell_type": "markdown",
      "metadata": {
        "id": "3j_Nuwg8KJmL"
      },
      "source": [
        "4. <b>Testing the model </b>\n"
      ]
    },
    {
      "cell_type": "code",
      "metadata": {
        "id": "fu9nFqd4F5wP",
        "colab": {
          "base_uri": "https://localhost:8080/"
        },
        "outputId": "d537c4bf-69d6-459d-f395-34a385e73421"
      },
      "source": [
        "#evaluate the model\n",
        "#write code here\n",
        "model.evaluate(x_test, y_test, batch_size=32)"
      ],
      "execution_count": null,
      "outputs": [
        {
          "output_type": "stream",
          "name": "stdout",
          "text": [
            "313/313 [==============================] - 1s 3ms/step - loss: 0.1362 - accuracy: 0.9605\n"
          ]
        },
        {
          "output_type": "execute_result",
          "data": {
            "text/plain": [
              "[0.13618095219135284, 0.9605000019073486]"
            ]
          },
          "metadata": {},
          "execution_count": 14
        }
      ]
    },
    {
      "cell_type": "markdown",
      "metadata": {
        "id": "g1P0__HUKSOJ"
      },
      "source": [
        "#### We got a very similar result with our own Dense Layer"
      ]
    },
    {
      "cell_type": "code",
      "metadata": {
        "id": "PzXSNjRuKPl3"
      },
      "source": [
        ""
      ],
      "execution_count": null,
      "outputs": []
    },
    {
      "cell_type": "markdown",
      "metadata": {
        "id": "0Saeq1rcLWNg"
      },
      "source": [
        "## Now your turn\n",
        "1. We will build a mini custom version of ResNet CNN architecture using the keras.Model\n",
        "\n",
        "2. Resnet solves the problem of vanishing gradients (https://www.youtube.com/watch?v=JIWXbzRXk1I) and allows us to build very deep neural networks.\n",
        "\n",
        "\n",
        "RESNET BLOG RESOURCE : https://towardsdatascience.com/understanding-and-visualizing-resnets-442284831be8\n",
        "\n",
        "RESNET VIDEO RESOURCE : https://www.youtube.com/watch?v=sAzL4XMke80&t=314s\n",
        "\n",
        "Read the above blog carefully and watch the video for better understanding as well."
      ]
    },
    {
      "cell_type": "markdown",
      "metadata": {
        "id": "QGrDssFOM-dm"
      },
      "source": [
        "#### <b>Our Custom Model architecture</b>\n",
        "DATASET -> MNIST\n",
        "\n",
        "1. Input -> 28,28,1 images\n",
        "2. 8 filters of 5x5, padding none => (24,24,8)\n",
        "3. Resblock 1\n",
        "  - 16 filters of 7x7, padding none => (18,18,16) <b>[im_res_1]</b>\n",
        "  - 16 filters of 8x8, padding same => (18,18,16)\n",
        "  - 16 filters of 10x10, padding same => (18,18,16) <b>[output_res_1]</b>\n",
        "  - (sum of output_res_1 and im_res_1 here) => (18,18,16)\n",
        "4. maxpooling => (9,9,16)\n",
        "5. Resblock 2\n",
        "  - 32 filters of 6x6, padding none => (4,4,32) <b>[im_res_2]</b>\n",
        "  - 32 filters of 7x7, padding same => (4,4,32)\n",
        "  - 32 filters of 8x8, padding same => (4,4,32) <b>[output_res_2]</b>\n",
        "  - (sum of output_res_2 and im_res_2 here) => (4,4,32)\n",
        "6. maxpooling => (2, 2, 32)\n",
        "7. Flatten => (128,1)\n",
        "8. Dense, 64 units => (64,1)\n",
        "9. Dense, 10 units => (10, 1)\n",
        "10. use softmax to predict\n",
        "\n"
      ]
    },
    {
      "cell_type": "markdown",
      "metadata": {
        "id": "Fb1biy3uSRDd"
      },
      "source": [
        "### <b>Instructions</b>\n",
        "1. Build the custom Resnet model based on the architecture described above\n",
        "2. Only use class based approach\n",
        "3. Create a custom model using class based approach. Name the Class CustomResNet\n",
        "4. Use RELU as activation function, Batch normalization after every layer\n",
        "5. reload the data as it was already flattened before\n",
        "6. Use custom layers only if you find the use case for it here \n",
        "\n",
        "### <b>Notes</b>\n",
        "1. all layers are supposed to be defined in the init method.If defined anyehere else, will result in errors.\n",
        "2. Repititive layers will need seperate initializations\n",
        "3. you can check if your model is correct by the following code : -\n",
        " - model = CustomResNet()\n",
        " - model.build((None,28,28,1))\n",
        " - model.summary()\n",
        "4. Summary must have all layers defined and the trainable paramaetrs should not be zero"
      ]
    },
    {
      "cell_type": "code",
      "metadata": {
        "id": "XYTxhj0pWmPO"
      },
      "source": [
        "#imports that you can use\n",
        "from tensorflow.keras.layers import Flatten, Dense, Conv2D, Dropout, BatchNormalization, Activation, Add, Input, MaxPool2D,MaxPooling2D\n",
        "tf.config.run_functions_eagerly(True)"
      ],
      "execution_count": null,
      "outputs": []
    },
    {
      "cell_type": "code",
      "metadata": {
        "id": "nY2ag3fdas_m",
        "colab": {
          "base_uri": "https://localhost:8080/"
        },
        "outputId": "534d91c1-aabc-4a86-9882-35e22ab44fc1"
      },
      "source": [
        "# load the mnist dataset here\n",
        "# make sure to resize the dataset to consider the 3rd image dimension as well\n",
        "# dataset shape must be (num_images, height, width, channel)\n",
        "# divide data into train and test\n",
        "\n",
        "# write code here\n",
        "from tensorflow.keras.datasets import mnist\n",
        "(x_train, y_train) , (x_test, y_test) = mnist.load_data()\n",
        "x_train = x_train.reshape(x_train.shape[0],28, 28,1).astype('float32')/ 255.0\n",
        "x_test = x_test.reshape(x_test.shape[0], 28, 28,1).astype('float32')/ 255.0\n"
      ],
      "execution_count": null,
      "outputs": [
        {
          "output_type": "stream",
          "name": "stdout",
          "text": [
            "Downloading data from https://storage.googleapis.com/tensorflow/tf-keras-datasets/mnist.npz\n",
            "11493376/11490434 [==============================] - 0s 0us/step\n",
            "11501568/11490434 [==============================] - 0s 0us/step\n"
          ]
        }
      ]
    },
    {
      "cell_type": "code",
      "metadata": {
        "colab": {
          "base_uri": "https://localhost:8080/"
        },
        "id": "AaHiJk1I5lti",
        "outputId": "4d7dad1b-ef94-445d-bd5d-ab396decd949"
      },
      "source": [
        "x_train.shape"
      ],
      "execution_count": null,
      "outputs": [
        {
          "output_type": "execute_result",
          "data": {
            "text/plain": [
              "(60000, 28, 28, 1)"
            ]
          },
          "metadata": {},
          "execution_count": 5
        }
      ]
    },
    {
      "cell_type": "code",
      "metadata": {
        "id": "BrwAUt0QNe7A"
      },
      "source": [
        "#make a class based model for Custom ResNet (refer instructions and notes above)\n",
        "# write code here\n",
        "class CustomResNet(keras.Model) :\n",
        "  def __init__(self) :\n",
        "    super(CustomResNet, self).__init__()\n",
        "    self.conv1=layers.Conv2D(filters=8,kernel_size=(5,5),padding='valid',activation='relu')\n",
        "    self.b1=layers.BatchNormalization()\n",
        "    self.conv2=layers.Conv2D(filters=16,kernel_size=(7,7),padding='valid',activation='relu')\n",
        "    self.b2=layers.BatchNormalization()\n",
        "    self.conv3=layers.Conv2D(filters=16,kernel_size=(8,8),padding='same',activation='relu')\n",
        "    self.b3=layers.BatchNormalization()\n",
        "    self.conv4=layers.Conv2D(filters=16,kernel_size=(10,10),padding='same',activation='relu')\n",
        "    self.b4=layers.BatchNormalization()\n",
        "    self.max1=layers.MaxPool2D(pool_size=(2,2))\n",
        "    self.b5=layers.BatchNormalization()\n",
        "    self.conv5=layers.Conv2D(filters=32,kernel_size=(6,6),padding='valid',activation='relu')\n",
        "    self.b6=layers.BatchNormalization()\n",
        "    self.conv6=layers.Conv2D(filters=32,kernel_size=(7,7),padding='same',activation='relu')\n",
        "    self.b7=layers.BatchNormalization()\n",
        "    self.conv7=layers.Conv2D(filters=32,kernel_size=(8,8),padding='same',activation='relu')\n",
        "    self.b8=layers.BatchNormalization()\n",
        "    self.max2=layers.MaxPool2D(pool_size=(2,2))\n",
        "    self.b9=layers.BatchNormalization()\n",
        "    self.flat=layers.Flatten()\n",
        "    self.dense1=layers.Dense(64,activation='relu')\n",
        "    self.dense2=layers.Dense(10,activation='softmax')\n",
        "\n",
        "  def call(self, input_tensor):\n",
        "    x=tf.nn.relu(self.conv1(input_tensor))\n",
        "    x=self.b1(x)\n",
        "    x=self.conv2(x)\n",
        "    x1=self.b2(x)\n",
        "    x=self.conv3(x)\n",
        "    x=self.b3(x)\n",
        "    x=self.conv4(x)\n",
        "    x2=self.b4(x)\n",
        "    x=x1+x2\n",
        "    x=self.max1(x)\n",
        "    x=self.b5(x)\n",
        "    x=self.conv5(x)\n",
        "    x3=self.b6(x)\n",
        "    x=self.conv6(x)\n",
        "    x=self.b7(x)\n",
        "    x=self.conv7(x)\n",
        "    x4=self.b8(x)\n",
        "    x=x3+x4\n",
        "    x=self.max2(x)\n",
        "    x=self.b9(x)\n",
        "    x=self.flat(x)\n",
        "    x=self.dense1(x)\n",
        "    x=self.dense2(x)\n",
        "    return x"
      ],
      "execution_count": null,
      "outputs": []
    },
    {
      "cell_type": "code",
      "metadata": {
        "id": "WRWTnXtxaEEz",
        "colab": {
          "base_uri": "https://localhost:8080/"
        },
        "outputId": "6090e468-7c47-4a3c-f120-18cdeee47929"
      },
      "source": [
        "#find summary of model\n",
        "# write code here\n",
        "model = CustomResNet()\n",
        "model.build((x_train.shape))\n",
        "model.summary()"
      ],
      "execution_count": null,
      "outputs": [
        {
          "output_type": "stream",
          "name": "stdout",
          "text": [
            "Model: \"custom_res_net_8\"\n",
            "_________________________________________________________________\n",
            " Layer (type)                Output Shape              Param #   \n",
            "=================================================================\n",
            " conv2d_56 (Conv2D)          multiple                  208       \n",
            "                                                                 \n",
            " batch_normalization_48 (Bat  multiple                 32        \n",
            " chNormalization)                                                \n",
            "                                                                 \n",
            " conv2d_57 (Conv2D)          multiple                  6288      \n",
            "                                                                 \n",
            " batch_normalization_49 (Bat  multiple                 64        \n",
            " chNormalization)                                                \n",
            "                                                                 \n",
            " conv2d_58 (Conv2D)          multiple                  16400     \n",
            "                                                                 \n",
            " batch_normalization_50 (Bat  multiple                 64        \n",
            " chNormalization)                                                \n",
            "                                                                 \n",
            " conv2d_59 (Conv2D)          multiple                  25616     \n",
            "                                                                 \n",
            " batch_normalization_51 (Bat  multiple                 64        \n",
            " chNormalization)                                                \n",
            "                                                                 \n",
            " max_pooling2d_16 (MaxPoolin  multiple                 0         \n",
            " g2D)                                                            \n",
            "                                                                 \n",
            " batch_normalization_52 (Bat  multiple                 64        \n",
            " chNormalization)                                                \n",
            "                                                                 \n",
            " conv2d_60 (Conv2D)          multiple                  18464     \n",
            "                                                                 \n",
            " batch_normalization_53 (Bat  multiple                 128       \n",
            " chNormalization)                                                \n",
            "                                                                 \n",
            " conv2d_61 (Conv2D)          multiple                  50208     \n",
            "                                                                 \n",
            " batch_normalization_54 (Bat  multiple                 128       \n",
            " chNormalization)                                                \n",
            "                                                                 \n",
            " conv2d_62 (Conv2D)          multiple                  65568     \n",
            "                                                                 \n",
            " batch_normalization_55 (Bat  multiple                 128       \n",
            " chNormalization)                                                \n",
            "                                                                 \n",
            " max_pooling2d_17 (MaxPoolin  multiple                 0         \n",
            " g2D)                                                            \n",
            "                                                                 \n",
            " batch_normalization_56 (Bat  multiple                 128       \n",
            " chNormalization)                                                \n",
            "                                                                 \n",
            " flatten_8 (Flatten)         multiple                  0         \n",
            "                                                                 \n",
            " dense_16 (Dense)            multiple                  8256      \n",
            "                                                                 \n",
            " dense_17 (Dense)            multiple                  650       \n",
            "                                                                 \n",
            "=================================================================\n",
            "Total params: 192,458\n",
            "Trainable params: 192,058\n",
            "Non-trainable params: 400\n",
            "_________________________________________________________________\n"
          ]
        }
      ]
    },
    {
      "cell_type": "code",
      "metadata": {
        "id": "DAo3M5HaaJ8D",
        "colab": {
          "base_uri": "https://localhost:8080/"
        },
        "outputId": "21512ca6-b06a-4dbc-dea8-ed250b32b8a4"
      },
      "source": [
        "#train model here\n",
        "model.compile(\n",
        "    loss = keras.losses.SparseCategoricalCrossentropy(from_logits=True),\n",
        "    optimizer = keras.optimizers.Adam(),\n",
        "    metrics = ['accuracy'],\n",
        ")\n",
        "model.fit(x_train, y_train, batch_size=32, epochs=2)\n"
      ],
      "execution_count": null,
      "outputs": [
        {
          "output_type": "stream",
          "name": "stderr",
          "text": [
            "/usr/local/lib/python3.7/dist-packages/tensorflow/python/data/ops/dataset_ops.py:4527: UserWarning: Even though the `tf.config.experimental_run_functions_eagerly` option is set, this option does not apply to tf.data functions. To force eager execution of tf.data functions, please use `tf.data.experimental.enable_debug_mode()`.\n",
            "  \"Even though the `tf.config.experimental_run_functions_eagerly` \"\n",
            "/usr/local/lib/python3.7/dist-packages/tensorflow/python/util/dispatch.py:1096: UserWarning: \"`sparse_categorical_crossentropy` received `from_logits=True`, but the `output` argument was produced by a sigmoid or softmax activation and thus does not represent logits. Was this intended?\"\n",
            "  return dispatch_target(*args, **kwargs)\n"
          ]
        },
        {
          "output_type": "stream",
          "name": "stdout",
          "text": [
            "Epoch 1/2\n",
            "1875/1875 [==============================] - 118s 63ms/step - loss: 0.0391 - accuracy: 0.9875\n",
            "Epoch 2/2\n",
            "1875/1875 [==============================] - 119s 63ms/step - loss: 0.0273 - accuracy: 0.9915\n"
          ]
        },
        {
          "output_type": "execute_result",
          "data": {
            "text/plain": [
              "<keras.callbacks.History at 0x7f1dfb936310>"
            ]
          },
          "metadata": {},
          "execution_count": 25
        }
      ]
    },
    {
      "cell_type": "code",
      "metadata": {
        "id": "Wvo7QLJNJLGA",
        "colab": {
          "base_uri": "https://localhost:8080/"
        },
        "outputId": "0abd80b0-db29-4516-b331-a97da72ccdb4"
      },
      "source": [
        "#evaluate model here\n",
        "model.evaluate(x_test, y_test, batch_size=32)\n"
      ],
      "execution_count": null,
      "outputs": [
        {
          "output_type": "stream",
          "name": "stdout",
          "text": [
            "  4/313 [..............................] - ETA: 7s - loss: 0.0164 - accuracy: 0.9922     "
          ]
        },
        {
          "output_type": "stream",
          "name": "stderr",
          "text": [
            "/usr/local/lib/python3.7/dist-packages/tensorflow/python/data/ops/dataset_ops.py:4527: UserWarning: Even though the `tf.config.experimental_run_functions_eagerly` option is set, this option does not apply to tf.data functions. To force eager execution of tf.data functions, please use `tf.data.experimental.enable_debug_mode()`.\n",
            "  \"Even though the `tf.config.experimental_run_functions_eagerly` \"\n",
            "/usr/local/lib/python3.7/dist-packages/tensorflow/python/util/dispatch.py:1096: UserWarning: \"`sparse_categorical_crossentropy` received `from_logits=True`, but the `output` argument was produced by a sigmoid or softmax activation and thus does not represent logits. Was this intended?\"\n",
            "  return dispatch_target(*args, **kwargs)\n"
          ]
        },
        {
          "output_type": "stream",
          "name": "stdout",
          "text": [
            "313/313 [==============================] - 8s 26ms/step - loss: 0.0290 - accuracy: 0.9906\n"
          ]
        },
        {
          "output_type": "execute_result",
          "data": {
            "text/plain": [
              "[0.02897948957979679, 0.9905999898910522]"
            ]
          },
          "metadata": {},
          "execution_count": 26
        }
      ]
    },
    {
      "cell_type": "markdown",
      "metadata": {
        "id": "lzKdD3XAMrir"
      },
      "source": [
        "## Congratulations!\n",
        "#### Now you know how to build class based models and custom layers!"
      ]
    },
    {
      "cell_type": "code",
      "metadata": {
        "id": "xcEpZTjsKdvM"
      },
      "source": [
        ""
      ],
      "execution_count": null,
      "outputs": []
    }
  ]
}